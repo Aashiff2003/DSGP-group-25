{
  "cells": [
    {
      "cell_type": "markdown",
      "metadata": {
        "id": "view-in-github",
        "colab_type": "text"
      },
      "source": [
        "<a href=\"https://colab.research.google.com/github/Aashiff2003/DSGP-group-25/blob/Geethmi/Yolo_with_ResNet50.ipynb\" target=\"_parent\"><img src=\"https://colab.research.google.com/assets/colab-badge.svg\" alt=\"Open In Colab\"/></a>"
      ]
    },
    {
      "cell_type": "code",
      "execution_count": null,
      "metadata": {
        "colab": {
          "base_uri": "https://localhost:8080/"
        },
        "id": "KzqU-r9owW8b",
        "outputId": "d57d1917-1b8c-4659-f14c-9a3743ede09e"
      },
      "outputs": [
        {
          "name": "stdout",
          "output_type": "stream",
          "text": [
            "Ultralytics 8.3.70 🚀 Python-3.11.11 torch-2.5.1+cu124 CPU (Intel Xeon 2.20GHz)\n",
            "Setup complete ✅ (2 CPUs, 12.7 GB RAM, 32.9/107.7 GB disk)\n"
          ]
        }
      ],
      "source": [
        "!pip install ultralytics\n",
        "\n",
        "from IPython import display\n",
        "display.clear_output()\n",
        "\n",
        "import ultralytics\n",
        "ultralytics.checks()"
      ]
    },
    {
      "cell_type": "code",
      "execution_count": null,
      "metadata": {
        "id": "K8O1QOfdzxck"
      },
      "outputs": [],
      "source": [
        "import torch\n",
        "import torchvision.models as models\n",
        "from ultralytics import YOLO\n",
        "import torch.nn as nn"
      ]
    },
    {
      "cell_type": "code",
      "execution_count": null,
      "metadata": {
        "colab": {
          "base_uri": "https://localhost:8080/"
        },
        "id": "kT7PlY0xxka4",
        "outputId": "665dab91-be4b-43b4-b214-8948d17f88e7"
      },
      "outputs": [
        {
          "name": "stdout",
          "output_type": "stream",
          "text": [
            "Mounted at /content/drive\n"
          ]
        }
      ],
      "source": [
        "from google.colab import drive\n",
        "drive.mount('/content/drive')"
      ]
    },
    {
      "cell_type": "code",
      "execution_count": null,
      "metadata": {
        "colab": {
          "base_uri": "https://localhost:8080/"
        },
        "id": "1ohXuycnxIZx",
        "outputId": "e802f194-2db2-45b8-f322-d5d893a4ab0e"
      },
      "outputs": [
        {
          "name": "stdout",
          "output_type": "stream",
          "text": [
            "/content/drive/MyDrive/DSGP/Model\n"
          ]
        }
      ],
      "source": [
        "%cd /content/drive/MyDrive/DSGP/Model"
      ]
    },
    {
      "cell_type": "code",
      "execution_count": null,
      "metadata": {
        "colab": {
          "base_uri": "https://localhost:8080/"
        },
        "id": "VIrdm-8gwgIk",
        "outputId": "57b68da7-e72e-495c-b894-8d28a62abc21"
      },
      "outputs": [
        {
          "name": "stderr",
          "output_type": "stream",
          "text": [
            "Downloading: \"https://download.pytorch.org/models/resnet50-11ad3fa6.pth\" to /root/.cache/torch/hub/checkpoints/resnet50-11ad3fa6.pth\n",
            "100%|██████████| 97.8M/97.8M [00:01<00:00, 93.9MB/s]\n"
          ]
        }
      ],
      "source": [
        "from torchvision.models import resnet50, ResNet50_Weights\n",
        "\n",
        "# Load YOLOv8 model\n",
        "yolo_model = YOLO(\"yolov8s.yaml\")\n",
        "\n",
        "# Load Pretrained ResNet Model as Feature Extractor\n",
        "resnet = models.resnet50(weights=ResNet50_Weights.IMAGENET1K_V2)\n",
        "\n",
        "# Remove the final classification layer of ResNet (we only need feature maps)\n",
        "resnet_backbone = torch.nn.Sequential(*list(resnet.children())[:-2])\n",
        "\n",
        "# Replace YOLO’s backbone with ResNet\n",
        "yolo_model.model.backbone = resnet_backbone\n",
        "\n",
        "# Save the modified model\n",
        "yolo_model.save(\"yolov8_resnet.pt\")"
      ]
    },
    {
      "cell_type": "code",
      "execution_count": null,
      "metadata": {
        "colab": {
          "base_uri": "https://localhost:8080/"
        },
        "id": "wolNHl9kAgNZ",
        "outputId": "06e4b6bb-228b-4f3a-87a7-402893c0705a"
      },
      "outputs": [
        {
          "name": "stdout",
          "output_type": "stream",
          "text": [
            "total 94M\n",
            "-rw------- 1 root root  60K Jan 29 06:30 Bird_Detection.ipynb\n",
            "drwx------ 2 root root 4.0K Jan 29 22:47 data\n",
            "drwx------ 2 root root 4.0K Jan 29 22:47 data_old\n",
            "drwx------ 2 root root 4.0K Jan 24 11:03 dataset\n",
            "-rw------- 1 root root  142 Jan 29 22:04 data.yaml\n",
            "drwx------ 2 root root 4.0K Jan 24 14:05 runs\n",
            "-rw------- 1 root root 5.4M Jan 30 11:55 yolo11n.pt\n",
            "-rw------- 1 root root  67M Jan 30 13:44 yolov8_resnet.pt\n",
            "-rw------- 1 root root  22M Jan 24 14:05 yolov8s.pt\n",
            "-rw------- 1 root root 9.3K Jan 30 13:20 Yolo_with_ResNet50.ipynb\n"
          ]
        }
      ],
      "source": [
        "!ls -lh /content/drive/MyDrive/DSGP/Model"
      ]
    },
    {
      "cell_type": "code",
      "execution_count": null,
      "metadata": {
        "colab": {
          "background_save": true,
          "base_uri": "https://localhost:8080/"
        },
        "id": "P9HGBrnAxZ4W",
        "outputId": "fc32ae4b-d23b-4aa2-d724-f998f08d5ea2"
      },
      "outputs": [
        {
          "name": "stdout",
          "output_type": "stream",
          "text": [
            "Ultralytics 8.3.70 🚀 Python-3.11.11 torch-2.5.1+cu124 CPU (Intel Xeon 2.20GHz)\n",
            "\u001b[34m\u001b[1mengine/trainer: \u001b[0mtask=detect, mode=train, model=yolov8_resnet.pt, data=data.yaml, epochs=50, time=None, patience=100, batch=16, imgsz=640, save=True, save_period=-1, cache=False, device=None, workers=8, project=None, name=train10, exist_ok=False, pretrained=True, optimizer=auto, verbose=True, seed=0, deterministic=True, single_cls=False, rect=False, cos_lr=False, close_mosaic=10, resume=False, amp=True, fraction=1.0, profile=False, freeze=None, multi_scale=False, overlap_mask=True, mask_ratio=4, dropout=0.0, val=True, split=val, save_json=False, save_hybrid=False, conf=None, iou=0.7, max_det=300, half=False, dnn=False, plots=True, source=None, vid_stride=1, stream_buffer=False, visualize=False, augment=False, agnostic_nms=False, classes=None, retina_masks=False, embed=None, show=False, save_frames=False, save_txt=False, save_conf=False, save_crop=False, show_labels=True, show_conf=True, show_boxes=True, line_width=None, format=torchscript, keras=False, optimize=False, int8=False, dynamic=False, simplify=True, opset=None, workspace=None, nms=False, lr0=0.001, lrf=0.01, momentum=0.937, weight_decay=0.0005, warmup_epochs=3.0, warmup_momentum=0.8, warmup_bias_lr=0.1, box=7.5, cls=0.5, dfl=1.5, pose=12.0, kobj=1.0, nbs=64, hsv_h=0.015, hsv_s=0.7, hsv_v=0.4, degrees=0.0, translate=0.1, scale=0.5, shear=0.0, perspective=0.0, flipud=0.0, fliplr=0.5, bgr=0.0, mosaic=1.0, mixup=0.0, copy_paste=0.0, copy_paste_mode=flip, auto_augment=randaugment, erasing=0.4, crop_fraction=1.0, cfg=None, tracker=botsort.yaml, save_dir=runs/detect/train10\n",
            "Downloading https://ultralytics.com/assets/Arial.ttf to '/root/.config/Ultralytics/Arial.ttf'...\n",
            "100% 755k/755k [00:00<00:00, 13.5MB/s]\n",
            "WARNING: All log messages before absl::InitializeLog() is called are written to STDERR\n",
            "E0000 00:00:1738244711.035709   13653 cuda_dnn.cc:8310] Unable to register cuDNN factory: Attempting to register factory for plugin cuDNN when one has already been registered\n",
            "E0000 00:00:1738244711.162184   13653 cuda_blas.cc:1418] Unable to register cuBLAS factory: Attempting to register factory for plugin cuBLAS when one has already been registered\n",
            "Overriding model.yaml nc=80 with nc=1\n",
            "\n",
            "                   from  n    params  module                                       arguments                     \n",
            "  0                  -1  1       928  ultralytics.nn.modules.conv.Conv             [3, 32, 3, 2]                 \n",
            "  1                  -1  1     18560  ultralytics.nn.modules.conv.Conv             [32, 64, 3, 2]                \n",
            "  2                  -1  1     29056  ultralytics.nn.modules.block.C2f             [64, 64, 1, True]             \n",
            "  3                  -1  1     73984  ultralytics.nn.modules.conv.Conv             [64, 128, 3, 2]               \n",
            "  4                  -1  2    197632  ultralytics.nn.modules.block.C2f             [128, 128, 2, True]           \n",
            "  5                  -1  1    295424  ultralytics.nn.modules.conv.Conv             [128, 256, 3, 2]              \n",
            "  6                  -1  2    788480  ultralytics.nn.modules.block.C2f             [256, 256, 2, True]           \n",
            "  7                  -1  1   1180672  ultralytics.nn.modules.conv.Conv             [256, 512, 3, 2]              \n",
            "  8                  -1  1   1838080  ultralytics.nn.modules.block.C2f             [512, 512, 1, True]           \n",
            "  9                  -1  1    656896  ultralytics.nn.modules.block.SPPF            [512, 512, 5]                 \n",
            " 10                  -1  1         0  torch.nn.modules.upsampling.Upsample         [None, 2, 'nearest']          \n",
            " 11             [-1, 6]  1         0  ultralytics.nn.modules.conv.Concat           [1]                           \n",
            " 12                  -1  1    591360  ultralytics.nn.modules.block.C2f             [768, 256, 1]                 \n",
            " 13                  -1  1         0  torch.nn.modules.upsampling.Upsample         [None, 2, 'nearest']          \n",
            " 14             [-1, 4]  1         0  ultralytics.nn.modules.conv.Concat           [1]                           \n",
            " 15                  -1  1    148224  ultralytics.nn.modules.block.C2f             [384, 128, 1]                 \n",
            " 16                  -1  1    147712  ultralytics.nn.modules.conv.Conv             [128, 128, 3, 2]              \n",
            " 17            [-1, 12]  1         0  ultralytics.nn.modules.conv.Concat           [1]                           \n",
            " 18                  -1  1    493056  ultralytics.nn.modules.block.C2f             [384, 256, 1]                 \n",
            " 19                  -1  1    590336  ultralytics.nn.modules.conv.Conv             [256, 256, 3, 2]              \n",
            " 20             [-1, 9]  1         0  ultralytics.nn.modules.conv.Concat           [1]                           \n",
            " 21                  -1  1   1969152  ultralytics.nn.modules.block.C2f             [768, 512, 1]                 \n",
            " 22        [15, 18, 21]  1   2116435  ultralytics.nn.modules.head.Detect           [1, [128, 256, 512]]          \n",
            "YOLOv8s summary: 225 layers, 11,135,987 parameters, 11,135,971 gradients, 28.6 GFLOPs\n",
            "\n",
            "Transferred 349/355 items from pretrained weights\n",
            "\u001b[34m\u001b[1mTensorBoard: \u001b[0mStart with 'tensorboard --logdir runs/detect/train10', view at http://localhost:6006/\n",
            "Freezing layer 'model.22.dfl.conv.weight'\n",
            "\u001b[34m\u001b[1mtrain: \u001b[0mScanning /content/drive/MyDrive/DSGP/Model/data/train/labels.cache... 779 images, 25 backgrounds, 0 corrupt: 100% 779/779 [00:00<?, ?it/s]\n",
            "/usr/local/lib/python3.11/dist-packages/albumentations/__init__.py:24: UserWarning: A new version of Albumentations is available: 2.0.2 (you have 1.4.20). Upgrade using: pip install -U albumentations. To disable automatic update checks, set the environment variable NO_ALBUMENTATIONS_UPDATE to 1.\n",
            "  check_for_updates()\n",
            "\u001b[34m\u001b[1malbumentations: \u001b[0mBlur(p=0.01, blur_limit=(3, 7)), MedianBlur(p=0.01, blur_limit=(3, 7)), ToGray(p=0.01, num_output_channels=3, method='weighted_average'), CLAHE(p=0.01, clip_limit=(1.0, 4.0), tile_grid_size=(8, 8))\n",
            "\u001b[34m\u001b[1mval: \u001b[0mScanning /content/drive/MyDrive/DSGP/Model/data/valid/labels.cache... 200 images, 50 backgrounds, 0 corrupt: 100% 200/200 [00:00<?, ?it/s]\n",
            "Plotting labels to runs/detect/train10/labels.jpg... \n",
            "\u001b[34m\u001b[1moptimizer:\u001b[0m 'optimizer=auto' found, ignoring 'lr0=0.001' and 'momentum=0.937' and determining best 'optimizer', 'lr0' and 'momentum' automatically... \n",
            "\u001b[34m\u001b[1moptimizer:\u001b[0m AdamW(lr=0.002, momentum=0.9) with parameter groups 57 weight(decay=0.0), 64 weight(decay=0.0005), 63 bias(decay=0.0)\n",
            "\u001b[34m\u001b[1mTensorBoard: \u001b[0mmodel graph visualization added ✅\n",
            "Image sizes 640 train, 640 val\n",
            "Using 0 dataloader workers\n",
            "Logging results to \u001b[1mruns/detect/train10\u001b[0m\n",
            "Starting training for 50 epochs...\n",
            "\n",
            "      Epoch    GPU_mem   box_loss   cls_loss   dfl_loss  Instances       Size\n",
            "       1/50         0G     0.3896      87.26     0.2568         82        640: 100% 49/49 [35:14<00:00, 43.16s/it]\n",
            "                 Class     Images  Instances      Box(P          R      mAP50  mAP50-95): 100% 7/7 [03:03<00:00, 26.19s/it]\n",
            "                   all        200       2014          0          0          0          0\n",
            "\n",
            "      Epoch    GPU_mem   box_loss   cls_loss   dfl_loss  Instances       Size\n",
            "       2/50         0G     0.1182      47.26    0.07156         31        640: 100% 49/49 [35:16<00:00, 43.19s/it]\n",
            "                 Class     Images  Instances      Box(P          R      mAP50  mAP50-95): 100% 7/7 [01:53<00:00, 16.25s/it]\n",
            "                   all        200       2014          0          0          0          0\n",
            "\n",
            "      Epoch    GPU_mem   box_loss   cls_loss   dfl_loss  Instances       Size\n",
            "       3/50         0G     0.4442      24.36     0.2813         55        640: 100% 49/49 [34:16<00:00, 41.96s/it]\n",
            "                 Class     Images  Instances      Box(P          R      mAP50  mAP50-95): 100% 7/7 [01:53<00:00, 16.27s/it]\n",
            "                   all        200       2014          0          0          0          0\n",
            "\n",
            "      Epoch    GPU_mem   box_loss   cls_loss   dfl_loss  Instances       Size\n",
            "       4/50         0G     0.3613      12.88     0.2437         59        640: 100% 49/49 [33:58<00:00, 41.61s/it]\n",
            "                 Class     Images  Instances      Box(P          R      mAP50  mAP50-95): 100% 7/7 [01:52<00:00, 16.09s/it]\n",
            "                   all        200       2014          0          0          0          0\n",
            "\n",
            "      Epoch    GPU_mem   box_loss   cls_loss   dfl_loss  Instances       Size\n",
            "       5/50         0G  9.281e-09      7.075  4.651e-09        110        640:   4% 2/49 [01:24<33:17, 42.50s/it]"
          ]
        }
      ],
      "source": [
        "!yolo task=detect mode=train model=yolov8_resnet.pt data=data.yaml epochs=50 imgsz=640 plots=True batch=16 lr0=0.001"
      ]
    },
    {
      "cell_type": "code",
      "execution_count": null,
      "metadata": {
        "id": "R9RCay5Z55p8"
      },
      "outputs": [],
      "source": [
        "# !yolo task=detect mode=val model=runs/detect/train9/weights/best.pt data=data.yaml"
      ]
    },
    {
      "cell_type": "code",
      "execution_count": null,
      "metadata": {
        "id": "TOKkXUkO94sj"
      },
      "outputs": [],
      "source": [
        "# !yolo task=detect mode=predict model=runs/detect/train9/weights/best.pt conf=0.25 source=data/test/images"
      ]
    },
    {
      "cell_type": "code",
      "execution_count": null,
      "metadata": {
        "id": "FuikfzzK_yZx"
      },
      "outputs": [],
      "source": [
        "import cv2\n",
        "import matplotlib.pyplot as plt\n",
        "\n",
        "# Load image\n",
        "image_path = \"/content/drive/MyDrive/DSGP/Model/data/train/images/20201111_sljc_1_0000043.png\"\n",
        "label_path = \"/content/drive/MyDrive/DSGP/Model/data/train/labels/20201111_sljc_1_0000043.txt\"\n",
        "\n",
        "# Read the image\n",
        "image = cv2.imread(image_path)\n",
        "height, width, _ = image.shape\n",
        "\n",
        "# Read YOLO annotation file\n",
        "with open(label_path, \"r\") as file:\n",
        "    lines = file.readlines()\n",
        "\n",
        "# Draw bounding boxes\n",
        "for line in lines:\n",
        "    values = line.strip().split()\n",
        "    x_center, y_center, bbox_width, bbox_height = map(float, values[1:])\n",
        "\n",
        "    # Reduce bounding box size by a factor (adjust factor as needed)\n",
        "    shrink_factor = 0.5  # Reduce the box size to 50%\n",
        "    bbox_width *= shrink_factor\n",
        "    bbox_height *= shrink_factor\n",
        "\n",
        "    # Convert YOLO format (normalized) to pixel values\n",
        "    x_center, y_center, bbox_width, bbox_height = (\n",
        "        x_center * width,\n",
        "        y_center * height,\n",
        "        bbox_width * width,\n",
        "        bbox_height * height,\n",
        "    )\n",
        "\n",
        "    # Convert to top-left corner format\n",
        "    x1 = int(x_center - bbox_width / 2)\n",
        "    y1 = int(y_center - bbox_height / 2)\n",
        "    x2 = int(x_center + bbox_width / 2)\n",
        "    y2 = int(y_center + bbox_height / 2)\n",
        "\n",
        "    # Draw the bounding box (thin and smaller)\n",
        "    cv2.rectangle(image, (x1, y1), (x2, y2), (0, 255, 0), 1)  # Reduce thickness to 1\n",
        "\n",
        "# Display image with bounding boxes\n",
        "plt.imshow(cv2.cvtColor(image, cv2.COLOR_BGR2RGB))\n",
        "plt.axis(\"off\")\n",
        "plt.show()\n",
        "\n"
      ]
    }
  ],
  "metadata": {
    "accelerator": "GPU",
    "colab": {
      "gpuType": "T4",
      "provenance": [],
      "authorship_tag": "ABX9TyOEP4sa5uaviR7WA1ww/nB7",
      "include_colab_link": true
    },
    "kernelspec": {
      "display_name": "Python 3",
      "name": "python3"
    },
    "language_info": {
      "name": "python"
    }
  },
  "nbformat": 4,
  "nbformat_minor": 0
}