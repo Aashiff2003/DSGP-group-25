{
  "cells": [
    {
      "cell_type": "markdown",
      "metadata": {
        "id": "view-in-github",
        "colab_type": "text"
      },
      "source": [
        "<a href=\"https://colab.research.google.com/github/Aashiff2003/DSGP-group-25/blob/Geethmi/yolov8_with_new_dataset.ipynb\" target=\"_parent\"><img src=\"https://colab.research.google.com/assets/colab-badge.svg\" alt=\"Open In Colab\"/></a>"
      ]
    },
    {
      "cell_type": "code",
      "execution_count": null,
      "metadata": {
        "colab": {
          "base_uri": "https://localhost:8080/"
        },
        "id": "pTKUt96Vpf6g",
        "outputId": "a104f395-c061-4088-afab-bc46cd93bfa7"
      },
      "outputs": [
        {
          "output_type": "stream",
          "name": "stdout",
          "text": [
            "Ultralytics 8.3.102 🚀 Python-3.11.11 torch-2.6.0+cu124 CUDA:0 (Tesla T4, 15095MiB)\n",
            "Setup complete ✅ (2 CPUs, 12.7 GB RAM, 40.9/112.6 GB disk)\n"
          ]
        }
      ],
      "source": [
        "!pip install ultralytics torch torchvision numpy matplotlib\n",
        "\n",
        "from IPython import display\n",
        "display.clear_output()\n",
        "\n",
        "import ultralytics\n",
        "ultralytics.checks()"
      ]
    },
    {
      "cell_type": "code",
      "execution_count": null,
      "metadata": {
        "id": "bWYRi7EMGxbU"
      },
      "outputs": [],
      "source": [
        "# Install and update Ultralytics and Ray Tune packages\n",
        "!pip install -U ultralytics \"ray[tune]\"\n",
        "display.clear_output()"
      ]
    },
    {
      "cell_type": "code",
      "execution_count": null,
      "metadata": {
        "id": "rMpmVkwEMDCS"
      },
      "outputs": [],
      "source": [
        "# Install W&B for logging\n",
        "!pip install wandb\n",
        "display.clear_output()"
      ]
    },
    {
      "cell_type": "markdown",
      "metadata": {
        "id": "Kzr5C0OCwGs-"
      },
      "source": [
        "Data Cleaning"
      ]
    },
    {
      "cell_type": "code",
      "execution_count": null,
      "metadata": {
        "colab": {
          "base_uri": "https://localhost:8080/"
        },
        "id": "tp9V3Nkmpx9q",
        "outputId": "1bfab98e-d9e5-4dfd-fa4e-a6199f56bb03"
      },
      "outputs": [
        {
          "output_type": "stream",
          "name": "stdout",
          "text": [
            "Mounted at /content/drive\n"
          ]
        }
      ],
      "source": [
        "from google.colab import drive\n",
        "drive.mount('/content/drive')"
      ]
    },
    {
      "cell_type": "code",
      "execution_count": null,
      "metadata": {
        "id": "vBKXusWORmOe"
      },
      "outputs": [],
      "source": [
        "# Define dataset directories\n",
        "# Train dir\n",
        "train_image_dir = \"/content/drive/MyDrive/DSGP/Model10/Data/train/images\"\n",
        "train_label_dir = \"/content/drive/MyDrive/DSGP/Model10/Data/train/labels\"\n",
        "\n",
        "# Valid dir\n",
        "valid_image_dir = \"/content/drive/MyDrive/DSGP/Model10/Data/valid/images\"\n",
        "valid_label_dir = \"/content/drive/MyDrive/DSGP/Model10/Data/valid/labels\"\n",
        "\n",
        "# Test dir\n",
        "test_image_dir = \"/content/drive/MyDrive/DSGP/Model10/Data/test/images\"\n",
        "test_label_dir = \"/content/drive/MyDrive/DSGP/Model10/Data/test/labels\""
      ]
    },
    {
      "cell_type": "code",
      "execution_count": null,
      "metadata": {
        "colab": {
          "base_uri": "https://localhost:8080/"
        },
        "id": "XcJjptWiUze4",
        "outputId": "c140c80a-1253-4cf9-be31-46c197e6d3dd"
      },
      "outputs": [
        {
          "name": "stdout",
          "output_type": "stream",
          "text": [
            "/content/drive/MyDrive/DSGP/Model10/Data/train/images - 1490\n",
            "/content/drive/MyDrive/DSGP/Model10/Data/valid/images - 200\n",
            "/content/drive/MyDrive/DSGP/Model10/Data/test/images - 200\n",
            "/content/drive/MyDrive/DSGP/Model10/Data/train/labels - 1490\n",
            "/content/drive/MyDrive/DSGP/Model10/Data/valid/labels - 200\n",
            "/content/drive/MyDrive/DSGP/Model10/Data/test/labels - 200\n"
          ]
        }
      ],
      "source": [
        "# Check image and label files count\n",
        "import os\n",
        "\n",
        "def count_files(dir):\n",
        "  count=0\n",
        "  for label_file in os.listdir(dir):\n",
        "    count+=1\n",
        "  print(f\"{dir} - {count}\")\n",
        "\n",
        "count_files(train_image_dir)\n",
        "count_files(valid_image_dir)\n",
        "count_files(test_image_dir)\n",
        "count_files(train_label_dir)\n",
        "count_files(valid_label_dir)\n",
        "count_files(test_label_dir)"
      ]
    },
    {
      "cell_type": "code",
      "execution_count": null,
      "metadata": {
        "colab": {
          "base_uri": "https://localhost:8080/"
        },
        "id": "HENYB42pR6tb",
        "outputId": "c443002d-a1cc-4084-fe92-907141618d49"
      },
      "outputs": [
        {
          "name": "stdout",
          "output_type": "stream",
          "text": [
            "Dataset cleaned successfully!!\n"
          ]
        }
      ],
      "source": [
        "# Check if there are segmenatation label files\n",
        "def is_seg_file(filepath):\n",
        "  file = open(filepath, \"r\")\n",
        "  lines = file.readlines()\n",
        "  for line in lines:\n",
        "    no_of_values = line.strip().split()\n",
        "    if len(no_of_values) > 5 :\n",
        "      return True\n",
        "  return False\n",
        "\n",
        "# Remove lable file and image\n",
        "def remove_files(image_dir,label_dir):\n",
        "  for label_file in os.listdir(label_dir):\n",
        "    label_path = os.path.join(label_dir, label_file)\n",
        "\n",
        "    if label_file.endswith(\".txt\") and is_seg_file(label_path):\n",
        "      # Find relavant image file\n",
        "      image_file = label_file.replace(\".txt\", \".jpg\")\n",
        "      image_path = os.path.join(image_dir, image_file)\n",
        "\n",
        "      # Delete label file and image\n",
        "      os.remove(label_path)\n",
        "      if os.path.exists(image_path):\n",
        "        os.remove(image_path)\n",
        "\n",
        "remove_files(train_image_dir,train_label_dir)\n",
        "remove_files(valid_image_dir,valid_label_dir)\n",
        "remove_files(test_image_dir,test_label_dir)\n",
        "\n",
        "print(\"Dataset cleaned successfully!!\")"
      ]
    },
    {
      "cell_type": "code",
      "execution_count": null,
      "metadata": {
        "colab": {
          "base_uri": "https://localhost:8080/"
        },
        "id": "pIyTXHZ9WtI5",
        "outputId": "e4ade310-6325-4142-8308-a1e32dd595f3"
      },
      "outputs": [
        {
          "name": "stdout",
          "output_type": "stream",
          "text": [
            "/content/drive/MyDrive/DSGP/Model10/Data/train/images - 1485\n",
            "/content/drive/MyDrive/DSGP/Model10/Data/valid/images - 199\n",
            "/content/drive/MyDrive/DSGP/Model10/Data/test/images - 198\n",
            "/content/drive/MyDrive/DSGP/Model10/Data/train/labels - 1485\n",
            "/content/drive/MyDrive/DSGP/Model10/Data/valid/labels - 199\n",
            "/content/drive/MyDrive/DSGP/Model10/Data/test/labels - 198\n"
          ]
        }
      ],
      "source": [
        "# Count after cleaning\n",
        "count_files(train_image_dir)\n",
        "count_files(valid_image_dir)\n",
        "count_files(test_image_dir)\n",
        "count_files(train_label_dir)\n",
        "count_files(valid_label_dir)\n",
        "count_files(test_label_dir)"
      ]
    },
    {
      "cell_type": "markdown",
      "metadata": {
        "id": "fVhAZsmGHRFw"
      },
      "source": [
        "Hyperparameter Tunining with Tay Tune"
      ]
    },
    {
      "cell_type": "code",
      "execution_count": null,
      "metadata": {
        "colab": {
          "base_uri": "https://localhost:8080/"
        },
        "id": "GkfXUN__LGC7",
        "outputId": "57721156-74c2-4078-ef54-d3cbd123f64d"
      },
      "outputs": [
        {
          "output_type": "stream",
          "name": "stdout",
          "text": [
            "/content/drive/MyDrive/DSGP/Model10\n"
          ]
        }
      ],
      "source": [
        "%cd /content/drive/MyDrive/DSGP/Model10"
      ]
    },
    {
      "cell_type": "code",
      "execution_count": null,
      "metadata": {
        "colab": {
          "base_uri": "https://localhost:8080/"
        },
        "id": "qrDs5Wj7OOAo",
        "outputId": "4adb9dc0-087d-47aa-b8e2-6e387c0a9194"
      },
      "outputs": [
        {
          "name": "stderr",
          "output_type": "stream",
          "text": [
            "\u001b[34m\u001b[1mwandb\u001b[0m: Using wandb-core as the SDK backend.  Please refer to https://wandb.me/wandb-core for more information.\n",
            "\u001b[34m\u001b[1mwandb\u001b[0m: \u001b[33mWARNING\u001b[0m If you're specifying your api key in code, ensure this code is not shared publicly.\n",
            "\u001b[34m\u001b[1mwandb\u001b[0m: \u001b[33mWARNING\u001b[0m Consider setting the WANDB_API_KEY environment variable, or running `wandb login` from the command line.\n",
            "\u001b[34m\u001b[1mwandb\u001b[0m: No netrc file found, creating one.\n",
            "\u001b[34m\u001b[1mwandb\u001b[0m: Appending key for api.wandb.ai to your netrc file: /root/.netrc\n",
            "\u001b[34m\u001b[1mwandb\u001b[0m: Currently logged in as: \u001b[33mgimunr2003\u001b[0m (\u001b[33mgimunr2003-robert-gordon-university\u001b[0m) to \u001b[32mhttps://api.wandb.ai\u001b[0m. Use \u001b[1m`wandb login --relogin`\u001b[0m to force relogin\n"
          ]
        },
        {
          "data": {
            "text/plain": [
              "True"
            ]
          },
          "execution_count": 13,
          "metadata": {},
          "output_type": "execute_result"
        }
      ],
      "source": [
        "import wandb\n",
        "wandb.login(key=\"a36b93a01adac06d58bd74c234e73d985dcfa963\")"
      ]
    },
    {
      "cell_type": "code",
      "execution_count": null,
      "metadata": {
        "colab": {
          "background_save": true,
          "base_uri": "https://localhost:8080/"
        },
        "id": "Qri5OrOdHQT5",
        "collapsed": true,
        "outputId": "5c312838-b199-42c2-fac6-57239b56d547"
      },
      "outputs": [
        {
          "name": "stdout",
          "output_type": "stream",
          "text": [
            "💡 Learn about RayTune at https://docs.ultralytics.com/integrations/ray-tune\n"
          ]
        },
        {
          "name": "stderr",
          "output_type": "stream",
          "text": [
            "2025-03-18 22:39:06,199\tINFO wandb.py:318 -- Already logged into W&B.\n"
          ]
        },
        {
          "name": "stdout",
          "output_type": "stream",
          "text": [
            "+--------------------------------------------------------------+\n",
            "| Configuration for experiment     _tune_2025-03-18_22-39-06   |\n",
            "+--------------------------------------------------------------+\n",
            "| Search algorithm                 BasicVariantGenerator       |\n",
            "| Scheduler                        AsyncHyperBandScheduler     |\n",
            "| Number of trials                 10                          |\n",
            "+--------------------------------------------------------------+\n",
            "\n",
            "View detailed results here: /content/drive/MyDrive/DSGP/Model10/runs/detect/tune7/_tune_2025-03-18_22-39-06\n",
            "To visualize your results with TensorBoard, run: `tensorboard --logdir /tmp/ray/session_2025-03-18_22-28-25_186869_433/artifacts/2025-03-18_22-39-06/_tune_2025-03-18_22-39-06/driver_artifacts`\n",
            "\n",
            "Trial status: 10 PENDING\n",
            "Current time: 2025-03-18 22:39:06. Total running time: 0s\n",
            "Logical resource usage: 0/2 CPUs, 0/1 GPUs (0.0/1.0 accelerator_type:T4)\n",
            "+------------------------------------------------------------------------------------------------------------------------------------------------------------------------------------------------------------+\n",
            "| Trial name          status            lr0        lrf     momentum     weight_decay     warmup_epochs     warmup_momentum         box        cls     mosaic      mixup      scale     translate     degrees |\n",
            "+------------------------------------------------------------------------------------------------------------------------------------------------------------------------------------------------------------+\n",
            "| _tune_ccb36_00000   PENDING    0.0807712    0.98212      0.832917      0.00031321           1.31965            0.714044    0.112579    3.73214    0.823751   0.943883   0.446389     0.369576     3.94308  |\n",
            "| _tune_ccb36_00001   PENDING    0.0736148    0.361434     0.812501      0.000828003          0.822034           0.645118    0.116768    2.11721    0.89539    0.955031   0.019193     0.360799    28.53     |\n",
            "| _tune_ccb36_00002   PENDING    0.0524741    0.375373     0.624037      0.000577736          3.85787            0.578887    0.0246224   2.17235    0.17886    0.964466   0.849079     0.851182    23.9267   |\n",
            "| _tune_ccb36_00003   PENDING    0.00475765   0.972051     0.800729      2.69941e-05          0.554974           0.848952    0.124288    1.16461    0.245103   0.672441   0.533297     0.31283     41.9101   |\n",
            "| _tune_ccb36_00004   PENDING    0.0875838    0.291093     0.686732      0.000776451          2.73801            0.6342      0.163842    2.12388    0.591161   0.25316    0.536289     0.0740746   17.6679   |\n",
            "| _tune_ccb36_00005   PENDING    0.0693305    0.489992     0.954605      0.000562698          1.21452            0.172617    0.111752    1.22017    0.390625   0.187786   0.602761     0.776292     0.936706 |\n",
            "| _tune_ccb36_00006   PENDING    0.0146265    0.363083     0.877884      0.000399913          3.74336            0.0970809   0.0654778   2.37244    0.501935   0.587625   0.175293     0.670516    43.3172   |\n",
            "| _tune_ccb36_00007   PENDING    0.0857892    0.923027     0.665738      0.000818845          2.099              0.142248    0.0701387   0.757293   0.942471   0.105409   0.272562     0.194109     9.06996  |\n",
            "| _tune_ccb36_00008   PENDING    0.0353071    0.760711     0.945606      0.000311736          4.91558            0.625756    0.189252    2.89962    0.197352   0.796775   0.688256     0.0957444   42.4482   |\n",
            "| _tune_ccb36_00009   PENDING    0.0316888    0.562424     0.795003      0.000215953          2.11086            0.297169    0.0900215   1.66286    0.852422   0.857856   0.593687     0.261562     4.24122  |\n",
            "+------------------------------------------------------------------------------------------------------------------------------------------------------------------------------------------------------------+\n",
            "\n",
            "Trial _tune_ccb36_00000 started with configuration:\n",
            "+---------------------------------------------------------+\n",
            "| Trial _tune_ccb36_00000 config                          |\n",
            "+---------------------------------------------------------+\n",
            "| box                                             0.11258 |\n",
            "| cls                                             3.73214 |\n",
            "| data                               ...Model10/data.yaml |\n",
            "| degrees                                         3.94308 |\n",
            "| lr0                                             0.08077 |\n",
            "| lrf                                             0.98212 |\n",
            "| mixup                                           0.94388 |\n",
            "| momentum                                        0.83292 |\n",
            "| mosaic                                          0.82375 |\n",
            "| scale                                           0.44639 |\n",
            "| translate                                       0.36958 |\n",
            "| warmup_epochs                                   1.31965 |\n",
            "| warmup_momentum                                 0.71404 |\n",
            "| weight_decay                                    0.00031 |\n",
            "+---------------------------------------------------------+\n",
            "\n",
            "Trial _tune_ccb36_00001 started with configuration:\n",
            "+---------------------------------------------------------+\n",
            "| Trial _tune_ccb36_00001 config                          |\n",
            "+---------------------------------------------------------+\n",
            "| box                                             0.11677 |\n",
            "| cls                                             2.11721 |\n",
            "| data                               ...Model10/data.yaml |\n",
            "| degrees                                        28.53004 |\n",
            "| lr0                                             0.07361 |\n",
            "| lrf                                             0.36143 |\n",
            "| mixup                                           0.95503 |\n",
            "| momentum                                         0.8125 |\n",
            "| mosaic                                          0.89539 |\n",
            "| scale                                           0.01919 |\n",
            "| translate                                        0.3608 |\n",
            "| warmup_epochs                                   0.82203 |\n",
            "| warmup_momentum                                 0.64512 |\n",
            "| weight_decay                                    0.00083 |\n",
            "+---------------------------------------------------------+\n"
          ]
        },
        {
          "name": "stderr",
          "output_type": "stream",
          "text": [
            "\u001b[36m(_WandbLoggingActor pid=12096)\u001b[0m wandb: Currently logged in as: gimunr2003 (gimunr2003-robert-gordon-university) to https://api.wandb.ai. Use `wandb login --relogin` to force relogin\n",
            "\u001b[36m(_WandbLoggingActor pid=12096)\u001b[0m wandb: Tracking run with wandb version 0.19.8\n",
            "\u001b[36m(_WandbLoggingActor pid=12096)\u001b[0m wandb: Run data is saved locally in /tmp/ray/session_2025-03-18_22-28-25_186869_433/artifacts/2025-03-18_22-39-06/_tune_2025-03-18_22-39-06/driver_artifacts/_tune_ccb36_00000_0_box=0.1126,cls=3.7321,degrees=3.9431,lr0=0.0808,lrf=0.9821,mixup=0.9439,momentum=0.8329,mosaic=0.8238,scale=0._2025-03-18_22-39-06/wandb/run-20250318_223917-ccb36_00000\n",
            "\u001b[36m(_WandbLoggingActor pid=12096)\u001b[0m wandb: Run `wandb offline` to turn off syncing.\n",
            "\u001b[36m(_WandbLoggingActor pid=12096)\u001b[0m wandb: Syncing run _tune_ccb36_00000\n",
            "\u001b[36m(_WandbLoggingActor pid=12096)\u001b[0m wandb: ⭐️ View project at https://wandb.ai/gimunr2003-robert-gordon-university/YOLOv8-tune\n",
            "\u001b[36m(_WandbLoggingActor pid=12096)\u001b[0m wandb: 🚀 View run at https://wandb.ai/gimunr2003-robert-gordon-university/YOLOv8-tune/runs/ccb36_00000\n"
          ]
        },
        {
          "name": "stdout",
          "output_type": "stream",
          "text": [
            "\u001b[36m(_tune pid=11987)\u001b[0m Ultralytics 8.3.92 🚀 Python-3.11.11 torch-2.6.0+cu124 CPU (Intel Xeon 2.00GHz)\n",
            "\u001b[36m(_tune pid=11987)\u001b[0m \u001b[34m\u001b[1mengine/trainer: \u001b[0mtask=detect, mode=train, model=yolov8n.pt, data=/content/drive/MyDrive/DSGP/Model10/data.yaml, epochs=50, time=None, patience=100, batch=16, imgsz=640, save=True, save_period=-1, cache=False, device=None, workers=8, project=None, name=train, exist_ok=False, pretrained=True, optimizer=auto, verbose=True, seed=0, deterministic=True, single_cls=False, rect=False, cos_lr=False, close_mosaic=10, resume=False, amp=True, fraction=1.0, profile=False, freeze=None, multi_scale=False, overlap_mask=True, mask_ratio=4, dropout=0.0, val=True, split=val, save_json=False, save_hybrid=False, conf=None, iou=0.7, max_det=300, half=False, dnn=False, plots=True, source=None, vid_stride=1, stream_buffer=False, visualize=False, augment=False, agnostic_nms=False, classes=None, retina_masks=False, embed=None, show=False, save_frames=False, save_txt=False, save_conf=False, save_crop=False, show_labels=True, show_conf=True, show_boxes=True, line_width=None, format=torchscript, keras=False, optimize=False, int8=False, dynamic=False, simplify=True, opset=None, workspace=None, nms=False, lr0=0.08077121672607122, lrf=0.9821201353633008, momentum=0.8329167095257382, weight_decay=0.00031321018203725795, warmup_epochs=1.3196509700631602, warmup_momentum=0.7140439418367681, warmup_bias_lr=0.1, box=0.11257892472950415, cls=3.732136159595826, dfl=1.5, pose=12.0, kobj=1.0, nbs=64, hsv_h=0.015, hsv_s=0.7, hsv_v=0.4, degrees=3.9430760182818165, translate=0.36957597434021594, scale=0.4463892695187104, shear=0.0, perspective=0.0, flipud=0.0, fliplr=0.5, bgr=0.0, mosaic=0.8237510019639189, mixup=0.9438834858427593, copy_paste=0.0, copy_paste_mode=flip, auto_augment=randaugment, erasing=0.4, crop_fraction=1.0, cfg=None, tracker=botsort.yaml, save_dir=runs/detect/train\n"
          ]
        },
        {
          "name": "stderr",
          "output_type": "stream",
          "text": [
            "\u001b[36m(_tune pid=11987)\u001b[0m WARNING: All log messages before absl::InitializeLog() is called are written to STDERR\n",
            "\u001b[36m(_tune pid=11987)\u001b[0m E0000 00:00:1742337567.302818   12098 cuda_dnn.cc:8310] Unable to register cuDNN factory: Attempting to register factory for plugin cuDNN when one has already been registered\n",
            "\u001b[36m(_tune pid=11987)\u001b[0m E0000 00:00:1742337567.374303   12098 cuda_blas.cc:1418] Unable to register cuBLAS factory: Attempting to register factory for plugin cuBLAS when one has already been registered\n",
            "\u001b[36m(_WandbLoggingActor pid=12160)\u001b[0m wandb: Currently logged in as: gimunr2003 (gimunr2003-robert-gordon-university) to https://api.wandb.ai. Use `wandb login --relogin` to force relogin\n",
            "\u001b[36m(_WandbLoggingActor pid=12160)\u001b[0m wandb: Tracking run with wandb version 0.19.8\n",
            "\u001b[36m(_WandbLoggingActor pid=12160)\u001b[0m wandb: Run data is saved locally in /tmp/ray/session_2025-03-18_22-28-25_186869_433/artifacts/2025-03-18_22-39-06/_tune_2025-03-18_22-39-06/driver_artifacts/_tune_ccb36_00001_1_box=0.1168,cls=2.1172,degrees=28.5300,lr0=0.0736,lrf=0.3614,mixup=0.9550,momentum=0.8125,mosaic=0.8954,scale=0_2025-03-18_22-39-06/wandb/run-20250318_223917-ccb36_00001\n",
            "\u001b[36m(_WandbLoggingActor pid=12160)\u001b[0m wandb: Run `wandb offline` to turn off syncing.\n",
            "\u001b[36m(_WandbLoggingActor pid=12160)\u001b[0m wandb: Syncing run _tune_ccb36_00001\n",
            "\u001b[36m(_WandbLoggingActor pid=12160)\u001b[0m wandb: ⭐️ View project at https://wandb.ai/gimunr2003-robert-gordon-university/YOLOv8-tune\n",
            "\u001b[36m(_WandbLoggingActor pid=12160)\u001b[0m wandb: 🚀 View run at https://wandb.ai/gimunr2003-robert-gordon-university/YOLOv8-tune/runs/ccb36_00001\n"
          ]
        },
        {
          "name": "stdout",
          "output_type": "stream",
          "text": [
            "\n",
            "Trial status: 2 RUNNING | 8 PENDING\n",
            "Current time: 2025-03-18 22:39:36. Total running time: 30s\n",
            "Logical resource usage: 2.0/2 CPUs, 0/1 GPUs (0.0/1.0 accelerator_type:T4)\n",
            "+------------------------------------------------------------------------------------------------------------------------------------------------------------------------------------------------------------+\n",
            "| Trial name          status            lr0        lrf     momentum     weight_decay     warmup_epochs     warmup_momentum         box        cls     mosaic      mixup      scale     translate     degrees |\n",
            "+------------------------------------------------------------------------------------------------------------------------------------------------------------------------------------------------------------+\n",
            "| _tune_ccb36_00000   RUNNING    0.0807712    0.98212      0.832917      0.00031321           1.31965            0.714044    0.112579    3.73214    0.823751   0.943883   0.446389     0.369576     3.94308  |\n",
            "| _tune_ccb36_00001   RUNNING    0.0736148    0.361434     0.812501      0.000828003          0.822034           0.645118    0.116768    2.11721    0.89539    0.955031   0.019193     0.360799    28.53     |\n",
            "| _tune_ccb36_00002   PENDING    0.0524741    0.375373     0.624037      0.000577736          3.85787            0.578887    0.0246224   2.17235    0.17886    0.964466   0.849079     0.851182    23.9267   |\n",
            "| _tune_ccb36_00003   PENDING    0.00475765   0.972051     0.800729      2.69941e-05          0.554974           0.848952    0.124288    1.16461    0.245103   0.672441   0.533297     0.31283     41.9101   |\n",
            "| _tune_ccb36_00004   PENDING    0.0875838    0.291093     0.686732      0.000776451          2.73801            0.6342      0.163842    2.12388    0.591161   0.25316    0.536289     0.0740746   17.6679   |\n",
            "| _tune_ccb36_00005   PENDING    0.0693305    0.489992     0.954605      0.000562698          1.21452            0.172617    0.111752    1.22017    0.390625   0.187786   0.602761     0.776292     0.936706 |\n",
            "| _tune_ccb36_00006   PENDING    0.0146265    0.363083     0.877884      0.000399913          3.74336            0.0970809   0.0654778   2.37244    0.501935   0.587625   0.175293     0.670516    43.3172   |\n",
            "| _tune_ccb36_00007   PENDING    0.0857892    0.923027     0.665738      0.000818845          2.099              0.142248    0.0701387   0.757293   0.942471   0.105409   0.272562     0.194109     9.06996  |\n",
            "| _tune_ccb36_00008   PENDING    0.0353071    0.760711     0.945606      0.000311736          4.91558            0.625756    0.189252    2.89962    0.197352   0.796775   0.688256     0.0957444   42.4482   |\n",
            "| _tune_ccb36_00009   PENDING    0.0316888    0.562424     0.795003      0.000215953          2.11086            0.297169    0.0900215   1.66286    0.852422   0.857856   0.593687     0.261562     4.24122  |\n",
            "+------------------------------------------------------------------------------------------------------------------------------------------------------------------------------------------------------------+\n",
            "\u001b[36m(_tune pid=11987)\u001b[0m Overriding model.yaml nc=80 with nc=1\n",
            "\u001b[36m(_tune pid=11987)\u001b[0m \n",
            "\u001b[36m(_tune pid=11987)\u001b[0m                    from  n    params  module                                       arguments                     \n",
            "\u001b[36m(_tune pid=11987)\u001b[0m   0                  -1  1       464  ultralytics.nn.modules.conv.Conv             [3, 16, 3, 2]                 \n",
            "\u001b[36m(_tune pid=11987)\u001b[0m   1                  -1  1      4672  ultralytics.nn.modules.conv.Conv             [16, 32, 3, 2]                \n",
            "\u001b[36m(_tune pid=11987)\u001b[0m   2                  -1  1      7360  ultralytics.nn.modules.block.C2f             [32, 32, 1, True]             \n",
            "\u001b[36m(_tune pid=12015)\u001b[0m Ultralytics 8.3.92 🚀 Python-3.11.11 torch-2.6.0+cu124 CPU (Intel Xeon 2.00GHz)\n",
            "\u001b[36m(_tune pid=12015)\u001b[0m \u001b[34m\u001b[1mengine/trainer: \u001b[0mtask=detect, mode=train, model=yolov8n.pt, data=/content/drive/MyDrive/DSGP/Model10/data.yaml, epochs=50, time=None, patience=100, batch=16, imgsz=640, save=True, save_period=-1, cache=False, device=None, workers=8, project=None, name=train, exist_ok=False, pretrained=True, optimizer=auto, verbose=True, seed=0, deterministic=True, single_cls=False, rect=False, cos_lr=False, close_mosaic=10, resume=False, amp=True, fraction=1.0, profile=False, freeze=None, multi_scale=False, overlap_mask=True, mask_ratio=4, dropout=0.0, val=True, split=val, save_json=False, save_hybrid=False, conf=None, iou=0.7, max_det=300, half=False, dnn=False, plots=True, source=None, vid_stride=1, stream_buffer=False, visualize=False, augment=False, agnostic_nms=False, classes=None, retina_masks=False, embed=None, show=False, save_frames=False, save_txt=False, save_conf=False, save_crop=False, show_labels=True, show_conf=True, show_boxes=True, line_width=None, format=torchscript, keras=False, optimize=False, int8=False, dynamic=False, simplify=True, opset=None, workspace=None, nms=False, lr0=0.07361480414545105, lrf=0.36143400053578184, momentum=0.8125014743053572, weight_decay=0.000828002762841583, warmup_epochs=0.8220343561008053, warmup_momentum=0.6451178187170502, warmup_bias_lr=0.1, box=0.11676752958430008, cls=2.1172143668108885, dfl=1.5, pose=12.0, kobj=1.0, nbs=64, hsv_h=0.015, hsv_s=0.7, hsv_v=0.4, degrees=28.53004189066556, translate=0.36079946312487454, scale=0.0191930432163966, shear=0.0, perspective=0.0, flipud=0.0, fliplr=0.5, bgr=0.0, mosaic=0.8953898051232986, mixup=0.9550305315282972, copy_paste=0.0, copy_paste_mode=flip, auto_augment=randaugment, erasing=0.4, crop_fraction=1.0, cfg=None, tracker=botsort.yaml, save_dir=runs/detect/train\n",
            "\u001b[36m(_tune pid=11987)\u001b[0m   3                  -1  1     18560  ultralytics.nn.modules.conv.Conv             [32, 64, 3, 2]                \n",
            "\u001b[36m(_tune pid=12015)\u001b[0m \n",
            "\u001b[36m(_tune pid=11987)\u001b[0m   9                  -1  1    164608  ultralytics.nn.modules.block.SPPF            [256, 256, 5]                 \n",
            "\u001b[36m(_tune pid=11987)\u001b[0m  10                  -1  1         0  torch.nn.modules.upsampling.Upsample         [None, 2, 'nearest']          \n",
            "\u001b[36m(_tune pid=11987)\u001b[0m  11             [-1, 6]  1         0  ultralytics.nn.modules.conv.Concat           [1]                           \n",
            "\u001b[36m(_tune pid=11987)\u001b[0m  12                  -1  1    148224  ultralytics.nn.modules.block.C2f             [384, 128, 1]                 \n",
            "\u001b[36m(_tune pid=11987)\u001b[0m  13                  -1  1         0  torch.nn.modules.upsampling.Upsample         [None, 2, 'nearest']          \n",
            "\u001b[36m(_tune pid=11987)\u001b[0m  14             [-1, 4]  1         0  ultralytics.nn.modules.conv.Concat           [1]                           \n",
            "\u001b[36m(_tune pid=11987)\u001b[0m  15                  -1  1     37248  ultralytics.nn.modules.block.C2f             [192, 64, 1]                  \n",
            "\u001b[36m(_tune pid=11987)\u001b[0m  17            [-1, 12]  1         0  ultralytics.nn.modules.conv.Concat           [1]                           \n",
            "\u001b[36m(_tune pid=11987)\u001b[0m  18                  -1  1    123648  ultralytics.nn.modules.block.C2f             [192, 128, 1]                 \n",
            "\u001b[36m(_tune pid=11987)\u001b[0m  20             [-1, 9]  1         0  ultralytics.nn.modules.conv.Concat           [1]                           \n",
            "\u001b[36m(_tune pid=11987)\u001b[0m  21                  -1  1    493056  ultralytics.nn.modules.block.C2f             [384, 256, 1]                 \n",
            "\u001b[36m(_tune pid=11987)\u001b[0m  22        [15, 18, 21]  1    751507  ultralytics.nn.modules.head.Detect           [1, [64, 128, 256]]           \n",
            "\u001b[36m(_tune pid=12015)\u001b[0m  12                  -1  1    148224  ultralytics.nn.modules.block.C2f             [384, 128, 1]                 \n",
            "\u001b[36m(_tune pid=12015)\u001b[0m  15                  -1  1     37248  ultralytics.nn.modules.block.C2f             [192, 64, 1]                  \n",
            "\u001b[36m(_tune pid=12015)\u001b[0m  18                  -1  1    123648  ultralytics.nn.modules.block.C2f             [192, 128, 1]                 \n",
            "\u001b[36m(_tune pid=12015)\u001b[0m  21                  -1  1    493056  ultralytics.nn.modules.block.C2f             [384, 256, 1]                 \n",
            "\u001b[36m(_tune pid=11987)\u001b[0m Model summary: 129 layers, 3,011,043 parameters, 3,011,027 gradients, 8.2 GFLOPs\n",
            "\u001b[36m(_tune pid=11987)\u001b[0m \n",
            "\u001b[36m(_tune pid=11987)\u001b[0m Transferred 319/355 items from pretrained weights\n",
            "\u001b[36m(_tune pid=11987)\u001b[0m \u001b[34m\u001b[1mTensorBoard: \u001b[0mStart with 'tensorboard --logdir runs/detect/train', view at http://localhost:6006/\n",
            "\u001b[36m(_tune pid=11987)\u001b[0m Freezing layer 'model.22.dfl.conv.weight'\n",
            "\u001b[36m(_tune pid=12015)\u001b[0m \n"
          ]
        },
        {
          "name": "stderr",
          "output_type": "stream",
          "text": [
            "\u001b[36m(_tune pid=11987)\u001b[0m \r\u001b[34m\u001b[1mtrain: \u001b[0mScanning /content/drive/MyDrive/DSGP/Model10/Data/train/labels.cache... 1485 images, 0 backgrounds, 0 corrupt: 100%|██████████| 1485/1485 [00:00<?, ?it/s]\r\u001b[34m\u001b[1mtrain: \u001b[0mScanning /content/drive/MyDrive/DSGP/Model10/Data/train/labels.cache... 1485 images, 0 backgrounds, 0 corrupt: 100%|██████████| 1485/1485 [00:00<?, ?it/s]\n",
            "\u001b[36m(_tune pid=12015)\u001b[0m WARNING: All log messages before absl::InitializeLog() is called are written to STDERR\n",
            "\u001b[36m(_tune pid=12015)\u001b[0m E0000 00:00:1742337567.302828   12100 cuda_dnn.cc:8310] Unable to register cuDNN factory: Attempting to register factory for plugin cuDNN when one has already been registered\n",
            "\u001b[36m(_tune pid=12015)\u001b[0m E0000 00:00:1742337567.374303   12100 cuda_blas.cc:1418] Unable to register cuBLAS factory: Attempting to register factory for plugin cuBLAS when one has already been registered\n"
          ]
        },
        {
          "name": "stdout",
          "output_type": "stream",
          "text": [
            "\u001b[36m(_tune pid=11987)\u001b[0m \u001b[34m\u001b[1malbumentations: \u001b[0mBlur(p=0.01, blur_limit=(3, 7)), MedianBlur(p=0.01, blur_limit=(3, 7)), ToGray(p=0.01, num_output_channels=3, method='weighted_average'), CLAHE(p=0.01, clip_limit=(1.0, 4.0), tile_grid_size=(8, 8))\n",
            "\u001b[36m(_tune pid=11987)\u001b[0m Plotting labels to runs/detect/train/labels.jpg... \n",
            "\u001b[36m(_tune pid=11987)\u001b[0m \u001b[34m\u001b[1moptimizer:\u001b[0m 'optimizer=auto' found, ignoring 'lr0=0.08077121672607122' and 'momentum=0.8329167095257382' and determining best 'optimizer', 'lr0' and 'momentum' automatically... \n",
            "\u001b[36m(_tune pid=12015)\u001b[0m Overriding model.yaml nc=80 with nc=1\n",
            "\u001b[36m(_tune pid=12015)\u001b[0m                    from  n    params  module                                       arguments                     \n",
            "\u001b[36m(_tune pid=12015)\u001b[0m  19                  -1  1    147712  ultralytics.nn.modules.conv.Conv             [128, 128, 3, 2]              \u001b[32m [repeated 11x across cluster]\u001b[0m\n",
            "\u001b[36m(_tune pid=12015)\u001b[0m   8                  -1  1    460288  ultralytics.nn.modules.block.C2f             [256, 256, 1, True]           \u001b[32m [repeated 7x across cluster]\u001b[0m\n",
            "\u001b[36m(_tune pid=12015)\u001b[0m   9                  -1  1    164608  ultralytics.nn.modules.block.SPPF            [256, 256, 5]                 \n",
            "\u001b[36m(_tune pid=12015)\u001b[0m  13                  -1  1         0  torch.nn.modules.upsampling.Upsample         [None, 2, 'nearest']          \u001b[32m [repeated 2x across cluster]\u001b[0m\n",
            "\u001b[36m(_tune pid=12015)\u001b[0m  20             [-1, 9]  1         0  ultralytics.nn.modules.conv.Concat           [1]                           \u001b[32m [repeated 4x across cluster]\u001b[0m\n",
            "\u001b[36m(_tune pid=12015)\u001b[0m  22        [15, 18, 21]  1    751507  ultralytics.nn.modules.head.Detect           [1, [64, 128, 256]]           \n",
            "\u001b[36m(_tune pid=12015)\u001b[0m Model summary: 129 layers, 3,011,043 parameters, 3,011,027 gradients, 8.2 GFLOPs\n",
            "\u001b[36m(_tune pid=12015)\u001b[0m Transferred 319/355 items from pretrained weights\n",
            "\u001b[36m(_tune pid=12015)\u001b[0m \u001b[34m\u001b[1mTensorBoard: \u001b[0mStart with 'tensorboard --logdir runs/detect/train', view at http://localhost:6006/\n",
            "\u001b[36m(_tune pid=12015)\u001b[0m Freezing layer 'model.22.dfl.conv.weight'\n",
            "\u001b[36m(_tune pid=11987)\u001b[0m \u001b[34m\u001b[1moptimizer:\u001b[0m AdamW(lr=0.002, momentum=0.9) with parameter groups 57 weight(decay=0.0), 64 weight(decay=0.00031321018203725795), 63 bias(decay=0.0)\n",
            "\u001b[36m(_tune pid=12015)\u001b[0m \u001b[34m\u001b[1malbumentations: \u001b[0mBlur(p=0.01, blur_limit=(3, 7)), MedianBlur(p=0.01, blur_limit=(3, 7)), ToGray(p=0.01, num_output_channels=3, method='weighted_average'), CLAHE(p=0.01, clip_limit=(1.0, 4.0), tile_grid_size=(8, 8))\n",
            "\u001b[36m(_tune pid=12015)\u001b[0m Plotting labels to runs/detect/train/labels.jpg... \n",
            "\u001b[36m(_tune pid=11987)\u001b[0m \u001b[34m\u001b[1mTensorBoard: \u001b[0mmodel graph visualization added ✅\n",
            "\u001b[36m(_tune pid=11987)\u001b[0m Image sizes 640 train, 640 val\n",
            "\u001b[36m(_tune pid=11987)\u001b[0m Using 0 dataloader workers\n",
            "\u001b[36m(_tune pid=11987)\u001b[0m Logging results to \u001b[1mruns/detect/train\u001b[0m\n",
            "\u001b[36m(_tune pid=11987)\u001b[0m Starting training for 50 epochs...\n",
            "\u001b[36m(_tune pid=11987)\u001b[0m \n",
            "\u001b[36m(_tune pid=11987)\u001b[0m       Epoch    GPU_mem   box_loss   cls_loss   dfl_loss  Instances       Size\n",
            "\u001b[36m(_tune pid=12015)\u001b[0m \u001b[34m\u001b[1moptimizer:\u001b[0m 'optimizer=auto' found, ignoring 'lr0=0.07361480414545105' and 'momentum=0.8125014743053572' and determining best 'optimizer', 'lr0' and 'momentum' automatically... \n",
            "\u001b[36m(_tune pid=12015)\u001b[0m \u001b[34m\u001b[1moptimizer:\u001b[0m AdamW(lr=0.002, momentum=0.9) with parameter groups 57 weight(decay=0.0), 64 weight(decay=0.000828002762841583), 63 bias(decay=0.0)\n",
            "\u001b[36m(_tune pid=12015)\u001b[0m \n"
          ]
        },
        {
          "name": "stderr",
          "output_type": "stream",
          "text": [
            "\u001b[36m(_tune pid=11987)\u001b[0m \r  0%|          | 0/93 [00:00<?, ?it/s]\n",
            "\u001b[36m(_tune pid=12015)\u001b[0m \r\u001b[34m\u001b[1mval: \u001b[0mScanning /content/drive/MyDrive/DSGP/Model10/Data/valid/labels.cache... 199 images, 0 backgrounds, 0 corrupt: 100%|██████████| 199/199 [00:00<?, ?it/s]\r\u001b[34m\u001b[1mval: \u001b[0mScanning /content/drive/MyDrive/DSGP/Model10/Data/valid/labels.cache... 199 images, 0 backgrounds, 0 corrupt: 100%|██████████| 199/199 [00:00<?, ?it/s]\u001b[32m [repeated 3x across cluster]\u001b[0m\n"
          ]
        },
        {
          "name": "stdout",
          "output_type": "stream",
          "text": [
            "Trial status: 2 RUNNING | 8 PENDING\n",
            "Current time: 2025-03-18 22:40:06. Total running time: 1min 0s\n",
            "Logical resource usage: 2.0/2 CPUs, 0/1 GPUs (0.0/1.0 accelerator_type:T4)\n",
            "+------------------------------------------------------------------------------------------------------------------------------------------------------------------------------------------------------------+\n",
            "| Trial name          status            lr0        lrf     momentum     weight_decay     warmup_epochs     warmup_momentum         box        cls     mosaic      mixup      scale     translate     degrees |\n",
            "+------------------------------------------------------------------------------------------------------------------------------------------------------------------------------------------------------------+\n",
            "| _tune_ccb36_00000   RUNNING    0.0807712    0.98212      0.832917      0.00031321           1.31965            0.714044    0.112579    3.73214    0.823751   0.943883   0.446389     0.369576     3.94308  |\n",
            "| _tune_ccb36_00001   RUNNING    0.0736148    0.361434     0.812501      0.000828003          0.822034           0.645118    0.116768    2.11721    0.89539    0.955031   0.019193     0.360799    28.53     |\n",
            "| _tune_ccb36_00002   PENDING    0.0524741    0.375373     0.624037      0.000577736          3.85787            0.578887    0.0246224   2.17235    0.17886    0.964466   0.849079     0.851182    23.9267   |\n",
            "| _tune_ccb36_00003   PENDING    0.00475765   0.972051     0.800729      2.69941e-05          0.554974           0.848952    0.124288    1.16461    0.245103   0.672441   0.533297     0.31283     41.9101   |\n",
            "| _tune_ccb36_00004   PENDING    0.0875838    0.291093     0.686732      0.000776451          2.73801            0.6342      0.163842    2.12388    0.591161   0.25316    0.536289     0.0740746   17.6679   |\n",
            "| _tune_ccb36_00005   PENDING    0.0693305    0.489992     0.954605      0.000562698          1.21452            0.172617    0.111752    1.22017    0.390625   0.187786   0.602761     0.776292     0.936706 |\n",
            "| _tune_ccb36_00006   PENDING    0.0146265    0.363083     0.877884      0.000399913          3.74336            0.0970809   0.0654778   2.37244    0.501935   0.587625   0.175293     0.670516    43.3172   |\n",
            "| _tune_ccb36_00007   PENDING    0.0857892    0.923027     0.665738      0.000818845          2.099              0.142248    0.0701387   0.757293   0.942471   0.105409   0.272562     0.194109     9.06996  |\n",
            "| _tune_ccb36_00008   PENDING    0.0353071    0.760711     0.945606      0.000311736          4.91558            0.625756    0.189252    2.89962    0.197352   0.796775   0.688256     0.0957444   42.4482   |\n",
            "| _tune_ccb36_00009   PENDING    0.0316888    0.562424     0.795003      0.000215953          2.11086            0.297169    0.0900215   1.66286    0.852422   0.857856   0.593687     0.261562     4.24122  |\n",
            "+------------------------------------------------------------------------------------------------------------------------------------------------------------------------------------------------------------+\n",
            "Trial status: 2 RUNNING | 8 PENDING\n",
            "Current time: 2025-03-18 22:40:36. Total running time: 1min 30s\n",
            "Logical resource usage: 2.0/2 CPUs, 0/1 GPUs (0.0/1.0 accelerator_type:T4)\n",
            "+------------------------------------------------------------------------------------------------------------------------------------------------------------------------------------------------------------+\n",
            "| Trial name          status            lr0        lrf     momentum     weight_decay     warmup_epochs     warmup_momentum         box        cls     mosaic      mixup      scale     translate     degrees |\n",
            "+------------------------------------------------------------------------------------------------------------------------------------------------------------------------------------------------------------+\n",
            "| _tune_ccb36_00000   RUNNING    0.0807712    0.98212      0.832917      0.00031321           1.31965            0.714044    0.112579    3.73214    0.823751   0.943883   0.446389     0.369576     3.94308  |\n",
            "| _tune_ccb36_00001   RUNNING    0.0736148    0.361434     0.812501      0.000828003          0.822034           0.645118    0.116768    2.11721    0.89539    0.955031   0.019193     0.360799    28.53     |\n",
            "| _tune_ccb36_00002   PENDING    0.0524741    0.375373     0.624037      0.000577736          3.85787            0.578887    0.0246224   2.17235    0.17886    0.964466   0.849079     0.851182    23.9267   |\n",
            "| _tune_ccb36_00003   PENDING    0.00475765   0.972051     0.800729      2.69941e-05          0.554974           0.848952    0.124288    1.16461    0.245103   0.672441   0.533297     0.31283     41.9101   |\n",
            "| _tune_ccb36_00004   PENDING    0.0875838    0.291093     0.686732      0.000776451          2.73801            0.6342      0.163842    2.12388    0.591161   0.25316    0.536289     0.0740746   17.6679   |\n",
            "| _tune_ccb36_00005   PENDING    0.0693305    0.489992     0.954605      0.000562698          1.21452            0.172617    0.111752    1.22017    0.390625   0.187786   0.602761     0.776292     0.936706 |\n",
            "| _tune_ccb36_00006   PENDING    0.0146265    0.363083     0.877884      0.000399913          3.74336            0.0970809   0.0654778   2.37244    0.501935   0.587625   0.175293     0.670516    43.3172   |\n",
            "| _tune_ccb36_00007   PENDING    0.0857892    0.923027     0.665738      0.000818845          2.099              0.142248    0.0701387   0.757293   0.942471   0.105409   0.272562     0.194109     9.06996  |\n",
            "| _tune_ccb36_00008   PENDING    0.0353071    0.760711     0.945606      0.000311736          4.91558            0.625756    0.189252    2.89962    0.197352   0.796775   0.688256     0.0957444   42.4482   |\n",
            "| _tune_ccb36_00009   PENDING    0.0316888    0.562424     0.795003      0.000215953          2.11086            0.297169    0.0900215   1.66286    0.852422   0.857856   0.593687     0.261562     4.24122  |\n",
            "+------------------------------------------------------------------------------------------------------------------------------------------------------------------------------------------------------------+\n",
            "Trial status: 2 RUNNING | 8 PENDING\n",
            "Current time: 2025-03-18 22:41:06. Total running time: 2min 0s\n",
            "Logical resource usage: 2.0/2 CPUs, 0/1 GPUs (0.0/1.0 accelerator_type:T4)\n",
            "+------------------------------------------------------------------------------------------------------------------------------------------------------------------------------------------------------------+\n",
            "| Trial name          status            lr0        lrf     momentum     weight_decay     warmup_epochs     warmup_momentum         box        cls     mosaic      mixup      scale     translate     degrees |\n",
            "+------------------------------------------------------------------------------------------------------------------------------------------------------------------------------------------------------------+\n",
            "| _tune_ccb36_00000   RUNNING    0.0807712    0.98212      0.832917      0.00031321           1.31965            0.714044    0.112579    3.73214    0.823751   0.943883   0.446389     0.369576     3.94308  |\n",
            "| _tune_ccb36_00001   RUNNING    0.0736148    0.361434     0.812501      0.000828003          0.822034           0.645118    0.116768    2.11721    0.89539    0.955031   0.019193     0.360799    28.53     |\n",
            "| _tune_ccb36_00002   PENDING    0.0524741    0.375373     0.624037      0.000577736          3.85787            0.578887    0.0246224   2.17235    0.17886    0.964466   0.849079     0.851182    23.9267   |\n",
            "| _tune_ccb36_00003   PENDING    0.00475765   0.972051     0.800729      2.69941e-05          0.554974           0.848952    0.124288    1.16461    0.245103   0.672441   0.533297     0.31283     41.9101   |\n",
            "| _tune_ccb36_00004   PENDING    0.0875838    0.291093     0.686732      0.000776451          2.73801            0.6342      0.163842    2.12388    0.591161   0.25316    0.536289     0.0740746   17.6679   |\n",
            "| _tune_ccb36_00005   PENDING    0.0693305    0.489992     0.954605      0.000562698          1.21452            0.172617    0.111752    1.22017    0.390625   0.187786   0.602761     0.776292     0.936706 |\n",
            "| _tune_ccb36_00006   PENDING    0.0146265    0.363083     0.877884      0.000399913          3.74336            0.0970809   0.0654778   2.37244    0.501935   0.587625   0.175293     0.670516    43.3172   |\n",
            "| _tune_ccb36_00007   PENDING    0.0857892    0.923027     0.665738      0.000818845          2.099              0.142248    0.0701387   0.757293   0.942471   0.105409   0.272562     0.194109     9.06996  |\n",
            "| _tune_ccb36_00008   PENDING    0.0353071    0.760711     0.945606      0.000311736          4.91558            0.625756    0.189252    2.89962    0.197352   0.796775   0.688256     0.0957444   42.4482   |\n",
            "| _tune_ccb36_00009   PENDING    0.0316888    0.562424     0.795003      0.000215953          2.11086            0.297169    0.0900215   1.66286    0.852422   0.857856   0.593687     0.261562     4.24122  |\n",
            "+------------------------------------------------------------------------------------------------------------------------------------------------------------------------------------------------------------+\n"
          ]
        },
        {
          "name": "stderr",
          "output_type": "stream",
          "text": [
            "\u001b[33m(raylet)\u001b[0m [2025-03-18 22:41:27,067 E 6619 6619] (raylet) node_manager.cc:3219: 52 Workers (tasks / actors) killed due to memory pressure (OOM), 0 Workers crashed due to other reasons at node (ID: f822ac4f6fc6af06e4154e76f873183e0755e2ac08c558d87e2739a4, IP: 172.28.0.12) over the last time period. To see more information about the Workers killed on this node, use `ray logs raylet.out -ip 172.28.0.12`\n",
            "\u001b[33m(raylet)\u001b[0m \n",
            "\u001b[33m(raylet)\u001b[0m Refer to the documentation on how to address the out of memory issue: https://docs.ray.io/en/latest/ray-core/scheduling/ray-oom-prevention.html. Consider provisioning more memory on this node or reducing task parallelism by requesting more CPUs per task. To adjust the kill threshold, set the environment variable `RAY_memory_usage_threshold` when starting Ray. To disable worker killing, set the environment variable `RAY_memory_monitor_refresh_ms` to zero.\n",
            "  0%|          | 0/93 [00:00<?, ?it/s]\n",
            "       1/50         0G    0.02825      23.73      1.537        210        640:   1%|          | 1/93 [01:30<2:18:41, 90.45s/it]\n"
          ]
        },
        {
          "name": "stdout",
          "output_type": "stream",
          "text": [
            "Trial status: 2 RUNNING | 8 PENDING\n",
            "Current time: 2025-03-18 22:41:36. Total running time: 2min 30s\n",
            "Logical resource usage: 2.0/2 CPUs, 0/1 GPUs (0.0/1.0 accelerator_type:T4)\n",
            "+------------------------------------------------------------------------------------------------------------------------------------------------------------------------------------------------------------+\n",
            "| Trial name          status            lr0        lrf     momentum     weight_decay     warmup_epochs     warmup_momentum         box        cls     mosaic      mixup      scale     translate     degrees |\n",
            "+------------------------------------------------------------------------------------------------------------------------------------------------------------------------------------------------------------+\n",
            "| _tune_ccb36_00000   RUNNING    0.0807712    0.98212      0.832917      0.00031321           1.31965            0.714044    0.112579    3.73214    0.823751   0.943883   0.446389     0.369576     3.94308  |\n",
            "| _tune_ccb36_00001   RUNNING    0.0736148    0.361434     0.812501      0.000828003          0.822034           0.645118    0.116768    2.11721    0.89539    0.955031   0.019193     0.360799    28.53     |\n",
            "| _tune_ccb36_00002   PENDING    0.0524741    0.375373     0.624037      0.000577736          3.85787            0.578887    0.0246224   2.17235    0.17886    0.964466   0.849079     0.851182    23.9267   |\n",
            "| _tune_ccb36_00003   PENDING    0.00475765   0.972051     0.800729      2.69941e-05          0.554974           0.848952    0.124288    1.16461    0.245103   0.672441   0.533297     0.31283     41.9101   |\n",
            "| _tune_ccb36_00004   PENDING    0.0875838    0.291093     0.686732      0.000776451          2.73801            0.6342      0.163842    2.12388    0.591161   0.25316    0.536289     0.0740746   17.6679   |\n",
            "| _tune_ccb36_00005   PENDING    0.0693305    0.489992     0.954605      0.000562698          1.21452            0.172617    0.111752    1.22017    0.390625   0.187786   0.602761     0.776292     0.936706 |\n",
            "| _tune_ccb36_00006   PENDING    0.0146265    0.363083     0.877884      0.000399913          3.74336            0.0970809   0.0654778   2.37244    0.501935   0.587625   0.175293     0.670516    43.3172   |\n",
            "| _tune_ccb36_00007   PENDING    0.0857892    0.923027     0.665738      0.000818845          2.099              0.142248    0.0701387   0.757293   0.942471   0.105409   0.272562     0.194109     9.06996  |\n",
            "| _tune_ccb36_00008   PENDING    0.0353071    0.760711     0.945606      0.000311736          4.91558            0.625756    0.189252    2.89962    0.197352   0.796775   0.688256     0.0957444   42.4482   |\n",
            "| _tune_ccb36_00009   PENDING    0.0316888    0.562424     0.795003      0.000215953          2.11086            0.297169    0.0900215   1.66286    0.852422   0.857856   0.593687     0.261562     4.24122  |\n",
            "+------------------------------------------------------------------------------------------------------------------------------------------------------------------------------------------------------------+\n"
          ]
        },
        {
          "name": "stderr",
          "output_type": "stream",
          "text": [
            "\u001b[36m(_WandbLoggingActor pid=14270)\u001b[0m wandb: Currently logged in as: gimunr2003 (gimunr2003-robert-gordon-university) to https://api.wandb.ai. Use `wandb login --relogin` to force relogin\n",
            "\u001b[36m(_tune pid=12015)\u001b[0m \r       1/50         0G    0.04169      14.09      2.119        241        640:   0%|          | 0/93 [01:31<?, ?it/s]\r       1/50         0G    0.04169      14.09      2.119        241        640:   1%|          | 1/93 [01:31<2:20:21, 91.54s/it]\n",
            "2025-03-18 22:41:57,603\tWARNING util.py:201 -- The `on_step_begin` operation took 0.647 s, which may be a performance bottleneck.\n",
            "2025-03-18 22:42:01,581\tERROR tune_controller.py:1331 -- Trial task failed for trial _tune_ccb36_00001\n",
            "Traceback (most recent call last):\n",
            "  File \"/usr/local/lib/python3.11/dist-packages/ray/air/execution/_internal/event_manager.py\", line 110, in resolve_future\n",
            "    result = ray.get(future)\n",
            "             ^^^^^^^^^^^^^^^\n",
            "  File \"/usr/local/lib/python3.11/dist-packages/ray/_private/auto_init_hook.py\", line 21, in auto_init_wrapper\n",
            "    return fn(*args, **kwargs)\n",
            "           ^^^^^^^^^^^^^^^^^^^\n",
            "  File \"/usr/local/lib/python3.11/dist-packages/ray/_private/client_mode_hook.py\", line 103, in wrapper\n",
            "    return func(*args, **kwargs)\n",
            "           ^^^^^^^^^^^^^^^^^^^^^\n",
            "  File \"/usr/local/lib/python3.11/dist-packages/ray/_private/worker.py\", line 2771, in get\n",
            "    values, debugger_breakpoint = worker.get_objects(object_refs, timeout=timeout)\n",
            "                                  ^^^^^^^^^^^^^^^^^^^^^^^^^^^^^^^^^^^^^^^^^^^^^^^^\n",
            "  File \"/usr/local/lib/python3.11/dist-packages/ray/_private/worker.py\", line 921, in get_objects\n",
            "    raise value\n",
            "ray.exceptions.ActorDiedError: The actor died unexpectedly before finishing this task.\n",
            "\tclass_name: wrap_function.<locals>.ImplicitFunc\n",
            "\tactor_id: 0bf6f455ccde90ba64773b9201000000\n",
            "\tpid: 12015\n",
            "\tnamespace: 4e1b5c81-ac10-49d5-b58f-22d8bb8cd105\n",
            "\tip: 172.28.0.12\n",
            "The actor is dead because its worker process has died. Worker exit type: SYSTEM_ERROR Worker exit detail: Worker unexpectedly exits with a connection error code 2. End of file. There are some potential root causes. (1) The process is killed by SIGKILL by OOM killer due to high memory usage. (2) ray stop --force is called. (3) The worker is crashed unexpectedly due to SIGSEGV or other unexpected errors.\n"
          ]
        },
        {
          "name": "stdout",
          "output_type": "stream",
          "text": [
            "\u001b[33m(raylet)\u001b[0m A worker died or was killed while executing a task by an unexpected system error. To troubleshoot the problem, check the logs for the dead worker. RayTask ID: ffffffffffffffff0bf6f455ccde90ba64773b9201000000 Worker ID: 6f20adae6615348c7528dfb14bc76217077eb217828849f8e3eb87f8 Node ID: f822ac4f6fc6af06e4154e76f873183e0755e2ac08c558d87e2739a4 Worker IP address: 172.28.0.12 Worker port: 39489 Worker PID: 12015 Worker exit type: SYSTEM_ERROR Worker exit detail: Worker unexpectedly exits with a connection error code 2. End of file. There are some potential root causes. (1) The process is killed by SIGKILL by OOM killer due to high memory usage. (2) ray stop --force is called. (3) The worker is crashed unexpectedly due to SIGSEGV or other unexpected errors.\n",
            "\u001b[36m(_tune pid=12015)\u001b[0m \u001b[34m\u001b[1mTensorBoard: \u001b[0mmodel graph visualization added ✅\n",
            "\u001b[36m(_tune pid=12015)\u001b[0m Image sizes 640 train, 640 val\n",
            "\u001b[36m(_tune pid=12015)\u001b[0m Using 0 dataloader workers\n",
            "\u001b[36m(_tune pid=12015)\u001b[0m Logging results to \u001b[1mruns/detect/train\u001b[0m\n",
            "\u001b[36m(_tune pid=12015)\u001b[0m Starting training for 50 epochs...\n",
            "\u001b[36m(_tune pid=12015)\u001b[0m       Epoch    GPU_mem   box_loss   cls_loss   dfl_loss  Instances       Size\n",
            "\n",
            "Trial _tune_ccb36_00001 errored after 0 iterations at 2025-03-18 22:42:15. Total running time: 3min 9s\n",
            "Error file: /tmp/ray/session_2025-03-18_22-28-25_186869_433/artifacts/2025-03-18_22-39-06/_tune_2025-03-18_22-39-06/driver_artifacts/_tune_ccb36_00001_1_box=0.1168,cls=2.1172,degrees=28.5300,lr0=0.0736,lrf=0.3614,mixup=0.9550,momentum=0.8125,mosaic=0.8954,scale=0_2025-03-18_22-39-06/error.txt\n",
            "\n",
            "Trial status: 1 RUNNING | 1 ERROR | 8 PENDING\n",
            "Current time: 2025-03-18 22:42:15. Total running time: 3min 9s\n",
            "Logical resource usage: 2.0/2 CPUs, 0/1 GPUs (0.0/1.0 accelerator_type:T4)\n",
            "+------------------------------------------------------------------------------------------------------------------------------------------------------------------------------------------------------------+\n",
            "| Trial name          status            lr0        lrf     momentum     weight_decay     warmup_epochs     warmup_momentum         box        cls     mosaic      mixup      scale     translate     degrees |\n",
            "+------------------------------------------------------------------------------------------------------------------------------------------------------------------------------------------------------------+\n",
            "| _tune_ccb36_00000   RUNNING    0.0807712    0.98212      0.832917      0.00031321           1.31965            0.714044    0.112579    3.73214    0.823751   0.943883   0.446389     0.369576     3.94308  |\n",
            "| _tune_ccb36_00002   PENDING    0.0524741    0.375373     0.624037      0.000577736          3.85787            0.578887    0.0246224   2.17235    0.17886    0.964466   0.849079     0.851182    23.9267   |\n",
            "| _tune_ccb36_00003   PENDING    0.00475765   0.972051     0.800729      2.69941e-05          0.554974           0.848952    0.124288    1.16461    0.245103   0.672441   0.533297     0.31283     41.9101   |\n",
            "| _tune_ccb36_00004   PENDING    0.0875838    0.291093     0.686732      0.000776451          2.73801            0.6342      0.163842    2.12388    0.591161   0.25316    0.536289     0.0740746   17.6679   |\n",
            "| _tune_ccb36_00005   PENDING    0.0693305    0.489992     0.954605      0.000562698          1.21452            0.172617    0.111752    1.22017    0.390625   0.187786   0.602761     0.776292     0.936706 |\n",
            "| _tune_ccb36_00006   PENDING    0.0146265    0.363083     0.877884      0.000399913          3.74336            0.0970809   0.0654778   2.37244    0.501935   0.587625   0.175293     0.670516    43.3172   |\n",
            "| _tune_ccb36_00007   PENDING    0.0857892    0.923027     0.665738      0.000818845          2.099              0.142248    0.0701387   0.757293   0.942471   0.105409   0.272562     0.194109     9.06996  |\n",
            "| _tune_ccb36_00008   PENDING    0.0353071    0.760711     0.945606      0.000311736          4.91558            0.625756    0.189252    2.89962    0.197352   0.796775   0.688256     0.0957444   42.4482   |\n",
            "| _tune_ccb36_00009   PENDING    0.0316888    0.562424     0.795003      0.000215953          2.11086            0.297169    0.0900215   1.66286    0.852422   0.857856   0.593687     0.261562     4.24122  |\n",
            "| _tune_ccb36_00001   ERROR      0.0736148    0.361434     0.812501      0.000828003          0.822034           0.645118    0.116768    2.11721    0.89539    0.955031   0.019193     0.360799    28.53     |\n",
            "+------------------------------------------------------------------------------------------------------------------------------------------------------------------------------------------------------------+\n"
          ]
        },
        {
          "name": "stderr",
          "output_type": "stream",
          "text": [
            "\u001b[36m(_WandbLoggingActor pid=14783)\u001b[0m wandb: Currently logged in as: gimunr2003 (gimunr2003-robert-gordon-university) to https://api.wandb.ai. Use `wandb login --relogin` to force relogin\u001b[32m [repeated 2x across cluster]\u001b[0m\n"
          ]
        },
        {
          "name": "stdout",
          "output_type": "stream",
          "text": [
            "\n",
            "Trial _tune_ccb36_00002 started with configuration:\n",
            "+---------------------------------------------------------+\n",
            "| Trial _tune_ccb36_00002 config                          |\n",
            "+---------------------------------------------------------+\n",
            "| box                                             0.02462 |\n",
            "| cls                                             2.17235 |\n",
            "| data                               ...Model10/data.yaml |\n",
            "| degrees                                        23.92673 |\n",
            "| lr0                                             0.05247 |\n",
            "| lrf                                             0.37537 |\n",
            "| mixup                                           0.96447 |\n",
            "| momentum                                        0.62404 |\n",
            "| mosaic                                          0.17886 |\n",
            "| scale                                           0.84908 |\n",
            "| translate                                       0.85118 |\n",
            "| warmup_epochs                                   3.85787 |\n",
            "| warmup_momentum                                 0.57889 |\n",
            "| weight_decay                                    0.00058 |\n",
            "+---------------------------------------------------------+\n",
            "\u001b[33m(raylet)\u001b[0m WARNING: 12 PYTHON worker processes have been started on node: f822ac4f6fc6af06e4154e76f873183e0755e2ac08c558d87e2739a4 with address: 172.28.0.12. This could be a result of using a large number of actors, or due to tasks blocked in ray.get() calls (see https://github.com/ray-project/ray/issues/3644 for some discussion of workarounds).\n"
          ]
        },
        {
          "name": "stderr",
          "output_type": "stream",
          "text": [
            "\u001b[36m(_WandbLoggingActor pid=15192)\u001b[0m wandb: Currently logged in as: gimunr2003 (gimunr2003-robert-gordon-university) to https://api.wandb.ai. Use `wandb login --relogin` to force relogin\u001b[32m [repeated 2x across cluster]\u001b[0m\n",
            "\u001b[33m(raylet)\u001b[0m [2025-03-18 22:42:27,070 E 6619 6619] (raylet) node_manager.cc:3219: 16 Workers (tasks / actors) killed due to memory pressure (OOM), 0 Workers crashed due to other reasons at node (ID: f822ac4f6fc6af06e4154e76f873183e0755e2ac08c558d87e2739a4, IP: 172.28.0.12) over the last time period. To see more information about the Workers killed on this node, use `ray logs raylet.out -ip 172.28.0.12`\n",
            "\u001b[33m(raylet)\u001b[0m \n",
            "\u001b[33m(raylet)\u001b[0m Refer to the documentation on how to address the out of memory issue: https://docs.ray.io/en/latest/ray-core/scheduling/ray-oom-prevention.html. Consider provisioning more memory on this node or reducing task parallelism by requesting more CPUs per task. To adjust the kill threshold, set the environment variable `RAY_memory_usage_threshold` when starting Ray. To disable worker killing, set the environment variable `RAY_memory_monitor_refresh_ms` to zero.\n",
            "\u001b[36m(_WandbLoggingActor pid=15192)\u001b[0m wandb: Tracking run with wandb version 0.19.8\n",
            "\u001b[36m(_WandbLoggingActor pid=15192)\u001b[0m wandb: Run data is saved locally in /tmp/ray/session_2025-03-18_22-28-25_186869_433/artifacts/2025-03-18_22-39-06/_tune_2025-03-18_22-39-06/driver_artifacts/_tune_ccb36_00002_2_box=0.0246,cls=2.1724,degrees=23.9267,lr0=0.0525,lrf=0.3754,mixup=0.9645,momentum=0.6240,mosaic=0.1789,scale=0_2025-03-18_22-39-06/wandb/run-20250318_224226-ccb36_00002\n",
            "\u001b[36m(_WandbLoggingActor pid=15192)\u001b[0m wandb: Run `wandb offline` to turn off syncing.\n",
            "\u001b[36m(_WandbLoggingActor pid=15192)\u001b[0m wandb: Syncing run _tune_ccb36_00002\n",
            "\u001b[36m(_WandbLoggingActor pid=15192)\u001b[0m wandb: ⭐️ View project at https://wandb.ai/gimunr2003-robert-gordon-university/YOLOv8-tune\n",
            "\u001b[36m(_WandbLoggingActor pid=15192)\u001b[0m wandb: 🚀 View run at https://wandb.ai/gimunr2003-robert-gordon-university/YOLOv8-tune/runs/ccb36_00002\n",
            "       1/50         0G    0.03057      24.54      1.533        359        640:   2%|▏         | 2/93 [02:25<1:45:35, 69.62s/it]\n"
          ]
        },
        {
          "name": "stdout",
          "output_type": "stream",
          "text": [
            "\u001b[36m(_tune pid=15108)\u001b[0m Ultralytics 8.3.92 🚀 Python-3.11.11 torch-2.6.0+cu124 CPU (Intel Xeon 2.00GHz)\n",
            "\u001b[36m(_tune pid=15108)\u001b[0m \u001b[34m\u001b[1mengine/trainer: \u001b[0mtask=detect, mode=train, model=yolov8n.pt, data=/content/drive/MyDrive/DSGP/Model10/data.yaml, epochs=50, time=None, patience=100, batch=16, imgsz=640, save=True, save_period=-1, cache=False, device=None, workers=8, project=None, name=train, exist_ok=False, pretrained=True, optimizer=auto, verbose=True, seed=0, deterministic=True, single_cls=False, rect=False, cos_lr=False, close_mosaic=10, resume=False, amp=True, fraction=1.0, profile=False, freeze=None, multi_scale=False, overlap_mask=True, mask_ratio=4, dropout=0.0, val=True, split=val, save_json=False, save_hybrid=False, conf=None, iou=0.7, max_det=300, half=False, dnn=False, plots=True, source=None, vid_stride=1, stream_buffer=False, visualize=False, augment=False, agnostic_nms=False, classes=None, retina_masks=False, embed=None, show=False, save_frames=False, save_txt=False, save_conf=False, save_crop=False, show_labels=True, show_conf=True, show_boxes=True, line_width=None, format=torchscript, keras=False, optimize=False, int8=False, dynamic=False, simplify=True, opset=None, workspace=None, nms=False, lr0=0.052474092845456274, lrf=0.3753726035966885, momentum=0.6240371715871752, weight_decay=0.0005777357909657053, warmup_epochs=3.8578670754771687, warmup_momentum=0.5788866342855984, warmup_bias_lr=0.1, box=0.0246224356701279, cls=2.1723526377678644, dfl=1.5, pose=12.0, kobj=1.0, nbs=64, hsv_h=0.015, hsv_s=0.7, hsv_v=0.4, degrees=23.92673313851092, translate=0.8511815006772949, scale=0.8490789214032749, shear=0.0, perspective=0.0, flipud=0.0, fliplr=0.5, bgr=0.0, mosaic=0.17885962732772076, mixup=0.9644658124159614, copy_paste=0.0, copy_paste_mode=flip, auto_augment=randaugment, erasing=0.4, crop_fraction=1.0, cfg=None, tracker=botsort.yaml, save_dir=runs/detect/train\n"
          ]
        },
        {
          "name": "stderr",
          "output_type": "stream",
          "text": [
            "\u001b[36m(_tune pid=15108)\u001b[0m WARNING: All log messages before absl::InitializeLog() is called are written to STDERR\n",
            "\u001b[36m(_tune pid=15108)\u001b[0m E0000 00:00:1742337758.065507   15191 cuda_dnn.cc:8310] Unable to register cuDNN factory: Attempting to register factory for plugin cuDNN when one has already been registered\n",
            "\u001b[36m(_tune pid=15108)\u001b[0m E0000 00:00:1742337758.158760   15191 cuda_blas.cc:1418] Unable to register cuBLAS factory: Attempting to register factory for plugin cuBLAS when one has already been registered\n"
          ]
        },
        {
          "name": "stdout",
          "output_type": "stream",
          "text": [
            "\n",
            "Trial status: 2 RUNNING | 1 ERROR | 7 PENDING\n",
            "Current time: 2025-03-18 22:42:45. Total running time: 3min 39s\n",
            "Logical resource usage: 2.0/2 CPUs, 0/1 GPUs (0.0/1.0 accelerator_type:T4)\n",
            "+------------------------------------------------------------------------------------------------------------------------------------------------------------------------------------------------------------+\n",
            "| Trial name          status            lr0        lrf     momentum     weight_decay     warmup_epochs     warmup_momentum         box        cls     mosaic      mixup      scale     translate     degrees |\n",
            "+------------------------------------------------------------------------------------------------------------------------------------------------------------------------------------------------------------+\n",
            "| _tune_ccb36_00000   RUNNING    0.0807712    0.98212      0.832917      0.00031321           1.31965            0.714044    0.112579    3.73214    0.823751   0.943883   0.446389     0.369576     3.94308  |\n",
            "| _tune_ccb36_00002   RUNNING    0.0524741    0.375373     0.624037      0.000577736          3.85787            0.578887    0.0246224   2.17235    0.17886    0.964466   0.849079     0.851182    23.9267   |\n",
            "| _tune_ccb36_00003   PENDING    0.00475765   0.972051     0.800729      2.69941e-05          0.554974           0.848952    0.124288    1.16461    0.245103   0.672441   0.533297     0.31283     41.9101   |\n",
            "| _tune_ccb36_00004   PENDING    0.0875838    0.291093     0.686732      0.000776451          2.73801            0.6342      0.163842    2.12388    0.591161   0.25316    0.536289     0.0740746   17.6679   |\n",
            "| _tune_ccb36_00005   PENDING    0.0693305    0.489992     0.954605      0.000562698          1.21452            0.172617    0.111752    1.22017    0.390625   0.187786   0.602761     0.776292     0.936706 |\n",
            "| _tune_ccb36_00006   PENDING    0.0146265    0.363083     0.877884      0.000399913          3.74336            0.0970809   0.0654778   2.37244    0.501935   0.587625   0.175293     0.670516    43.3172   |\n",
            "| _tune_ccb36_00007   PENDING    0.0857892    0.923027     0.665738      0.000818845          2.099              0.142248    0.0701387   0.757293   0.942471   0.105409   0.272562     0.194109     9.06996  |\n",
            "| _tune_ccb36_00008   PENDING    0.0353071    0.760711     0.945606      0.000311736          4.91558            0.625756    0.189252    2.89962    0.197352   0.796775   0.688256     0.0957444   42.4482   |\n",
            "| _tune_ccb36_00009   PENDING    0.0316888    0.562424     0.795003      0.000215953          2.11086            0.297169    0.0900215   1.66286    0.852422   0.857856   0.593687     0.261562     4.24122  |\n",
            "| _tune_ccb36_00001   ERROR      0.0736148    0.361434     0.812501      0.000828003          0.822034           0.645118    0.116768    2.11721    0.89539    0.955031   0.019193     0.360799    28.53     |\n",
            "+------------------------------------------------------------------------------------------------------------------------------------------------------------------------------------------------------------+\n",
            "\u001b[36m(_tune pid=15108)\u001b[0m Overriding model.yaml nc=80 with nc=1\n",
            "\u001b[36m(_tune pid=15108)\u001b[0m \n",
            "\u001b[36m(_tune pid=15108)\u001b[0m                    from  n    params  module                                       arguments                     \n",
            "\u001b[36m(_tune pid=15108)\u001b[0m   0                  -1  1       464  ultralytics.nn.modules.conv.Conv             [3, 16, 3, 2]                 \n",
            "\u001b[36m(_tune pid=15108)\u001b[0m   1                  -1  1      4672  ultralytics.nn.modules.conv.Conv             [16, 32, 3, 2]                \n",
            "\u001b[36m(_tune pid=15108)\u001b[0m   2                  -1  1      7360  ultralytics.nn.modules.block.C2f             [32, 32, 1, True]             \n",
            "\u001b[36m(_tune pid=15108)\u001b[0m   3                  -1  1     18560  ultralytics.nn.modules.conv.Conv             [32, 64, 3, 2]                \n",
            "\u001b[36m(_tune pid=15108)\u001b[0m   4                  -1  2     49664  ultralytics.nn.modules.block.C2f             [64, 64, 2, True]             \n",
            "\u001b[36m(_tune pid=15108)\u001b[0m   5                  -1  1     73984  ultralytics.nn.modules.conv.Conv             [64, 128, 3, 2]               \n",
            "\u001b[36m(_tune pid=15108)\u001b[0m   6                  -1  2    197632  ultralytics.nn.modules.block.C2f             [128, 128, 2, True]           \n",
            "\u001b[36m(_tune pid=15108)\u001b[0m   7                  -1  1    295424  ultralytics.nn.modules.conv.Conv             [128, 256, 3, 2]              \n",
            "\u001b[36m(_tune pid=15108)\u001b[0m   8                  -1  1    460288  ultralytics.nn.modules.block.C2f             [256, 256, 1, True]           \n",
            "\u001b[36m(_tune pid=15108)\u001b[0m   9                  -1  1    164608  ultralytics.nn.modules.block.SPPF            [256, 256, 5]                 \n",
            "\u001b[36m(_tune pid=15108)\u001b[0m  10                  -1  1         0  torch.nn.modules.upsampling.Upsample         [None, 2, 'nearest']          \n",
            "\u001b[36m(_tune pid=15108)\u001b[0m  11             [-1, 6]  1         0  ultralytics.nn.modules.conv.Concat           [1]                           \n",
            "\u001b[36m(_tune pid=15108)\u001b[0m  12                  -1  1    148224  ultralytics.nn.modules.block.C2f             [384, 128, 1]                 \n",
            "\u001b[36m(_tune pid=15108)\u001b[0m  13                  -1  1         0  torch.nn.modules.upsampling.Upsample         [None, 2, 'nearest']          \n",
            "\u001b[36m(_tune pid=15108)\u001b[0m  14             [-1, 4]  1         0  ultralytics.nn.modules.conv.Concat           [1]                           \n",
            "\u001b[36m(_tune pid=15108)\u001b[0m  15                  -1  1     37248  ultralytics.nn.modules.block.C2f             [192, 64, 1]                  \n",
            "\u001b[36m(_tune pid=15108)\u001b[0m  16                  -1  1     36992  ultralytics.nn.modules.conv.Conv             [64, 64, 3, 2]                \n",
            "\u001b[36m(_tune pid=15108)\u001b[0m  17            [-1, 12]  1         0  ultralytics.nn.modules.conv.Concat           [1]                           \n",
            "\u001b[36m(_tune pid=15108)\u001b[0m  18                  -1  1    123648  ultralytics.nn.modules.block.C2f             [192, 128, 1]                 \n",
            "\u001b[36m(_tune pid=15108)\u001b[0m  19                  -1  1    147712  ultralytics.nn.modules.conv.Conv             [128, 128, 3, 2]              \n",
            "\u001b[36m(_tune pid=15108)\u001b[0m  20             [-1, 9]  1         0  ultralytics.nn.modules.conv.Concat           [1]                           \n",
            "\u001b[36m(_tune pid=15108)\u001b[0m  21                  -1  1    493056  ultralytics.nn.modules.block.C2f             [384, 256, 1]                 \n",
            "\u001b[36m(_tune pid=15108)\u001b[0m  22        [15, 18, 21]  1    751507  ultralytics.nn.modules.head.Detect           [1, [64, 128, 256]]           \n",
            "\u001b[36m(_tune pid=15108)\u001b[0m Model summary: 129 layers, 3,011,043 parameters, 3,011,027 gradients, 8.2 GFLOPs\n",
            "\u001b[36m(_tune pid=15108)\u001b[0m \n",
            "\u001b[36m(_tune pid=15108)\u001b[0m Transferred 319/355 items from pretrained weights\n",
            "\u001b[36m(_tune pid=15108)\u001b[0m \u001b[34m\u001b[1mTensorBoard: \u001b[0mStart with 'tensorboard --logdir runs/detect/train', view at http://localhost:6006/\n",
            "\u001b[36m(_tune pid=15108)\u001b[0m Freezing layer 'model.22.dfl.conv.weight'\n"
          ]
        },
        {
          "name": "stderr",
          "output_type": "stream",
          "text": [
            "\u001b[36m(_tune pid=15108)\u001b[0m \r\u001b[34m\u001b[1mtrain: \u001b[0mScanning /content/drive/MyDrive/DSGP/Model10/Data/train/labels.cache... 1485 images, 0 backgrounds, 0 corrupt: 100%|██████████| 1485/1485 [00:00<?, ?it/s]\r\u001b[34m\u001b[1mtrain: \u001b[0mScanning /content/drive/MyDrive/DSGP/Model10/Data/train/labels.cache... 1485 images, 0 backgrounds, 0 corrupt: 100%|██████████| 1485/1485 [00:00<?, ?it/s]\n"
          ]
        },
        {
          "name": "stdout",
          "output_type": "stream",
          "text": [
            "\u001b[36m(_tune pid=15108)\u001b[0m \u001b[34m\u001b[1malbumentations: \u001b[0mBlur(p=0.01, blur_limit=(3, 7)), MedianBlur(p=0.01, blur_limit=(3, 7)), ToGray(p=0.01, num_output_channels=3, method='weighted_average'), CLAHE(p=0.01, clip_limit=(1.0, 4.0), tile_grid_size=(8, 8))\n"
          ]
        },
        {
          "name": "stderr",
          "output_type": "stream",
          "text": [
            "\u001b[36m(_tune pid=15108)\u001b[0m \r\u001b[34m\u001b[1mval: \u001b[0mScanning /content/drive/MyDrive/DSGP/Model10/Data/valid/labels.cache... 199 images, 0 backgrounds, 0 corrupt: 100%|██████████| 199/199 [00:00<?, ?it/s]\r\u001b[34m\u001b[1mval: \u001b[0mScanning /content/drive/MyDrive/DSGP/Model10/Data/valid/labels.cache... 199 images, 0 backgrounds, 0 corrupt: 100%|██████████| 199/199 [00:00<?, ?it/s]\n"
          ]
        },
        {
          "name": "stdout",
          "output_type": "stream",
          "text": [
            "\u001b[36m(_tune pid=15108)\u001b[0m Plotting labels to runs/detect/train/labels.jpg... \n"
          ]
        },
        {
          "name": "stderr",
          "output_type": "stream",
          "text": [
            "\u001b[36m(_tune pid=11987)\u001b[0m \r       1/50         0G    0.03299      24.75      1.621        511        640:   2%|▏         | 2/93 [02:59<1:45:35, 69.62s/it]\r       1/50         0G    0.03299      24.75      1.621        511        640:   3%|▎         | 3/93 [02:59<1:20:03, 53.38s/it]\n"
          ]
        },
        {
          "name": "stdout",
          "output_type": "stream",
          "text": [
            "\u001b[36m(_tune pid=15108)\u001b[0m \u001b[34m\u001b[1moptimizer:\u001b[0m 'optimizer=auto' found, ignoring 'lr0=0.052474092845456274' and 'momentum=0.6240371715871752' and determining best 'optimizer', 'lr0' and 'momentum' automatically... \n",
            "\u001b[36m(_tune pid=15108)\u001b[0m \u001b[34m\u001b[1moptimizer:\u001b[0m AdamW(lr=0.002, momentum=0.9) with parameter groups 57 weight(decay=0.0), 64 weight(decay=0.0005777357909657053), 63 bias(decay=0.0)\n",
            "Trial status: 2 RUNNING | 1 ERROR | 7 PENDING\n",
            "Current time: 2025-03-18 22:43:15. Total running time: 4min 9s\n",
            "Logical resource usage: 2.0/2 CPUs, 0/1 GPUs (0.0/1.0 accelerator_type:T4)\n",
            "+------------------------------------------------------------------------------------------------------------------------------------------------------------------------------------------------------------+\n",
            "| Trial name          status            lr0        lrf     momentum     weight_decay     warmup_epochs     warmup_momentum         box        cls     mosaic      mixup      scale     translate     degrees |\n",
            "+------------------------------------------------------------------------------------------------------------------------------------------------------------------------------------------------------------+\n",
            "| _tune_ccb36_00000   RUNNING    0.0807712    0.98212      0.832917      0.00031321           1.31965            0.714044    0.112579    3.73214    0.823751   0.943883   0.446389     0.369576     3.94308  |\n",
            "| _tune_ccb36_00002   RUNNING    0.0524741    0.375373     0.624037      0.000577736          3.85787            0.578887    0.0246224   2.17235    0.17886    0.964466   0.849079     0.851182    23.9267   |\n",
            "| _tune_ccb36_00003   PENDING    0.00475765   0.972051     0.800729      2.69941e-05          0.554974           0.848952    0.124288    1.16461    0.245103   0.672441   0.533297     0.31283     41.9101   |\n",
            "| _tune_ccb36_00004   PENDING    0.0875838    0.291093     0.686732      0.000776451          2.73801            0.6342      0.163842    2.12388    0.591161   0.25316    0.536289     0.0740746   17.6679   |\n",
            "| _tune_ccb36_00005   PENDING    0.0693305    0.489992     0.954605      0.000562698          1.21452            0.172617    0.111752    1.22017    0.390625   0.187786   0.602761     0.776292     0.936706 |\n",
            "| _tune_ccb36_00006   PENDING    0.0146265    0.363083     0.877884      0.000399913          3.74336            0.0970809   0.0654778   2.37244    0.501935   0.587625   0.175293     0.670516    43.3172   |\n",
            "| _tune_ccb36_00007   PENDING    0.0857892    0.923027     0.665738      0.000818845          2.099              0.142248    0.0701387   0.757293   0.942471   0.105409   0.272562     0.194109     9.06996  |\n",
            "| _tune_ccb36_00008   PENDING    0.0353071    0.760711     0.945606      0.000311736          4.91558            0.625756    0.189252    2.89962    0.197352   0.796775   0.688256     0.0957444   42.4482   |\n",
            "| _tune_ccb36_00009   PENDING    0.0316888    0.562424     0.795003      0.000215953          2.11086            0.297169    0.0900215   1.66286    0.852422   0.857856   0.593687     0.261562     4.24122  |\n",
            "| _tune_ccb36_00001   ERROR      0.0736148    0.361434     0.812501      0.000828003          0.822034           0.645118    0.116768    2.11721    0.89539    0.955031   0.019193     0.360799    28.53     |\n",
            "+------------------------------------------------------------------------------------------------------------------------------------------------------------------------------------------------------------+\n"
          ]
        },
        {
          "name": "stderr",
          "output_type": "stream",
          "text": [
            "\u001b[36m(_tune pid=15108)\u001b[0m \r  0%|          | 0/93 [00:00<?, ?it/s]\n"
          ]
        },
        {
          "name": "stdout",
          "output_type": "stream",
          "text": [
            "\u001b[36m(_tune pid=15108)\u001b[0m \u001b[34m\u001b[1mTensorBoard: \u001b[0mmodel graph visualization added ✅\n",
            "\u001b[36m(_tune pid=15108)\u001b[0m Image sizes 640 train, 640 val\n",
            "\u001b[36m(_tune pid=15108)\u001b[0m Using 0 dataloader workers\n",
            "\u001b[36m(_tune pid=15108)\u001b[0m Logging results to \u001b[1mruns/detect/train\u001b[0m\n",
            "\u001b[36m(_tune pid=15108)\u001b[0m Starting training for 50 epochs...\n",
            "\u001b[36m(_tune pid=15108)\u001b[0m \n",
            "\u001b[36m(_tune pid=15108)\u001b[0m       Epoch    GPU_mem   box_loss   cls_loss   dfl_loss  Instances       Size\n",
            "\u001b[33m(raylet)\u001b[0m WARNING: 14 PYTHON worker processes have been started on node: f822ac4f6fc6af06e4154e76f873183e0755e2ac08c558d87e2739a4 with address: 172.28.0.12. This could be a result of using a large number of actors, or due to tasks blocked in ray.get() calls (see https://github.com/ray-project/ray/issues/3644 for some discussion of workarounds).\n",
            "Trial status: 2 RUNNING | 1 ERROR | 7 PENDING\n",
            "Current time: 2025-03-18 22:43:45. Total running time: 4min 39s\n",
            "Logical resource usage: 2.0/2 CPUs, 0/1 GPUs (0.0/1.0 accelerator_type:T4)\n",
            "+------------------------------------------------------------------------------------------------------------------------------------------------------------------------------------------------------------+\n",
            "| Trial name          status            lr0        lrf     momentum     weight_decay     warmup_epochs     warmup_momentum         box        cls     mosaic      mixup      scale     translate     degrees |\n",
            "+------------------------------------------------------------------------------------------------------------------------------------------------------------------------------------------------------------+\n",
            "| _tune_ccb36_00000   RUNNING    0.0807712    0.98212      0.832917      0.00031321           1.31965            0.714044    0.112579    3.73214    0.823751   0.943883   0.446389     0.369576     3.94308  |\n",
            "| _tune_ccb36_00002   RUNNING    0.0524741    0.375373     0.624037      0.000577736          3.85787            0.578887    0.0246224   2.17235    0.17886    0.964466   0.849079     0.851182    23.9267   |\n",
            "| _tune_ccb36_00003   PENDING    0.00475765   0.972051     0.800729      2.69941e-05          0.554974           0.848952    0.124288    1.16461    0.245103   0.672441   0.533297     0.31283     41.9101   |\n",
            "| _tune_ccb36_00004   PENDING    0.0875838    0.291093     0.686732      0.000776451          2.73801            0.6342      0.163842    2.12388    0.591161   0.25316    0.536289     0.0740746   17.6679   |\n",
            "| _tune_ccb36_00005   PENDING    0.0693305    0.489992     0.954605      0.000562698          1.21452            0.172617    0.111752    1.22017    0.390625   0.187786   0.602761     0.776292     0.936706 |\n",
            "| _tune_ccb36_00006   PENDING    0.0146265    0.363083     0.877884      0.000399913          3.74336            0.0970809   0.0654778   2.37244    0.501935   0.587625   0.175293     0.670516    43.3172   |\n",
            "| _tune_ccb36_00007   PENDING    0.0857892    0.923027     0.665738      0.000818845          2.099              0.142248    0.0701387   0.757293   0.942471   0.105409   0.272562     0.194109     9.06996  |\n",
            "| _tune_ccb36_00008   PENDING    0.0353071    0.760711     0.945606      0.000311736          4.91558            0.625756    0.189252    2.89962    0.197352   0.796775   0.688256     0.0957444   42.4482   |\n",
            "| _tune_ccb36_00009   PENDING    0.0316888    0.562424     0.795003      0.000215953          2.11086            0.297169    0.0900215   1.66286    0.852422   0.857856   0.593687     0.261562     4.24122  |\n",
            "| _tune_ccb36_00001   ERROR      0.0736148    0.361434     0.812501      0.000828003          0.822034           0.645118    0.116768    2.11721    0.89539    0.955031   0.019193     0.360799    28.53     |\n",
            "+------------------------------------------------------------------------------------------------------------------------------------------------------------------------------------------------------------+\n"
          ]
        },
        {
          "name": "stderr",
          "output_type": "stream",
          "text": [
            "2025-03-18 22:43:46,440\tWARNING util.py:201 -- The `on_step_begin` operation took 0.712 s, which may be a performance bottleneck.\n",
            "\u001b[36m(_WandbLoggingActor pid=15956)\u001b[0m wandb: Currently logged in as: gimunr2003 (gimunr2003-robert-gordon-university) to https://api.wandb.ai. Use `wandb login --relogin` to force relogin\n",
            "\u001b[33m(raylet)\u001b[0m [2025-03-18 22:44:27,078 E 6619 6619] (raylet) node_manager.cc:3219: 23 Workers (tasks / actors) killed due to memory pressure (OOM), 0 Workers crashed due to other reasons at node (ID: f822ac4f6fc6af06e4154e76f873183e0755e2ac08c558d87e2739a4, IP: 172.28.0.12) over the last time period. To see more information about the Workers killed on this node, use `ray logs raylet.out -ip 172.28.0.12`\n",
            "\u001b[33m(raylet)\u001b[0m \n",
            "\u001b[33m(raylet)\u001b[0m Refer to the documentation on how to address the out of memory issue: https://docs.ray.io/en/latest/ray-core/scheduling/ray-oom-prevention.html. Consider provisioning more memory on this node or reducing task parallelism by requesting more CPUs per task. To adjust the kill threshold, set the environment variable `RAY_memory_usage_threshold` when starting Ray. To disable worker killing, set the environment variable `RAY_memory_monitor_refresh_ms` to zero.\n",
            "\u001b[36m(_WandbLoggingActor pid=16145)\u001b[0m wandb: Currently logged in as: gimunr2003 (gimunr2003-robert-gordon-university) to https://api.wandb.ai. Use `wandb login --relogin` to force relogin\u001b[32m [repeated 2x across cluster]\u001b[0m\n"
          ]
        },
        {
          "name": "stdout",
          "output_type": "stream",
          "text": [
            "\n"
          ]
        },
        {
          "ename": "RuntimeError",
          "evalue": "Caught unexpected exception: Task was killed due to the node running low on memory.\nMemory on the node (IP: 172.28.0.12, ID: f822ac4f6fc6af06e4154e76f873183e0755e2ac08c558d87e2739a4) where the task (actor ID: d3b9abcab82eb2fee7f4d6e501000000, name=ImplicitFunc.__init__, pid=15108, memory used=3.72GB) was running was 12.11GB / 12.67GB (0.955683), which exceeds the memory usage threshold of 0.95. Ray killed this worker (ID: bcc85184827da8786f7e5ee04fd7d75d6c0ea1dd027310db4d0b504f) because it was the most recently scheduled task; to see more information about memory usage on this node, use `ray logs raylet.out -ip 172.28.0.12`. To see the logs of the worker, use `ray logs worker-bcc85184827da8786f7e5ee04fd7d75d6c0ea1dd027310db4d0b504f*out -ip 172.28.0.12. Top 10 memory users:\nPID\tMEM(GB)\tCOMMAND\n11987\t4.43\tray::ImplicitFunc.train\n15108\t3.72\tray::ImplicitFunc.train\n433\t0.54\t/usr/bin/python3 -m colab_kernel_launcher -f /root/.local/share/jupyter/runtime/kernel-608193b8-c3ef...\n6346\t0.47\tnode /datalab/web/pyright/pyright-langserver.js --stdio --cancellationReceive=file:c446baf2721dfbc9f...\n721\t0.38\t/opt/google/drive/drive --features=crash_throttle_percentage:100,fuse_max_background:1000,max_read_q...\n116\t0.10\t/usr/bin/python3 /usr/local/bin/jupyter-notebook --debug --transport=\"ipc\" --ip=172.28.0.12 --Notebo...\n6583\t0.06\t/usr/bin/python3 /usr/local/lib/python3.11/dist-packages/ray/dashboard/dashboard.py --host=127.0.0.1...\n6648\t0.06\t/usr/bin/python3 -u /usr/local/lib/python3.11/dist-packages/ray/dashboard/agent.py --node-ip-address...\n6582\t0.05\t/usr/bin/python3 -u /usr/local/lib/python3.11/dist-packages/ray/autoscaler/_private/monitor.py --log...\n6628\t0.04\t/usr/bin/python3 -u /usr/local/lib/python3.11/dist-packages/ray/_private/log_monitor.py --session-di...\nRefer to the documentation on how to address the out of memory issue: https://docs.ray.io/en/latest/ray-core/scheduling/ray-oom-prevention.html. Consider provisioning more memory on this node or reducing task parallelism by requesting more CPUs per task. Set max_restarts and max_task_retries to enable retry when the task crashes due to OOM. To adjust the kill threshold, set the environment variable `RAY_memory_usage_threshold` when starting Ray. To disable worker killing, set the environment variable `RAY_memory_monitor_refresh_ms` to zero.",
          "output_type": "error",
          "traceback": [
            "\u001b[0;31m---------------------------------------------------------------------------\u001b[0m",
            "\u001b[0;31mOutOfMemoryError\u001b[0m                          Traceback (most recent call last)",
            "\u001b[0;32m/usr/local/lib/python3.11/dist-packages/ray/air/execution/_internal/event_manager.py\u001b[0m in \u001b[0;36mresolve_future\u001b[0;34m(self, future)\u001b[0m\n\u001b[1;32m    109\u001b[0m         \u001b[0;32mtry\u001b[0m\u001b[0;34m:\u001b[0m\u001b[0;34m\u001b[0m\u001b[0;34m\u001b[0m\u001b[0m\n\u001b[0;32m--> 110\u001b[0;31m             \u001b[0mresult\u001b[0m \u001b[0;34m=\u001b[0m \u001b[0mray\u001b[0m\u001b[0;34m.\u001b[0m\u001b[0mget\u001b[0m\u001b[0;34m(\u001b[0m\u001b[0mfuture\u001b[0m\u001b[0;34m)\u001b[0m\u001b[0;34m\u001b[0m\u001b[0;34m\u001b[0m\u001b[0m\n\u001b[0m\u001b[1;32m    111\u001b[0m         \u001b[0;32mexcept\u001b[0m \u001b[0mException\u001b[0m \u001b[0;32mas\u001b[0m \u001b[0me\u001b[0m\u001b[0;34m:\u001b[0m\u001b[0;34m\u001b[0m\u001b[0;34m\u001b[0m\u001b[0m\n",
            "\u001b[0;32m/usr/local/lib/python3.11/dist-packages/ray/_private/auto_init_hook.py\u001b[0m in \u001b[0;36mauto_init_wrapper\u001b[0;34m(*args, **kwargs)\u001b[0m\n\u001b[1;32m     20\u001b[0m         \u001b[0mauto_init_ray\u001b[0m\u001b[0;34m(\u001b[0m\u001b[0;34m)\u001b[0m\u001b[0;34m\u001b[0m\u001b[0;34m\u001b[0m\u001b[0m\n\u001b[0;32m---> 21\u001b[0;31m         \u001b[0;32mreturn\u001b[0m \u001b[0mfn\u001b[0m\u001b[0;34m(\u001b[0m\u001b[0;34m*\u001b[0m\u001b[0margs\u001b[0m\u001b[0;34m,\u001b[0m \u001b[0;34m**\u001b[0m\u001b[0mkwargs\u001b[0m\u001b[0;34m)\u001b[0m\u001b[0;34m\u001b[0m\u001b[0;34m\u001b[0m\u001b[0m\n\u001b[0m\u001b[1;32m     22\u001b[0m \u001b[0;34m\u001b[0m\u001b[0m\n",
            "\u001b[0;32m/usr/local/lib/python3.11/dist-packages/ray/_private/client_mode_hook.py\u001b[0m in \u001b[0;36mwrapper\u001b[0;34m(*args, **kwargs)\u001b[0m\n\u001b[1;32m    102\u001b[0m                 \u001b[0;32mreturn\u001b[0m \u001b[0mgetattr\u001b[0m\u001b[0;34m(\u001b[0m\u001b[0mray\u001b[0m\u001b[0;34m,\u001b[0m \u001b[0mfunc\u001b[0m\u001b[0;34m.\u001b[0m\u001b[0m__name__\u001b[0m\u001b[0;34m)\u001b[0m\u001b[0;34m(\u001b[0m\u001b[0;34m*\u001b[0m\u001b[0margs\u001b[0m\u001b[0;34m,\u001b[0m \u001b[0;34m**\u001b[0m\u001b[0mkwargs\u001b[0m\u001b[0;34m)\u001b[0m\u001b[0;34m\u001b[0m\u001b[0;34m\u001b[0m\u001b[0m\n\u001b[0;32m--> 103\u001b[0;31m         \u001b[0;32mreturn\u001b[0m \u001b[0mfunc\u001b[0m\u001b[0;34m(\u001b[0m\u001b[0;34m*\u001b[0m\u001b[0margs\u001b[0m\u001b[0;34m,\u001b[0m \u001b[0;34m**\u001b[0m\u001b[0mkwargs\u001b[0m\u001b[0;34m)\u001b[0m\u001b[0;34m\u001b[0m\u001b[0;34m\u001b[0m\u001b[0m\n\u001b[0m\u001b[1;32m    104\u001b[0m \u001b[0;34m\u001b[0m\u001b[0m\n",
            "\u001b[0;32m/usr/local/lib/python3.11/dist-packages/ray/_private/worker.py\u001b[0m in \u001b[0;36mget\u001b[0;34m(object_refs, timeout)\u001b[0m\n\u001b[1;32m   2770\u001b[0m         \u001b[0;31m# TODO(ujvl): Consider how to allow user to retrieve the ready objects.\u001b[0m\u001b[0;34m\u001b[0m\u001b[0;34m\u001b[0m\u001b[0m\n\u001b[0;32m-> 2771\u001b[0;31m         \u001b[0mvalues\u001b[0m\u001b[0;34m,\u001b[0m \u001b[0mdebugger_breakpoint\u001b[0m \u001b[0;34m=\u001b[0m \u001b[0mworker\u001b[0m\u001b[0;34m.\u001b[0m\u001b[0mget_objects\u001b[0m\u001b[0;34m(\u001b[0m\u001b[0mobject_refs\u001b[0m\u001b[0;34m,\u001b[0m \u001b[0mtimeout\u001b[0m\u001b[0;34m=\u001b[0m\u001b[0mtimeout\u001b[0m\u001b[0;34m)\u001b[0m\u001b[0;34m\u001b[0m\u001b[0;34m\u001b[0m\u001b[0m\n\u001b[0m\u001b[1;32m   2772\u001b[0m         \u001b[0;32mfor\u001b[0m \u001b[0mi\u001b[0m\u001b[0;34m,\u001b[0m \u001b[0mvalue\u001b[0m \u001b[0;32min\u001b[0m \u001b[0menumerate\u001b[0m\u001b[0;34m(\u001b[0m\u001b[0mvalues\u001b[0m\u001b[0;34m)\u001b[0m\u001b[0;34m:\u001b[0m\u001b[0;34m\u001b[0m\u001b[0;34m\u001b[0m\u001b[0m\n",
            "\u001b[0;32m/usr/local/lib/python3.11/dist-packages/ray/_private/worker.py\u001b[0m in \u001b[0;36mget_objects\u001b[0;34m(self, object_refs, timeout, return_exceptions, skip_deserialization)\u001b[0m\n\u001b[1;32m    920\u001b[0m                     \u001b[0;32melse\u001b[0m\u001b[0;34m:\u001b[0m\u001b[0;34m\u001b[0m\u001b[0;34m\u001b[0m\u001b[0m\n\u001b[0;32m--> 921\u001b[0;31m                         \u001b[0;32mraise\u001b[0m \u001b[0mvalue\u001b[0m\u001b[0;34m\u001b[0m\u001b[0;34m\u001b[0m\u001b[0m\n\u001b[0m\u001b[1;32m    922\u001b[0m \u001b[0;34m\u001b[0m\u001b[0m\n",
            "\u001b[0;31mOutOfMemoryError\u001b[0m: Task was killed due to the node running low on memory.\nMemory on the node (IP: 172.28.0.12, ID: f822ac4f6fc6af06e4154e76f873183e0755e2ac08c558d87e2739a4) where the task (actor ID: d3b9abcab82eb2fee7f4d6e501000000, name=ImplicitFunc.__init__, pid=15108, memory used=3.72GB) was running was 12.11GB / 12.67GB (0.955683), which exceeds the memory usage threshold of 0.95. Ray killed this worker (ID: bcc85184827da8786f7e5ee04fd7d75d6c0ea1dd027310db4d0b504f) because it was the most recently scheduled task; to see more information about memory usage on this node, use `ray logs raylet.out -ip 172.28.0.12`. To see the logs of the worker, use `ray logs worker-bcc85184827da8786f7e5ee04fd7d75d6c0ea1dd027310db4d0b504f*out -ip 172.28.0.12. Top 10 memory users:\nPID\tMEM(GB)\tCOMMAND\n11987\t4.43\tray::ImplicitFunc.train\n15108\t3.72\tray::ImplicitFunc.train\n433\t0.54\t/usr/bin/python3 -m colab_kernel_launcher -f /root/.local/share/jupyter/runtime/kernel-608193b8-c3ef...\n6346\t0.47\tnode /datalab/web/pyright/pyright-langserver.js --stdio --cancellationReceive=file:c446baf2721dfbc9f...\n721\t0.38\t/opt/google/drive/drive --features=crash_throttle_percentage:100,fuse_max_background:1000,max_read_q...\n116\t0.10\t/usr/bin/python3 /usr/local/bin/jupyter-notebook --debug --transport=\"ipc\" --ip=172.28.0.12 --Notebo...\n6583\t0.06\t/usr/bin/python3 /usr/local/lib/python3.11/dist-packages/ray/dashboard/dashboard.py --host=127.0.0.1...\n6648\t0.06\t/usr/bin/python3 -u /usr/local/lib/python3.11/dist-packages/ray/dashboard/agent.py --node-ip-address...\n6582\t0.05\t/usr/bin/python3 -u /usr/local/lib/python3.11/dist-packages/ray/autoscaler/_private/monitor.py --log...\n6628\t0.04\t/usr/bin/python3 -u /usr/local/lib/python3.11/dist-packages/ray/_private/log_monitor.py --session-di...\nRefer to the documentation on how to address the out of memory issue: https://docs.ray.io/en/latest/ray-core/scheduling/ray-oom-prevention.html. Consider provisioning more memory on this node or reducing task parallelism by requesting more CPUs per task. Set max_restarts and max_task_retries to enable retry when the task crashes due to OOM. To adjust the kill threshold, set the environment variable `RAY_memory_usage_threshold` when starting Ray. To disable worker killing, set the environment variable `RAY_memory_monitor_refresh_ms` to zero.",
            "\nThe above exception was the direct cause of the following exception:\n",
            "\u001b[0;31mRuntimeError\u001b[0m                              Traceback (most recent call last)",
            "\u001b[0;32m<ipython-input-16-6c916338a630>\u001b[0m in \u001b[0;36m<cell line: 0>\u001b[0;34m()\u001b[0m\n\u001b[1;32m     22\u001b[0m \u001b[0;34m\u001b[0m\u001b[0m\n\u001b[1;32m     23\u001b[0m \u001b[0;31m# Start tuning hyperparameters for YOLO11n training on the COCO8 dataset\u001b[0m\u001b[0;34m\u001b[0m\u001b[0;34m\u001b[0m\u001b[0m\n\u001b[0;32m---> 24\u001b[0;31m result_grid = model.tune(\n\u001b[0m\u001b[1;32m     25\u001b[0m     \u001b[0mdata\u001b[0m\u001b[0;34m=\u001b[0m\u001b[0;34m\"/content/drive/MyDrive/DSGP/Model10/data.yaml\"\u001b[0m\u001b[0;34m,\u001b[0m\u001b[0;34m\u001b[0m\u001b[0;34m\u001b[0m\u001b[0m\n\u001b[1;32m     26\u001b[0m     \u001b[0mspace\u001b[0m\u001b[0;34m=\u001b[0m\u001b[0msearch_space\u001b[0m\u001b[0;34m,\u001b[0m\u001b[0;34m\u001b[0m\u001b[0;34m\u001b[0m\u001b[0m\n",
            "\u001b[0;32m/usr/local/lib/python3.11/dist-packages/ultralytics/engine/model.py\u001b[0m in \u001b[0;36mtune\u001b[0;34m(self, use_ray, iterations, *args, **kwargs)\u001b[0m\n\u001b[1;32m    838\u001b[0m             \u001b[0;32mfrom\u001b[0m \u001b[0multralytics\u001b[0m\u001b[0;34m.\u001b[0m\u001b[0mutils\u001b[0m\u001b[0;34m.\u001b[0m\u001b[0mtuner\u001b[0m \u001b[0;32mimport\u001b[0m \u001b[0mrun_ray_tune\u001b[0m\u001b[0;34m\u001b[0m\u001b[0;34m\u001b[0m\u001b[0m\n\u001b[1;32m    839\u001b[0m \u001b[0;34m\u001b[0m\u001b[0m\n\u001b[0;32m--> 840\u001b[0;31m             \u001b[0;32mreturn\u001b[0m \u001b[0mrun_ray_tune\u001b[0m\u001b[0;34m(\u001b[0m\u001b[0mself\u001b[0m\u001b[0;34m,\u001b[0m \u001b[0mmax_samples\u001b[0m\u001b[0;34m=\u001b[0m\u001b[0miterations\u001b[0m\u001b[0;34m,\u001b[0m \u001b[0;34m*\u001b[0m\u001b[0margs\u001b[0m\u001b[0;34m,\u001b[0m \u001b[0;34m**\u001b[0m\u001b[0mkwargs\u001b[0m\u001b[0;34m)\u001b[0m\u001b[0;34m\u001b[0m\u001b[0;34m\u001b[0m\u001b[0m\n\u001b[0m\u001b[1;32m    841\u001b[0m         \u001b[0;32melse\u001b[0m\u001b[0;34m:\u001b[0m\u001b[0;34m\u001b[0m\u001b[0;34m\u001b[0m\u001b[0m\n\u001b[1;32m    842\u001b[0m             \u001b[0;32mfrom\u001b[0m \u001b[0;34m.\u001b[0m\u001b[0mtuner\u001b[0m \u001b[0;32mimport\u001b[0m \u001b[0mTuner\u001b[0m\u001b[0;34m\u001b[0m\u001b[0;34m\u001b[0m\u001b[0m\n",
            "\u001b[0;32m/usr/local/lib/python3.11/dist-packages/ultralytics/utils/tuner.py\u001b[0m in \u001b[0;36mrun_ray_tune\u001b[0;34m(model, space, grace_period, gpu_per_trial, max_samples, **train_args)\u001b[0m\n\u001b[1;32m    135\u001b[0m \u001b[0;34m\u001b[0m\u001b[0m\n\u001b[1;32m    136\u001b[0m     \u001b[0;31m# Run the hyperparameter search\u001b[0m\u001b[0;34m\u001b[0m\u001b[0;34m\u001b[0m\u001b[0m\n\u001b[0;32m--> 137\u001b[0;31m     \u001b[0mtuner\u001b[0m\u001b[0;34m.\u001b[0m\u001b[0mfit\u001b[0m\u001b[0;34m(\u001b[0m\u001b[0;34m)\u001b[0m\u001b[0;34m\u001b[0m\u001b[0;34m\u001b[0m\u001b[0m\n\u001b[0m\u001b[1;32m    138\u001b[0m \u001b[0;34m\u001b[0m\u001b[0m\n\u001b[1;32m    139\u001b[0m     \u001b[0;31m# Get the results of the hyperparameter search\u001b[0m\u001b[0;34m\u001b[0m\u001b[0;34m\u001b[0m\u001b[0m\n",
            "\u001b[0;32m/usr/local/lib/python3.11/dist-packages/ray/tune/tuner.py\u001b[0m in \u001b[0;36mfit\u001b[0;34m(self)\u001b[0m\n\u001b[1;32m    343\u001b[0m \u001b[0;34m\u001b[0m\u001b[0m\n\u001b[1;32m    344\u001b[0m         \u001b[0;32mif\u001b[0m \u001b[0;32mnot\u001b[0m \u001b[0mself\u001b[0m\u001b[0;34m.\u001b[0m\u001b[0m_is_ray_client\u001b[0m\u001b[0;34m:\u001b[0m\u001b[0;34m\u001b[0m\u001b[0;34m\u001b[0m\u001b[0m\n\u001b[0;32m--> 345\u001b[0;31m             \u001b[0;32mreturn\u001b[0m \u001b[0mself\u001b[0m\u001b[0;34m.\u001b[0m\u001b[0m_local_tuner\u001b[0m\u001b[0;34m.\u001b[0m\u001b[0mfit\u001b[0m\u001b[0;34m(\u001b[0m\u001b[0;34m)\u001b[0m\u001b[0;34m\u001b[0m\u001b[0;34m\u001b[0m\u001b[0m\n\u001b[0m\u001b[1;32m    346\u001b[0m         \u001b[0;32melse\u001b[0m\u001b[0;34m:\u001b[0m\u001b[0;34m\u001b[0m\u001b[0;34m\u001b[0m\u001b[0m\n\u001b[1;32m    347\u001b[0m             (\n",
            "\u001b[0;32m/usr/local/lib/python3.11/dist-packages/ray/tune/impl/tuner_internal.py\u001b[0m in \u001b[0;36mfit\u001b[0;34m(self)\u001b[0m\n\u001b[1;32m    502\u001b[0m         \u001b[0mparam_space\u001b[0m \u001b[0;34m=\u001b[0m \u001b[0mcopy\u001b[0m\u001b[0;34m.\u001b[0m\u001b[0mdeepcopy\u001b[0m\u001b[0;34m(\u001b[0m\u001b[0mself\u001b[0m\u001b[0;34m.\u001b[0m\u001b[0mparam_space\u001b[0m\u001b[0;34m)\u001b[0m\u001b[0;34m\u001b[0m\u001b[0;34m\u001b[0m\u001b[0m\n\u001b[1;32m    503\u001b[0m         \u001b[0;32mif\u001b[0m \u001b[0;32mnot\u001b[0m \u001b[0mself\u001b[0m\u001b[0;34m.\u001b[0m\u001b[0m_is_restored\u001b[0m\u001b[0;34m:\u001b[0m\u001b[0;34m\u001b[0m\u001b[0;34m\u001b[0m\u001b[0m\n\u001b[0;32m--> 504\u001b[0;31m             \u001b[0manalysis\u001b[0m \u001b[0;34m=\u001b[0m \u001b[0mself\u001b[0m\u001b[0;34m.\u001b[0m\u001b[0m_fit_internal\u001b[0m\u001b[0;34m(\u001b[0m\u001b[0mtrainable\u001b[0m\u001b[0;34m,\u001b[0m \u001b[0mparam_space\u001b[0m\u001b[0;34m)\u001b[0m\u001b[0;34m\u001b[0m\u001b[0;34m\u001b[0m\u001b[0m\n\u001b[0m\u001b[1;32m    505\u001b[0m         \u001b[0;32melse\u001b[0m\u001b[0;34m:\u001b[0m\u001b[0;34m\u001b[0m\u001b[0;34m\u001b[0m\u001b[0m\n\u001b[1;32m    506\u001b[0m             \u001b[0manalysis\u001b[0m \u001b[0;34m=\u001b[0m \u001b[0mself\u001b[0m\u001b[0;34m.\u001b[0m\u001b[0m_fit_resume\u001b[0m\u001b[0;34m(\u001b[0m\u001b[0mtrainable\u001b[0m\u001b[0;34m,\u001b[0m \u001b[0mparam_space\u001b[0m\u001b[0;34m)\u001b[0m\u001b[0;34m\u001b[0m\u001b[0;34m\u001b[0m\u001b[0m\n",
            "\u001b[0;32m/usr/local/lib/python3.11/dist-packages/ray/tune/impl/tuner_internal.py\u001b[0m in \u001b[0;36m_fit_internal\u001b[0;34m(self, trainable, param_space)\u001b[0m\n\u001b[1;32m    618\u001b[0m             \u001b[0;34m**\u001b[0m\u001b[0mself\u001b[0m\u001b[0;34m.\u001b[0m\u001b[0m_tuner_kwargs\u001b[0m\u001b[0;34m,\u001b[0m\u001b[0;34m\u001b[0m\u001b[0;34m\u001b[0m\u001b[0m\n\u001b[1;32m    619\u001b[0m         }\n\u001b[0;32m--> 620\u001b[0;31m         analysis = run(\n\u001b[0m\u001b[1;32m    621\u001b[0m             \u001b[0;34m**\u001b[0m\u001b[0margs\u001b[0m\u001b[0;34m,\u001b[0m\u001b[0;34m\u001b[0m\u001b[0;34m\u001b[0m\u001b[0m\n\u001b[1;32m    622\u001b[0m         )\n",
            "\u001b[0;32m/usr/local/lib/python3.11/dist-packages/ray/tune/tune.py\u001b[0m in \u001b[0;36mrun\u001b[0;34m(run_or_experiment, name, metric, mode, stop, time_budget_s, config, resources_per_trial, num_samples, storage_path, storage_filesystem, search_alg, scheduler, checkpoint_config, verbose, progress_reporter, log_to_file, trial_name_creator, trial_dirname_creator, sync_config, export_formats, max_failures, fail_fast, restore, resume, resume_config, reuse_actors, raise_on_failed_trial, callbacks, max_concurrent_trials, keep_checkpoints_num, checkpoint_score_attr, checkpoint_freq, checkpoint_at_end, chdir_to_trial_dir, local_dir, _remote, _remote_string_queue, _entrypoint)\u001b[0m\n\u001b[1;32m    992\u001b[0m     \u001b[0;32mtry\u001b[0m\u001b[0;34m:\u001b[0m\u001b[0;34m\u001b[0m\u001b[0;34m\u001b[0m\u001b[0m\n\u001b[1;32m    993\u001b[0m         \u001b[0;32mwhile\u001b[0m \u001b[0;32mnot\u001b[0m \u001b[0mrunner\u001b[0m\u001b[0;34m.\u001b[0m\u001b[0mis_finished\u001b[0m\u001b[0;34m(\u001b[0m\u001b[0;34m)\u001b[0m \u001b[0;32mand\u001b[0m \u001b[0;32mnot\u001b[0m \u001b[0mexperiment_interrupted_event\u001b[0m\u001b[0;34m.\u001b[0m\u001b[0mis_set\u001b[0m\u001b[0;34m(\u001b[0m\u001b[0;34m)\u001b[0m\u001b[0;34m:\u001b[0m\u001b[0;34m\u001b[0m\u001b[0;34m\u001b[0m\u001b[0m\n\u001b[0;32m--> 994\u001b[0;31m             \u001b[0mrunner\u001b[0m\u001b[0;34m.\u001b[0m\u001b[0mstep\u001b[0m\u001b[0;34m(\u001b[0m\u001b[0;34m)\u001b[0m\u001b[0;34m\u001b[0m\u001b[0;34m\u001b[0m\u001b[0m\n\u001b[0m\u001b[1;32m    995\u001b[0m             \u001b[0;32mif\u001b[0m \u001b[0mhas_verbosity\u001b[0m\u001b[0;34m(\u001b[0m\u001b[0mVerbosity\u001b[0m\u001b[0;34m.\u001b[0m\u001b[0mV1_EXPERIMENT\u001b[0m\u001b[0;34m)\u001b[0m\u001b[0;34m:\u001b[0m\u001b[0;34m\u001b[0m\u001b[0;34m\u001b[0m\u001b[0m\n\u001b[1;32m    996\u001b[0m                 \u001b[0m_report_progress\u001b[0m\u001b[0;34m(\u001b[0m\u001b[0mrunner\u001b[0m\u001b[0;34m,\u001b[0m \u001b[0mprogress_reporter\u001b[0m\u001b[0;34m)\u001b[0m\u001b[0;34m\u001b[0m\u001b[0;34m\u001b[0m\u001b[0m\n",
            "\u001b[0;32m/usr/local/lib/python3.11/dist-packages/ray/tune/execution/tune_controller.py\u001b[0m in \u001b[0;36mstep\u001b[0;34m(self)\u001b[0m\n\u001b[1;32m    683\u001b[0m \u001b[0;34m\u001b[0m\u001b[0m\n\u001b[1;32m    684\u001b[0m         \u001b[0;31m# Handle one event\u001b[0m\u001b[0;34m\u001b[0m\u001b[0;34m\u001b[0m\u001b[0m\n\u001b[0;32m--> 685\u001b[0;31m         \u001b[0;32mif\u001b[0m \u001b[0;32mnot\u001b[0m \u001b[0mself\u001b[0m\u001b[0;34m.\u001b[0m\u001b[0m_actor_manager\u001b[0m\u001b[0;34m.\u001b[0m\u001b[0mnext\u001b[0m\u001b[0;34m(\u001b[0m\u001b[0mtimeout\u001b[0m\u001b[0;34m=\u001b[0m\u001b[0;36m0.1\u001b[0m\u001b[0;34m)\u001b[0m\u001b[0;34m:\u001b[0m\u001b[0;34m\u001b[0m\u001b[0;34m\u001b[0m\u001b[0m\n\u001b[0m\u001b[1;32m    686\u001b[0m             \u001b[0;31m# If there are no actors running, warn about potentially\u001b[0m\u001b[0;34m\u001b[0m\u001b[0;34m\u001b[0m\u001b[0m\n\u001b[1;32m    687\u001b[0m             \u001b[0;31m# insufficient resources\u001b[0m\u001b[0;34m\u001b[0m\u001b[0;34m\u001b[0m\u001b[0m\n",
            "\u001b[0;32m/usr/local/lib/python3.11/dist-packages/ray/air/execution/_internal/actor_manager.py\u001b[0m in \u001b[0;36mnext\u001b[0;34m(self, timeout)\u001b[0m\n\u001b[1;32m    221\u001b[0m             \u001b[0mself\u001b[0m\u001b[0;34m.\u001b[0m\u001b[0m_actor_state_events\u001b[0m\u001b[0;34m.\u001b[0m\u001b[0mresolve_future\u001b[0m\u001b[0;34m(\u001b[0m\u001b[0mfuture\u001b[0m\u001b[0;34m)\u001b[0m\u001b[0;34m\u001b[0m\u001b[0;34m\u001b[0m\u001b[0m\n\u001b[1;32m    222\u001b[0m         \u001b[0;32melif\u001b[0m \u001b[0mfuture\u001b[0m \u001b[0;32min\u001b[0m \u001b[0mactor_task_futures\u001b[0m\u001b[0;34m:\u001b[0m\u001b[0;34m\u001b[0m\u001b[0;34m\u001b[0m\u001b[0m\n\u001b[0;32m--> 223\u001b[0;31m             \u001b[0mself\u001b[0m\u001b[0;34m.\u001b[0m\u001b[0m_actor_task_events\u001b[0m\u001b[0;34m.\u001b[0m\u001b[0mresolve_future\u001b[0m\u001b[0;34m(\u001b[0m\u001b[0mfuture\u001b[0m\u001b[0;34m)\u001b[0m\u001b[0;34m\u001b[0m\u001b[0;34m\u001b[0m\u001b[0m\n\u001b[0m\u001b[1;32m    224\u001b[0m         \u001b[0;32melse\u001b[0m\u001b[0;34m:\u001b[0m\u001b[0;34m\u001b[0m\u001b[0;34m\u001b[0m\u001b[0m\n\u001b[1;32m    225\u001b[0m             \u001b[0mself\u001b[0m\u001b[0;34m.\u001b[0m\u001b[0m_handle_ready_resource_future\u001b[0m\u001b[0;34m(\u001b[0m\u001b[0;34m)\u001b[0m\u001b[0;34m\u001b[0m\u001b[0;34m\u001b[0m\u001b[0m\n",
            "\u001b[0;32m/usr/local/lib/python3.11/dist-packages/ray/air/execution/_internal/event_manager.py\u001b[0m in \u001b[0;36mresolve_future\u001b[0;34m(self, future)\u001b[0m\n\u001b[1;32m    111\u001b[0m         \u001b[0;32mexcept\u001b[0m \u001b[0mException\u001b[0m \u001b[0;32mas\u001b[0m \u001b[0me\u001b[0m\u001b[0;34m:\u001b[0m\u001b[0;34m\u001b[0m\u001b[0;34m\u001b[0m\u001b[0m\n\u001b[1;32m    112\u001b[0m             \u001b[0;32mif\u001b[0m \u001b[0mon_error\u001b[0m\u001b[0;34m:\u001b[0m\u001b[0;34m\u001b[0m\u001b[0;34m\u001b[0m\u001b[0m\n\u001b[0;32m--> 113\u001b[0;31m                 \u001b[0mon_error\u001b[0m\u001b[0;34m(\u001b[0m\u001b[0me\u001b[0m\u001b[0;34m)\u001b[0m\u001b[0;34m\u001b[0m\u001b[0;34m\u001b[0m\u001b[0m\n\u001b[0m\u001b[1;32m    114\u001b[0m             \u001b[0;32melse\u001b[0m\u001b[0;34m:\u001b[0m\u001b[0;34m\u001b[0m\u001b[0;34m\u001b[0m\u001b[0m\n\u001b[1;32m    115\u001b[0m                 \u001b[0;32mraise\u001b[0m \u001b[0me\u001b[0m\u001b[0;34m\u001b[0m\u001b[0;34m\u001b[0m\u001b[0m\n",
            "\u001b[0;32m/usr/local/lib/python3.11/dist-packages/ray/air/execution/_internal/actor_manager.py\u001b[0m in \u001b[0;36mon_error\u001b[0;34m(exception)\u001b[0m\n\u001b[1;32m    769\u001b[0m \u001b[0;34m\u001b[0m\u001b[0m\n\u001b[1;32m    770\u001b[0m         \u001b[0;32mdef\u001b[0m \u001b[0mon_error\u001b[0m\u001b[0;34m(\u001b[0m\u001b[0mexception\u001b[0m\u001b[0;34m:\u001b[0m \u001b[0mException\u001b[0m\u001b[0;34m)\u001b[0m\u001b[0;34m:\u001b[0m\u001b[0;34m\u001b[0m\u001b[0;34m\u001b[0m\u001b[0m\n\u001b[0;32m--> 771\u001b[0;31m             self._actor_task_failed(\n\u001b[0m\u001b[1;32m    772\u001b[0m                 \u001b[0mtracked_actor_task\u001b[0m\u001b[0;34m=\u001b[0m\u001b[0mtracked_actor_task\u001b[0m\u001b[0;34m,\u001b[0m \u001b[0mexception\u001b[0m\u001b[0;34m=\u001b[0m\u001b[0mexception\u001b[0m\u001b[0;34m\u001b[0m\u001b[0;34m\u001b[0m\u001b[0m\n\u001b[1;32m    773\u001b[0m             )\n",
            "\u001b[0;32m/usr/local/lib/python3.11/dist-packages/ray/air/execution/_internal/actor_manager.py\u001b[0m in \u001b[0;36m_actor_task_failed\u001b[0;34m(self, tracked_actor_task, exception)\u001b[0m\n\u001b[1;32m    288\u001b[0m                 \u001b[0mtracked_actor_task\u001b[0m\u001b[0;34m.\u001b[0m\u001b[0m_on_error\u001b[0m\u001b[0;34m(\u001b[0m\u001b[0mtracked_actor\u001b[0m\u001b[0;34m,\u001b[0m \u001b[0mexception\u001b[0m\u001b[0;34m)\u001b[0m\u001b[0;34m\u001b[0m\u001b[0;34m\u001b[0m\u001b[0m\n\u001b[1;32m    289\u001b[0m         \u001b[0;32melse\u001b[0m\u001b[0;34m:\u001b[0m\u001b[0;34m\u001b[0m\u001b[0;34m\u001b[0m\u001b[0m\n\u001b[0;32m--> 290\u001b[0;31m             raise RuntimeError(\n\u001b[0m\u001b[1;32m    291\u001b[0m                 \u001b[0;34mf\"Caught unexpected exception: {exception}\"\u001b[0m\u001b[0;34m\u001b[0m\u001b[0;34m\u001b[0m\u001b[0m\n\u001b[1;32m    292\u001b[0m             ) from exception\n",
            "\u001b[0;31mRuntimeError\u001b[0m: Caught unexpected exception: Task was killed due to the node running low on memory.\nMemory on the node (IP: 172.28.0.12, ID: f822ac4f6fc6af06e4154e76f873183e0755e2ac08c558d87e2739a4) where the task (actor ID: d3b9abcab82eb2fee7f4d6e501000000, name=ImplicitFunc.__init__, pid=15108, memory used=3.72GB) was running was 12.11GB / 12.67GB (0.955683), which exceeds the memory usage threshold of 0.95. Ray killed this worker (ID: bcc85184827da8786f7e5ee04fd7d75d6c0ea1dd027310db4d0b504f) because it was the most recently scheduled task; to see more information about memory usage on this node, use `ray logs raylet.out -ip 172.28.0.12`. To see the logs of the worker, use `ray logs worker-bcc85184827da8786f7e5ee04fd7d75d6c0ea1dd027310db4d0b504f*out -ip 172.28.0.12. Top 10 memory users:\nPID\tMEM(GB)\tCOMMAND\n11987\t4.43\tray::ImplicitFunc.train\n15108\t3.72\tray::ImplicitFunc.train\n433\t0.54\t/usr/bin/python3 -m colab_kernel_launcher -f /root/.local/share/jupyter/runtime/kernel-608193b8-c3ef...\n6346\t0.47\tnode /datalab/web/pyright/pyright-langserver.js --stdio --cancellationReceive=file:c446baf2721dfbc9f...\n721\t0.38\t/opt/google/drive/drive --features=crash_throttle_percentage:100,fuse_max_background:1000,max_read_q...\n116\t0.10\t/usr/bin/python3 /usr/local/bin/jupyter-notebook --debug --transport=\"ipc\" --ip=172.28.0.12 --Notebo...\n6583\t0.06\t/usr/bin/python3 /usr/local/lib/python3.11/dist-packages/ray/dashboard/dashboard.py --host=127.0.0.1...\n6648\t0.06\t/usr/bin/python3 -u /usr/local/lib/python3.11/dist-packages/ray/dashboard/agent.py --node-ip-address...\n6582\t0.05\t/usr/bin/python3 -u /usr/local/lib/python3.11/dist-packages/ray/autoscaler/_private/monitor.py --log...\n6628\t0.04\t/usr/bin/python3 -u /usr/local/lib/python3.11/dist-packages/ray/_private/log_monitor.py --session-di...\nRefer to the documentation on how to address the out of memory issue: https://docs.ray.io/en/latest/ray-core/scheduling/ray-oom-prevention.html. Consider provisioning more memory on this node or reducing task parallelism by requesting more CPUs per task. Set max_restarts and max_task_retries to enable retry when the task crashes due to OOM. To adjust the kill threshold, set the environment variable `RAY_memory_usage_threshold` when starting Ray. To disable worker killing, set the environment variable `RAY_memory_monitor_refresh_ms` to zero."
          ]
        }
      ],
      "source": [
        "from ultralytics import YOLO\n",
        "from ray import tune\n",
        "\n",
        "# Load a YOLOv8s model\n",
        "model = YOLO(\"yolov8n.pt\")\n",
        "\n",
        "search_space = {\n",
        "    \"lr0\": tune.uniform(1e-5, 1e-1),\n",
        "    \"lrf\": tune.uniform(0.01, 1.0),\n",
        "    \"momentum\": tune.uniform(0.6, 0.98),\n",
        "    \"weight_decay\": tune.uniform(0.0, 0.001),\n",
        "    \"warmup_epochs\": tune.uniform(0.0, 5.0),\n",
        "    \"warmup_momentum\":\ttune.uniform(0.0, 0.95),\n",
        "    \"box\":\ttune.uniform(0.02, 0.2),\n",
        "    \"cls\":\ttune.uniform(0.2, 4.0),\n",
        "    \"mosaic\":\ttune.uniform(0.0, 1.0),\n",
        "    \"mixup\":\ttune.uniform(0.0, 1.0),\n",
        "    \"scale\":\ttune.uniform(0.0, 0.9),\n",
        "    \"translate\":\ttune.uniform(0.0, 0.9),\n",
        "    \"degrees\":\ttune.uniform(0.0, 45.0)\n",
        "}\n",
        "\n",
        "# Start tuning hyperparameters for YOLO11n training on the COCO8 dataset\n",
        "result_grid = model.tune(\n",
        "    data=\"/content/drive/MyDrive/DSGP/Model10/data.yaml\",\n",
        "    space=search_space,\n",
        "    epochs=50,\n",
        "    use_ray=True\n",
        ")"
      ]
    },
    {
      "cell_type": "markdown",
      "metadata": {
        "id": "_ll18CoYsIrG"
      },
      "source": [
        "Train the model\n"
      ]
    },
    {
      "cell_type": "code",
      "execution_count": null,
      "metadata": {
        "colab": {
          "base_uri": "https://localhost:8080/"
        },
        "id": "4Obhg5JksLZ2",
        "outputId": "25465d51-cf40-456b-c929-85e3c2dc64c8"
      },
      "outputs": [
        {
          "output_type": "stream",
          "name": "stdout",
          "text": [
            "Ultralytics 8.3.102 🚀 Python-3.11.11 torch-2.6.0+cu124 CUDA:0 (Tesla T4, 15095MiB)\n",
            "\u001b[34m\u001b[1mengine/trainer: \u001b[0mtask=detect, mode=train, model=yolov8s.pt, data=data.yaml, epochs=100, time=None, patience=100, batch=16, imgsz=640, save=True, save_period=-1, cache=False, device=None, workers=8, project=None, name=train4, exist_ok=False, pretrained=True, optimizer=auto, verbose=True, seed=0, deterministic=True, single_cls=False, rect=False, cos_lr=False, close_mosaic=10, resume=False, amp=True, fraction=1.0, profile=False, freeze=None, multi_scale=False, overlap_mask=True, mask_ratio=4, dropout=0.0, val=True, split=val, save_json=False, save_hybrid=False, conf=None, iou=0.7, max_det=300, half=False, dnn=False, plots=True, source=None, vid_stride=1, stream_buffer=False, visualize=False, augment=True, agnostic_nms=False, classes=None, retina_masks=False, embed=None, show=False, save_frames=False, save_txt=False, save_conf=False, save_crop=False, show_labels=True, show_conf=True, show_boxes=True, line_width=None, format=torchscript, keras=False, optimize=False, int8=False, dynamic=False, simplify=True, opset=None, workspace=None, nms=False, lr0=0.01, lrf=0.01, momentum=0.937, weight_decay=0.0005, warmup_epochs=3.0, warmup_momentum=0.8, warmup_bias_lr=0.1, box=7.5, cls=0.5, dfl=1.5, pose=12.0, kobj=1.0, nbs=64, hsv_h=0.015, hsv_s=0.7, hsv_v=0.4, degrees=0.0, translate=0.1, scale=0.5, shear=0.0, perspective=0.0, flipud=0.0, fliplr=0.5, bgr=0.0, mosaic=1.0, mixup=0.0, copy_paste=0.0, copy_paste_mode=flip, auto_augment=randaugment, erasing=0.4, crop_fraction=1.0, cfg=None, tracker=botsort.yaml, save_dir=runs/detect/train4\n",
            "Downloading https://ultralytics.com/assets/Arial.ttf to '/root/.config/Ultralytics/Arial.ttf'...\n"
          ]
        },
        {
          "output_type": "stream",
          "name": "stderr",
          "text": [
            "100%|██████████| 755k/755k [00:00<00:00, 18.2MB/s]\n"
          ]
        },
        {
          "output_type": "stream",
          "name": "stdout",
          "text": [
            "Overriding model.yaml nc=80 with nc=1\n",
            "\n",
            "                   from  n    params  module                                       arguments                     \n",
            "  0                  -1  1       928  ultralytics.nn.modules.conv.Conv             [3, 32, 3, 2]                 \n",
            "  1                  -1  1     18560  ultralytics.nn.modules.conv.Conv             [32, 64, 3, 2]                \n",
            "  2                  -1  1     29056  ultralytics.nn.modules.block.C2f             [64, 64, 1, True]             \n",
            "  3                  -1  1     73984  ultralytics.nn.modules.conv.Conv             [64, 128, 3, 2]               \n",
            "  4                  -1  2    197632  ultralytics.nn.modules.block.C2f             [128, 128, 2, True]           \n",
            "  5                  -1  1    295424  ultralytics.nn.modules.conv.Conv             [128, 256, 3, 2]              \n",
            "  6                  -1  2    788480  ultralytics.nn.modules.block.C2f             [256, 256, 2, True]           \n",
            "  7                  -1  1   1180672  ultralytics.nn.modules.conv.Conv             [256, 512, 3, 2]              \n",
            "  8                  -1  1   1838080  ultralytics.nn.modules.block.C2f             [512, 512, 1, True]           \n",
            "  9                  -1  1    656896  ultralytics.nn.modules.block.SPPF            [512, 512, 5]                 \n",
            " 10                  -1  1         0  torch.nn.modules.upsampling.Upsample         [None, 2, 'nearest']          \n",
            " 11             [-1, 6]  1         0  ultralytics.nn.modules.conv.Concat           [1]                           \n",
            " 12                  -1  1    591360  ultralytics.nn.modules.block.C2f             [768, 256, 1]                 \n",
            " 13                  -1  1         0  torch.nn.modules.upsampling.Upsample         [None, 2, 'nearest']          \n",
            " 14             [-1, 4]  1         0  ultralytics.nn.modules.conv.Concat           [1]                           \n",
            " 15                  -1  1    148224  ultralytics.nn.modules.block.C2f             [384, 128, 1]                 \n",
            " 16                  -1  1    147712  ultralytics.nn.modules.conv.Conv             [128, 128, 3, 2]              \n",
            " 17            [-1, 12]  1         0  ultralytics.nn.modules.conv.Concat           [1]                           \n",
            " 18                  -1  1    493056  ultralytics.nn.modules.block.C2f             [384, 256, 1]                 \n",
            " 19                  -1  1    590336  ultralytics.nn.modules.conv.Conv             [256, 256, 3, 2]              \n",
            " 20             [-1, 9]  1         0  ultralytics.nn.modules.conv.Concat           [1]                           \n",
            " 21                  -1  1   1969152  ultralytics.nn.modules.block.C2f             [768, 512, 1]                 \n",
            " 22        [15, 18, 21]  1   2116435  ultralytics.nn.modules.head.Detect           [1, [128, 256, 512]]          \n",
            "Model summary: 129 layers, 11,135,987 parameters, 11,135,971 gradients, 28.6 GFLOPs\n",
            "\n",
            "Transferred 349/355 items from pretrained weights\n",
            "\u001b[34m\u001b[1mTensorBoard: \u001b[0mStart with 'tensorboard --logdir runs/detect/train4', view at http://localhost:6006/\n",
            "Freezing layer 'model.22.dfl.conv.weight'\n",
            "\u001b[34m\u001b[1mAMP: \u001b[0mrunning Automatic Mixed Precision (AMP) checks...\n",
            "\u001b[34m\u001b[1mAMP: \u001b[0mchecks passed ✅\n"
          ]
        },
        {
          "output_type": "stream",
          "name": "stderr",
          "text": [
            "\u001b[34m\u001b[1mtrain: \u001b[0mScanning /content/drive/MyDrive/DSGP/Model10/Data/train/labels.cache... 1485 images, 0 backgrounds, 0 corrupt: 100%|██████████| 1485/1485 [00:00<?, ?it/s]\n"
          ]
        },
        {
          "output_type": "stream",
          "name": "stdout",
          "text": [
            "\u001b[34m\u001b[1malbumentations: \u001b[0mBlur(p=0.01, blur_limit=(3, 7)), MedianBlur(p=0.01, blur_limit=(3, 7)), ToGray(p=0.01, num_output_channels=3, method='weighted_average'), CLAHE(p=0.01, clip_limit=(1.0, 4.0), tile_grid_size=(8, 8))\n"
          ]
        },
        {
          "output_type": "stream",
          "name": "stderr",
          "text": [
            "\u001b[34m\u001b[1mval: \u001b[0mScanning /content/drive/MyDrive/DSGP/Model10/Data/valid/labels.cache... 199 images, 0 backgrounds, 0 corrupt: 100%|██████████| 199/199 [00:00<?, ?it/s]\n"
          ]
        },
        {
          "output_type": "stream",
          "name": "stdout",
          "text": [
            "Plotting labels to runs/detect/train4/labels.jpg... \n",
            "\u001b[34m\u001b[1moptimizer:\u001b[0m 'optimizer=auto' found, ignoring 'lr0=0.01' and 'momentum=0.937' and determining best 'optimizer', 'lr0' and 'momentum' automatically... \n",
            "\u001b[34m\u001b[1moptimizer:\u001b[0m AdamW(lr=0.002, momentum=0.9) with parameter groups 57 weight(decay=0.0), 64 weight(decay=0.0005), 63 bias(decay=0.0)\n",
            "\u001b[34m\u001b[1mTensorBoard: \u001b[0mmodel graph visualization added ✅\n",
            "Image sizes 640 train, 640 val\n",
            "Using 2 dataloader workers\n",
            "Logging results to \u001b[1mruns/detect/train4\u001b[0m\n",
            "Starting training for 100 epochs...\n",
            "\n",
            "      Epoch    GPU_mem   box_loss   cls_loss   dfl_loss  Instances       Size\n"
          ]
        },
        {
          "output_type": "stream",
          "name": "stderr",
          "text": [
            "      1/100      6.48G      2.094      1.735      1.369        211        640: 100%|██████████| 93/93 [03:52<00:00,  2.50s/it]\n",
            "                 Class     Images  Instances      Box(P          R      mAP50  mAP50-95): 100%|██████████| 7/7 [00:03<00:00,  1.99it/s]"
          ]
        },
        {
          "output_type": "stream",
          "name": "stdout",
          "text": [
            "                   all        199       1826      0.463      0.412       0.34      0.121\n"
          ]
        },
        {
          "output_type": "stream",
          "name": "stderr",
          "text": [
            "\n"
          ]
        },
        {
          "output_type": "stream",
          "name": "stdout",
          "text": [
            "\n",
            "      Epoch    GPU_mem   box_loss   cls_loss   dfl_loss  Instances       Size\n"
          ]
        },
        {
          "output_type": "stream",
          "name": "stderr",
          "text": [
            "      2/100      6.51G      2.109      1.483        1.4         72        640: 100%|██████████| 93/93 [00:34<00:00,  2.71it/s]\n",
            "                 Class     Images  Instances      Box(P          R      mAP50  mAP50-95): 100%|██████████| 7/7 [00:03<00:00,  1.96it/s]"
          ]
        },
        {
          "output_type": "stream",
          "name": "stdout",
          "text": [
            "                   all        199       1826      0.222      0.452      0.153     0.0505\n"
          ]
        },
        {
          "output_type": "stream",
          "name": "stderr",
          "text": [
            "\n"
          ]
        },
        {
          "output_type": "stream",
          "name": "stdout",
          "text": [
            "\n",
            "      Epoch    GPU_mem   box_loss   cls_loss   dfl_loss  Instances       Size\n"
          ]
        },
        {
          "output_type": "stream",
          "name": "stderr",
          "text": [
            "      3/100      6.51G      2.129      1.501        1.4         68        640: 100%|██████████| 93/93 [00:33<00:00,  2.77it/s]\n",
            "                 Class     Images  Instances      Box(P          R      mAP50  mAP50-95): 100%|██████████| 7/7 [00:02<00:00,  2.60it/s]\n"
          ]
        },
        {
          "output_type": "stream",
          "name": "stdout",
          "text": [
            "                   all        199       1826      0.479      0.479       0.43      0.172\n",
            "\n",
            "      Epoch    GPU_mem   box_loss   cls_loss   dfl_loss  Instances       Size\n"
          ]
        },
        {
          "output_type": "stream",
          "name": "stderr",
          "text": [
            "      4/100      6.51G        2.1       1.46      1.405        109        640: 100%|██████████| 93/93 [00:33<00:00,  2.75it/s]\n",
            "                 Class     Images  Instances      Box(P          R      mAP50  mAP50-95): 100%|██████████| 7/7 [00:02<00:00,  2.60it/s]"
          ]
        },
        {
          "output_type": "stream",
          "name": "stdout",
          "text": [
            "                   all        199       1826      0.435      0.413      0.355      0.131\n"
          ]
        },
        {
          "output_type": "stream",
          "name": "stderr",
          "text": [
            "\n"
          ]
        },
        {
          "output_type": "stream",
          "name": "stdout",
          "text": [
            "\n",
            "      Epoch    GPU_mem   box_loss   cls_loss   dfl_loss  Instances       Size\n"
          ]
        },
        {
          "output_type": "stream",
          "name": "stderr",
          "text": [
            "      5/100      6.55G      2.067      1.455      1.388        175        640: 100%|██████████| 93/93 [00:33<00:00,  2.77it/s]\n",
            "                 Class     Images  Instances      Box(P          R      mAP50  mAP50-95): 100%|██████████| 7/7 [00:03<00:00,  2.02it/s]\n"
          ]
        },
        {
          "output_type": "stream",
          "name": "stdout",
          "text": [
            "                   all        199       1826      0.606      0.531      0.525      0.204\n",
            "\n",
            "      Epoch    GPU_mem   box_loss   cls_loss   dfl_loss  Instances       Size\n"
          ]
        },
        {
          "output_type": "stream",
          "name": "stderr",
          "text": [
            "      6/100      6.55G      2.093      1.412      1.376        134        640: 100%|██████████| 93/93 [00:33<00:00,  2.78it/s]\n",
            "                 Class     Images  Instances      Box(P          R      mAP50  mAP50-95): 100%|██████████| 7/7 [00:02<00:00,  2.65it/s]\n"
          ]
        },
        {
          "output_type": "stream",
          "name": "stdout",
          "text": [
            "                   all        199       1826      0.576      0.485      0.502      0.202\n",
            "\n",
            "      Epoch    GPU_mem   box_loss   cls_loss   dfl_loss  Instances       Size\n"
          ]
        },
        {
          "output_type": "stream",
          "name": "stderr",
          "text": [
            "      7/100      6.55G      2.012      1.346      1.347        208        640: 100%|██████████| 93/93 [00:34<00:00,  2.70it/s]\n",
            "                 Class     Images  Instances      Box(P          R      mAP50  mAP50-95): 100%|██████████| 7/7 [00:02<00:00,  2.63it/s]"
          ]
        },
        {
          "output_type": "stream",
          "name": "stdout",
          "text": [
            "                   all        199       1826       0.53      0.584      0.499      0.195\n"
          ]
        },
        {
          "output_type": "stream",
          "name": "stderr",
          "text": [
            "\n"
          ]
        },
        {
          "output_type": "stream",
          "name": "stdout",
          "text": [
            "\n",
            "      Epoch    GPU_mem   box_loss   cls_loss   dfl_loss  Instances       Size\n"
          ]
        },
        {
          "output_type": "stream",
          "name": "stderr",
          "text": [
            "      8/100      6.55G      2.043      1.348       1.35        313        640: 100%|██████████| 93/93 [00:34<00:00,  2.73it/s]\n",
            "                 Class     Images  Instances      Box(P          R      mAP50  mAP50-95): 100%|██████████| 7/7 [00:03<00:00,  2.04it/s]"
          ]
        },
        {
          "output_type": "stream",
          "name": "stdout",
          "text": [
            "                   all        199       1826      0.663      0.533      0.546      0.224\n"
          ]
        },
        {
          "output_type": "stream",
          "name": "stderr",
          "text": [
            "\n"
          ]
        },
        {
          "output_type": "stream",
          "name": "stdout",
          "text": [
            "\n",
            "      Epoch    GPU_mem   box_loss   cls_loss   dfl_loss  Instances       Size\n"
          ]
        },
        {
          "output_type": "stream",
          "name": "stderr",
          "text": [
            "      9/100      6.59G      1.978      1.307      1.324        448        640: 100%|██████████| 93/93 [00:34<00:00,  2.71it/s]\n",
            "                 Class     Images  Instances      Box(P          R      mAP50  mAP50-95): 100%|██████████| 7/7 [00:02<00:00,  2.79it/s]"
          ]
        },
        {
          "output_type": "stream",
          "name": "stdout",
          "text": [
            "                   all        199       1826       0.64        0.6      0.587       0.25\n"
          ]
        },
        {
          "output_type": "stream",
          "name": "stderr",
          "text": [
            "\n"
          ]
        },
        {
          "output_type": "stream",
          "name": "stdout",
          "text": [
            "\n",
            "      Epoch    GPU_mem   box_loss   cls_loss   dfl_loss  Instances       Size\n"
          ]
        },
        {
          "output_type": "stream",
          "name": "stderr",
          "text": [
            "     10/100      6.59G      1.965      1.276      1.319        238        640: 100%|██████████| 93/93 [00:34<00:00,  2.71it/s]\n",
            "                 Class     Images  Instances      Box(P          R      mAP50  mAP50-95): 100%|██████████| 7/7 [00:02<00:00,  2.77it/s]"
          ]
        },
        {
          "output_type": "stream",
          "name": "stdout",
          "text": [
            "                   all        199       1826      0.597       0.55      0.553      0.235\n"
          ]
        },
        {
          "output_type": "stream",
          "name": "stderr",
          "text": [
            "\n"
          ]
        },
        {
          "output_type": "stream",
          "name": "stdout",
          "text": [
            "\n",
            "      Epoch    GPU_mem   box_loss   cls_loss   dfl_loss  Instances       Size\n"
          ]
        },
        {
          "output_type": "stream",
          "name": "stderr",
          "text": [
            "     11/100      6.59G      1.947      1.245      1.322        123        640: 100%|██████████| 93/93 [00:35<00:00,  2.65it/s]\n",
            "                 Class     Images  Instances      Box(P          R      mAP50  mAP50-95): 100%|██████████| 7/7 [00:02<00:00,  2.77it/s]"
          ]
        },
        {
          "output_type": "stream",
          "name": "stdout",
          "text": [
            "                   all        199       1826      0.626      0.582      0.568      0.235\n"
          ]
        },
        {
          "output_type": "stream",
          "name": "stderr",
          "text": [
            "\n"
          ]
        },
        {
          "output_type": "stream",
          "name": "stdout",
          "text": [
            "\n",
            "      Epoch    GPU_mem   box_loss   cls_loss   dfl_loss  Instances       Size\n"
          ]
        },
        {
          "output_type": "stream",
          "name": "stderr",
          "text": [
            "     12/100      6.59G      1.956      1.271      1.313        247        640: 100%|██████████| 93/93 [00:33<00:00,  2.80it/s]\n",
            "                 Class     Images  Instances      Box(P          R      mAP50  mAP50-95): 100%|██████████| 7/7 [00:03<00:00,  2.16it/s]"
          ]
        },
        {
          "output_type": "stream",
          "name": "stdout",
          "text": [
            "                   all        199       1826      0.573      0.516      0.507      0.222\n"
          ]
        },
        {
          "output_type": "stream",
          "name": "stderr",
          "text": [
            "\n"
          ]
        },
        {
          "output_type": "stream",
          "name": "stdout",
          "text": [
            "\n",
            "      Epoch    GPU_mem   box_loss   cls_loss   dfl_loss  Instances       Size\n"
          ]
        },
        {
          "output_type": "stream",
          "name": "stderr",
          "text": [
            "     13/100      6.59G      1.946      1.281      1.298        222        640: 100%|██████████| 93/93 [00:33<00:00,  2.77it/s]\n",
            "                 Class     Images  Instances      Box(P          R      mAP50  mAP50-95): 100%|██████████| 7/7 [00:02<00:00,  2.87it/s]"
          ]
        },
        {
          "output_type": "stream",
          "name": "stdout",
          "text": [
            "                   all        199       1826      0.637      0.597      0.594      0.266\n"
          ]
        },
        {
          "output_type": "stream",
          "name": "stderr",
          "text": [
            "\n"
          ]
        },
        {
          "output_type": "stream",
          "name": "stdout",
          "text": [
            "\n",
            "      Epoch    GPU_mem   box_loss   cls_loss   dfl_loss  Instances       Size\n"
          ]
        },
        {
          "output_type": "stream",
          "name": "stderr",
          "text": [
            "     14/100      6.59G      1.906      1.208      1.301        208        640: 100%|██████████| 93/93 [00:34<00:00,  2.67it/s]\n",
            "                 Class     Images  Instances      Box(P          R      mAP50  mAP50-95): 100%|██████████| 7/7 [00:02<00:00,  2.74it/s]"
          ]
        },
        {
          "output_type": "stream",
          "name": "stdout",
          "text": [
            "                   all        199       1826      0.597      0.548      0.532      0.222\n"
          ]
        },
        {
          "output_type": "stream",
          "name": "stderr",
          "text": [
            "\n"
          ]
        },
        {
          "output_type": "stream",
          "name": "stdout",
          "text": [
            "\n",
            "      Epoch    GPU_mem   box_loss   cls_loss   dfl_loss  Instances       Size\n"
          ]
        },
        {
          "output_type": "stream",
          "name": "stderr",
          "text": [
            "     15/100      6.59G      1.938      1.305      1.335        157        640: 100%|██████████| 93/93 [00:33<00:00,  2.82it/s]\n",
            "                 Class     Images  Instances      Box(P          R      mAP50  mAP50-95): 100%|██████████| 7/7 [00:03<00:00,  1.89it/s]"
          ]
        },
        {
          "output_type": "stream",
          "name": "stdout",
          "text": [
            "                   all        199       1826      0.582      0.555      0.565      0.236\n"
          ]
        },
        {
          "output_type": "stream",
          "name": "stderr",
          "text": [
            "\n"
          ]
        },
        {
          "output_type": "stream",
          "name": "stdout",
          "text": [
            "\n",
            "      Epoch    GPU_mem   box_loss   cls_loss   dfl_loss  Instances       Size\n"
          ]
        },
        {
          "output_type": "stream",
          "name": "stderr",
          "text": [
            "     16/100      6.59G      1.933      1.252       1.31        199        640: 100%|██████████| 93/93 [00:33<00:00,  2.79it/s]\n",
            "                 Class     Images  Instances      Box(P          R      mAP50  mAP50-95): 100%|██████████| 7/7 [00:02<00:00,  2.77it/s]"
          ]
        },
        {
          "output_type": "stream",
          "name": "stdout",
          "text": [
            "                   all        199       1826      0.653      0.586      0.596      0.269\n"
          ]
        },
        {
          "output_type": "stream",
          "name": "stderr",
          "text": [
            "\n"
          ]
        },
        {
          "output_type": "stream",
          "name": "stdout",
          "text": [
            "\n",
            "      Epoch    GPU_mem   box_loss   cls_loss   dfl_loss  Instances       Size\n"
          ]
        },
        {
          "output_type": "stream",
          "name": "stderr",
          "text": [
            "     17/100      6.59G       1.91      1.251      1.299        132        640: 100%|██████████| 93/93 [00:34<00:00,  2.68it/s]\n",
            "                 Class     Images  Instances      Box(P          R      mAP50  mAP50-95): 100%|██████████| 7/7 [00:02<00:00,  2.70it/s]"
          ]
        },
        {
          "output_type": "stream",
          "name": "stdout",
          "text": [
            "                   all        199       1826      0.659      0.624      0.634      0.275\n"
          ]
        },
        {
          "output_type": "stream",
          "name": "stderr",
          "text": [
            "\n"
          ]
        },
        {
          "output_type": "stream",
          "name": "stdout",
          "text": [
            "\n",
            "      Epoch    GPU_mem   box_loss   cls_loss   dfl_loss  Instances       Size\n"
          ]
        },
        {
          "output_type": "stream",
          "name": "stderr",
          "text": [
            "     18/100      6.59G      1.874      1.206      1.299        151        640: 100%|██████████| 93/93 [00:33<00:00,  2.74it/s]\n",
            "                 Class     Images  Instances      Box(P          R      mAP50  mAP50-95): 100%|██████████| 7/7 [00:03<00:00,  1.85it/s]"
          ]
        },
        {
          "output_type": "stream",
          "name": "stdout",
          "text": [
            "                   all        199       1826      0.656      0.624      0.647      0.272\n"
          ]
        },
        {
          "output_type": "stream",
          "name": "stderr",
          "text": [
            "\n"
          ]
        },
        {
          "output_type": "stream",
          "name": "stdout",
          "text": [
            "\n",
            "      Epoch    GPU_mem   box_loss   cls_loss   dfl_loss  Instances       Size\n"
          ]
        },
        {
          "output_type": "stream",
          "name": "stderr",
          "text": [
            "     19/100      6.59G      1.861      1.197      1.297        163        640: 100%|██████████| 93/93 [00:34<00:00,  2.72it/s]\n",
            "                 Class     Images  Instances      Box(P          R      mAP50  mAP50-95): 100%|██████████| 7/7 [00:02<00:00,  2.55it/s]"
          ]
        },
        {
          "output_type": "stream",
          "name": "stdout",
          "text": [
            "                   all        199       1826      0.636      0.611      0.616      0.269\n"
          ]
        },
        {
          "output_type": "stream",
          "name": "stderr",
          "text": [
            "\n"
          ]
        },
        {
          "output_type": "stream",
          "name": "stdout",
          "text": [
            "\n",
            "      Epoch    GPU_mem   box_loss   cls_loss   dfl_loss  Instances       Size\n"
          ]
        },
        {
          "output_type": "stream",
          "name": "stderr",
          "text": [
            "     20/100      6.59G      1.861      1.172      1.268        128        640: 100%|██████████| 93/93 [00:35<00:00,  2.63it/s]\n",
            "                 Class     Images  Instances      Box(P          R      mAP50  mAP50-95): 100%|██████████| 7/7 [00:02<00:00,  2.71it/s]"
          ]
        },
        {
          "output_type": "stream",
          "name": "stdout",
          "text": [
            "                   all        199       1826      0.718      0.633      0.646      0.284\n"
          ]
        },
        {
          "output_type": "stream",
          "name": "stderr",
          "text": [
            "\n"
          ]
        },
        {
          "output_type": "stream",
          "name": "stdout",
          "text": [
            "\n",
            "      Epoch    GPU_mem   box_loss   cls_loss   dfl_loss  Instances       Size\n"
          ]
        },
        {
          "output_type": "stream",
          "name": "stderr",
          "text": [
            "     21/100      7.36G      1.857      1.173      1.276         94        640: 100%|██████████| 93/93 [00:33<00:00,  2.76it/s]\n",
            "                 Class     Images  Instances      Box(P          R      mAP50  mAP50-95): 100%|██████████| 7/7 [00:03<00:00,  1.88it/s]"
          ]
        },
        {
          "output_type": "stream",
          "name": "stdout",
          "text": [
            "                   all        199       1826      0.687       0.64      0.655      0.296\n"
          ]
        },
        {
          "output_type": "stream",
          "name": "stderr",
          "text": [
            "\n"
          ]
        },
        {
          "output_type": "stream",
          "name": "stdout",
          "text": [
            "\n",
            "      Epoch    GPU_mem   box_loss   cls_loss   dfl_loss  Instances       Size\n"
          ]
        },
        {
          "output_type": "stream",
          "name": "stderr",
          "text": [
            "     22/100      7.39G      1.814      1.127      1.251         86        640: 100%|██████████| 93/93 [00:33<00:00,  2.75it/s]\n",
            "                 Class     Images  Instances      Box(P          R      mAP50  mAP50-95): 100%|██████████| 7/7 [00:02<00:00,  2.52it/s]"
          ]
        },
        {
          "output_type": "stream",
          "name": "stdout",
          "text": [
            "                   all        199       1826      0.688      0.634      0.658      0.298\n"
          ]
        },
        {
          "output_type": "stream",
          "name": "stderr",
          "text": [
            "\n"
          ]
        },
        {
          "output_type": "stream",
          "name": "stdout",
          "text": [
            "\n",
            "      Epoch    GPU_mem   box_loss   cls_loss   dfl_loss  Instances       Size\n"
          ]
        },
        {
          "output_type": "stream",
          "name": "stderr",
          "text": [
            "     23/100      7.43G      1.847      1.162      1.274        229        640: 100%|██████████| 93/93 [00:34<00:00,  2.69it/s]\n",
            "                 Class     Images  Instances      Box(P          R      mAP50  mAP50-95): 100%|██████████| 7/7 [00:02<00:00,  2.72it/s]"
          ]
        },
        {
          "output_type": "stream",
          "name": "stdout",
          "text": [
            "                   all        199       1826      0.663      0.658      0.651      0.289\n"
          ]
        },
        {
          "output_type": "stream",
          "name": "stderr",
          "text": [
            "\n"
          ]
        },
        {
          "output_type": "stream",
          "name": "stdout",
          "text": [
            "\n",
            "      Epoch    GPU_mem   box_loss   cls_loss   dfl_loss  Instances       Size\n"
          ]
        },
        {
          "output_type": "stream",
          "name": "stderr",
          "text": [
            "     24/100      7.43G      1.844      1.133      1.246         91        640: 100%|██████████| 93/93 [00:34<00:00,  2.71it/s]\n",
            "                 Class     Images  Instances      Box(P          R      mAP50  mAP50-95): 100%|██████████| 7/7 [00:03<00:00,  2.26it/s]"
          ]
        },
        {
          "output_type": "stream",
          "name": "stdout",
          "text": [
            "                   all        199       1826      0.703      0.656      0.674      0.299\n"
          ]
        },
        {
          "output_type": "stream",
          "name": "stderr",
          "text": [
            "\n"
          ]
        },
        {
          "output_type": "stream",
          "name": "stdout",
          "text": [
            "\n",
            "      Epoch    GPU_mem   box_loss   cls_loss   dfl_loss  Instances       Size\n"
          ]
        },
        {
          "output_type": "stream",
          "name": "stderr",
          "text": [
            "     25/100      7.43G       1.79       1.14      1.255        152        640: 100%|██████████| 93/93 [00:33<00:00,  2.77it/s]\n",
            "                 Class     Images  Instances      Box(P          R      mAP50  mAP50-95): 100%|██████████| 7/7 [00:02<00:00,  2.42it/s]\n"
          ]
        },
        {
          "output_type": "stream",
          "name": "stdout",
          "text": [
            "                   all        199       1826      0.694      0.645      0.667      0.303\n",
            "\n",
            "      Epoch    GPU_mem   box_loss   cls_loss   dfl_loss  Instances       Size\n"
          ]
        },
        {
          "output_type": "stream",
          "name": "stderr",
          "text": [
            "     26/100      7.46G       1.83      1.134      1.275        115        640: 100%|██████████| 93/93 [00:34<00:00,  2.71it/s]\n",
            "                 Class     Images  Instances      Box(P          R      mAP50  mAP50-95): 100%|██████████| 7/7 [00:02<00:00,  2.81it/s]"
          ]
        },
        {
          "output_type": "stream",
          "name": "stdout",
          "text": [
            "                   all        199       1826      0.701      0.652      0.671      0.298\n"
          ]
        },
        {
          "output_type": "stream",
          "name": "stderr",
          "text": [
            "\n"
          ]
        },
        {
          "output_type": "stream",
          "name": "stdout",
          "text": [
            "\n",
            "      Epoch    GPU_mem   box_loss   cls_loss   dfl_loss  Instances       Size\n"
          ]
        },
        {
          "output_type": "stream",
          "name": "stderr",
          "text": [
            "     27/100       7.5G      1.796      1.106      1.249        280        640: 100%|██████████| 93/93 [00:35<00:00,  2.65it/s]\n",
            "                 Class     Images  Instances      Box(P          R      mAP50  mAP50-95): 100%|██████████| 7/7 [00:02<00:00,  2.59it/s]"
          ]
        },
        {
          "output_type": "stream",
          "name": "stdout",
          "text": [
            "                   all        199       1826      0.686      0.667      0.666      0.299\n"
          ]
        },
        {
          "output_type": "stream",
          "name": "stderr",
          "text": [
            "\n"
          ]
        },
        {
          "output_type": "stream",
          "name": "stdout",
          "text": [
            "\n",
            "      Epoch    GPU_mem   box_loss   cls_loss   dfl_loss  Instances       Size\n"
          ]
        },
        {
          "output_type": "stream",
          "name": "stderr",
          "text": [
            "     28/100       7.5G      1.787      1.097      1.246        342        640: 100%|██████████| 93/93 [00:33<00:00,  2.81it/s]\n",
            "                 Class     Images  Instances      Box(P          R      mAP50  mAP50-95): 100%|██████████| 7/7 [00:03<00:00,  2.14it/s]"
          ]
        },
        {
          "output_type": "stream",
          "name": "stdout",
          "text": [
            "                   all        199       1826      0.688      0.661       0.68      0.304\n"
          ]
        },
        {
          "output_type": "stream",
          "name": "stderr",
          "text": [
            "\n"
          ]
        },
        {
          "output_type": "stream",
          "name": "stdout",
          "text": [
            "\n",
            "      Epoch    GPU_mem   box_loss   cls_loss   dfl_loss  Instances       Size\n"
          ]
        },
        {
          "output_type": "stream",
          "name": "stderr",
          "text": [
            "     29/100       7.5G      1.787      1.105      1.232        205        640: 100%|██████████| 93/93 [00:33<00:00,  2.78it/s]\n",
            "                 Class     Images  Instances      Box(P          R      mAP50  mAP50-95): 100%|██████████| 7/7 [00:02<00:00,  2.84it/s]"
          ]
        },
        {
          "output_type": "stream",
          "name": "stdout",
          "text": [
            "                   all        199       1826      0.694      0.681       0.69      0.314\n"
          ]
        },
        {
          "output_type": "stream",
          "name": "stderr",
          "text": [
            "\n"
          ]
        },
        {
          "output_type": "stream",
          "name": "stdout",
          "text": [
            "\n",
            "      Epoch    GPU_mem   box_loss   cls_loss   dfl_loss  Instances       Size\n"
          ]
        },
        {
          "output_type": "stream",
          "name": "stderr",
          "text": [
            "     30/100       7.5G       1.82      1.097      1.259        177        640: 100%|██████████| 93/93 [00:35<00:00,  2.64it/s]\n",
            "                 Class     Images  Instances      Box(P          R      mAP50  mAP50-95): 100%|██████████| 7/7 [00:02<00:00,  2.71it/s]"
          ]
        },
        {
          "output_type": "stream",
          "name": "stdout",
          "text": [
            "                   all        199       1826      0.671      0.695      0.678      0.297\n"
          ]
        },
        {
          "output_type": "stream",
          "name": "stderr",
          "text": [
            "\n"
          ]
        },
        {
          "output_type": "stream",
          "name": "stdout",
          "text": [
            "\n",
            "      Epoch    GPU_mem   box_loss   cls_loss   dfl_loss  Instances       Size\n"
          ]
        },
        {
          "output_type": "stream",
          "name": "stderr",
          "text": [
            "     31/100      7.54G      1.786      1.096      1.249        135        640: 100%|██████████| 93/93 [00:33<00:00,  2.78it/s]\n",
            "                 Class     Images  Instances      Box(P          R      mAP50  mAP50-95): 100%|██████████| 7/7 [00:03<00:00,  1.98it/s]"
          ]
        },
        {
          "output_type": "stream",
          "name": "stdout",
          "text": [
            "                   all        199       1826      0.673      0.625      0.662      0.315\n"
          ]
        },
        {
          "output_type": "stream",
          "name": "stderr",
          "text": [
            "\n"
          ]
        },
        {
          "output_type": "stream",
          "name": "stdout",
          "text": [
            "\n",
            "      Epoch    GPU_mem   box_loss   cls_loss   dfl_loss  Instances       Size\n"
          ]
        },
        {
          "output_type": "stream",
          "name": "stderr",
          "text": [
            "     32/100      7.54G       1.79      1.069      1.255        325        640: 100%|██████████| 93/93 [00:33<00:00,  2.78it/s]\n",
            "                 Class     Images  Instances      Box(P          R      mAP50  mAP50-95): 100%|██████████| 7/7 [00:02<00:00,  2.70it/s]"
          ]
        },
        {
          "output_type": "stream",
          "name": "stdout",
          "text": [
            "                   all        199       1826       0.66      0.646      0.673      0.308\n"
          ]
        },
        {
          "output_type": "stream",
          "name": "stderr",
          "text": [
            "\n"
          ]
        },
        {
          "output_type": "stream",
          "name": "stdout",
          "text": [
            "\n",
            "      Epoch    GPU_mem   box_loss   cls_loss   dfl_loss  Instances       Size\n"
          ]
        },
        {
          "output_type": "stream",
          "name": "stderr",
          "text": [
            "     33/100      7.54G      1.773       1.08      1.231         78        640: 100%|██████████| 93/93 [00:34<00:00,  2.72it/s]\n",
            "                 Class     Images  Instances      Box(P          R      mAP50  mAP50-95): 100%|██████████| 7/7 [00:02<00:00,  2.64it/s]"
          ]
        },
        {
          "output_type": "stream",
          "name": "stdout",
          "text": [
            "                   all        199       1826      0.707      0.693      0.719      0.333\n"
          ]
        },
        {
          "output_type": "stream",
          "name": "stderr",
          "text": [
            "\n"
          ]
        },
        {
          "output_type": "stream",
          "name": "stdout",
          "text": [
            "\n",
            "      Epoch    GPU_mem   box_loss   cls_loss   dfl_loss  Instances       Size\n"
          ]
        },
        {
          "output_type": "stream",
          "name": "stderr",
          "text": [
            "     34/100      7.54G      1.798      1.101      1.247        175        640: 100%|██████████| 93/93 [00:35<00:00,  2.65it/s]\n",
            "                 Class     Images  Instances      Box(P          R      mAP50  mAP50-95): 100%|██████████| 7/7 [00:02<00:00,  2.83it/s]"
          ]
        },
        {
          "output_type": "stream",
          "name": "stdout",
          "text": [
            "                   all        199       1826       0.68      0.685      0.677      0.311\n"
          ]
        },
        {
          "output_type": "stream",
          "name": "stderr",
          "text": [
            "\n"
          ]
        },
        {
          "output_type": "stream",
          "name": "stdout",
          "text": [
            "\n",
            "      Epoch    GPU_mem   box_loss   cls_loss   dfl_loss  Instances       Size\n"
          ]
        },
        {
          "output_type": "stream",
          "name": "stderr",
          "text": [
            "     35/100      7.54G      1.761      1.061      1.244        200        640: 100%|██████████| 93/93 [00:33<00:00,  2.80it/s]\n",
            "                 Class     Images  Instances      Box(P          R      mAP50  mAP50-95): 100%|██████████| 7/7 [00:03<00:00,  2.19it/s]"
          ]
        },
        {
          "output_type": "stream",
          "name": "stdout",
          "text": [
            "                   all        199       1826      0.692      0.685      0.679      0.298\n"
          ]
        },
        {
          "output_type": "stream",
          "name": "stderr",
          "text": [
            "\n"
          ]
        },
        {
          "output_type": "stream",
          "name": "stdout",
          "text": [
            "\n",
            "      Epoch    GPU_mem   box_loss   cls_loss   dfl_loss  Instances       Size\n"
          ]
        },
        {
          "output_type": "stream",
          "name": "stderr",
          "text": [
            "     36/100      7.54G      1.758      1.059      1.244         76        640: 100%|██████████| 93/93 [00:33<00:00,  2.81it/s]\n",
            "                 Class     Images  Instances      Box(P          R      mAP50  mAP50-95): 100%|██████████| 7/7 [00:02<00:00,  2.82it/s]"
          ]
        },
        {
          "output_type": "stream",
          "name": "stdout",
          "text": [
            "                   all        199       1826      0.682      0.721      0.701      0.327\n"
          ]
        },
        {
          "output_type": "stream",
          "name": "stderr",
          "text": [
            "\n"
          ]
        },
        {
          "output_type": "stream",
          "name": "stdout",
          "text": [
            "\n",
            "      Epoch    GPU_mem   box_loss   cls_loss   dfl_loss  Instances       Size\n"
          ]
        },
        {
          "output_type": "stream",
          "name": "stderr",
          "text": [
            "     37/100      7.54G      1.756      1.054      1.235         80        640: 100%|██████████| 93/93 [00:34<00:00,  2.71it/s]\n",
            "                 Class     Images  Instances      Box(P          R      mAP50  mAP50-95): 100%|██████████| 7/7 [00:02<00:00,  2.88it/s]"
          ]
        },
        {
          "output_type": "stream",
          "name": "stdout",
          "text": [
            "                   all        199       1826      0.719      0.721      0.708      0.325\n"
          ]
        },
        {
          "output_type": "stream",
          "name": "stderr",
          "text": [
            "\n"
          ]
        },
        {
          "output_type": "stream",
          "name": "stdout",
          "text": [
            "\n",
            "      Epoch    GPU_mem   box_loss   cls_loss   dfl_loss  Instances       Size\n"
          ]
        },
        {
          "output_type": "stream",
          "name": "stderr",
          "text": [
            "     38/100      7.54G      1.758      1.025      1.227        190        640: 100%|██████████| 93/93 [00:33<00:00,  2.82it/s]\n",
            "                 Class     Images  Instances      Box(P          R      mAP50  mAP50-95): 100%|██████████| 7/7 [00:03<00:00,  1.87it/s]\n"
          ]
        },
        {
          "output_type": "stream",
          "name": "stdout",
          "text": [
            "                   all        199       1826       0.74      0.693      0.717      0.318\n",
            "\n",
            "      Epoch    GPU_mem   box_loss   cls_loss   dfl_loss  Instances       Size\n"
          ]
        },
        {
          "output_type": "stream",
          "name": "stderr",
          "text": [
            "     39/100      7.54G      1.712       1.04      1.212        114        640: 100%|██████████| 93/93 [00:33<00:00,  2.80it/s]\n",
            "                 Class     Images  Instances      Box(P          R      mAP50  mAP50-95): 100%|██████████| 7/7 [00:02<00:00,  2.76it/s]"
          ]
        },
        {
          "output_type": "stream",
          "name": "stdout",
          "text": [
            "                   all        199       1826      0.689      0.701      0.708      0.322\n"
          ]
        },
        {
          "output_type": "stream",
          "name": "stderr",
          "text": [
            "\n"
          ]
        },
        {
          "output_type": "stream",
          "name": "stdout",
          "text": [
            "\n",
            "      Epoch    GPU_mem   box_loss   cls_loss   dfl_loss  Instances       Size\n"
          ]
        },
        {
          "output_type": "stream",
          "name": "stderr",
          "text": [
            "     40/100      7.54G       1.75       1.02      1.222        200        640: 100%|██████████| 93/93 [00:34<00:00,  2.67it/s]\n",
            "                 Class     Images  Instances      Box(P          R      mAP50  mAP50-95): 100%|██████████| 7/7 [00:02<00:00,  2.69it/s]"
          ]
        },
        {
          "output_type": "stream",
          "name": "stdout",
          "text": [
            "                   all        199       1826      0.706      0.702      0.723      0.336\n"
          ]
        },
        {
          "output_type": "stream",
          "name": "stderr",
          "text": [
            "\n"
          ]
        },
        {
          "output_type": "stream",
          "name": "stdout",
          "text": [
            "\n",
            "      Epoch    GPU_mem   box_loss   cls_loss   dfl_loss  Instances       Size\n"
          ]
        },
        {
          "output_type": "stream",
          "name": "stderr",
          "text": [
            "     41/100      7.54G      1.789      1.059       1.24        142        640: 100%|██████████| 93/93 [00:35<00:00,  2.65it/s]\n",
            "                 Class     Images  Instances      Box(P          R      mAP50  mAP50-95): 100%|██████████| 7/7 [00:02<00:00,  2.41it/s]"
          ]
        },
        {
          "output_type": "stream",
          "name": "stdout",
          "text": [
            "                   all        199       1826      0.721      0.689      0.714      0.329\n"
          ]
        },
        {
          "output_type": "stream",
          "name": "stderr",
          "text": [
            "\n"
          ]
        },
        {
          "output_type": "stream",
          "name": "stdout",
          "text": [
            "\n",
            "      Epoch    GPU_mem   box_loss   cls_loss   dfl_loss  Instances       Size\n"
          ]
        },
        {
          "output_type": "stream",
          "name": "stderr",
          "text": [
            "     42/100      7.54G      1.726      1.004      1.208        135        640: 100%|██████████| 93/93 [00:33<00:00,  2.77it/s]\n",
            "                 Class     Images  Instances      Box(P          R      mAP50  mAP50-95): 100%|██████████| 7/7 [00:03<00:00,  1.98it/s]"
          ]
        },
        {
          "output_type": "stream",
          "name": "stdout",
          "text": [
            "                   all        199       1826      0.718      0.658      0.704      0.327\n"
          ]
        },
        {
          "output_type": "stream",
          "name": "stderr",
          "text": [
            "\n"
          ]
        },
        {
          "output_type": "stream",
          "name": "stdout",
          "text": [
            "\n",
            "      Epoch    GPU_mem   box_loss   cls_loss   dfl_loss  Instances       Size\n"
          ]
        },
        {
          "output_type": "stream",
          "name": "stderr",
          "text": [
            "     43/100      7.54G      1.753      1.039      1.229         71        640: 100%|██████████| 93/93 [00:34<00:00,  2.73it/s]\n",
            "                 Class     Images  Instances      Box(P          R      mAP50  mAP50-95): 100%|██████████| 7/7 [00:02<00:00,  2.69it/s]"
          ]
        },
        {
          "output_type": "stream",
          "name": "stdout",
          "text": [
            "                   all        199       1826      0.709      0.694      0.723       0.34\n"
          ]
        },
        {
          "output_type": "stream",
          "name": "stderr",
          "text": [
            "\n"
          ]
        },
        {
          "output_type": "stream",
          "name": "stdout",
          "text": [
            "\n",
            "      Epoch    GPU_mem   box_loss   cls_loss   dfl_loss  Instances       Size\n"
          ]
        },
        {
          "output_type": "stream",
          "name": "stderr",
          "text": [
            "     44/100      7.54G      1.728      1.036      1.227        159        640: 100%|██████████| 93/93 [00:35<00:00,  2.64it/s]\n",
            "                 Class     Images  Instances      Box(P          R      mAP50  mAP50-95): 100%|██████████| 7/7 [00:02<00:00,  2.67it/s]"
          ]
        },
        {
          "output_type": "stream",
          "name": "stdout",
          "text": [
            "                   all        199       1826      0.711      0.727      0.721      0.332\n"
          ]
        },
        {
          "output_type": "stream",
          "name": "stderr",
          "text": [
            "\n"
          ]
        },
        {
          "output_type": "stream",
          "name": "stdout",
          "text": [
            "\n",
            "      Epoch    GPU_mem   box_loss   cls_loss   dfl_loss  Instances       Size\n"
          ]
        },
        {
          "output_type": "stream",
          "name": "stderr",
          "text": [
            "     45/100      7.54G      1.734      1.022      1.225        138        640: 100%|██████████| 93/93 [00:34<00:00,  2.66it/s]\n",
            "                 Class     Images  Instances      Box(P          R      mAP50  mAP50-95): 100%|██████████| 7/7 [00:02<00:00,  2.49it/s]"
          ]
        },
        {
          "output_type": "stream",
          "name": "stdout",
          "text": [
            "                   all        199       1826      0.693      0.713      0.722      0.332\n"
          ]
        },
        {
          "output_type": "stream",
          "name": "stderr",
          "text": [
            "\n"
          ]
        },
        {
          "output_type": "stream",
          "name": "stdout",
          "text": [
            "\n",
            "      Epoch    GPU_mem   box_loss   cls_loss   dfl_loss  Instances       Size\n"
          ]
        },
        {
          "output_type": "stream",
          "name": "stderr",
          "text": [
            "     46/100      7.54G      1.724      1.001      1.217        125        640: 100%|██████████| 93/93 [00:33<00:00,  2.77it/s]\n",
            "                 Class     Images  Instances      Box(P          R      mAP50  mAP50-95): 100%|██████████| 7/7 [00:03<00:00,  2.24it/s]"
          ]
        },
        {
          "output_type": "stream",
          "name": "stdout",
          "text": [
            "                   all        199       1826      0.736      0.689      0.735      0.352\n"
          ]
        },
        {
          "output_type": "stream",
          "name": "stderr",
          "text": [
            "\n"
          ]
        },
        {
          "output_type": "stream",
          "name": "stdout",
          "text": [
            "\n",
            "      Epoch    GPU_mem   box_loss   cls_loss   dfl_loss  Instances       Size\n"
          ]
        },
        {
          "output_type": "stream",
          "name": "stderr",
          "text": [
            "     47/100      7.54G      1.747      1.021      1.225        196        640: 100%|██████████| 93/93 [00:33<00:00,  2.78it/s]\n",
            "                 Class     Images  Instances      Box(P          R      mAP50  mAP50-95): 100%|██████████| 7/7 [00:02<00:00,  2.50it/s]"
          ]
        },
        {
          "output_type": "stream",
          "name": "stdout",
          "text": [
            "                   all        199       1826      0.703      0.729      0.746      0.351\n"
          ]
        },
        {
          "output_type": "stream",
          "name": "stderr",
          "text": [
            "\n"
          ]
        },
        {
          "output_type": "stream",
          "name": "stdout",
          "text": [
            "\n",
            "      Epoch    GPU_mem   box_loss   cls_loss   dfl_loss  Instances       Size\n"
          ]
        },
        {
          "output_type": "stream",
          "name": "stderr",
          "text": [
            "     48/100      7.54G      1.708      1.005      1.209        164        640: 100%|██████████| 93/93 [00:34<00:00,  2.70it/s]\n",
            "                 Class     Images  Instances      Box(P          R      mAP50  mAP50-95): 100%|██████████| 7/7 [00:02<00:00,  2.91it/s]"
          ]
        },
        {
          "output_type": "stream",
          "name": "stdout",
          "text": [
            "                   all        199       1826      0.706      0.702      0.711      0.337\n"
          ]
        },
        {
          "output_type": "stream",
          "name": "stderr",
          "text": [
            "\n"
          ]
        },
        {
          "output_type": "stream",
          "name": "stdout",
          "text": [
            "\n",
            "      Epoch    GPU_mem   box_loss   cls_loss   dfl_loss  Instances       Size\n"
          ]
        },
        {
          "output_type": "stream",
          "name": "stderr",
          "text": [
            "     49/100      7.54G      1.707      0.993      1.202        216        640: 100%|██████████| 93/93 [00:34<00:00,  2.72it/s]\n",
            "                 Class     Images  Instances      Box(P          R      mAP50  mAP50-95): 100%|██████████| 7/7 [00:03<00:00,  2.32it/s]"
          ]
        },
        {
          "output_type": "stream",
          "name": "stdout",
          "text": [
            "                   all        199       1826      0.721       0.72       0.73      0.343\n"
          ]
        },
        {
          "output_type": "stream",
          "name": "stderr",
          "text": [
            "\n"
          ]
        },
        {
          "output_type": "stream",
          "name": "stdout",
          "text": [
            "\n",
            "      Epoch    GPU_mem   box_loss   cls_loss   dfl_loss  Instances       Size\n"
          ]
        },
        {
          "output_type": "stream",
          "name": "stderr",
          "text": [
            "     50/100      7.54G      1.702     0.9824      1.199        253        640: 100%|██████████| 93/93 [00:33<00:00,  2.75it/s]\n",
            "                 Class     Images  Instances      Box(P          R      mAP50  mAP50-95): 100%|██████████| 7/7 [00:02<00:00,  2.36it/s]"
          ]
        },
        {
          "output_type": "stream",
          "name": "stdout",
          "text": [
            "                   all        199       1826       0.71      0.665      0.686       0.32\n"
          ]
        },
        {
          "output_type": "stream",
          "name": "stderr",
          "text": [
            "\n"
          ]
        },
        {
          "output_type": "stream",
          "name": "stdout",
          "text": [
            "\n",
            "      Epoch    GPU_mem   box_loss   cls_loss   dfl_loss  Instances       Size\n"
          ]
        },
        {
          "output_type": "stream",
          "name": "stderr",
          "text": [
            "     51/100      7.54G      1.707     0.9644      1.214        175        640: 100%|██████████| 93/93 [00:33<00:00,  2.77it/s]\n",
            "                 Class     Images  Instances      Box(P          R      mAP50  mAP50-95): 100%|██████████| 7/7 [00:02<00:00,  2.70it/s]"
          ]
        },
        {
          "output_type": "stream",
          "name": "stdout",
          "text": [
            "                   all        199       1826      0.736      0.681      0.714      0.328\n"
          ]
        },
        {
          "output_type": "stream",
          "name": "stderr",
          "text": [
            "\n"
          ]
        },
        {
          "output_type": "stream",
          "name": "stdout",
          "text": [
            "\n",
            "      Epoch    GPU_mem   box_loss   cls_loss   dfl_loss  Instances       Size\n"
          ]
        },
        {
          "output_type": "stream",
          "name": "stderr",
          "text": [
            "     52/100      7.54G      1.707     0.9916      1.215        147        640: 100%|██████████| 93/93 [00:36<00:00,  2.54it/s]\n",
            "                 Class     Images  Instances      Box(P          R      mAP50  mAP50-95): 100%|██████████| 7/7 [00:02<00:00,  2.78it/s]"
          ]
        },
        {
          "output_type": "stream",
          "name": "stdout",
          "text": [
            "                   all        199       1826      0.714      0.695       0.72      0.327\n"
          ]
        },
        {
          "output_type": "stream",
          "name": "stderr",
          "text": [
            "\n"
          ]
        },
        {
          "output_type": "stream",
          "name": "stdout",
          "text": [
            "\n",
            "      Epoch    GPU_mem   box_loss   cls_loss   dfl_loss  Instances       Size\n"
          ]
        },
        {
          "output_type": "stream",
          "name": "stderr",
          "text": [
            "     53/100      7.54G      1.682      0.978      1.195        140        640: 100%|██████████| 93/93 [00:34<00:00,  2.70it/s]\n",
            "                 Class     Images  Instances      Box(P          R      mAP50  mAP50-95): 100%|██████████| 7/7 [00:02<00:00,  2.43it/s]"
          ]
        },
        {
          "output_type": "stream",
          "name": "stdout",
          "text": [
            "                   all        199       1826       0.71      0.709       0.73      0.346\n"
          ]
        },
        {
          "output_type": "stream",
          "name": "stderr",
          "text": [
            "\n"
          ]
        },
        {
          "output_type": "stream",
          "name": "stdout",
          "text": [
            "\n",
            "      Epoch    GPU_mem   box_loss   cls_loss   dfl_loss  Instances       Size\n"
          ]
        },
        {
          "output_type": "stream",
          "name": "stderr",
          "text": [
            "     54/100      7.54G      1.702     0.9689      1.196        184        640: 100%|██████████| 93/93 [00:33<00:00,  2.79it/s]\n",
            "                 Class     Images  Instances      Box(P          R      mAP50  mAP50-95): 100%|██████████| 7/7 [00:03<00:00,  2.30it/s]"
          ]
        },
        {
          "output_type": "stream",
          "name": "stdout",
          "text": [
            "                   all        199       1826      0.707      0.709      0.728      0.345\n"
          ]
        },
        {
          "output_type": "stream",
          "name": "stderr",
          "text": [
            "\n"
          ]
        },
        {
          "output_type": "stream",
          "name": "stdout",
          "text": [
            "\n",
            "      Epoch    GPU_mem   box_loss   cls_loss   dfl_loss  Instances       Size\n"
          ]
        },
        {
          "output_type": "stream",
          "name": "stderr",
          "text": [
            "     55/100      7.54G       1.68     0.9679      1.201        201        640: 100%|██████████| 93/93 [00:33<00:00,  2.76it/s]\n",
            "                 Class     Images  Instances      Box(P          R      mAP50  mAP50-95): 100%|██████████| 7/7 [00:02<00:00,  2.75it/s]"
          ]
        },
        {
          "output_type": "stream",
          "name": "stdout",
          "text": [
            "                   all        199       1826       0.72      0.727      0.739      0.345\n"
          ]
        },
        {
          "output_type": "stream",
          "name": "stderr",
          "text": [
            "\n"
          ]
        },
        {
          "output_type": "stream",
          "name": "stdout",
          "text": [
            "\n",
            "      Epoch    GPU_mem   box_loss   cls_loss   dfl_loss  Instances       Size\n"
          ]
        },
        {
          "output_type": "stream",
          "name": "stderr",
          "text": [
            "     56/100      7.54G      1.694     0.9579      1.175        231        640: 100%|██████████| 93/93 [00:34<00:00,  2.68it/s]\n",
            "                 Class     Images  Instances      Box(P          R      mAP50  mAP50-95): 100%|██████████| 7/7 [00:02<00:00,  2.93it/s]"
          ]
        },
        {
          "output_type": "stream",
          "name": "stdout",
          "text": [
            "                   all        199       1826      0.696      0.698      0.712      0.342\n"
          ]
        },
        {
          "output_type": "stream",
          "name": "stderr",
          "text": [
            "\n"
          ]
        },
        {
          "output_type": "stream",
          "name": "stdout",
          "text": [
            "\n",
            "      Epoch    GPU_mem   box_loss   cls_loss   dfl_loss  Instances       Size\n"
          ]
        },
        {
          "output_type": "stream",
          "name": "stderr",
          "text": [
            "     57/100      7.54G      1.648     0.9354      1.198        149        640: 100%|██████████| 93/93 [00:33<00:00,  2.78it/s]\n",
            "                 Class     Images  Instances      Box(P          R      mAP50  mAP50-95): 100%|██████████| 7/7 [00:03<00:00,  1.91it/s]"
          ]
        },
        {
          "output_type": "stream",
          "name": "stdout",
          "text": [
            "                   all        199       1826      0.708      0.711      0.728      0.351\n"
          ]
        },
        {
          "output_type": "stream",
          "name": "stderr",
          "text": [
            "\n"
          ]
        },
        {
          "output_type": "stream",
          "name": "stdout",
          "text": [
            "\n",
            "      Epoch    GPU_mem   box_loss   cls_loss   dfl_loss  Instances       Size\n"
          ]
        },
        {
          "output_type": "stream",
          "name": "stderr",
          "text": [
            "     58/100      7.54G      1.654     0.9566       1.19        109        640: 100%|██████████| 93/93 [00:33<00:00,  2.80it/s]\n",
            "                 Class     Images  Instances      Box(P          R      mAP50  mAP50-95): 100%|██████████| 7/7 [00:02<00:00,  2.60it/s]"
          ]
        },
        {
          "output_type": "stream",
          "name": "stdout",
          "text": [
            "                   all        199       1826      0.742      0.735      0.753      0.354\n"
          ]
        },
        {
          "output_type": "stream",
          "name": "stderr",
          "text": [
            "\n"
          ]
        },
        {
          "output_type": "stream",
          "name": "stdout",
          "text": [
            "\n",
            "      Epoch    GPU_mem   box_loss   cls_loss   dfl_loss  Instances       Size\n"
          ]
        },
        {
          "output_type": "stream",
          "name": "stderr",
          "text": [
            "     59/100      7.54G      1.623     0.9235      1.196         99        640: 100%|██████████| 93/93 [00:34<00:00,  2.68it/s]\n",
            "                 Class     Images  Instances      Box(P          R      mAP50  mAP50-95): 100%|██████████| 7/7 [00:02<00:00,  2.80it/s]"
          ]
        },
        {
          "output_type": "stream",
          "name": "stdout",
          "text": [
            "                   all        199       1826      0.741      0.697      0.737      0.354\n"
          ]
        },
        {
          "output_type": "stream",
          "name": "stderr",
          "text": [
            "\n"
          ]
        },
        {
          "output_type": "stream",
          "name": "stdout",
          "text": [
            "\n",
            "      Epoch    GPU_mem   box_loss   cls_loss   dfl_loss  Instances       Size\n"
          ]
        },
        {
          "output_type": "stream",
          "name": "stderr",
          "text": [
            "     60/100      7.54G      1.655     0.9223      1.188        106        640: 100%|██████████| 93/93 [00:34<00:00,  2.70it/s]\n",
            "                 Class     Images  Instances      Box(P          R      mAP50  mAP50-95): 100%|██████████| 7/7 [00:02<00:00,  2.56it/s]"
          ]
        },
        {
          "output_type": "stream",
          "name": "stdout",
          "text": [
            "                   all        199       1826      0.704      0.714      0.736      0.347\n"
          ]
        },
        {
          "output_type": "stream",
          "name": "stderr",
          "text": [
            "\n"
          ]
        },
        {
          "output_type": "stream",
          "name": "stdout",
          "text": [
            "\n",
            "      Epoch    GPU_mem   box_loss   cls_loss   dfl_loss  Instances       Size\n"
          ]
        },
        {
          "output_type": "stream",
          "name": "stderr",
          "text": [
            "     61/100      7.54G      1.669     0.9444        1.2        161        640: 100%|██████████| 93/93 [00:32<00:00,  2.83it/s]\n",
            "                 Class     Images  Instances      Box(P          R      mAP50  mAP50-95): 100%|██████████| 7/7 [00:03<00:00,  2.31it/s]"
          ]
        },
        {
          "output_type": "stream",
          "name": "stdout",
          "text": [
            "                   all        199       1826      0.715      0.705      0.733      0.356\n"
          ]
        },
        {
          "output_type": "stream",
          "name": "stderr",
          "text": [
            "\n"
          ]
        },
        {
          "output_type": "stream",
          "name": "stdout",
          "text": [
            "\n",
            "      Epoch    GPU_mem   box_loss   cls_loss   dfl_loss  Instances       Size\n"
          ]
        },
        {
          "output_type": "stream",
          "name": "stderr",
          "text": [
            "     62/100      7.54G      1.634     0.9247      1.169         67        640: 100%|██████████| 93/93 [00:33<00:00,  2.76it/s]\n",
            "                 Class     Images  Instances      Box(P          R      mAP50  mAP50-95): 100%|██████████| 7/7 [00:02<00:00,  2.68it/s]"
          ]
        },
        {
          "output_type": "stream",
          "name": "stdout",
          "text": [
            "                   all        199       1826      0.705      0.691      0.712      0.345\n"
          ]
        },
        {
          "output_type": "stream",
          "name": "stderr",
          "text": [
            "\n"
          ]
        },
        {
          "output_type": "stream",
          "name": "stdout",
          "text": [
            "\n",
            "      Epoch    GPU_mem   box_loss   cls_loss   dfl_loss  Instances       Size\n"
          ]
        },
        {
          "output_type": "stream",
          "name": "stderr",
          "text": [
            "     63/100      7.54G       1.65     0.9296       1.18        140        640: 100%|██████████| 93/93 [00:34<00:00,  2.70it/s]\n",
            "                 Class     Images  Instances      Box(P          R      mAP50  mAP50-95): 100%|██████████| 7/7 [00:02<00:00,  2.67it/s]"
          ]
        },
        {
          "output_type": "stream",
          "name": "stdout",
          "text": [
            "                   all        199       1826      0.733      0.701      0.743      0.355\n"
          ]
        },
        {
          "output_type": "stream",
          "name": "stderr",
          "text": [
            "\n"
          ]
        },
        {
          "output_type": "stream",
          "name": "stdout",
          "text": [
            "\n",
            "      Epoch    GPU_mem   box_loss   cls_loss   dfl_loss  Instances       Size\n"
          ]
        },
        {
          "output_type": "stream",
          "name": "stderr",
          "text": [
            "     64/100      7.54G       1.65     0.9062      1.178        112        640: 100%|██████████| 93/93 [00:33<00:00,  2.74it/s]\n",
            "                 Class     Images  Instances      Box(P          R      mAP50  mAP50-95): 100%|██████████| 7/7 [00:03<00:00,  2.02it/s]"
          ]
        },
        {
          "output_type": "stream",
          "name": "stdout",
          "text": [
            "                   all        199       1826      0.717      0.731      0.739      0.353\n"
          ]
        },
        {
          "output_type": "stream",
          "name": "stderr",
          "text": [
            "\n"
          ]
        },
        {
          "output_type": "stream",
          "name": "stdout",
          "text": [
            "\n",
            "      Epoch    GPU_mem   box_loss   cls_loss   dfl_loss  Instances       Size\n"
          ]
        },
        {
          "output_type": "stream",
          "name": "stderr",
          "text": [
            "     65/100      7.54G      1.625     0.9277      1.194        142        640: 100%|██████████| 93/93 [00:33<00:00,  2.79it/s]\n",
            "                 Class     Images  Instances      Box(P          R      mAP50  mAP50-95): 100%|██████████| 7/7 [00:02<00:00,  2.82it/s]"
          ]
        },
        {
          "output_type": "stream",
          "name": "stdout",
          "text": [
            "                   all        199       1826       0.73      0.723      0.753      0.366\n"
          ]
        },
        {
          "output_type": "stream",
          "name": "stderr",
          "text": [
            "\n"
          ]
        },
        {
          "output_type": "stream",
          "name": "stdout",
          "text": [
            "\n",
            "      Epoch    GPU_mem   box_loss   cls_loss   dfl_loss  Instances       Size\n"
          ]
        },
        {
          "output_type": "stream",
          "name": "stderr",
          "text": [
            "     66/100      7.54G      1.629     0.9094      1.168        156        640: 100%|██████████| 93/93 [00:34<00:00,  2.69it/s]\n",
            "                 Class     Images  Instances      Box(P          R      mAP50  mAP50-95): 100%|██████████| 7/7 [00:02<00:00,  2.60it/s]"
          ]
        },
        {
          "output_type": "stream",
          "name": "stdout",
          "text": [
            "                   all        199       1826      0.732      0.728      0.743      0.355\n"
          ]
        },
        {
          "output_type": "stream",
          "name": "stderr",
          "text": [
            "\n"
          ]
        },
        {
          "output_type": "stream",
          "name": "stdout",
          "text": [
            "\n",
            "      Epoch    GPU_mem   box_loss   cls_loss   dfl_loss  Instances       Size\n"
          ]
        },
        {
          "output_type": "stream",
          "name": "stderr",
          "text": [
            "     67/100      7.54G      1.616      0.898      1.171        233        640: 100%|██████████| 93/93 [00:34<00:00,  2.70it/s]\n",
            "                 Class     Images  Instances      Box(P          R      mAP50  mAP50-95): 100%|██████████| 7/7 [00:03<00:00,  2.26it/s]"
          ]
        },
        {
          "output_type": "stream",
          "name": "stdout",
          "text": [
            "                   all        199       1826      0.754       0.73      0.761      0.359\n"
          ]
        },
        {
          "output_type": "stream",
          "name": "stderr",
          "text": [
            "\n"
          ]
        },
        {
          "output_type": "stream",
          "name": "stdout",
          "text": [
            "\n",
            "      Epoch    GPU_mem   box_loss   cls_loss   dfl_loss  Instances       Size\n"
          ]
        },
        {
          "output_type": "stream",
          "name": "stderr",
          "text": [
            "     68/100      7.54G      1.647      0.925      1.183        173        640: 100%|██████████| 93/93 [00:33<00:00,  2.76it/s]\n",
            "                 Class     Images  Instances      Box(P          R      mAP50  mAP50-95): 100%|██████████| 7/7 [00:03<00:00,  2.27it/s]"
          ]
        },
        {
          "output_type": "stream",
          "name": "stdout",
          "text": [
            "                   all        199       1826      0.736      0.735       0.76      0.368\n"
          ]
        },
        {
          "output_type": "stream",
          "name": "stderr",
          "text": [
            "\n"
          ]
        },
        {
          "output_type": "stream",
          "name": "stdout",
          "text": [
            "\n",
            "      Epoch    GPU_mem   box_loss   cls_loss   dfl_loss  Instances       Size\n"
          ]
        },
        {
          "output_type": "stream",
          "name": "stderr",
          "text": [
            "     69/100      7.54G      1.609     0.9028      1.175        108        640: 100%|██████████| 93/93 [00:33<00:00,  2.75it/s]\n",
            "                 Class     Images  Instances      Box(P          R      mAP50  mAP50-95): 100%|██████████| 7/7 [00:02<00:00,  2.85it/s]"
          ]
        },
        {
          "output_type": "stream",
          "name": "stdout",
          "text": [
            "                   all        199       1826      0.723       0.72      0.736      0.358\n"
          ]
        },
        {
          "output_type": "stream",
          "name": "stderr",
          "text": [
            "\n"
          ]
        },
        {
          "output_type": "stream",
          "name": "stdout",
          "text": [
            "\n",
            "      Epoch    GPU_mem   box_loss   cls_loss   dfl_loss  Instances       Size\n"
          ]
        },
        {
          "output_type": "stream",
          "name": "stderr",
          "text": [
            "     70/100      7.54G      1.661     0.9111      1.174        195        640: 100%|██████████| 93/93 [00:34<00:00,  2.66it/s]\n",
            "                 Class     Images  Instances      Box(P          R      mAP50  mAP50-95): 100%|██████████| 7/7 [00:02<00:00,  2.56it/s]"
          ]
        },
        {
          "output_type": "stream",
          "name": "stdout",
          "text": [
            "                   all        199       1826      0.756      0.746      0.781      0.376\n"
          ]
        },
        {
          "output_type": "stream",
          "name": "stderr",
          "text": [
            "\n"
          ]
        },
        {
          "output_type": "stream",
          "name": "stdout",
          "text": [
            "\n",
            "      Epoch    GPU_mem   box_loss   cls_loss   dfl_loss  Instances       Size\n"
          ]
        },
        {
          "output_type": "stream",
          "name": "stderr",
          "text": [
            "     71/100      7.54G      1.633     0.9015       1.19        115        640: 100%|██████████| 93/93 [00:33<00:00,  2.78it/s]\n",
            "                 Class     Images  Instances      Box(P          R      mAP50  mAP50-95): 100%|██████████| 7/7 [00:03<00:00,  1.91it/s]"
          ]
        },
        {
          "output_type": "stream",
          "name": "stdout",
          "text": [
            "                   all        199       1826      0.726      0.723      0.741      0.356\n"
          ]
        },
        {
          "output_type": "stream",
          "name": "stderr",
          "text": [
            "\n"
          ]
        },
        {
          "output_type": "stream",
          "name": "stdout",
          "text": [
            "\n",
            "      Epoch    GPU_mem   box_loss   cls_loss   dfl_loss  Instances       Size\n"
          ]
        },
        {
          "output_type": "stream",
          "name": "stderr",
          "text": [
            "     72/100      7.54G      1.586     0.8761      1.168        201        640: 100%|██████████| 93/93 [00:33<00:00,  2.76it/s]\n",
            "                 Class     Images  Instances      Box(P          R      mAP50  mAP50-95): 100%|██████████| 7/7 [00:02<00:00,  2.55it/s]"
          ]
        },
        {
          "output_type": "stream",
          "name": "stdout",
          "text": [
            "                   all        199       1826      0.742       0.73      0.755      0.369\n"
          ]
        },
        {
          "output_type": "stream",
          "name": "stderr",
          "text": [
            "\n"
          ]
        },
        {
          "output_type": "stream",
          "name": "stdout",
          "text": [
            "\n",
            "      Epoch    GPU_mem   box_loss   cls_loss   dfl_loss  Instances       Size\n"
          ]
        },
        {
          "output_type": "stream",
          "name": "stderr",
          "text": [
            "     73/100      7.54G       1.61     0.8713       1.16         72        640: 100%|██████████| 93/93 [00:35<00:00,  2.65it/s]\n",
            "                 Class     Images  Instances      Box(P          R      mAP50  mAP50-95): 100%|██████████| 7/7 [00:02<00:00,  2.85it/s]"
          ]
        },
        {
          "output_type": "stream",
          "name": "stdout",
          "text": [
            "                   all        199       1826      0.755       0.74       0.78      0.371\n"
          ]
        },
        {
          "output_type": "stream",
          "name": "stderr",
          "text": [
            "\n"
          ]
        },
        {
          "output_type": "stream",
          "name": "stdout",
          "text": [
            "\n",
            "      Epoch    GPU_mem   box_loss   cls_loss   dfl_loss  Instances       Size\n"
          ]
        },
        {
          "output_type": "stream",
          "name": "stderr",
          "text": [
            "     74/100      7.54G      1.567     0.8534      1.149        103        640: 100%|██████████| 93/93 [00:34<00:00,  2.67it/s]\n",
            "                 Class     Images  Instances      Box(P          R      mAP50  mAP50-95): 100%|██████████| 7/7 [00:02<00:00,  2.54it/s]"
          ]
        },
        {
          "output_type": "stream",
          "name": "stdout",
          "text": [
            "                   all        199       1826       0.75      0.729       0.76      0.374\n"
          ]
        },
        {
          "output_type": "stream",
          "name": "stderr",
          "text": [
            "\n"
          ]
        },
        {
          "output_type": "stream",
          "name": "stdout",
          "text": [
            "\n",
            "      Epoch    GPU_mem   box_loss   cls_loss   dfl_loss  Instances       Size\n"
          ]
        },
        {
          "output_type": "stream",
          "name": "stderr",
          "text": [
            "     75/100      7.54G      1.596     0.8618      1.172        164        640: 100%|██████████| 93/93 [00:33<00:00,  2.78it/s]\n",
            "                 Class     Images  Instances      Box(P          R      mAP50  mAP50-95): 100%|██████████| 7/7 [00:03<00:00,  2.03it/s]"
          ]
        },
        {
          "output_type": "stream",
          "name": "stdout",
          "text": [
            "                   all        199       1826      0.731      0.735      0.762      0.373\n"
          ]
        },
        {
          "output_type": "stream",
          "name": "stderr",
          "text": [
            "\n"
          ]
        },
        {
          "output_type": "stream",
          "name": "stdout",
          "text": [
            "\n",
            "      Epoch    GPU_mem   box_loss   cls_loss   dfl_loss  Instances       Size\n"
          ]
        },
        {
          "output_type": "stream",
          "name": "stderr",
          "text": [
            "     76/100      7.54G      1.611     0.8689      1.165        179        640: 100%|██████████| 93/93 [00:32<00:00,  2.83it/s]\n",
            "                 Class     Images  Instances      Box(P          R      mAP50  mAP50-95): 100%|██████████| 7/7 [00:02<00:00,  2.86it/s]"
          ]
        },
        {
          "output_type": "stream",
          "name": "stdout",
          "text": [
            "                   all        199       1826      0.752      0.736      0.761      0.372\n"
          ]
        },
        {
          "output_type": "stream",
          "name": "stderr",
          "text": [
            "\n"
          ]
        },
        {
          "output_type": "stream",
          "name": "stdout",
          "text": [
            "\n",
            "      Epoch    GPU_mem   box_loss   cls_loss   dfl_loss  Instances       Size\n"
          ]
        },
        {
          "output_type": "stream",
          "name": "stderr",
          "text": [
            "     77/100      7.54G      1.586     0.8536      1.141        174        640: 100%|██████████| 93/93 [00:35<00:00,  2.65it/s]\n",
            "                 Class     Images  Instances      Box(P          R      mAP50  mAP50-95): 100%|██████████| 7/7 [00:02<00:00,  2.80it/s]"
          ]
        },
        {
          "output_type": "stream",
          "name": "stdout",
          "text": [
            "                   all        199       1826      0.738      0.729      0.758      0.374\n"
          ]
        },
        {
          "output_type": "stream",
          "name": "stderr",
          "text": [
            "\n"
          ]
        },
        {
          "output_type": "stream",
          "name": "stdout",
          "text": [
            "\n",
            "      Epoch    GPU_mem   box_loss   cls_loss   dfl_loss  Instances       Size\n"
          ]
        },
        {
          "output_type": "stream",
          "name": "stderr",
          "text": [
            "     78/100      7.54G       1.58     0.8502      1.161        104        640: 100%|██████████| 93/93 [00:33<00:00,  2.74it/s]\n",
            "                 Class     Images  Instances      Box(P          R      mAP50  mAP50-95): 100%|██████████| 7/7 [00:03<00:00,  2.02it/s]"
          ]
        },
        {
          "output_type": "stream",
          "name": "stdout",
          "text": [
            "                   all        199       1826      0.739      0.699      0.739      0.361\n"
          ]
        },
        {
          "output_type": "stream",
          "name": "stderr",
          "text": [
            "\n"
          ]
        },
        {
          "output_type": "stream",
          "name": "stdout",
          "text": [
            "\n",
            "      Epoch    GPU_mem   box_loss   cls_loss   dfl_loss  Instances       Size\n"
          ]
        },
        {
          "output_type": "stream",
          "name": "stderr",
          "text": [
            "     79/100      7.54G      1.591     0.8571      1.163        203        640: 100%|██████████| 93/93 [00:33<00:00,  2.79it/s]\n",
            "                 Class     Images  Instances      Box(P          R      mAP50  mAP50-95): 100%|██████████| 7/7 [00:02<00:00,  2.73it/s]"
          ]
        },
        {
          "output_type": "stream",
          "name": "stdout",
          "text": [
            "                   all        199       1826       0.75      0.744       0.77      0.374\n"
          ]
        },
        {
          "output_type": "stream",
          "name": "stderr",
          "text": [
            "\n"
          ]
        },
        {
          "output_type": "stream",
          "name": "stdout",
          "text": [
            "\n",
            "      Epoch    GPU_mem   box_loss   cls_loss   dfl_loss  Instances       Size\n"
          ]
        },
        {
          "output_type": "stream",
          "name": "stderr",
          "text": [
            "     80/100      7.54G      1.579     0.8472      1.155        163        640: 100%|██████████| 93/93 [00:34<00:00,  2.67it/s]\n",
            "                 Class     Images  Instances      Box(P          R      mAP50  mAP50-95): 100%|██████████| 7/7 [00:02<00:00,  2.71it/s]"
          ]
        },
        {
          "output_type": "stream",
          "name": "stdout",
          "text": [
            "                   all        199       1826      0.753      0.749      0.775       0.37\n"
          ]
        },
        {
          "output_type": "stream",
          "name": "stderr",
          "text": [
            "\n"
          ]
        },
        {
          "output_type": "stream",
          "name": "stdout",
          "text": [
            "\n",
            "      Epoch    GPU_mem   box_loss   cls_loss   dfl_loss  Instances       Size\n"
          ]
        },
        {
          "output_type": "stream",
          "name": "stderr",
          "text": [
            "     81/100      7.54G      1.601     0.8548      1.162        156        640: 100%|██████████| 93/93 [00:34<00:00,  2.68it/s]\n",
            "                 Class     Images  Instances      Box(P          R      mAP50  mAP50-95): 100%|██████████| 7/7 [00:02<00:00,  2.60it/s]"
          ]
        },
        {
          "output_type": "stream",
          "name": "stdout",
          "text": [
            "                   all        199       1826      0.756      0.727      0.762      0.372\n"
          ]
        },
        {
          "output_type": "stream",
          "name": "stderr",
          "text": [
            "\n"
          ]
        },
        {
          "output_type": "stream",
          "name": "stdout",
          "text": [
            "\n",
            "      Epoch    GPU_mem   box_loss   cls_loss   dfl_loss  Instances       Size\n"
          ]
        },
        {
          "output_type": "stream",
          "name": "stderr",
          "text": [
            "     82/100      7.54G       1.58     0.8535      1.152        194        640: 100%|██████████| 93/93 [00:33<00:00,  2.78it/s]\n",
            "                 Class     Images  Instances      Box(P          R      mAP50  mAP50-95): 100%|██████████| 7/7 [00:03<00:00,  2.04it/s]\n"
          ]
        },
        {
          "output_type": "stream",
          "name": "stdout",
          "text": [
            "                   all        199       1826      0.748       0.74      0.766      0.374\n",
            "\n",
            "      Epoch    GPU_mem   box_loss   cls_loss   dfl_loss  Instances       Size\n"
          ]
        },
        {
          "output_type": "stream",
          "name": "stderr",
          "text": [
            "     83/100      7.54G      1.593     0.8553      1.144         92        640: 100%|██████████| 93/93 [00:33<00:00,  2.78it/s]\n",
            "                 Class     Images  Instances      Box(P          R      mAP50  mAP50-95): 100%|██████████| 7/7 [00:02<00:00,  2.73it/s]"
          ]
        },
        {
          "output_type": "stream",
          "name": "stdout",
          "text": [
            "                   all        199       1826      0.732      0.721      0.762       0.37\n"
          ]
        },
        {
          "output_type": "stream",
          "name": "stderr",
          "text": [
            "\n"
          ]
        },
        {
          "output_type": "stream",
          "name": "stdout",
          "text": [
            "\n",
            "      Epoch    GPU_mem   box_loss   cls_loss   dfl_loss  Instances       Size\n"
          ]
        },
        {
          "output_type": "stream",
          "name": "stderr",
          "text": [
            "     84/100      7.54G      1.542     0.8267      1.144        236        640: 100%|██████████| 93/93 [00:33<00:00,  2.74it/s]\n",
            "                 Class     Images  Instances      Box(P          R      mAP50  mAP50-95): 100%|██████████| 7/7 [00:02<00:00,  2.59it/s]"
          ]
        },
        {
          "output_type": "stream",
          "name": "stdout",
          "text": [
            "                   all        199       1826      0.726      0.713      0.743       0.37\n"
          ]
        },
        {
          "output_type": "stream",
          "name": "stderr",
          "text": [
            "\n"
          ]
        },
        {
          "output_type": "stream",
          "name": "stdout",
          "text": [
            "\n",
            "      Epoch    GPU_mem   box_loss   cls_loss   dfl_loss  Instances       Size\n"
          ]
        },
        {
          "output_type": "stream",
          "name": "stderr",
          "text": [
            "     85/100      7.54G      1.542     0.8351       1.14         41        640: 100%|██████████| 93/93 [00:33<00:00,  2.81it/s]\n",
            "                 Class     Images  Instances      Box(P          R      mAP50  mAP50-95): 100%|██████████| 7/7 [00:03<00:00,  1.77it/s]"
          ]
        },
        {
          "output_type": "stream",
          "name": "stdout",
          "text": [
            "                   all        199       1826      0.735      0.733      0.759      0.371\n"
          ]
        },
        {
          "output_type": "stream",
          "name": "stderr",
          "text": [
            "\n"
          ]
        },
        {
          "output_type": "stream",
          "name": "stdout",
          "text": [
            "\n",
            "      Epoch    GPU_mem   box_loss   cls_loss   dfl_loss  Instances       Size\n"
          ]
        },
        {
          "output_type": "stream",
          "name": "stderr",
          "text": [
            "     86/100      7.54G      1.534     0.8151      1.129        133        640: 100%|██████████| 93/93 [00:32<00:00,  2.83it/s]\n",
            "                 Class     Images  Instances      Box(P          R      mAP50  mAP50-95): 100%|██████████| 7/7 [00:02<00:00,  2.81it/s]"
          ]
        },
        {
          "output_type": "stream",
          "name": "stdout",
          "text": [
            "                   all        199       1826      0.731       0.74      0.759      0.373\n"
          ]
        },
        {
          "output_type": "stream",
          "name": "stderr",
          "text": [
            "\n"
          ]
        },
        {
          "output_type": "stream",
          "name": "stdout",
          "text": [
            "\n",
            "      Epoch    GPU_mem   box_loss   cls_loss   dfl_loss  Instances       Size\n"
          ]
        },
        {
          "output_type": "stream",
          "name": "stderr",
          "text": [
            "     87/100      7.54G      1.518     0.8032      1.119        142        640: 100%|██████████| 93/93 [00:33<00:00,  2.74it/s]\n",
            "                 Class     Images  Instances      Box(P          R      mAP50  mAP50-95): 100%|██████████| 7/7 [00:02<00:00,  2.60it/s]"
          ]
        },
        {
          "output_type": "stream",
          "name": "stdout",
          "text": [
            "                   all        199       1826      0.735      0.736      0.768      0.379\n"
          ]
        },
        {
          "output_type": "stream",
          "name": "stderr",
          "text": [
            "\n"
          ]
        },
        {
          "output_type": "stream",
          "name": "stdout",
          "text": [
            "\n",
            "      Epoch    GPU_mem   box_loss   cls_loss   dfl_loss  Instances       Size\n"
          ]
        },
        {
          "output_type": "stream",
          "name": "stderr",
          "text": [
            "     88/100      7.54G      1.517     0.8113      1.134        236        640: 100%|██████████| 93/93 [00:33<00:00,  2.79it/s]\n",
            "                 Class     Images  Instances      Box(P          R      mAP50  mAP50-95): 100%|██████████| 7/7 [00:03<00:00,  1.88it/s]"
          ]
        },
        {
          "output_type": "stream",
          "name": "stdout",
          "text": [
            "                   all        199       1826      0.743      0.731      0.767      0.378\n"
          ]
        },
        {
          "output_type": "stream",
          "name": "stderr",
          "text": [
            "\n"
          ]
        },
        {
          "output_type": "stream",
          "name": "stdout",
          "text": [
            "\n",
            "      Epoch    GPU_mem   box_loss   cls_loss   dfl_loss  Instances       Size\n"
          ]
        },
        {
          "output_type": "stream",
          "name": "stderr",
          "text": [
            "     89/100      7.54G      1.552       0.82      1.141        203        640: 100%|██████████| 93/93 [00:32<00:00,  2.83it/s]\n",
            "                 Class     Images  Instances      Box(P          R      mAP50  mAP50-95): 100%|██████████| 7/7 [00:02<00:00,  2.70it/s]"
          ]
        },
        {
          "output_type": "stream",
          "name": "stdout",
          "text": [
            "                   all        199       1826      0.752      0.727      0.761      0.373\n"
          ]
        },
        {
          "output_type": "stream",
          "name": "stderr",
          "text": [
            "\n"
          ]
        },
        {
          "output_type": "stream",
          "name": "stdout",
          "text": [
            "\n",
            "      Epoch    GPU_mem   box_loss   cls_loss   dfl_loss  Instances       Size\n"
          ]
        },
        {
          "output_type": "stream",
          "name": "stderr",
          "text": [
            "     90/100      7.54G      1.511     0.8041      1.132         95        640: 100%|██████████| 93/93 [00:34<00:00,  2.69it/s]\n",
            "                 Class     Images  Instances      Box(P          R      mAP50  mAP50-95): 100%|██████████| 7/7 [00:02<00:00,  2.81it/s]"
          ]
        },
        {
          "output_type": "stream",
          "name": "stdout",
          "text": [
            "                   all        199       1826      0.758      0.736      0.772      0.382\n"
          ]
        },
        {
          "output_type": "stream",
          "name": "stderr",
          "text": [
            "\n"
          ]
        },
        {
          "output_type": "stream",
          "name": "stdout",
          "text": [
            "Closing dataloader mosaic\n",
            "\u001b[34m\u001b[1malbumentations: \u001b[0mBlur(p=0.01, blur_limit=(3, 7)), MedianBlur(p=0.01, blur_limit=(3, 7)), ToGray(p=0.01, num_output_channels=3, method='weighted_average'), CLAHE(p=0.01, clip_limit=(1.0, 4.0), tile_grid_size=(8, 8))\n",
            "\n",
            "      Epoch    GPU_mem   box_loss   cls_loss   dfl_loss  Instances       Size\n"
          ]
        },
        {
          "output_type": "stream",
          "name": "stderr",
          "text": [
            "     91/100      7.54G        1.5     0.7746      1.139        179        640: 100%|██████████| 93/93 [00:35<00:00,  2.62it/s]\n",
            "                 Class     Images  Instances      Box(P          R      mAP50  mAP50-95): 100%|██████████| 7/7 [00:02<00:00,  2.78it/s]"
          ]
        },
        {
          "output_type": "stream",
          "name": "stdout",
          "text": [
            "                   all        199       1826      0.758      0.736      0.771      0.383\n"
          ]
        },
        {
          "output_type": "stream",
          "name": "stderr",
          "text": [
            "\n"
          ]
        },
        {
          "output_type": "stream",
          "name": "stdout",
          "text": [
            "\n",
            "      Epoch    GPU_mem   box_loss   cls_loss   dfl_loss  Instances       Size\n"
          ]
        },
        {
          "output_type": "stream",
          "name": "stderr",
          "text": [
            "     92/100      7.54G      1.522     0.7724      1.137         57        640: 100%|██████████| 93/93 [00:31<00:00,  2.91it/s]\n",
            "                 Class     Images  Instances      Box(P          R      mAP50  mAP50-95): 100%|██████████| 7/7 [00:02<00:00,  2.91it/s]\n"
          ]
        },
        {
          "output_type": "stream",
          "name": "stdout",
          "text": [
            "                   all        199       1826      0.734      0.728      0.761      0.378\n",
            "\n",
            "      Epoch    GPU_mem   box_loss   cls_loss   dfl_loss  Instances       Size\n"
          ]
        },
        {
          "output_type": "stream",
          "name": "stderr",
          "text": [
            "     93/100      7.54G      1.492     0.7583      1.131        198        640: 100%|██████████| 93/93 [00:32<00:00,  2.84it/s]\n",
            "                 Class     Images  Instances      Box(P          R      mAP50  mAP50-95): 100%|██████████| 7/7 [00:02<00:00,  2.99it/s]"
          ]
        },
        {
          "output_type": "stream",
          "name": "stdout",
          "text": [
            "                   all        199       1826      0.755      0.731       0.77      0.389\n"
          ]
        },
        {
          "output_type": "stream",
          "name": "stderr",
          "text": [
            "\n"
          ]
        },
        {
          "output_type": "stream",
          "name": "stdout",
          "text": [
            "\n",
            "      Epoch    GPU_mem   box_loss   cls_loss   dfl_loss  Instances       Size\n"
          ]
        },
        {
          "output_type": "stream",
          "name": "stderr",
          "text": [
            "     94/100      7.54G      1.476      0.749      1.123        148        640: 100%|██████████| 93/93 [00:31<00:00,  2.92it/s]\n",
            "                 Class     Images  Instances      Box(P          R      mAP50  mAP50-95): 100%|██████████| 7/7 [00:03<00:00,  2.11it/s]\n"
          ]
        },
        {
          "output_type": "stream",
          "name": "stdout",
          "text": [
            "                   all        199       1826      0.761      0.731      0.774      0.386\n",
            "\n",
            "      Epoch    GPU_mem   box_loss   cls_loss   dfl_loss  Instances       Size\n"
          ]
        },
        {
          "output_type": "stream",
          "name": "stderr",
          "text": [
            "     95/100      7.54G      1.483     0.7542      1.131        119        640: 100%|██████████| 93/93 [00:31<00:00,  2.92it/s]\n",
            "                 Class     Images  Instances      Box(P          R      mAP50  mAP50-95): 100%|██████████| 7/7 [00:02<00:00,  2.72it/s]"
          ]
        },
        {
          "output_type": "stream",
          "name": "stdout",
          "text": [
            "                   all        199       1826       0.74      0.729       0.76      0.382\n"
          ]
        },
        {
          "output_type": "stream",
          "name": "stderr",
          "text": [
            "\n"
          ]
        },
        {
          "output_type": "stream",
          "name": "stdout",
          "text": [
            "\n",
            "      Epoch    GPU_mem   box_loss   cls_loss   dfl_loss  Instances       Size\n"
          ]
        },
        {
          "output_type": "stream",
          "name": "stderr",
          "text": [
            "     96/100      7.54G      1.455      0.734      1.119         60        640: 100%|██████████| 93/93 [00:32<00:00,  2.89it/s]\n",
            "                 Class     Images  Instances      Box(P          R      mAP50  mAP50-95): 100%|██████████| 7/7 [00:03<00:00,  2.13it/s]"
          ]
        },
        {
          "output_type": "stream",
          "name": "stdout",
          "text": [
            "                   all        199       1826      0.735      0.721       0.75      0.381\n"
          ]
        },
        {
          "output_type": "stream",
          "name": "stderr",
          "text": [
            "\n"
          ]
        },
        {
          "output_type": "stream",
          "name": "stdout",
          "text": [
            "\n",
            "      Epoch    GPU_mem   box_loss   cls_loss   dfl_loss  Instances       Size\n"
          ]
        },
        {
          "output_type": "stream",
          "name": "stderr",
          "text": [
            "     97/100      7.57G      1.476     0.7448      1.136        320        640: 100%|██████████| 93/93 [00:31<00:00,  2.91it/s]\n",
            "                 Class     Images  Instances      Box(P          R      mAP50  mAP50-95): 100%|██████████| 7/7 [00:02<00:00,  2.90it/s]"
          ]
        },
        {
          "output_type": "stream",
          "name": "stdout",
          "text": [
            "                   all        199       1826      0.744      0.732      0.761       0.38\n"
          ]
        },
        {
          "output_type": "stream",
          "name": "stderr",
          "text": [
            "\n"
          ]
        },
        {
          "output_type": "stream",
          "name": "stdout",
          "text": [
            "\n",
            "      Epoch    GPU_mem   box_loss   cls_loss   dfl_loss  Instances       Size\n"
          ]
        },
        {
          "output_type": "stream",
          "name": "stderr",
          "text": [
            "     98/100      7.57G      1.469     0.7349      1.119        125        640: 100%|██████████| 93/93 [00:33<00:00,  2.81it/s]\n",
            "                 Class     Images  Instances      Box(P          R      mAP50  mAP50-95): 100%|██████████| 7/7 [00:02<00:00,  2.80it/s]"
          ]
        },
        {
          "output_type": "stream",
          "name": "stdout",
          "text": [
            "                   all        199       1826      0.746      0.728      0.764      0.383\n"
          ]
        },
        {
          "output_type": "stream",
          "name": "stderr",
          "text": [
            "\n"
          ]
        },
        {
          "output_type": "stream",
          "name": "stdout",
          "text": [
            "\n",
            "      Epoch    GPU_mem   box_loss   cls_loss   dfl_loss  Instances       Size\n"
          ]
        },
        {
          "output_type": "stream",
          "name": "stderr",
          "text": [
            "     99/100      7.57G      1.461     0.7349      1.116        254        640: 100%|██████████| 93/93 [00:31<00:00,  2.93it/s]\n",
            "                 Class     Images  Instances      Box(P          R      mAP50  mAP50-95): 100%|██████████| 7/7 [00:03<00:00,  2.30it/s]"
          ]
        },
        {
          "output_type": "stream",
          "name": "stdout",
          "text": [
            "                   all        199       1826      0.753       0.74      0.771      0.386\n"
          ]
        },
        {
          "output_type": "stream",
          "name": "stderr",
          "text": [
            "\n"
          ]
        },
        {
          "output_type": "stream",
          "name": "stdout",
          "text": [
            "\n",
            "      Epoch    GPU_mem   box_loss   cls_loss   dfl_loss  Instances       Size\n"
          ]
        },
        {
          "output_type": "stream",
          "name": "stderr",
          "text": [
            "    100/100      7.57G       1.47     0.7375      1.121         72        640: 100%|██████████| 93/93 [00:32<00:00,  2.88it/s]\n",
            "                 Class     Images  Instances      Box(P          R      mAP50  mAP50-95): 100%|██████████| 7/7 [00:02<00:00,  2.95it/s]"
          ]
        },
        {
          "output_type": "stream",
          "name": "stdout",
          "text": [
            "                   all        199       1826      0.743      0.742      0.767      0.384\n"
          ]
        },
        {
          "output_type": "stream",
          "name": "stderr",
          "text": [
            "\n"
          ]
        },
        {
          "output_type": "stream",
          "name": "stdout",
          "text": [
            "\n",
            "100 epochs completed in 1.102 hours.\n",
            "Optimizer stripped from runs/detect/train4/weights/last.pt, 22.5MB\n",
            "Optimizer stripped from runs/detect/train4/weights/best.pt, 22.5MB\n",
            "\n",
            "Validating runs/detect/train4/weights/best.pt...\n",
            "Ultralytics 8.3.102 🚀 Python-3.11.11 torch-2.6.0+cu124 CUDA:0 (Tesla T4, 15095MiB)\n",
            "Model summary (fused): 72 layers, 11,125,971 parameters, 0 gradients, 28.4 GFLOPs\n"
          ]
        },
        {
          "output_type": "stream",
          "name": "stderr",
          "text": [
            "                 Class     Images  Instances      Box(P          R      mAP50  mAP50-95): 100%|██████████| 7/7 [00:07<00:00,  1.09s/it]\n"
          ]
        },
        {
          "output_type": "stream",
          "name": "stdout",
          "text": [
            "                   all        199       1826      0.692      0.722      0.752      0.381\n",
            "Speed: 0.4ms preprocess, 15.8ms inference, 0.0ms loss, 3.3ms postprocess per image\n",
            "Results saved to \u001b[1mruns/detect/train4\u001b[0m\n",
            "ultralytics.utils.metrics.DetMetrics object with attributes:\n",
            "\n",
            "ap_class_index: array([0])\n",
            "box: ultralytics.utils.metrics.Metric object\n",
            "confusion_matrix: <ultralytics.utils.metrics.ConfusionMatrix object at 0x7ee1fb9df1d0>\n",
            "curves: ['Precision-Recall(B)', 'F1-Confidence(B)', 'Precision-Confidence(B)', 'Recall-Confidence(B)']\n",
            "curves_results: [[array([          0,    0.001001,    0.002002,    0.003003,    0.004004,    0.005005,    0.006006,    0.007007,    0.008008,    0.009009,     0.01001,    0.011011,    0.012012,    0.013013,    0.014014,    0.015015,    0.016016,    0.017017,    0.018018,    0.019019,     0.02002,    0.021021,    0.022022,    0.023023,\n",
            "          0.024024,    0.025025,    0.026026,    0.027027,    0.028028,    0.029029,     0.03003,    0.031031,    0.032032,    0.033033,    0.034034,    0.035035,    0.036036,    0.037037,    0.038038,    0.039039,     0.04004,    0.041041,    0.042042,    0.043043,    0.044044,    0.045045,    0.046046,    0.047047,\n",
            "          0.048048,    0.049049,     0.05005,    0.051051,    0.052052,    0.053053,    0.054054,    0.055055,    0.056056,    0.057057,    0.058058,    0.059059,     0.06006,    0.061061,    0.062062,    0.063063,    0.064064,    0.065065,    0.066066,    0.067067,    0.068068,    0.069069,     0.07007,    0.071071,\n",
            "          0.072072,    0.073073,    0.074074,    0.075075,    0.076076,    0.077077,    0.078078,    0.079079,     0.08008,    0.081081,    0.082082,    0.083083,    0.084084,    0.085085,    0.086086,    0.087087,    0.088088,    0.089089,     0.09009,    0.091091,    0.092092,    0.093093,    0.094094,    0.095095,\n",
            "          0.096096,    0.097097,    0.098098,    0.099099,      0.1001,      0.1011,      0.1021,      0.1031,      0.1041,     0.10511,     0.10611,     0.10711,     0.10811,     0.10911,     0.11011,     0.11111,     0.11211,     0.11311,     0.11411,     0.11512,     0.11612,     0.11712,     0.11812,     0.11912,\n",
            "           0.12012,     0.12112,     0.12212,     0.12312,     0.12412,     0.12513,     0.12613,     0.12713,     0.12813,     0.12913,     0.13013,     0.13113,     0.13213,     0.13313,     0.13413,     0.13514,     0.13614,     0.13714,     0.13814,     0.13914,     0.14014,     0.14114,     0.14214,     0.14314,\n",
            "           0.14414,     0.14515,     0.14615,     0.14715,     0.14815,     0.14915,     0.15015,     0.15115,     0.15215,     0.15315,     0.15415,     0.15516,     0.15616,     0.15716,     0.15816,     0.15916,     0.16016,     0.16116,     0.16216,     0.16316,     0.16416,     0.16517,     0.16617,     0.16717,\n",
            "           0.16817,     0.16917,     0.17017,     0.17117,     0.17217,     0.17317,     0.17417,     0.17518,     0.17618,     0.17718,     0.17818,     0.17918,     0.18018,     0.18118,     0.18218,     0.18318,     0.18418,     0.18519,     0.18619,     0.18719,     0.18819,     0.18919,     0.19019,     0.19119,\n",
            "           0.19219,     0.19319,     0.19419,      0.1952,      0.1962,      0.1972,      0.1982,      0.1992,      0.2002,      0.2012,      0.2022,      0.2032,      0.2042,     0.20521,     0.20621,     0.20721,     0.20821,     0.20921,     0.21021,     0.21121,     0.21221,     0.21321,     0.21421,     0.21522,\n",
            "           0.21622,     0.21722,     0.21822,     0.21922,     0.22022,     0.22122,     0.22222,     0.22322,     0.22422,     0.22523,     0.22623,     0.22723,     0.22823,     0.22923,     0.23023,     0.23123,     0.23223,     0.23323,     0.23423,     0.23524,     0.23624,     0.23724,     0.23824,     0.23924,\n",
            "           0.24024,     0.24124,     0.24224,     0.24324,     0.24424,     0.24525,     0.24625,     0.24725,     0.24825,     0.24925,     0.25025,     0.25125,     0.25225,     0.25325,     0.25425,     0.25526,     0.25626,     0.25726,     0.25826,     0.25926,     0.26026,     0.26126,     0.26226,     0.26326,\n",
            "           0.26426,     0.26527,     0.26627,     0.26727,     0.26827,     0.26927,     0.27027,     0.27127,     0.27227,     0.27327,     0.27427,     0.27528,     0.27628,     0.27728,     0.27828,     0.27928,     0.28028,     0.28128,     0.28228,     0.28328,     0.28428,     0.28529,     0.28629,     0.28729,\n",
            "           0.28829,     0.28929,     0.29029,     0.29129,     0.29229,     0.29329,     0.29429,      0.2953,      0.2963,      0.2973,      0.2983,      0.2993,      0.3003,      0.3013,      0.3023,      0.3033,      0.3043,     0.30531,     0.30631,     0.30731,     0.30831,     0.30931,     0.31031,     0.31131,\n",
            "           0.31231,     0.31331,     0.31431,     0.31532,     0.31632,     0.31732,     0.31832,     0.31932,     0.32032,     0.32132,     0.32232,     0.32332,     0.32432,     0.32533,     0.32633,     0.32733,     0.32833,     0.32933,     0.33033,     0.33133,     0.33233,     0.33333,     0.33433,     0.33534,\n",
            "           0.33634,     0.33734,     0.33834,     0.33934,     0.34034,     0.34134,     0.34234,     0.34334,     0.34434,     0.34535,     0.34635,     0.34735,     0.34835,     0.34935,     0.35035,     0.35135,     0.35235,     0.35335,     0.35435,     0.35536,     0.35636,     0.35736,     0.35836,     0.35936,\n",
            "           0.36036,     0.36136,     0.36236,     0.36336,     0.36436,     0.36537,     0.36637,     0.36737,     0.36837,     0.36937,     0.37037,     0.37137,     0.37237,     0.37337,     0.37437,     0.37538,     0.37638,     0.37738,     0.37838,     0.37938,     0.38038,     0.38138,     0.38238,     0.38338,\n",
            "           0.38438,     0.38539,     0.38639,     0.38739,     0.38839,     0.38939,     0.39039,     0.39139,     0.39239,     0.39339,     0.39439,      0.3954,      0.3964,      0.3974,      0.3984,      0.3994,      0.4004,      0.4014,      0.4024,      0.4034,      0.4044,     0.40541,     0.40641,     0.40741,\n",
            "           0.40841,     0.40941,     0.41041,     0.41141,     0.41241,     0.41341,     0.41441,     0.41542,     0.41642,     0.41742,     0.41842,     0.41942,     0.42042,     0.42142,     0.42242,     0.42342,     0.42442,     0.42543,     0.42643,     0.42743,     0.42843,     0.42943,     0.43043,     0.43143,\n",
            "           0.43243,     0.43343,     0.43443,     0.43544,     0.43644,     0.43744,     0.43844,     0.43944,     0.44044,     0.44144,     0.44244,     0.44344,     0.44444,     0.44545,     0.44645,     0.44745,     0.44845,     0.44945,     0.45045,     0.45145,     0.45245,     0.45345,     0.45445,     0.45546,\n",
            "           0.45646,     0.45746,     0.45846,     0.45946,     0.46046,     0.46146,     0.46246,     0.46346,     0.46446,     0.46547,     0.46647,     0.46747,     0.46847,     0.46947,     0.47047,     0.47147,     0.47247,     0.47347,     0.47447,     0.47548,     0.47648,     0.47748,     0.47848,     0.47948,\n",
            "           0.48048,     0.48148,     0.48248,     0.48348,     0.48448,     0.48549,     0.48649,     0.48749,     0.48849,     0.48949,     0.49049,     0.49149,     0.49249,     0.49349,     0.49449,      0.4955,      0.4965,      0.4975,      0.4985,      0.4995,      0.5005,      0.5015,      0.5025,      0.5035,\n",
            "            0.5045,     0.50551,     0.50651,     0.50751,     0.50851,     0.50951,     0.51051,     0.51151,     0.51251,     0.51351,     0.51451,     0.51552,     0.51652,     0.51752,     0.51852,     0.51952,     0.52052,     0.52152,     0.52252,     0.52352,     0.52452,     0.52553,     0.52653,     0.52753,\n",
            "           0.52853,     0.52953,     0.53053,     0.53153,     0.53253,     0.53353,     0.53453,     0.53554,     0.53654,     0.53754,     0.53854,     0.53954,     0.54054,     0.54154,     0.54254,     0.54354,     0.54454,     0.54555,     0.54655,     0.54755,     0.54855,     0.54955,     0.55055,     0.55155,\n",
            "           0.55255,     0.55355,     0.55455,     0.55556,     0.55656,     0.55756,     0.55856,     0.55956,     0.56056,     0.56156,     0.56256,     0.56356,     0.56456,     0.56557,     0.56657,     0.56757,     0.56857,     0.56957,     0.57057,     0.57157,     0.57257,     0.57357,     0.57457,     0.57558,\n",
            "           0.57658,     0.57758,     0.57858,     0.57958,     0.58058,     0.58158,     0.58258,     0.58358,     0.58458,     0.58559,     0.58659,     0.58759,     0.58859,     0.58959,     0.59059,     0.59159,     0.59259,     0.59359,     0.59459,      0.5956,      0.5966,      0.5976,      0.5986,      0.5996,\n",
            "            0.6006,      0.6016,      0.6026,      0.6036,      0.6046,     0.60561,     0.60661,     0.60761,     0.60861,     0.60961,     0.61061,     0.61161,     0.61261,     0.61361,     0.61461,     0.61562,     0.61662,     0.61762,     0.61862,     0.61962,     0.62062,     0.62162,     0.62262,     0.62362,\n",
            "           0.62462,     0.62563,     0.62663,     0.62763,     0.62863,     0.62963,     0.63063,     0.63163,     0.63263,     0.63363,     0.63463,     0.63564,     0.63664,     0.63764,     0.63864,     0.63964,     0.64064,     0.64164,     0.64264,     0.64364,     0.64464,     0.64565,     0.64665,     0.64765,\n",
            "           0.64865,     0.64965,     0.65065,     0.65165,     0.65265,     0.65365,     0.65465,     0.65566,     0.65666,     0.65766,     0.65866,     0.65966,     0.66066,     0.66166,     0.66266,     0.66366,     0.66466,     0.66567,     0.66667,     0.66767,     0.66867,     0.66967,     0.67067,     0.67167,\n",
            "           0.67267,     0.67367,     0.67467,     0.67568,     0.67668,     0.67768,     0.67868,     0.67968,     0.68068,     0.68168,     0.68268,     0.68368,     0.68468,     0.68569,     0.68669,     0.68769,     0.68869,     0.68969,     0.69069,     0.69169,     0.69269,     0.69369,     0.69469,      0.6957,\n",
            "            0.6967,      0.6977,      0.6987,      0.6997,      0.7007,      0.7017,      0.7027,      0.7037,      0.7047,     0.70571,     0.70671,     0.70771,     0.70871,     0.70971,     0.71071,     0.71171,     0.71271,     0.71371,     0.71471,     0.71572,     0.71672,     0.71772,     0.71872,     0.71972,\n",
            "           0.72072,     0.72172,     0.72272,     0.72372,     0.72472,     0.72573,     0.72673,     0.72773,     0.72873,     0.72973,     0.73073,     0.73173,     0.73273,     0.73373,     0.73473,     0.73574,     0.73674,     0.73774,     0.73874,     0.73974,     0.74074,     0.74174,     0.74274,     0.74374,\n",
            "           0.74474,     0.74575,     0.74675,     0.74775,     0.74875,     0.74975,     0.75075,     0.75175,     0.75275,     0.75375,     0.75475,     0.75576,     0.75676,     0.75776,     0.75876,     0.75976,     0.76076,     0.76176,     0.76276,     0.76376,     0.76476,     0.76577,     0.76677,     0.76777,\n",
            "           0.76877,     0.76977,     0.77077,     0.77177,     0.77277,     0.77377,     0.77477,     0.77578,     0.77678,     0.77778,     0.77878,     0.77978,     0.78078,     0.78178,     0.78278,     0.78378,     0.78478,     0.78579,     0.78679,     0.78779,     0.78879,     0.78979,     0.79079,     0.79179,\n",
            "           0.79279,     0.79379,     0.79479,      0.7958,      0.7968,      0.7978,      0.7988,      0.7998,      0.8008,      0.8018,      0.8028,      0.8038,      0.8048,     0.80581,     0.80681,     0.80781,     0.80881,     0.80981,     0.81081,     0.81181,     0.81281,     0.81381,     0.81481,     0.81582,\n",
            "           0.81682,     0.81782,     0.81882,     0.81982,     0.82082,     0.82182,     0.82282,     0.82382,     0.82482,     0.82583,     0.82683,     0.82783,     0.82883,     0.82983,     0.83083,     0.83183,     0.83283,     0.83383,     0.83483,     0.83584,     0.83684,     0.83784,     0.83884,     0.83984,\n",
            "           0.84084,     0.84184,     0.84284,     0.84384,     0.84484,     0.84585,     0.84685,     0.84785,     0.84885,     0.84985,     0.85085,     0.85185,     0.85285,     0.85385,     0.85485,     0.85586,     0.85686,     0.85786,     0.85886,     0.85986,     0.86086,     0.86186,     0.86286,     0.86386,\n",
            "           0.86486,     0.86587,     0.86687,     0.86787,     0.86887,     0.86987,     0.87087,     0.87187,     0.87287,     0.87387,     0.87487,     0.87588,     0.87688,     0.87788,     0.87888,     0.87988,     0.88088,     0.88188,     0.88288,     0.88388,     0.88488,     0.88589,     0.88689,     0.88789,\n",
            "           0.88889,     0.88989,     0.89089,     0.89189,     0.89289,     0.89389,     0.89489,      0.8959,      0.8969,      0.8979,      0.8989,      0.8999,      0.9009,      0.9019,      0.9029,      0.9039,      0.9049,     0.90591,     0.90691,     0.90791,     0.90891,     0.90991,     0.91091,     0.91191,\n",
            "           0.91291,     0.91391,     0.91491,     0.91592,     0.91692,     0.91792,     0.91892,     0.91992,     0.92092,     0.92192,     0.92292,     0.92392,     0.92492,     0.92593,     0.92693,     0.92793,     0.92893,     0.92993,     0.93093,     0.93193,     0.93293,     0.93393,     0.93493,     0.93594,\n",
            "           0.93694,     0.93794,     0.93894,     0.93994,     0.94094,     0.94194,     0.94294,     0.94394,     0.94494,     0.94595,     0.94695,     0.94795,     0.94895,     0.94995,     0.95095,     0.95195,     0.95295,     0.95395,     0.95495,     0.95596,     0.95696,     0.95796,     0.95896,     0.95996,\n",
            "           0.96096,     0.96196,     0.96296,     0.96396,     0.96496,     0.96597,     0.96697,     0.96797,     0.96897,     0.96997,     0.97097,     0.97197,     0.97297,     0.97397,     0.97497,     0.97598,     0.97698,     0.97798,     0.97898,     0.97998,     0.98098,     0.98198,     0.98298,     0.98398,\n",
            "           0.98498,     0.98599,     0.98699,     0.98799,     0.98899,     0.98999,     0.99099,     0.99199,     0.99299,     0.99399,     0.99499,       0.996,       0.997,       0.998,       0.999,           1]), array([[          1,           1,           1,           1,           1,           1,           1,           1,           1,           1,           1,           1,           1,           1,           1,           1,           1,           1,           1,           1,           1,           1,           1,\n",
            "                  1,           1,           1,           1,           1,     0.99405,     0.99405,     0.99405,     0.99405,     0.99405,     0.99405,     0.99405,     0.99405,     0.99405,     0.99405,     0.99405,     0.99405,     0.99405,     0.99405,     0.99405,     0.99405,     0.99405,     0.99405,\n",
            "            0.99405,     0.99405,     0.99405,     0.99405,     0.99405,     0.99405,     0.99405,     0.99405,     0.99405,     0.99405,     0.99405,     0.99405,     0.99405,     0.99405,     0.99405,     0.99405,     0.99405,     0.99405,     0.99405,     0.99405,     0.99405,     0.99405,     0.99405,\n",
            "            0.99405,     0.99405,     0.99405,     0.99405,     0.99405,     0.99405,     0.99405,     0.99405,     0.99405,     0.99405,     0.99405,     0.99405,     0.99405,     0.99405,     0.99405,     0.99405,     0.99405,     0.99405,     0.99405,     0.99405,     0.99405,     0.99405,     0.99405,\n",
            "            0.99115,     0.99115,     0.99115,     0.99115,     0.99115,     0.99115,     0.99115,     0.99115,     0.99115,     0.99115,     0.99115,     0.99115,     0.99115,     0.99115,     0.99115,     0.99115,     0.99115,     0.99115,     0.99115,     0.99115,     0.99115,     0.99115,     0.99115,\n",
            "            0.99115,     0.99115,     0.99115,     0.99115,     0.99115,     0.99115,     0.99115,     0.99115,     0.98712,     0.98712,     0.98712,     0.98491,     0.98491,     0.98491,     0.98491,     0.98491,     0.98491,     0.98491,     0.98491,     0.98491,     0.98491,     0.98491,     0.98491,\n",
            "            0.98491,     0.98491,     0.98491,     0.98491,     0.98491,     0.98246,     0.98246,     0.98246,     0.98246,     0.98246,     0.98246,     0.98246,     0.98246,     0.98246,     0.98246,     0.98246,     0.97931,     0.97931,     0.97611,     0.97324,     0.97324,     0.97324,     0.96865,\n",
            "            0.96865,     0.96865,     0.96865,     0.96865,     0.96865,     0.96865,     0.96865,     0.96865,     0.96865,     0.96594,     0.96429,     0.96429,     0.96429,     0.96429,     0.96429,     0.96429,     0.96429,     0.96243,     0.96243,     0.96243,     0.96243,     0.96243,     0.96073,\n",
            "            0.96073,     0.96073,     0.96073,     0.96073,     0.96073,     0.96073,     0.96073,     0.96073,     0.96073,     0.96073,     0.96073,     0.96073,     0.96073,     0.96073,     0.96073,     0.96073,     0.96073,     0.95929,     0.95929,     0.95929,     0.95929,     0.95929,     0.95929,\n",
            "            0.95761,     0.95761,     0.95761,     0.95761,     0.95683,     0.95683,     0.95683,     0.95683,     0.95683,     0.95683,     0.95683,     0.95683,     0.95519,     0.95519,     0.95519,     0.95381,     0.95381,     0.95381,     0.95381,     0.95183,     0.95183,     0.95133,     0.95133,\n",
            "            0.95133,     0.95133,     0.95133,     0.95133,     0.95133,     0.95133,      0.9501,      0.9501,      0.9501,      0.9501,      0.9501,      0.9501,      0.9501,      0.9501,      0.9501,      0.9501,      0.9501,      0.9501,      0.9501,      0.9501,      0.9501,     0.94908,     0.94908,\n",
            "            0.94908,     0.94908,     0.94747,     0.94747,     0.94653,     0.94653,     0.94653,     0.94653,     0.94653,     0.94584,     0.94584,     0.94584,     0.94584,     0.94584,     0.94584,      0.9435,      0.9435,      0.9435,      0.9435,      0.9435,      0.9435,      0.9435,     0.94128,\n",
            "            0.94128,     0.94128,     0.94128,     0.94128,     0.94128,     0.93978,     0.93907,     0.93907,     0.93907,     0.93907,     0.93907,     0.93814,     0.93814,     0.93814,     0.93814,     0.93814,     0.93814,     0.93814,     0.93814,     0.93814,     0.93814,     0.93814,     0.93814,\n",
            "            0.93761,     0.93761,     0.93761,     0.93761,     0.93761,     0.93761,     0.93624,     0.93489,     0.93475,     0.93475,     0.93475,     0.93475,     0.93475,     0.93475,     0.93475,     0.93355,     0.93355,      0.9328,      0.9328,      0.9328,     0.93016,     0.93016,     0.92902,\n",
            "            0.92902,     0.92812,     0.92812,     0.92702,     0.92702,     0.92683,     0.92683,     0.92683,     0.92683,     0.92683,     0.92683,     0.92576,     0.92576,     0.92444,     0.92444,     0.92444,     0.92444,     0.92444,     0.92444,     0.92444,     0.92342,     0.92342,     0.92308,\n",
            "            0.92308,     0.92308,     0.92308,     0.92308,     0.92308,     0.92308,     0.92308,     0.92308,     0.92308,     0.92308,     0.92232,     0.92232,     0.92232,     0.92146,     0.92146,     0.91944,     0.91944,     0.91944,     0.91758,     0.91758,     0.91758,     0.91655,     0.91565,\n",
            "            0.91565,     0.91555,     0.91555,     0.91555,     0.91555,     0.91555,     0.91523,     0.91523,     0.91523,     0.91523,     0.91523,     0.91304,     0.91242,     0.91242,     0.91169,     0.91169,     0.91169,     0.91074,     0.90874,     0.90781,     0.90458,     0.90184,     0.90184,\n",
            "            0.90184,     0.90184,     0.90184,     0.90184,     0.90184,     0.90184,     0.90184,     0.90184,     0.90184,     0.90184,     0.90184,     0.90184,     0.90098,     0.90036,     0.90036,     0.89976,     0.89976,     0.89904,     0.89904,     0.89606,     0.89536,     0.89336,     0.89282,\n",
            "            0.89282,     0.89227,     0.89227,      0.8912,      0.8912,      0.8912,      0.8912,      0.8912,     0.89003,     0.89003,     0.89003,     0.89003,     0.88737,     0.88713,     0.88713,     0.88713,     0.88713,     0.88704,     0.88704,     0.88704,     0.88704,     0.88704,     0.88704,\n",
            "            0.88704,     0.88704,     0.88436,     0.88248,     0.88248,     0.88248,     0.88248,     0.88165,     0.88148,     0.88148,     0.88148,     0.88148,     0.88148,     0.88148,     0.88148,     0.88148,     0.88148,     0.88148,     0.88148,     0.88063,     0.88063,     0.88063,     0.88063,\n",
            "            0.88063,     0.87954,     0.87954,     0.87954,     0.87888,     0.87822,     0.87745,     0.87602,     0.87602,     0.87602,     0.87602,     0.87602,     0.87525,     0.87386,     0.87311,     0.87262,     0.87226,     0.87226,     0.87226,      0.8719,      0.8719,     0.87055,     0.86995,\n",
            "            0.86995,     0.86961,     0.86961,     0.86732,     0.86699,     0.86699,     0.86628,     0.86486,      0.8629,      0.8629,     0.86233,     0.86164,     0.86108,     0.85943,     0.85943,     0.85943,     0.85901,     0.85901,     0.85901,     0.85901,     0.85901,     0.85874,     0.85874,\n",
            "            0.85688,     0.85688,     0.85688,     0.85688,     0.85688,     0.85649,     0.85649,     0.85623,     0.85623,     0.85522,     0.85522,     0.85522,     0.85522,     0.85522,     0.85522,     0.85394,     0.85307,     0.85307,     0.85307,     0.84956,     0.84832,     0.84811,     0.84811,\n",
            "             0.8475,     0.84568,     0.84562,     0.84562,     0.84562,     0.84556,     0.84556,     0.84556,     0.84523,     0.84247,     0.84157,     0.84157,     0.83885,     0.83754,     0.83754,     0.83754,     0.83641,     0.83585,     0.83333,     0.83154,      0.8277,     0.82744,     0.82691,\n",
            "            0.82584,     0.82559,     0.82559,     0.82415,     0.82415,     0.82377,     0.82206,     0.82169,     0.82117,     0.82029,     0.81847,     0.81825,     0.81825,     0.81789,     0.81768,     0.81718,     0.81235,     0.81216,     0.81216,     0.81148,     0.81148,     0.81081,     0.81081,\n",
            "            0.80938,     0.80938,     0.80843,     0.80702,     0.80608,     0.80516,     0.80516,     0.80423,     0.80346,     0.80316,     0.80045,     0.79851,     0.79851,     0.79822,     0.79616,     0.79587,     0.79575,     0.79575,     0.79575,     0.79575,     0.79431,     0.79403,     0.79303,\n",
            "            0.79161,     0.79076,     0.79023,     0.79023,     0.78985,     0.78985,     0.78985,     0.78887,     0.78764,     0.78738,     0.78491,     0.78346,     0.78346,     0.78346,     0.78307,     0.77855,     0.77855,     0.77855,     0.77816,     0.77739,     0.77671,     0.77671,     0.77671,\n",
            "             0.7749,     0.77452,     0.77424,     0.77424,     0.77334,     0.77313,     0.77233,     0.77233,     0.77233,     0.76647,     0.76525,     0.76354,     0.76234,     0.76165,     0.76131,     0.76091,     0.76091,     0.76091,     0.76091,     0.76039,     0.76021,        0.76,        0.76,\n",
            "               0.76,     0.75918,     0.75833,     0.75833,     0.75622,     0.75621,     0.75604,     0.75604,     0.75539,     0.75379,     0.75126,     0.74875,     0.74673,     0.74584,     0.74584,     0.74584,     0.74584,     0.74584,     0.74569,     0.74493,     0.74387,     0.74146,     0.74088,\n",
            "            0.73939,     0.73866,     0.73764,     0.73545,     0.73473,     0.73417,     0.73333,     0.73333,     0.72845,     0.72706,      0.7261,     0.72605,     0.72605,     0.72605,      0.7251,     0.72374,     0.72322,     0.72235,     0.72235,     0.72235,     0.72101,     0.71902,     0.71827,\n",
            "            0.71827,     0.71777,     0.71606,     0.71542,     0.71412,     0.71204,     0.71197,     0.71133,     0.71102,     0.71096,     0.71096,     0.71096,     0.71096,     0.71034,      0.7087,     0.70863,     0.70817,     0.70579,     0.70572,     0.70473,     0.70352,     0.70173,     0.70151,\n",
            "            0.70011,     0.69952,      0.6993,     0.69888,     0.69623,      0.6934,     0.69263,     0.69259,     0.69259,     0.69182,     0.69034,     0.68867,     0.68802,     0.68802,     0.68802,     0.68802,     0.68605,     0.68602,     0.68494,     0.68475,     0.68453,      0.6833,     0.68101,\n",
            "            0.68083,     0.67978,      0.6796,     0.67753,     0.67582,     0.67495,     0.67495,     0.67494,     0.67494,     0.67392,     0.67391,     0.66994,     0.66862,     0.66732,     0.66586,     0.66329,     0.66329,     0.66234,      0.6614,      0.6614,      0.6603,     0.65827,     0.65656,\n",
            "            0.65626,     0.65228,     0.65152,     0.64884,     0.64884,     0.64766,     0.64279,     0.63843,     0.63843,     0.63789,     0.63735,     0.63628,     0.63628,     0.63604,     0.63591,     0.63396,     0.63372,      0.6316,      0.6316,      0.6316,     0.63065,     0.62819,     0.62758,\n",
            "            0.62445,     0.62315,     0.62213,      0.6202,      0.6202,     0.61892,     0.61819,     0.61447,     0.61447,     0.61323,       0.612,      0.6112,     0.60576,     0.60533,     0.60449,     0.60331,     0.60289,     0.60189,     0.59739,     0.58859,     0.58781,     0.58201,     0.58149,\n",
            "            0.57946,     0.57911,     0.57695,     0.57695,     0.57593,     0.57292,     0.56951,     0.56875,     0.56864,     0.56837,     0.56632,     0.56451,     0.56314,     0.56114,     0.56088,     0.55416,      0.5529,      0.5529,      0.5529,      0.5484,     0.54697,     0.54473,     0.54116,\n",
            "            0.53458,     0.52859,     0.52544,     0.52181,     0.51735,      0.5121,     0.50698,      0.5063,     0.50512,      0.4974,     0.49499,     0.49277,     0.49262,     0.49185,     0.49123,     0.48905,     0.47712,     0.46977,     0.46921,     0.46433,     0.46421,     0.46204,     0.45612,\n",
            "            0.45433,     0.45304,     0.45074,     0.45051,     0.44206,     0.44197,     0.43504,     0.43355,     0.43306,     0.43306,     0.42702,     0.42286,     0.41972,     0.41383,     0.40689,      0.4059,     0.40208,     0.40177,      0.3988,     0.38919,     0.38825,     0.38253,     0.37937,\n",
            "            0.37706,     0.37296,     0.37161,     0.36854,     0.36854,     0.36456,     0.36302,     0.35461,     0.34974,     0.34486,     0.34376,     0.34251,     0.33547,     0.33368,     0.32874,     0.32769,     0.32508,      0.3186,     0.31008,     0.30852,     0.30392,     0.30392,     0.30194,\n",
            "            0.29782,     0.29698,     0.29046,     0.28122,     0.28096,     0.27365,     0.26942,     0.26456,     0.25827,     0.24906,     0.24899,     0.24809,     0.24059,     0.22181,     0.20394,     0.19786,     0.19114,      0.1853,     0.18134,     0.16327,     0.15097,     0.14536,     0.13568,\n",
            "            0.11207,     0.11065,     0.10923,     0.10782,      0.1064,     0.10498,     0.10356,     0.10214,     0.10072,    0.099304,    0.097885,    0.096467,    0.095048,    0.093629,    0.092211,    0.090792,    0.089373,    0.087955,    0.086536,    0.085118,    0.083699,     0.08228,    0.080862,\n",
            "           0.079443,    0.078024,    0.076606,    0.075187,    0.073769,     0.07235,    0.070931,    0.069513,    0.068094,    0.066675,    0.065257,    0.063838,     0.06242,    0.061001,    0.059582,    0.058164,    0.056745,    0.055326,    0.053908,    0.052489,    0.051071,    0.049652,    0.048233,\n",
            "           0.046815,    0.045396,    0.043977,    0.042559,     0.04114,    0.039722,    0.038303,    0.036884,    0.035466,    0.034047,    0.032628,     0.03121,    0.029791,    0.028373,    0.026954,    0.025535,    0.024117,    0.022698,    0.021279,    0.019861,    0.018442,    0.017024,    0.015605,\n",
            "           0.014186,    0.012768,    0.011349,   0.0099304,   0.0085118,   0.0070931,   0.0056745,   0.0042559,   0.0028373,   0.0014186,           0]]), 'Recall', 'Precision'], [array([          0,    0.001001,    0.002002,    0.003003,    0.004004,    0.005005,    0.006006,    0.007007,    0.008008,    0.009009,     0.01001,    0.011011,    0.012012,    0.013013,    0.014014,    0.015015,    0.016016,    0.017017,    0.018018,    0.019019,     0.02002,    0.021021,    0.022022,    0.023023,\n",
            "          0.024024,    0.025025,    0.026026,    0.027027,    0.028028,    0.029029,     0.03003,    0.031031,    0.032032,    0.033033,    0.034034,    0.035035,    0.036036,    0.037037,    0.038038,    0.039039,     0.04004,    0.041041,    0.042042,    0.043043,    0.044044,    0.045045,    0.046046,    0.047047,\n",
            "          0.048048,    0.049049,     0.05005,    0.051051,    0.052052,    0.053053,    0.054054,    0.055055,    0.056056,    0.057057,    0.058058,    0.059059,     0.06006,    0.061061,    0.062062,    0.063063,    0.064064,    0.065065,    0.066066,    0.067067,    0.068068,    0.069069,     0.07007,    0.071071,\n",
            "          0.072072,    0.073073,    0.074074,    0.075075,    0.076076,    0.077077,    0.078078,    0.079079,     0.08008,    0.081081,    0.082082,    0.083083,    0.084084,    0.085085,    0.086086,    0.087087,    0.088088,    0.089089,     0.09009,    0.091091,    0.092092,    0.093093,    0.094094,    0.095095,\n",
            "          0.096096,    0.097097,    0.098098,    0.099099,      0.1001,      0.1011,      0.1021,      0.1031,      0.1041,     0.10511,     0.10611,     0.10711,     0.10811,     0.10911,     0.11011,     0.11111,     0.11211,     0.11311,     0.11411,     0.11512,     0.11612,     0.11712,     0.11812,     0.11912,\n",
            "           0.12012,     0.12112,     0.12212,     0.12312,     0.12412,     0.12513,     0.12613,     0.12713,     0.12813,     0.12913,     0.13013,     0.13113,     0.13213,     0.13313,     0.13413,     0.13514,     0.13614,     0.13714,     0.13814,     0.13914,     0.14014,     0.14114,     0.14214,     0.14314,\n",
            "           0.14414,     0.14515,     0.14615,     0.14715,     0.14815,     0.14915,     0.15015,     0.15115,     0.15215,     0.15315,     0.15415,     0.15516,     0.15616,     0.15716,     0.15816,     0.15916,     0.16016,     0.16116,     0.16216,     0.16316,     0.16416,     0.16517,     0.16617,     0.16717,\n",
            "           0.16817,     0.16917,     0.17017,     0.17117,     0.17217,     0.17317,     0.17417,     0.17518,     0.17618,     0.17718,     0.17818,     0.17918,     0.18018,     0.18118,     0.18218,     0.18318,     0.18418,     0.18519,     0.18619,     0.18719,     0.18819,     0.18919,     0.19019,     0.19119,\n",
            "           0.19219,     0.19319,     0.19419,      0.1952,      0.1962,      0.1972,      0.1982,      0.1992,      0.2002,      0.2012,      0.2022,      0.2032,      0.2042,     0.20521,     0.20621,     0.20721,     0.20821,     0.20921,     0.21021,     0.21121,     0.21221,     0.21321,     0.21421,     0.21522,\n",
            "           0.21622,     0.21722,     0.21822,     0.21922,     0.22022,     0.22122,     0.22222,     0.22322,     0.22422,     0.22523,     0.22623,     0.22723,     0.22823,     0.22923,     0.23023,     0.23123,     0.23223,     0.23323,     0.23423,     0.23524,     0.23624,     0.23724,     0.23824,     0.23924,\n",
            "           0.24024,     0.24124,     0.24224,     0.24324,     0.24424,     0.24525,     0.24625,     0.24725,     0.24825,     0.24925,     0.25025,     0.25125,     0.25225,     0.25325,     0.25425,     0.25526,     0.25626,     0.25726,     0.25826,     0.25926,     0.26026,     0.26126,     0.26226,     0.26326,\n",
            "           0.26426,     0.26527,     0.26627,     0.26727,     0.26827,     0.26927,     0.27027,     0.27127,     0.27227,     0.27327,     0.27427,     0.27528,     0.27628,     0.27728,     0.27828,     0.27928,     0.28028,     0.28128,     0.28228,     0.28328,     0.28428,     0.28529,     0.28629,     0.28729,\n",
            "           0.28829,     0.28929,     0.29029,     0.29129,     0.29229,     0.29329,     0.29429,      0.2953,      0.2963,      0.2973,      0.2983,      0.2993,      0.3003,      0.3013,      0.3023,      0.3033,      0.3043,     0.30531,     0.30631,     0.30731,     0.30831,     0.30931,     0.31031,     0.31131,\n",
            "           0.31231,     0.31331,     0.31431,     0.31532,     0.31632,     0.31732,     0.31832,     0.31932,     0.32032,     0.32132,     0.32232,     0.32332,     0.32432,     0.32533,     0.32633,     0.32733,     0.32833,     0.32933,     0.33033,     0.33133,     0.33233,     0.33333,     0.33433,     0.33534,\n",
            "           0.33634,     0.33734,     0.33834,     0.33934,     0.34034,     0.34134,     0.34234,     0.34334,     0.34434,     0.34535,     0.34635,     0.34735,     0.34835,     0.34935,     0.35035,     0.35135,     0.35235,     0.35335,     0.35435,     0.35536,     0.35636,     0.35736,     0.35836,     0.35936,\n",
            "           0.36036,     0.36136,     0.36236,     0.36336,     0.36436,     0.36537,     0.36637,     0.36737,     0.36837,     0.36937,     0.37037,     0.37137,     0.37237,     0.37337,     0.37437,     0.37538,     0.37638,     0.37738,     0.37838,     0.37938,     0.38038,     0.38138,     0.38238,     0.38338,\n",
            "           0.38438,     0.38539,     0.38639,     0.38739,     0.38839,     0.38939,     0.39039,     0.39139,     0.39239,     0.39339,     0.39439,      0.3954,      0.3964,      0.3974,      0.3984,      0.3994,      0.4004,      0.4014,      0.4024,      0.4034,      0.4044,     0.40541,     0.40641,     0.40741,\n",
            "           0.40841,     0.40941,     0.41041,     0.41141,     0.41241,     0.41341,     0.41441,     0.41542,     0.41642,     0.41742,     0.41842,     0.41942,     0.42042,     0.42142,     0.42242,     0.42342,     0.42442,     0.42543,     0.42643,     0.42743,     0.42843,     0.42943,     0.43043,     0.43143,\n",
            "           0.43243,     0.43343,     0.43443,     0.43544,     0.43644,     0.43744,     0.43844,     0.43944,     0.44044,     0.44144,     0.44244,     0.44344,     0.44444,     0.44545,     0.44645,     0.44745,     0.44845,     0.44945,     0.45045,     0.45145,     0.45245,     0.45345,     0.45445,     0.45546,\n",
            "           0.45646,     0.45746,     0.45846,     0.45946,     0.46046,     0.46146,     0.46246,     0.46346,     0.46446,     0.46547,     0.46647,     0.46747,     0.46847,     0.46947,     0.47047,     0.47147,     0.47247,     0.47347,     0.47447,     0.47548,     0.47648,     0.47748,     0.47848,     0.47948,\n",
            "           0.48048,     0.48148,     0.48248,     0.48348,     0.48448,     0.48549,     0.48649,     0.48749,     0.48849,     0.48949,     0.49049,     0.49149,     0.49249,     0.49349,     0.49449,      0.4955,      0.4965,      0.4975,      0.4985,      0.4995,      0.5005,      0.5015,      0.5025,      0.5035,\n",
            "            0.5045,     0.50551,     0.50651,     0.50751,     0.50851,     0.50951,     0.51051,     0.51151,     0.51251,     0.51351,     0.51451,     0.51552,     0.51652,     0.51752,     0.51852,     0.51952,     0.52052,     0.52152,     0.52252,     0.52352,     0.52452,     0.52553,     0.52653,     0.52753,\n",
            "           0.52853,     0.52953,     0.53053,     0.53153,     0.53253,     0.53353,     0.53453,     0.53554,     0.53654,     0.53754,     0.53854,     0.53954,     0.54054,     0.54154,     0.54254,     0.54354,     0.54454,     0.54555,     0.54655,     0.54755,     0.54855,     0.54955,     0.55055,     0.55155,\n",
            "           0.55255,     0.55355,     0.55455,     0.55556,     0.55656,     0.55756,     0.55856,     0.55956,     0.56056,     0.56156,     0.56256,     0.56356,     0.56456,     0.56557,     0.56657,     0.56757,     0.56857,     0.56957,     0.57057,     0.57157,     0.57257,     0.57357,     0.57457,     0.57558,\n",
            "           0.57658,     0.57758,     0.57858,     0.57958,     0.58058,     0.58158,     0.58258,     0.58358,     0.58458,     0.58559,     0.58659,     0.58759,     0.58859,     0.58959,     0.59059,     0.59159,     0.59259,     0.59359,     0.59459,      0.5956,      0.5966,      0.5976,      0.5986,      0.5996,\n",
            "            0.6006,      0.6016,      0.6026,      0.6036,      0.6046,     0.60561,     0.60661,     0.60761,     0.60861,     0.60961,     0.61061,     0.61161,     0.61261,     0.61361,     0.61461,     0.61562,     0.61662,     0.61762,     0.61862,     0.61962,     0.62062,     0.62162,     0.62262,     0.62362,\n",
            "           0.62462,     0.62563,     0.62663,     0.62763,     0.62863,     0.62963,     0.63063,     0.63163,     0.63263,     0.63363,     0.63463,     0.63564,     0.63664,     0.63764,     0.63864,     0.63964,     0.64064,     0.64164,     0.64264,     0.64364,     0.64464,     0.64565,     0.64665,     0.64765,\n",
            "           0.64865,     0.64965,     0.65065,     0.65165,     0.65265,     0.65365,     0.65465,     0.65566,     0.65666,     0.65766,     0.65866,     0.65966,     0.66066,     0.66166,     0.66266,     0.66366,     0.66466,     0.66567,     0.66667,     0.66767,     0.66867,     0.66967,     0.67067,     0.67167,\n",
            "           0.67267,     0.67367,     0.67467,     0.67568,     0.67668,     0.67768,     0.67868,     0.67968,     0.68068,     0.68168,     0.68268,     0.68368,     0.68468,     0.68569,     0.68669,     0.68769,     0.68869,     0.68969,     0.69069,     0.69169,     0.69269,     0.69369,     0.69469,      0.6957,\n",
            "            0.6967,      0.6977,      0.6987,      0.6997,      0.7007,      0.7017,      0.7027,      0.7037,      0.7047,     0.70571,     0.70671,     0.70771,     0.70871,     0.70971,     0.71071,     0.71171,     0.71271,     0.71371,     0.71471,     0.71572,     0.71672,     0.71772,     0.71872,     0.71972,\n",
            "           0.72072,     0.72172,     0.72272,     0.72372,     0.72472,     0.72573,     0.72673,     0.72773,     0.72873,     0.72973,     0.73073,     0.73173,     0.73273,     0.73373,     0.73473,     0.73574,     0.73674,     0.73774,     0.73874,     0.73974,     0.74074,     0.74174,     0.74274,     0.74374,\n",
            "           0.74474,     0.74575,     0.74675,     0.74775,     0.74875,     0.74975,     0.75075,     0.75175,     0.75275,     0.75375,     0.75475,     0.75576,     0.75676,     0.75776,     0.75876,     0.75976,     0.76076,     0.76176,     0.76276,     0.76376,     0.76476,     0.76577,     0.76677,     0.76777,\n",
            "           0.76877,     0.76977,     0.77077,     0.77177,     0.77277,     0.77377,     0.77477,     0.77578,     0.77678,     0.77778,     0.77878,     0.77978,     0.78078,     0.78178,     0.78278,     0.78378,     0.78478,     0.78579,     0.78679,     0.78779,     0.78879,     0.78979,     0.79079,     0.79179,\n",
            "           0.79279,     0.79379,     0.79479,      0.7958,      0.7968,      0.7978,      0.7988,      0.7998,      0.8008,      0.8018,      0.8028,      0.8038,      0.8048,     0.80581,     0.80681,     0.80781,     0.80881,     0.80981,     0.81081,     0.81181,     0.81281,     0.81381,     0.81481,     0.81582,\n",
            "           0.81682,     0.81782,     0.81882,     0.81982,     0.82082,     0.82182,     0.82282,     0.82382,     0.82482,     0.82583,     0.82683,     0.82783,     0.82883,     0.82983,     0.83083,     0.83183,     0.83283,     0.83383,     0.83483,     0.83584,     0.83684,     0.83784,     0.83884,     0.83984,\n",
            "           0.84084,     0.84184,     0.84284,     0.84384,     0.84484,     0.84585,     0.84685,     0.84785,     0.84885,     0.84985,     0.85085,     0.85185,     0.85285,     0.85385,     0.85485,     0.85586,     0.85686,     0.85786,     0.85886,     0.85986,     0.86086,     0.86186,     0.86286,     0.86386,\n",
            "           0.86486,     0.86587,     0.86687,     0.86787,     0.86887,     0.86987,     0.87087,     0.87187,     0.87287,     0.87387,     0.87487,     0.87588,     0.87688,     0.87788,     0.87888,     0.87988,     0.88088,     0.88188,     0.88288,     0.88388,     0.88488,     0.88589,     0.88689,     0.88789,\n",
            "           0.88889,     0.88989,     0.89089,     0.89189,     0.89289,     0.89389,     0.89489,      0.8959,      0.8969,      0.8979,      0.8989,      0.8999,      0.9009,      0.9019,      0.9029,      0.9039,      0.9049,     0.90591,     0.90691,     0.90791,     0.90891,     0.90991,     0.91091,     0.91191,\n",
            "           0.91291,     0.91391,     0.91491,     0.91592,     0.91692,     0.91792,     0.91892,     0.91992,     0.92092,     0.92192,     0.92292,     0.92392,     0.92492,     0.92593,     0.92693,     0.92793,     0.92893,     0.92993,     0.93093,     0.93193,     0.93293,     0.93393,     0.93493,     0.93594,\n",
            "           0.93694,     0.93794,     0.93894,     0.93994,     0.94094,     0.94194,     0.94294,     0.94394,     0.94494,     0.94595,     0.94695,     0.94795,     0.94895,     0.94995,     0.95095,     0.95195,     0.95295,     0.95395,     0.95495,     0.95596,     0.95696,     0.95796,     0.95896,     0.95996,\n",
            "           0.96096,     0.96196,     0.96296,     0.96396,     0.96496,     0.96597,     0.96697,     0.96797,     0.96897,     0.96997,     0.97097,     0.97197,     0.97297,     0.97397,     0.97497,     0.97598,     0.97698,     0.97798,     0.97898,     0.97998,     0.98098,     0.98198,     0.98298,     0.98398,\n",
            "           0.98498,     0.98599,     0.98699,     0.98799,     0.98899,     0.98999,     0.99099,     0.99199,     0.99299,     0.99399,     0.99499,       0.996,       0.997,       0.998,       0.999,           1]), array([[    0.20178,     0.20178,       0.238,     0.25924,     0.27722,     0.29253,     0.30351,     0.31419,      0.3242,     0.33282,     0.34025,     0.34726,     0.35484,     0.36093,      0.3676,      0.3735,     0.37794,     0.38292,     0.38798,      0.3914,     0.39655,     0.39992,     0.40385,\n",
            "            0.40754,     0.41092,     0.41476,     0.41864,     0.42135,     0.42412,     0.42706,      0.4294,     0.43202,     0.43468,     0.43701,     0.43949,     0.44202,     0.44417,     0.44643,     0.44837,     0.45048,     0.45333,     0.45568,     0.45854,      0.4605,     0.46334,     0.46545,\n",
            "            0.46731,     0.46861,     0.47036,     0.47237,     0.47415,     0.47615,      0.4772,     0.47891,     0.48043,     0.48336,     0.48535,     0.48656,     0.48818,     0.49072,     0.49312,     0.49467,     0.49582,     0.49724,     0.49929,     0.50121,     0.50272,     0.50477,     0.50654,\n",
            "            0.50863,     0.51038,     0.51266,     0.51408,     0.51528,     0.51652,     0.51735,     0.51889,     0.51928,     0.52183,     0.52256,     0.52351,      0.5251,     0.52652,     0.52745,     0.52907,     0.53052,     0.53189,     0.53282,     0.53469,     0.53608,      0.5372,     0.53808,\n",
            "            0.54047,     0.54185,     0.54324,     0.54501,     0.54653,     0.54631,     0.54744,     0.54856,      0.5497,     0.55087,     0.55219,      0.5529,     0.55351,     0.55539,     0.55661,     0.55861,     0.55955,     0.56051,     0.56142,     0.56319,     0.56416,      0.5648,     0.56664,\n",
            "            0.56743,     0.56884,     0.56959,     0.57078,     0.57123,     0.57226,     0.57311,     0.57409,     0.57535,     0.57579,     0.57678,     0.57713,     0.57858,     0.58045,     0.58177,     0.58269,     0.58325,     0.58493,     0.58583,     0.58689,     0.58867,     0.58985,     0.59022,\n",
            "            0.59118,     0.59212,     0.59291,     0.59372,     0.59505,     0.59576,     0.59726,     0.59838,     0.59954,     0.60014,     0.60062,     0.60166,     0.60248,     0.60366,     0.60418,     0.60432,     0.60551,     0.60607,     0.60713,     0.60893,     0.60975,     0.60984,     0.61027,\n",
            "            0.61122,      0.6117,      0.6129,     0.61374,      0.6152,     0.61678,     0.61737,     0.61872,     0.61954,     0.62064,     0.62078,     0.62124,     0.62099,     0.62246,     0.62251,     0.62335,     0.62409,      0.6257,     0.62669,      0.6286,     0.62907,     0.63007,     0.63049,\n",
            "            0.63042,     0.63116,     0.63216,      0.6342,     0.63453,     0.63499,     0.63643,     0.63705,     0.63818,     0.63894,     0.63943,     0.64125,     0.64173,     0.64209,     0.64297,      0.6436,     0.64407,     0.64484,     0.64548,     0.64649,     0.64699,      0.6486,     0.64936,\n",
            "            0.65007,     0.65035,     0.65069,      0.6514,      0.6521,     0.65401,     0.65431,     0.65543,     0.65544,     0.65613,     0.65665,     0.65713,     0.65763,      0.6577,     0.65792,     0.65812,     0.65871,      0.6597,     0.66062,     0.66177,     0.66104,      0.6611,      0.6616,\n",
            "            0.66298,     0.66363,     0.66385,     0.66434,     0.66515,     0.66602,     0.66601,     0.66709,     0.66703,     0.66747,     0.66774,     0.66857,     0.66908,     0.66928,     0.66964,     0.66925,     0.66936,     0.66967,     0.67064,     0.67132,     0.67151,     0.67218,     0.67254,\n",
            "            0.67347,     0.67328,     0.67395,     0.67403,     0.67456,     0.67495,       0.675,     0.67536,     0.67698,     0.67746,     0.67783,     0.67836,     0.67891,     0.67959,     0.68028,      0.6808,     0.68145,     0.68231,     0.68332,     0.68354,     0.68405,     0.68441,     0.68529,\n",
            "            0.68599,     0.68645,     0.68654,     0.68664,     0.68654,     0.68704,     0.68708,     0.68682,     0.68727,     0.68762,     0.68804,      0.6884,     0.68957,     0.68996,     0.69065,     0.69057,       0.691,     0.69113,     0.69097,     0.69185,     0.69255,       0.693,     0.69303,\n",
            "            0.69314,      0.6942,     0.69442,     0.69463,     0.69472,     0.69544,      0.6958,     0.69634,     0.69625,     0.69669,      0.6969,     0.69727,      0.6975,     0.69667,     0.69736,     0.69711,     0.69722,     0.69787,     0.69753,     0.69734,     0.69692,     0.69733,     0.69712,\n",
            "            0.69695,     0.69666,     0.69775,     0.69846,     0.69917,     0.69928,     0.69965,     0.69972,      0.6999,         0.7,      0.7005,     0.70161,      0.7016,     0.70089,     0.70107,     0.70203,     0.70225,     0.70246,     0.70249,     0.70306,     0.70328,     0.70408,     0.70405,\n",
            "            0.70415,     0.70443,     0.70521,     0.70544,     0.70562,      0.7051,     0.70463,     0.70451,      0.7051,     0.70567,     0.70628,     0.70654,     0.70625,     0.70666,     0.70707,     0.70784,     0.70795,     0.70753,     0.70684,     0.70669,     0.70686,     0.70711,     0.70716,\n",
            "            0.70776,     0.70764,     0.70762,     0.70786,     0.70807,      0.7083,      0.7077,     0.70756,     0.70778,     0.70733,     0.70719,      0.7078,     0.70676,     0.70621,     0.70587,     0.70626,     0.70664,      0.7067,      0.7068,     0.70699,     0.70633,     0.70602,      0.7056,\n",
            "            0.70599,     0.70678,      0.7072,      0.7076,     0.70731,     0.70673,     0.70656,      0.7066,      0.7067,      0.7071,     0.70661,     0.70681,      0.7072,     0.70715,     0.70715,     0.70719,     0.70686,      0.7059,     0.70482,     0.70504,     0.70412,     0.70435,     0.70389,\n",
            "            0.70415,     0.70424,     0.70427,     0.70471,     0.70438,     0.70345,     0.70389,     0.70329,     0.70374,     0.70392,     0.70369,      0.7027,     0.70267,     0.70256,     0.70123,     0.70093,     0.70061,     0.70103,     0.70123,     0.70266,     0.70232,     0.70196,     0.70208,\n",
            "            0.70172,     0.70181,     0.70147,     0.70168,     0.70191,     0.70137,     0.70144,     0.70168,     0.70171,     0.70215,     0.70199,     0.70129,     0.69998,      0.6989,     0.69893,     0.69933,     0.69943,     0.69977,     0.69991,     0.70014,         0.7,     0.69979,     0.69925,\n",
            "             0.6984,     0.69843,     0.69854,     0.69793,     0.69686,     0.69627,     0.69571,     0.69497,     0.69398,     0.69358,       0.693,     0.69262,     0.69234,     0.69177,       0.692,     0.69222,     0.69224,     0.69209,     0.69211,     0.69274,     0.69361,     0.69301,     0.69246,\n",
            "            0.69204,     0.69173,     0.69027,     0.69009,     0.69003,     0.68873,     0.68827,     0.68776,     0.68654,     0.68655,      0.6874,     0.68742,     0.68721,     0.68564,     0.68611,     0.68524,     0.68506,     0.68506,     0.68342,     0.68342,     0.68179,     0.68179,      0.6818,\n",
            "            0.68159,     0.68057,     0.68102,     0.67995,     0.67911,     0.67828,     0.67723,     0.67733,     0.67755,     0.67736,     0.67617,     0.67657,     0.67669,      0.6768,     0.67618,     0.67575,     0.67474,     0.67491,     0.67392,     0.67329,      0.6734,     0.67299,     0.67149,\n",
            "            0.67149,     0.66994,     0.67016,     0.67018,      0.6691,     0.66911,     0.66955,     0.66999,     0.66928,     0.66798,     0.66721,     0.66666,     0.66556,     0.66483,      0.6651,     0.66444,     0.66355,     0.66332,     0.66178,     0.66176,     0.66064,     0.66069,     0.66091,\n",
            "            0.66091,      0.6608,     0.66069,     0.66053,     0.66023,     0.65789,     0.65855,     0.65698,     0.65721,      0.6572,     0.65704,     0.65658,     0.65544,      0.6545,     0.65293,     0.65178,     0.65177,     0.64994,     0.64965,     0.64945,     0.64934,     0.64782,     0.64652,\n",
            "            0.64466,     0.64302,     0.64177,      0.6404,     0.63921,     0.63615,     0.63638,     0.63513,     0.63345,     0.63154,      0.6296,     0.62884,     0.62733,     0.62612,     0.62586,     0.62556,     0.62523,     0.62399,     0.62319,     0.62291,     0.62159,     0.61964,     0.61642,\n",
            "              0.615,     0.61487,     0.61471,     0.61446,     0.61349,     0.61351,     0.61124,     0.60925,     0.60893,     0.60807,     0.60578,     0.60444,     0.60469,     0.60417,     0.60265,     0.60213,     0.60111,     0.60103,      0.5998,     0.59822,     0.59618,     0.59464,     0.59148,\n",
            "            0.59117,     0.59035,     0.58879,      0.5882,     0.58739,     0.58707,     0.58667,     0.58562,      0.5827,     0.58008,     0.57923,     0.57791,       0.576,     0.57521,     0.57451,     0.57238,     0.57225,     0.57117,      0.5709,     0.56652,      0.5651,     0.56411,     0.56277,\n",
            "             0.5625,     0.56107,     0.55909,     0.55745,     0.55655,     0.55209,     0.54953,     0.54675,     0.54385,     0.54434,     0.54337,     0.54299,     0.54194,      0.5403,      0.5374,     0.53625,     0.53552,     0.53514,     0.53091,     0.52991,      0.5276,     0.52644,     0.52544,\n",
            "             0.5246,     0.52269,     0.52036,     0.51776,     0.51774,     0.51734,     0.51537,      0.5143,     0.51252,     0.51094,     0.50827,     0.50588,     0.50369,     0.50099,     0.49881,     0.49836,     0.49354,     0.49313,     0.49189,     0.49054,     0.48737,     0.48557,     0.48515,\n",
            "             0.4842,     0.48388,     0.48228,     0.48031,     0.47697,     0.47547,     0.47391,     0.47284,     0.47126,      0.4683,     0.46419,     0.46167,     0.46061,     0.45868,     0.45547,     0.45147,     0.45016,     0.44873,     0.44593,      0.4417,     0.43623,     0.43589,     0.43392,\n",
            "            0.43384,     0.42704,     0.42293,     0.42248,     0.41777,     0.41708,     0.41561,     0.41244,      0.4106,     0.40997,     0.40767,     0.40697,     0.40504,     0.40337,      0.4029,     0.40209,     0.39793,     0.39703,     0.39563,     0.39116,     0.39068,     0.38789,     0.38647,\n",
            "            0.38596,     0.38336,     0.38288,     0.38181,     0.37796,     0.37679,      0.3763,     0.37367,     0.37103,     0.37054,     0.36933,     0.36679,     0.36556,     0.36384,      0.3611,     0.35987,     0.35998,     0.35756,     0.35654,     0.35571,     0.35042,     0.34992,     0.34719,\n",
            "            0.34594,     0.34485,     0.34434,     0.34234,     0.33965,     0.33973,     0.33922,     0.33704,     0.33519,     0.33468,     0.32846,     0.32747,     0.32652,     0.31924,     0.31692,     0.31468,     0.31416,     0.31185,     0.30923,      0.3087,     0.30663,     0.30532,     0.30244,\n",
            "             0.3019,     0.30137,     0.29924,     0.29685,     0.29314,     0.29206,     0.29028,     0.28987,     0.28637,     0.28582,      0.2828,     0.27883,     0.27586,      0.2753,     0.27232,     0.27108,     0.26987,     0.26639,     0.26279,      0.2603,      0.2569,     0.25437,     0.25252,\n",
            "            0.25095,      0.2495,     0.24864,      0.2476,     0.24503,     0.24185,     0.23937,     0.23879,     0.23543,      0.2331,     0.22812,     0.22724,     0.22378,      0.2234,     0.21909,     0.21831,     0.21772,     0.21696,     0.21468,     0.21361,     0.20947,      0.2049,     0.20061,\n",
            "            0.19951,     0.19502,     0.19299,     0.19118,      0.1905,     0.18889,     0.18617,     0.18164,     0.17917,     0.17891,     0.17864,     0.17838,     0.17563,      0.1747,     0.17376,     0.17091,     0.16744,     0.16373,      0.1631,     0.15976,     0.15818,      0.1578,     0.15742,\n",
            "            0.15529,     0.15466,     0.15282,     0.14824,     0.14631,     0.14384,     0.14287,     0.14051,     0.13951,     0.13852,      0.1371,     0.13517,     0.13324,     0.13226,     0.12779,      0.1239,     0.12163,     0.11994,     0.11911,     0.11872,     0.11718,     0.11521,      0.1129,\n",
            "            0.11175,     0.11119,     0.11069,     0.10973,     0.10679,     0.10182,     0.10049,    0.098762,    0.096732,    0.095291,    0.092659,    0.088618,    0.086566,    0.082499,    0.080658,    0.078365,    0.075308,    0.072483,    0.070093,    0.068278,    0.067754,    0.063185,    0.062132,\n",
            "           0.059018,    0.057473,    0.055354,    0.054819,    0.054215,    0.052711,    0.051024,    0.046931,    0.044891,    0.044354,    0.043783,    0.043066,    0.040252,    0.039179,    0.038041,    0.033159,    0.032435,    0.029412,     0.02876,    0.028324,    0.025707,     0.02516,    0.023814,\n",
            "           0.022427,    0.022113,    0.021799,    0.021027,    0.019188,    0.018637,    0.016648,    0.015004,    0.012575,    0.011166,    0.010558,    0.010114,   0.0091077,   0.0083556,   0.0079102,   0.0067713,   0.0058801,   0.0053801,   0.0051939,   0.0050078,   0.0048216,   0.0046354,   0.0044491,\n",
            "          0.0043122,   0.0042106,    0.004109,   0.0040073,   0.0039057,    0.003804,   0.0037023,   0.0036006,   0.0034989,   0.0033972,   0.0032955,   0.0031612,   0.0030213,   0.0028814,   0.0027415,   0.0026015,   0.0024615,   0.0023215,   0.0021524,   0.0014053,           0,           0,           0,\n",
            "                  0,           0,           0,           0,           0,           0,           0,           0,           0,           0,           0,           0,           0,           0,           0,           0,           0,           0,           0,           0,           0,           0,           0,\n",
            "                  0,           0,           0,           0,           0,           0,           0,           0,           0,           0,           0]]), 'Confidence', 'F1'], [array([          0,    0.001001,    0.002002,    0.003003,    0.004004,    0.005005,    0.006006,    0.007007,    0.008008,    0.009009,     0.01001,    0.011011,    0.012012,    0.013013,    0.014014,    0.015015,    0.016016,    0.017017,    0.018018,    0.019019,     0.02002,    0.021021,    0.022022,    0.023023,\n",
            "          0.024024,    0.025025,    0.026026,    0.027027,    0.028028,    0.029029,     0.03003,    0.031031,    0.032032,    0.033033,    0.034034,    0.035035,    0.036036,    0.037037,    0.038038,    0.039039,     0.04004,    0.041041,    0.042042,    0.043043,    0.044044,    0.045045,    0.046046,    0.047047,\n",
            "          0.048048,    0.049049,     0.05005,    0.051051,    0.052052,    0.053053,    0.054054,    0.055055,    0.056056,    0.057057,    0.058058,    0.059059,     0.06006,    0.061061,    0.062062,    0.063063,    0.064064,    0.065065,    0.066066,    0.067067,    0.068068,    0.069069,     0.07007,    0.071071,\n",
            "          0.072072,    0.073073,    0.074074,    0.075075,    0.076076,    0.077077,    0.078078,    0.079079,     0.08008,    0.081081,    0.082082,    0.083083,    0.084084,    0.085085,    0.086086,    0.087087,    0.088088,    0.089089,     0.09009,    0.091091,    0.092092,    0.093093,    0.094094,    0.095095,\n",
            "          0.096096,    0.097097,    0.098098,    0.099099,      0.1001,      0.1011,      0.1021,      0.1031,      0.1041,     0.10511,     0.10611,     0.10711,     0.10811,     0.10911,     0.11011,     0.11111,     0.11211,     0.11311,     0.11411,     0.11512,     0.11612,     0.11712,     0.11812,     0.11912,\n",
            "           0.12012,     0.12112,     0.12212,     0.12312,     0.12412,     0.12513,     0.12613,     0.12713,     0.12813,     0.12913,     0.13013,     0.13113,     0.13213,     0.13313,     0.13413,     0.13514,     0.13614,     0.13714,     0.13814,     0.13914,     0.14014,     0.14114,     0.14214,     0.14314,\n",
            "           0.14414,     0.14515,     0.14615,     0.14715,     0.14815,     0.14915,     0.15015,     0.15115,     0.15215,     0.15315,     0.15415,     0.15516,     0.15616,     0.15716,     0.15816,     0.15916,     0.16016,     0.16116,     0.16216,     0.16316,     0.16416,     0.16517,     0.16617,     0.16717,\n",
            "           0.16817,     0.16917,     0.17017,     0.17117,     0.17217,     0.17317,     0.17417,     0.17518,     0.17618,     0.17718,     0.17818,     0.17918,     0.18018,     0.18118,     0.18218,     0.18318,     0.18418,     0.18519,     0.18619,     0.18719,     0.18819,     0.18919,     0.19019,     0.19119,\n",
            "           0.19219,     0.19319,     0.19419,      0.1952,      0.1962,      0.1972,      0.1982,      0.1992,      0.2002,      0.2012,      0.2022,      0.2032,      0.2042,     0.20521,     0.20621,     0.20721,     0.20821,     0.20921,     0.21021,     0.21121,     0.21221,     0.21321,     0.21421,     0.21522,\n",
            "           0.21622,     0.21722,     0.21822,     0.21922,     0.22022,     0.22122,     0.22222,     0.22322,     0.22422,     0.22523,     0.22623,     0.22723,     0.22823,     0.22923,     0.23023,     0.23123,     0.23223,     0.23323,     0.23423,     0.23524,     0.23624,     0.23724,     0.23824,     0.23924,\n",
            "           0.24024,     0.24124,     0.24224,     0.24324,     0.24424,     0.24525,     0.24625,     0.24725,     0.24825,     0.24925,     0.25025,     0.25125,     0.25225,     0.25325,     0.25425,     0.25526,     0.25626,     0.25726,     0.25826,     0.25926,     0.26026,     0.26126,     0.26226,     0.26326,\n",
            "           0.26426,     0.26527,     0.26627,     0.26727,     0.26827,     0.26927,     0.27027,     0.27127,     0.27227,     0.27327,     0.27427,     0.27528,     0.27628,     0.27728,     0.27828,     0.27928,     0.28028,     0.28128,     0.28228,     0.28328,     0.28428,     0.28529,     0.28629,     0.28729,\n",
            "           0.28829,     0.28929,     0.29029,     0.29129,     0.29229,     0.29329,     0.29429,      0.2953,      0.2963,      0.2973,      0.2983,      0.2993,      0.3003,      0.3013,      0.3023,      0.3033,      0.3043,     0.30531,     0.30631,     0.30731,     0.30831,     0.30931,     0.31031,     0.31131,\n",
            "           0.31231,     0.31331,     0.31431,     0.31532,     0.31632,     0.31732,     0.31832,     0.31932,     0.32032,     0.32132,     0.32232,     0.32332,     0.32432,     0.32533,     0.32633,     0.32733,     0.32833,     0.32933,     0.33033,     0.33133,     0.33233,     0.33333,     0.33433,     0.33534,\n",
            "           0.33634,     0.33734,     0.33834,     0.33934,     0.34034,     0.34134,     0.34234,     0.34334,     0.34434,     0.34535,     0.34635,     0.34735,     0.34835,     0.34935,     0.35035,     0.35135,     0.35235,     0.35335,     0.35435,     0.35536,     0.35636,     0.35736,     0.35836,     0.35936,\n",
            "           0.36036,     0.36136,     0.36236,     0.36336,     0.36436,     0.36537,     0.36637,     0.36737,     0.36837,     0.36937,     0.37037,     0.37137,     0.37237,     0.37337,     0.37437,     0.37538,     0.37638,     0.37738,     0.37838,     0.37938,     0.38038,     0.38138,     0.38238,     0.38338,\n",
            "           0.38438,     0.38539,     0.38639,     0.38739,     0.38839,     0.38939,     0.39039,     0.39139,     0.39239,     0.39339,     0.39439,      0.3954,      0.3964,      0.3974,      0.3984,      0.3994,      0.4004,      0.4014,      0.4024,      0.4034,      0.4044,     0.40541,     0.40641,     0.40741,\n",
            "           0.40841,     0.40941,     0.41041,     0.41141,     0.41241,     0.41341,     0.41441,     0.41542,     0.41642,     0.41742,     0.41842,     0.41942,     0.42042,     0.42142,     0.42242,     0.42342,     0.42442,     0.42543,     0.42643,     0.42743,     0.42843,     0.42943,     0.43043,     0.43143,\n",
            "           0.43243,     0.43343,     0.43443,     0.43544,     0.43644,     0.43744,     0.43844,     0.43944,     0.44044,     0.44144,     0.44244,     0.44344,     0.44444,     0.44545,     0.44645,     0.44745,     0.44845,     0.44945,     0.45045,     0.45145,     0.45245,     0.45345,     0.45445,     0.45546,\n",
            "           0.45646,     0.45746,     0.45846,     0.45946,     0.46046,     0.46146,     0.46246,     0.46346,     0.46446,     0.46547,     0.46647,     0.46747,     0.46847,     0.46947,     0.47047,     0.47147,     0.47247,     0.47347,     0.47447,     0.47548,     0.47648,     0.47748,     0.47848,     0.47948,\n",
            "           0.48048,     0.48148,     0.48248,     0.48348,     0.48448,     0.48549,     0.48649,     0.48749,     0.48849,     0.48949,     0.49049,     0.49149,     0.49249,     0.49349,     0.49449,      0.4955,      0.4965,      0.4975,      0.4985,      0.4995,      0.5005,      0.5015,      0.5025,      0.5035,\n",
            "            0.5045,     0.50551,     0.50651,     0.50751,     0.50851,     0.50951,     0.51051,     0.51151,     0.51251,     0.51351,     0.51451,     0.51552,     0.51652,     0.51752,     0.51852,     0.51952,     0.52052,     0.52152,     0.52252,     0.52352,     0.52452,     0.52553,     0.52653,     0.52753,\n",
            "           0.52853,     0.52953,     0.53053,     0.53153,     0.53253,     0.53353,     0.53453,     0.53554,     0.53654,     0.53754,     0.53854,     0.53954,     0.54054,     0.54154,     0.54254,     0.54354,     0.54454,     0.54555,     0.54655,     0.54755,     0.54855,     0.54955,     0.55055,     0.55155,\n",
            "           0.55255,     0.55355,     0.55455,     0.55556,     0.55656,     0.55756,     0.55856,     0.55956,     0.56056,     0.56156,     0.56256,     0.56356,     0.56456,     0.56557,     0.56657,     0.56757,     0.56857,     0.56957,     0.57057,     0.57157,     0.57257,     0.57357,     0.57457,     0.57558,\n",
            "           0.57658,     0.57758,     0.57858,     0.57958,     0.58058,     0.58158,     0.58258,     0.58358,     0.58458,     0.58559,     0.58659,     0.58759,     0.58859,     0.58959,     0.59059,     0.59159,     0.59259,     0.59359,     0.59459,      0.5956,      0.5966,      0.5976,      0.5986,      0.5996,\n",
            "            0.6006,      0.6016,      0.6026,      0.6036,      0.6046,     0.60561,     0.60661,     0.60761,     0.60861,     0.60961,     0.61061,     0.61161,     0.61261,     0.61361,     0.61461,     0.61562,     0.61662,     0.61762,     0.61862,     0.61962,     0.62062,     0.62162,     0.62262,     0.62362,\n",
            "           0.62462,     0.62563,     0.62663,     0.62763,     0.62863,     0.62963,     0.63063,     0.63163,     0.63263,     0.63363,     0.63463,     0.63564,     0.63664,     0.63764,     0.63864,     0.63964,     0.64064,     0.64164,     0.64264,     0.64364,     0.64464,     0.64565,     0.64665,     0.64765,\n",
            "           0.64865,     0.64965,     0.65065,     0.65165,     0.65265,     0.65365,     0.65465,     0.65566,     0.65666,     0.65766,     0.65866,     0.65966,     0.66066,     0.66166,     0.66266,     0.66366,     0.66466,     0.66567,     0.66667,     0.66767,     0.66867,     0.66967,     0.67067,     0.67167,\n",
            "           0.67267,     0.67367,     0.67467,     0.67568,     0.67668,     0.67768,     0.67868,     0.67968,     0.68068,     0.68168,     0.68268,     0.68368,     0.68468,     0.68569,     0.68669,     0.68769,     0.68869,     0.68969,     0.69069,     0.69169,     0.69269,     0.69369,     0.69469,      0.6957,\n",
            "            0.6967,      0.6977,      0.6987,      0.6997,      0.7007,      0.7017,      0.7027,      0.7037,      0.7047,     0.70571,     0.70671,     0.70771,     0.70871,     0.70971,     0.71071,     0.71171,     0.71271,     0.71371,     0.71471,     0.71572,     0.71672,     0.71772,     0.71872,     0.71972,\n",
            "           0.72072,     0.72172,     0.72272,     0.72372,     0.72472,     0.72573,     0.72673,     0.72773,     0.72873,     0.72973,     0.73073,     0.73173,     0.73273,     0.73373,     0.73473,     0.73574,     0.73674,     0.73774,     0.73874,     0.73974,     0.74074,     0.74174,     0.74274,     0.74374,\n",
            "           0.74474,     0.74575,     0.74675,     0.74775,     0.74875,     0.74975,     0.75075,     0.75175,     0.75275,     0.75375,     0.75475,     0.75576,     0.75676,     0.75776,     0.75876,     0.75976,     0.76076,     0.76176,     0.76276,     0.76376,     0.76476,     0.76577,     0.76677,     0.76777,\n",
            "           0.76877,     0.76977,     0.77077,     0.77177,     0.77277,     0.77377,     0.77477,     0.77578,     0.77678,     0.77778,     0.77878,     0.77978,     0.78078,     0.78178,     0.78278,     0.78378,     0.78478,     0.78579,     0.78679,     0.78779,     0.78879,     0.78979,     0.79079,     0.79179,\n",
            "           0.79279,     0.79379,     0.79479,      0.7958,      0.7968,      0.7978,      0.7988,      0.7998,      0.8008,      0.8018,      0.8028,      0.8038,      0.8048,     0.80581,     0.80681,     0.80781,     0.80881,     0.80981,     0.81081,     0.81181,     0.81281,     0.81381,     0.81481,     0.81582,\n",
            "           0.81682,     0.81782,     0.81882,     0.81982,     0.82082,     0.82182,     0.82282,     0.82382,     0.82482,     0.82583,     0.82683,     0.82783,     0.82883,     0.82983,     0.83083,     0.83183,     0.83283,     0.83383,     0.83483,     0.83584,     0.83684,     0.83784,     0.83884,     0.83984,\n",
            "           0.84084,     0.84184,     0.84284,     0.84384,     0.84484,     0.84585,     0.84685,     0.84785,     0.84885,     0.84985,     0.85085,     0.85185,     0.85285,     0.85385,     0.85485,     0.85586,     0.85686,     0.85786,     0.85886,     0.85986,     0.86086,     0.86186,     0.86286,     0.86386,\n",
            "           0.86486,     0.86587,     0.86687,     0.86787,     0.86887,     0.86987,     0.87087,     0.87187,     0.87287,     0.87387,     0.87487,     0.87588,     0.87688,     0.87788,     0.87888,     0.87988,     0.88088,     0.88188,     0.88288,     0.88388,     0.88488,     0.88589,     0.88689,     0.88789,\n",
            "           0.88889,     0.88989,     0.89089,     0.89189,     0.89289,     0.89389,     0.89489,      0.8959,      0.8969,      0.8979,      0.8989,      0.8999,      0.9009,      0.9019,      0.9029,      0.9039,      0.9049,     0.90591,     0.90691,     0.90791,     0.90891,     0.90991,     0.91091,     0.91191,\n",
            "           0.91291,     0.91391,     0.91491,     0.91592,     0.91692,     0.91792,     0.91892,     0.91992,     0.92092,     0.92192,     0.92292,     0.92392,     0.92492,     0.92593,     0.92693,     0.92793,     0.92893,     0.92993,     0.93093,     0.93193,     0.93293,     0.93393,     0.93493,     0.93594,\n",
            "           0.93694,     0.93794,     0.93894,     0.93994,     0.94094,     0.94194,     0.94294,     0.94394,     0.94494,     0.94595,     0.94695,     0.94795,     0.94895,     0.94995,     0.95095,     0.95195,     0.95295,     0.95395,     0.95495,     0.95596,     0.95696,     0.95796,     0.95896,     0.95996,\n",
            "           0.96096,     0.96196,     0.96296,     0.96396,     0.96496,     0.96597,     0.96697,     0.96797,     0.96897,     0.96997,     0.97097,     0.97197,     0.97297,     0.97397,     0.97497,     0.97598,     0.97698,     0.97798,     0.97898,     0.97998,     0.98098,     0.98198,     0.98298,     0.98398,\n",
            "           0.98498,     0.98599,     0.98699,     0.98799,     0.98899,     0.98999,     0.99099,     0.99199,     0.99299,     0.99399,     0.99499,       0.996,       0.997,       0.998,       0.999,           1]), array([[    0.11331,     0.11331,     0.13669,     0.15094,      0.1633,     0.17403,      0.1819,      0.1897,      0.1971,     0.20354,     0.20918,      0.2145,     0.22031,     0.22506,     0.23027,     0.23492,     0.23848,      0.2425,     0.24662,     0.24955,      0.2538,     0.25656,     0.25985,\n",
            "            0.26296,     0.26583,      0.2691,     0.27243,     0.27483,     0.27719,     0.27976,     0.28193,     0.28419,      0.2865,     0.28853,     0.29075,     0.29303,     0.29492,     0.29692,     0.29882,     0.30076,     0.30343,     0.30573,     0.30831,     0.31035,     0.31293,     0.31486,\n",
            "            0.31657,     0.31776,     0.31944,      0.3213,     0.32295,     0.32481,     0.32593,     0.32761,     0.32918,     0.33194,     0.33397,     0.33512,      0.3369,     0.33931,     0.34162,     0.34328,     0.34461,     0.34601,     0.34799,     0.35003,     0.35151,     0.35352,     0.35534,\n",
            "            0.35741,     0.35914,      0.3614,     0.36289,     0.36429,     0.36562,     0.36655,      0.3681,     0.36878,     0.37135,      0.3722,     0.37345,     0.37507,     0.37653,     0.37768,     0.37934,     0.38094,     0.38246,     0.38353,     0.38547,     0.38692,      0.3882,     0.38934,\n",
            "            0.39185,      0.3933,     0.39476,     0.39663,     0.39824,     0.39836,     0.39955,     0.40075,     0.40232,     0.40358,     0.40512,       0.406,      0.4069,     0.40894,     0.41026,     0.41244,     0.41346,     0.41464,     0.41564,     0.41757,     0.41864,     0.41961,     0.42177,\n",
            "            0.42278,     0.42435,     0.42518,     0.42655,     0.42728,     0.42844,     0.42939,     0.43048,     0.43204,      0.4329,     0.43422,     0.43489,     0.43654,     0.43867,     0.44034,     0.44183,     0.44247,     0.44441,     0.44559,     0.44682,     0.44889,     0.45026,       0.451,\n",
            "            0.45212,     0.45353,     0.45492,     0.45604,      0.4576,      0.4586,     0.46039,     0.46188,     0.46327,     0.46418,     0.46505,     0.46629,     0.46729,     0.46871,     0.46972,     0.47018,     0.47162,     0.47247,     0.47376,     0.47595,     0.47696,     0.47725,     0.47794,\n",
            "            0.47911,      0.4797,     0.48117,     0.48222,     0.48401,     0.48598,     0.48672,     0.48839,      0.4896,     0.49098,      0.4917,      0.4923,     0.49272,     0.49476,     0.49521,     0.49628,     0.49722,     0.49945,     0.50072,     0.50316,     0.50376,     0.50506,     0.50619,\n",
            "             0.5063,     0.50745,     0.50875,      0.5116,     0.51224,     0.51305,     0.51493,     0.51574,     0.51744,     0.51844,     0.51908,     0.52171,     0.52256,     0.52303,     0.52419,     0.52504,      0.5261,     0.52713,     0.52798,     0.52956,     0.53023,      0.5324,     0.53343,\n",
            "             0.5345,     0.53522,     0.53568,     0.53669,     0.53782,     0.54043,     0.54107,     0.54261,     0.54281,      0.5438,     0.54451,     0.54542,     0.54611,     0.54644,     0.54674,     0.54726,     0.54827,     0.54993,     0.55122,     0.55287,     0.55246,     0.55336,     0.55432,\n",
            "            0.55626,     0.55718,     0.55748,     0.55843,     0.55958,     0.56086,     0.56104,     0.56312,     0.56354,     0.56438,     0.56508,     0.56626,     0.56752,     0.56782,      0.5686,     0.56884,     0.56942,     0.57025,     0.57167,     0.57266,     0.57348,     0.57445,     0.57498,\n",
            "            0.57694,     0.57718,     0.57817,     0.57941,     0.58047,     0.58133,      0.5818,     0.58253,     0.58524,     0.58595,      0.5865,     0.58729,      0.5887,     0.58974,     0.59078,     0.59156,     0.59255,     0.59384,     0.59537,     0.59571,     0.59648,     0.59734,     0.59898,\n",
            "            0.60005,     0.60075,      0.6009,     0.60176,     0.60182,     0.60259,      0.6033,     0.60333,     0.60439,     0.60538,     0.60666,     0.60722,     0.60905,     0.60966,     0.61139,     0.61204,      0.6129,     0.61371,     0.61418,     0.61591,     0.61701,     0.61804,     0.61877,\n",
            "            0.62033,     0.62237,     0.62307,     0.62375,     0.62459,     0.62575,     0.62635,     0.62721,     0.62778,      0.6292,      0.6299,     0.63051,     0.63124,     0.63204,     0.63319,     0.63349,     0.63388,     0.63512,     0.63581,     0.63571,     0.63614,     0.63758,      0.6378,\n",
            "            0.63807,     0.63835,     0.64018,     0.64137,     0.64272,     0.64352,     0.64415,     0.64466,     0.64497,     0.64514,     0.64599,     0.64827,     0.64857,     0.64861,     0.64892,     0.65097,     0.65175,     0.65212,     0.65257,     0.65356,     0.65435,     0.65613,     0.65654,\n",
            "            0.65708,     0.65839,     0.66016,     0.66099,     0.66131,      0.6625,     0.66296,     0.66315,     0.66419,      0.6658,     0.66716,     0.66835,     0.66885,     0.66959,     0.67076,     0.67259,     0.67369,     0.67472,     0.67455,     0.67573,     0.67621,     0.67743,     0.67768,\n",
            "            0.67924,     0.67995,     0.68097,     0.68237,     0.68325,     0.68399,     0.68411,     0.68484,     0.68573,     0.68602,     0.68623,     0.68786,     0.68738,      0.6878,      0.6883,     0.68938,     0.69011,     0.69072,      0.6919,     0.69227,     0.69253,     0.69294,     0.69365,\n",
            "            0.69441,     0.69646,     0.69779,     0.69856,     0.69924,     0.70053,     0.70149,     0.70187,     0.70206,      0.7034,      0.7035,     0.70389,     0.70467,     0.70558,     0.70674,     0.70736,     0.71002,     0.71045,     0.70996,     0.71098,     0.71065,     0.71169,     0.71306,\n",
            "            0.71416,     0.71551,     0.71596,     0.71765,     0.71815,     0.71783,     0.71892,     0.71873,     0.72088,     0.72197,     0.72217,     0.72244,     0.72371,     0.72533,      0.7255,     0.72673,     0.72686,     0.72841,     0.72929,     0.73304,     0.73383,     0.73411,     0.73436,\n",
            "            0.73534,     0.73706,     0.73765,      0.7381,      0.7393,     0.73944,     0.74094,     0.74215,     0.74291,     0.74459,      0.7449,     0.74538,     0.74521,     0.74627,     0.74706,     0.74874,     0.75035,     0.75123,     0.75246,     0.75372,     0.75384,     0.75516,     0.75613,\n",
            "            0.75599,     0.75681,     0.75825,     0.75864,     0.75959,     0.76003,     0.75995,     0.76076,     0.76049,     0.76033,     0.76051,     0.76119,     0.76225,     0.76245,     0.76382,     0.76434,     0.76521,     0.76643,     0.76731,     0.76886,     0.77182,     0.77202,     0.77227,\n",
            "            0.77296,     0.77377,      0.7736,     0.77487,     0.77628,      0.7766,     0.77699,     0.77851,     0.77804,     0.77957,     0.78176,     0.78272,      0.7834,     0.78348,     0.78651,     0.78742,      0.7888,     0.78977,     0.78917,     0.79015,     0.79052,     0.79151,     0.79251,\n",
            "            0.79326,     0.79406,     0.79559,     0.79534,     0.79504,     0.79575,     0.79589,     0.79635,     0.79696,     0.79845,     0.79808,     0.80131,     0.80164,     0.80195,     0.80331,     0.80423,     0.80551,     0.80607,     0.80741,      0.8088,     0.80912,      0.8103,     0.81034,\n",
            "            0.81145,     0.81106,     0.81171,     0.81211,     0.81193,     0.81307,      0.8155,      0.8168,     0.81747,     0.81819,     0.81995,     0.82007,     0.82147,     0.82215,     0.82368,     0.82406,     0.82377,      0.8255,     0.82602,     0.82681,     0.82706,     0.82754,     0.82947,\n",
            "            0.83072,     0.83142,     0.83255,     0.83572,     0.83748,     0.83902,     0.84118,     0.84138,     0.84212,     0.84344,     0.84502,     0.84488,     0.84521,     0.84536,     0.84513,     0.84592,     0.84729,     0.84813,     0.84822,     0.85215,     0.85297,     0.85382,     0.85497,\n",
            "            0.85444,     0.85469,     0.85644,      0.8561,     0.85649,     0.85636,     0.85721,     0.85827,     0.85854,       0.858,     0.85895,     0.85999,     0.86264,     0.86309,     0.86381,     0.86608,     0.86618,     0.86663,     0.86878,      0.8695,     0.86986,     0.87184,     0.87182,\n",
            "            0.87264,     0.87305,     0.87383,     0.87377,     0.87398,     0.87518,     0.87543,     0.87492,     0.87624,     0.87886,     0.87914,     0.87901,      0.8806,     0.88047,     0.88009,     0.87996,      0.8797,     0.88143,     0.88113,     0.88073,     0.88022,     0.87983,     0.88082,\n",
            "            0.88165,     0.88234,     0.88196,     0.88181,     0.88343,     0.88428,     0.88696,      0.8867,     0.88693,     0.88629,     0.88703,     0.88671,      0.8872,     0.88736,     0.88973,     0.88922,     0.89005,     0.89089,     0.89083,     0.89178,     0.89243,     0.89523,     0.89613,\n",
            "            0.89896,     0.89968,     0.90028,     0.89992,     0.90077,     0.90084,     0.90134,     0.90072,      0.9015,     0.90422,     0.90435,     0.90861,     0.90851,     0.91158,     0.91213,      0.9119,     0.91408,     0.91517,     0.91441,     0.91531,     0.91485,     0.91462,     0.91482,\n",
            "            0.91545,      0.9175,     0.91795,     0.91934,     0.92025,     0.92142,     0.92105,     0.92211,     0.92178,     0.92276,     0.92225,      0.9218,     0.92269,     0.92217,     0.92313,     0.92432,     0.92342,     0.92334,     0.92397,     0.92557,     0.92636,     0.92602,     0.92595,\n",
            "            0.92577,     0.92571,     0.92681,     0.92786,     0.93012,     0.92985,     0.93248,      0.9323,      0.9335,     0.93448,     0.93377,      0.9334,     0.93489,     0.93744,      0.9369,     0.93781,     0.93759,     0.93735,     0.93687,     0.93778,      0.9385,     0.93845,     0.93811,\n",
            "            0.93951,     0.94035,     0.94315,     0.94308,     0.94231,      0.9422,     0.94556,     0.94506,     0.94477,     0.94492,     0.94615,     0.94604,     0.94574,     0.94736,     0.94728,     0.94906,     0.94843,     0.94829,     0.95002,     0.94934,     0.94927,     0.94884,     0.94862,\n",
            "            0.94854,     0.94813,     0.94805,     0.94788,     0.94797,     0.95122,     0.95114,     0.95074,     0.95033,     0.95025,     0.95006,     0.95181,     0.95257,     0.95354,     0.95313,     0.95338,     0.95492,     0.95483,     0.95468,     0.95591,     0.95607,     0.95599,     0.95559,\n",
            "            0.95541,      0.9576,     0.95753,     0.95725,     0.95708,     0.95928,     0.95921,      0.9589,     0.95864,     0.95857,     0.96019,     0.96005,     0.95992,     0.95887,     0.95852,     0.95819,     0.95811,     0.95776,     0.95735,     0.95727,      0.9624,     0.96224,     0.96184,\n",
            "            0.96176,     0.96168,     0.96422,     0.96389,     0.96338,     0.96322,     0.96593,     0.96588,     0.96844,     0.96837,     0.96799,     0.96747,     0.96708,       0.967,     0.97307,     0.97293,     0.97435,     0.97913,     0.98227,     0.98208,     0.98181,      0.9816,     0.98145,\n",
            "            0.98132,      0.9849,     0.98484,     0.98477,     0.98459,     0.98436,     0.98418,     0.98413,     0.98388,      0.9837,     0.98331,     0.98323,     0.98295,     0.98688,     0.98684,     0.99115,     0.99112,     0.99109,     0.99098,     0.99093,     0.99073,     0.99051,     0.99028,\n",
            "            0.99022,     0.98998,     0.98986,     0.98975,     0.98971,     0.98962,     0.98945,     0.98917,       0.989,     0.98899,     0.98897,     0.98895,     0.98876,      0.9887,     0.98863,     0.98843,     0.98959,      0.9939,     0.99387,     0.99373,     0.99367,     0.99365,     0.99363,\n",
            "            0.99354,     0.99351,     0.99343,     0.99321,     0.99311,     0.99299,     0.99294,     0.99281,     0.99275,      0.9927,     0.99262,     0.99251,     0.99239,     0.99233,     0.99204,     0.99178,     0.99162,     0.99149,     0.99143,      0.9914,     0.99128,     0.99113,     0.99093,\n",
            "            0.99084,     0.99079,     0.99074,     0.99066,     0.99039,      0.9899,     0.98976,     0.98957,     0.98935,     0.98918,     0.98886,     0.98833,     0.98805,     0.98744,     0.98714,     0.98676,      0.9862,     0.98565,     0.98515,     0.98475,     0.98463,      0.9835,     0.98321,\n",
            "            0.98232,     0.98184,     0.98113,     0.98095,     0.98073,           1,           1,           1,           1,           1,           1,           1,           1,           1,           1,           1,           1,           1,           1,           1,           1,           1,           1,\n",
            "                  1,           1,           1,           1,           1,           1,           1,           1,           1,           1,           1,           1,           1,           1,           1,           1,           1,           1,           1,           1,           1,           1,           1,\n",
            "                  1,           1,           1,           1,           1,           1,           1,           1,           1,           1,           1,           1,           1,           1,           1,           1,           1,           1,           1,           1,           1,           1,           1,\n",
            "                  1,           1,           1,           1,           1,           1,           1,           1,           1,           1,           1,           1,           1,           1,           1,           1,           1,           1,           1,           1,           1,           1,           1,\n",
            "                  1,           1,           1,           1,           1,           1,           1,           1,           1,           1,           1]]), 'Confidence', 'Precision'], [array([          0,    0.001001,    0.002002,    0.003003,    0.004004,    0.005005,    0.006006,    0.007007,    0.008008,    0.009009,     0.01001,    0.011011,    0.012012,    0.013013,    0.014014,    0.015015,    0.016016,    0.017017,    0.018018,    0.019019,     0.02002,    0.021021,    0.022022,    0.023023,\n",
            "          0.024024,    0.025025,    0.026026,    0.027027,    0.028028,    0.029029,     0.03003,    0.031031,    0.032032,    0.033033,    0.034034,    0.035035,    0.036036,    0.037037,    0.038038,    0.039039,     0.04004,    0.041041,    0.042042,    0.043043,    0.044044,    0.045045,    0.046046,    0.047047,\n",
            "          0.048048,    0.049049,     0.05005,    0.051051,    0.052052,    0.053053,    0.054054,    0.055055,    0.056056,    0.057057,    0.058058,    0.059059,     0.06006,    0.061061,    0.062062,    0.063063,    0.064064,    0.065065,    0.066066,    0.067067,    0.068068,    0.069069,     0.07007,    0.071071,\n",
            "          0.072072,    0.073073,    0.074074,    0.075075,    0.076076,    0.077077,    0.078078,    0.079079,     0.08008,    0.081081,    0.082082,    0.083083,    0.084084,    0.085085,    0.086086,    0.087087,    0.088088,    0.089089,     0.09009,    0.091091,    0.092092,    0.093093,    0.094094,    0.095095,\n",
            "          0.096096,    0.097097,    0.098098,    0.099099,      0.1001,      0.1011,      0.1021,      0.1031,      0.1041,     0.10511,     0.10611,     0.10711,     0.10811,     0.10911,     0.11011,     0.11111,     0.11211,     0.11311,     0.11411,     0.11512,     0.11612,     0.11712,     0.11812,     0.11912,\n",
            "           0.12012,     0.12112,     0.12212,     0.12312,     0.12412,     0.12513,     0.12613,     0.12713,     0.12813,     0.12913,     0.13013,     0.13113,     0.13213,     0.13313,     0.13413,     0.13514,     0.13614,     0.13714,     0.13814,     0.13914,     0.14014,     0.14114,     0.14214,     0.14314,\n",
            "           0.14414,     0.14515,     0.14615,     0.14715,     0.14815,     0.14915,     0.15015,     0.15115,     0.15215,     0.15315,     0.15415,     0.15516,     0.15616,     0.15716,     0.15816,     0.15916,     0.16016,     0.16116,     0.16216,     0.16316,     0.16416,     0.16517,     0.16617,     0.16717,\n",
            "           0.16817,     0.16917,     0.17017,     0.17117,     0.17217,     0.17317,     0.17417,     0.17518,     0.17618,     0.17718,     0.17818,     0.17918,     0.18018,     0.18118,     0.18218,     0.18318,     0.18418,     0.18519,     0.18619,     0.18719,     0.18819,     0.18919,     0.19019,     0.19119,\n",
            "           0.19219,     0.19319,     0.19419,      0.1952,      0.1962,      0.1972,      0.1982,      0.1992,      0.2002,      0.2012,      0.2022,      0.2032,      0.2042,     0.20521,     0.20621,     0.20721,     0.20821,     0.20921,     0.21021,     0.21121,     0.21221,     0.21321,     0.21421,     0.21522,\n",
            "           0.21622,     0.21722,     0.21822,     0.21922,     0.22022,     0.22122,     0.22222,     0.22322,     0.22422,     0.22523,     0.22623,     0.22723,     0.22823,     0.22923,     0.23023,     0.23123,     0.23223,     0.23323,     0.23423,     0.23524,     0.23624,     0.23724,     0.23824,     0.23924,\n",
            "           0.24024,     0.24124,     0.24224,     0.24324,     0.24424,     0.24525,     0.24625,     0.24725,     0.24825,     0.24925,     0.25025,     0.25125,     0.25225,     0.25325,     0.25425,     0.25526,     0.25626,     0.25726,     0.25826,     0.25926,     0.26026,     0.26126,     0.26226,     0.26326,\n",
            "           0.26426,     0.26527,     0.26627,     0.26727,     0.26827,     0.26927,     0.27027,     0.27127,     0.27227,     0.27327,     0.27427,     0.27528,     0.27628,     0.27728,     0.27828,     0.27928,     0.28028,     0.28128,     0.28228,     0.28328,     0.28428,     0.28529,     0.28629,     0.28729,\n",
            "           0.28829,     0.28929,     0.29029,     0.29129,     0.29229,     0.29329,     0.29429,      0.2953,      0.2963,      0.2973,      0.2983,      0.2993,      0.3003,      0.3013,      0.3023,      0.3033,      0.3043,     0.30531,     0.30631,     0.30731,     0.30831,     0.30931,     0.31031,     0.31131,\n",
            "           0.31231,     0.31331,     0.31431,     0.31532,     0.31632,     0.31732,     0.31832,     0.31932,     0.32032,     0.32132,     0.32232,     0.32332,     0.32432,     0.32533,     0.32633,     0.32733,     0.32833,     0.32933,     0.33033,     0.33133,     0.33233,     0.33333,     0.33433,     0.33534,\n",
            "           0.33634,     0.33734,     0.33834,     0.33934,     0.34034,     0.34134,     0.34234,     0.34334,     0.34434,     0.34535,     0.34635,     0.34735,     0.34835,     0.34935,     0.35035,     0.35135,     0.35235,     0.35335,     0.35435,     0.35536,     0.35636,     0.35736,     0.35836,     0.35936,\n",
            "           0.36036,     0.36136,     0.36236,     0.36336,     0.36436,     0.36537,     0.36637,     0.36737,     0.36837,     0.36937,     0.37037,     0.37137,     0.37237,     0.37337,     0.37437,     0.37538,     0.37638,     0.37738,     0.37838,     0.37938,     0.38038,     0.38138,     0.38238,     0.38338,\n",
            "           0.38438,     0.38539,     0.38639,     0.38739,     0.38839,     0.38939,     0.39039,     0.39139,     0.39239,     0.39339,     0.39439,      0.3954,      0.3964,      0.3974,      0.3984,      0.3994,      0.4004,      0.4014,      0.4024,      0.4034,      0.4044,     0.40541,     0.40641,     0.40741,\n",
            "           0.40841,     0.40941,     0.41041,     0.41141,     0.41241,     0.41341,     0.41441,     0.41542,     0.41642,     0.41742,     0.41842,     0.41942,     0.42042,     0.42142,     0.42242,     0.42342,     0.42442,     0.42543,     0.42643,     0.42743,     0.42843,     0.42943,     0.43043,     0.43143,\n",
            "           0.43243,     0.43343,     0.43443,     0.43544,     0.43644,     0.43744,     0.43844,     0.43944,     0.44044,     0.44144,     0.44244,     0.44344,     0.44444,     0.44545,     0.44645,     0.44745,     0.44845,     0.44945,     0.45045,     0.45145,     0.45245,     0.45345,     0.45445,     0.45546,\n",
            "           0.45646,     0.45746,     0.45846,     0.45946,     0.46046,     0.46146,     0.46246,     0.46346,     0.46446,     0.46547,     0.46647,     0.46747,     0.46847,     0.46947,     0.47047,     0.47147,     0.47247,     0.47347,     0.47447,     0.47548,     0.47648,     0.47748,     0.47848,     0.47948,\n",
            "           0.48048,     0.48148,     0.48248,     0.48348,     0.48448,     0.48549,     0.48649,     0.48749,     0.48849,     0.48949,     0.49049,     0.49149,     0.49249,     0.49349,     0.49449,      0.4955,      0.4965,      0.4975,      0.4985,      0.4995,      0.5005,      0.5015,      0.5025,      0.5035,\n",
            "            0.5045,     0.50551,     0.50651,     0.50751,     0.50851,     0.50951,     0.51051,     0.51151,     0.51251,     0.51351,     0.51451,     0.51552,     0.51652,     0.51752,     0.51852,     0.51952,     0.52052,     0.52152,     0.52252,     0.52352,     0.52452,     0.52553,     0.52653,     0.52753,\n",
            "           0.52853,     0.52953,     0.53053,     0.53153,     0.53253,     0.53353,     0.53453,     0.53554,     0.53654,     0.53754,     0.53854,     0.53954,     0.54054,     0.54154,     0.54254,     0.54354,     0.54454,     0.54555,     0.54655,     0.54755,     0.54855,     0.54955,     0.55055,     0.55155,\n",
            "           0.55255,     0.55355,     0.55455,     0.55556,     0.55656,     0.55756,     0.55856,     0.55956,     0.56056,     0.56156,     0.56256,     0.56356,     0.56456,     0.56557,     0.56657,     0.56757,     0.56857,     0.56957,     0.57057,     0.57157,     0.57257,     0.57357,     0.57457,     0.57558,\n",
            "           0.57658,     0.57758,     0.57858,     0.57958,     0.58058,     0.58158,     0.58258,     0.58358,     0.58458,     0.58559,     0.58659,     0.58759,     0.58859,     0.58959,     0.59059,     0.59159,     0.59259,     0.59359,     0.59459,      0.5956,      0.5966,      0.5976,      0.5986,      0.5996,\n",
            "            0.6006,      0.6016,      0.6026,      0.6036,      0.6046,     0.60561,     0.60661,     0.60761,     0.60861,     0.60961,     0.61061,     0.61161,     0.61261,     0.61361,     0.61461,     0.61562,     0.61662,     0.61762,     0.61862,     0.61962,     0.62062,     0.62162,     0.62262,     0.62362,\n",
            "           0.62462,     0.62563,     0.62663,     0.62763,     0.62863,     0.62963,     0.63063,     0.63163,     0.63263,     0.63363,     0.63463,     0.63564,     0.63664,     0.63764,     0.63864,     0.63964,     0.64064,     0.64164,     0.64264,     0.64364,     0.64464,     0.64565,     0.64665,     0.64765,\n",
            "           0.64865,     0.64965,     0.65065,     0.65165,     0.65265,     0.65365,     0.65465,     0.65566,     0.65666,     0.65766,     0.65866,     0.65966,     0.66066,     0.66166,     0.66266,     0.66366,     0.66466,     0.66567,     0.66667,     0.66767,     0.66867,     0.66967,     0.67067,     0.67167,\n",
            "           0.67267,     0.67367,     0.67467,     0.67568,     0.67668,     0.67768,     0.67868,     0.67968,     0.68068,     0.68168,     0.68268,     0.68368,     0.68468,     0.68569,     0.68669,     0.68769,     0.68869,     0.68969,     0.69069,     0.69169,     0.69269,     0.69369,     0.69469,      0.6957,\n",
            "            0.6967,      0.6977,      0.6987,      0.6997,      0.7007,      0.7017,      0.7027,      0.7037,      0.7047,     0.70571,     0.70671,     0.70771,     0.70871,     0.70971,     0.71071,     0.71171,     0.71271,     0.71371,     0.71471,     0.71572,     0.71672,     0.71772,     0.71872,     0.71972,\n",
            "           0.72072,     0.72172,     0.72272,     0.72372,     0.72472,     0.72573,     0.72673,     0.72773,     0.72873,     0.72973,     0.73073,     0.73173,     0.73273,     0.73373,     0.73473,     0.73574,     0.73674,     0.73774,     0.73874,     0.73974,     0.74074,     0.74174,     0.74274,     0.74374,\n",
            "           0.74474,     0.74575,     0.74675,     0.74775,     0.74875,     0.74975,     0.75075,     0.75175,     0.75275,     0.75375,     0.75475,     0.75576,     0.75676,     0.75776,     0.75876,     0.75976,     0.76076,     0.76176,     0.76276,     0.76376,     0.76476,     0.76577,     0.76677,     0.76777,\n",
            "           0.76877,     0.76977,     0.77077,     0.77177,     0.77277,     0.77377,     0.77477,     0.77578,     0.77678,     0.77778,     0.77878,     0.77978,     0.78078,     0.78178,     0.78278,     0.78378,     0.78478,     0.78579,     0.78679,     0.78779,     0.78879,     0.78979,     0.79079,     0.79179,\n",
            "           0.79279,     0.79379,     0.79479,      0.7958,      0.7968,      0.7978,      0.7988,      0.7998,      0.8008,      0.8018,      0.8028,      0.8038,      0.8048,     0.80581,     0.80681,     0.80781,     0.80881,     0.80981,     0.81081,     0.81181,     0.81281,     0.81381,     0.81481,     0.81582,\n",
            "           0.81682,     0.81782,     0.81882,     0.81982,     0.82082,     0.82182,     0.82282,     0.82382,     0.82482,     0.82583,     0.82683,     0.82783,     0.82883,     0.82983,     0.83083,     0.83183,     0.83283,     0.83383,     0.83483,     0.83584,     0.83684,     0.83784,     0.83884,     0.83984,\n",
            "           0.84084,     0.84184,     0.84284,     0.84384,     0.84484,     0.84585,     0.84685,     0.84785,     0.84885,     0.84985,     0.85085,     0.85185,     0.85285,     0.85385,     0.85485,     0.85586,     0.85686,     0.85786,     0.85886,     0.85986,     0.86086,     0.86186,     0.86286,     0.86386,\n",
            "           0.86486,     0.86587,     0.86687,     0.86787,     0.86887,     0.86987,     0.87087,     0.87187,     0.87287,     0.87387,     0.87487,     0.87588,     0.87688,     0.87788,     0.87888,     0.87988,     0.88088,     0.88188,     0.88288,     0.88388,     0.88488,     0.88589,     0.88689,     0.88789,\n",
            "           0.88889,     0.88989,     0.89089,     0.89189,     0.89289,     0.89389,     0.89489,      0.8959,      0.8969,      0.8979,      0.8989,      0.8999,      0.9009,      0.9019,      0.9029,      0.9039,      0.9049,     0.90591,     0.90691,     0.90791,     0.90891,     0.90991,     0.91091,     0.91191,\n",
            "           0.91291,     0.91391,     0.91491,     0.91592,     0.91692,     0.91792,     0.91892,     0.91992,     0.92092,     0.92192,     0.92292,     0.92392,     0.92492,     0.92593,     0.92693,     0.92793,     0.92893,     0.92993,     0.93093,     0.93193,     0.93293,     0.93393,     0.93493,     0.93594,\n",
            "           0.93694,     0.93794,     0.93894,     0.93994,     0.94094,     0.94194,     0.94294,     0.94394,     0.94494,     0.94595,     0.94695,     0.94795,     0.94895,     0.94995,     0.95095,     0.95195,     0.95295,     0.95395,     0.95495,     0.95596,     0.95696,     0.95796,     0.95896,     0.95996,\n",
            "           0.96096,     0.96196,     0.96296,     0.96396,     0.96496,     0.96597,     0.96697,     0.96797,     0.96897,     0.96997,     0.97097,     0.97197,     0.97297,     0.97397,     0.97497,     0.97598,     0.97698,     0.97798,     0.97898,     0.97998,     0.98098,     0.98198,     0.98298,     0.98398,\n",
            "           0.98498,     0.98599,     0.98699,     0.98799,     0.98899,     0.98999,     0.99099,     0.99199,     0.99299,     0.99399,     0.99499,       0.996,       0.997,       0.998,       0.999,           1]), array([[    0.92004,     0.92004,      0.9195,     0.91785,     0.91676,     0.91676,     0.91566,     0.91402,     0.91292,     0.91238,     0.91128,     0.91128,     0.91128,     0.91073,     0.91073,     0.91073,     0.91019,     0.90964,     0.90909,      0.9069,     0.90635,     0.90635,     0.90581,\n",
            "            0.90526,     0.90471,     0.90416,     0.90361,     0.90252,     0.90252,     0.90197,     0.90033,     0.90033,     0.90033,     0.90033,     0.89978,     0.89923,     0.89923,     0.89923,     0.89759,     0.89704,     0.89595,      0.8943,      0.8943,     0.89211,     0.89211,     0.89211,\n",
            "            0.89211,     0.89211,     0.89157,     0.89157,     0.89157,     0.89157,     0.89047,     0.88992,     0.88883,     0.88883,     0.88773,     0.88773,     0.88609,     0.88609,     0.88609,     0.88499,     0.88346,     0.88335,     0.88335,     0.88226,     0.88226,     0.88226,     0.88171,\n",
            "            0.88171,     0.88171,     0.88171,     0.88121,     0.88007,     0.87952,     0.87897,     0.87897,     0.87733,     0.87733,     0.87678,     0.87514,     0.87514,     0.87514,     0.87404,     0.87404,     0.87349,     0.87295,      0.8724,      0.8724,      0.8724,     0.87185,     0.87076,\n",
            "            0.87076,     0.87076,     0.87076,     0.87076,     0.87076,     0.86911,     0.86911,     0.86911,     0.86747,     0.86747,     0.86692,     0.86637,     0.86528,     0.86528,     0.86528,     0.86528,     0.86528,     0.86473,     0.86473,     0.86473,     0.86473,     0.86364,     0.86309,\n",
            "            0.86254,     0.86254,     0.86254,     0.86237,     0.86145,     0.86145,     0.86145,     0.86145,      0.8609,      0.8595,     0.85869,     0.85761,     0.85761,     0.85761,     0.85706,     0.85542,     0.85542,     0.85542,     0.85487,     0.85487,     0.85487,     0.85487,     0.85378,\n",
            "            0.85378,     0.85268,     0.85104,     0.85049,     0.85049,     0.84995,     0.84995,      0.8494,      0.8494,     0.84873,     0.84775,     0.84775,     0.84775,     0.84775,      0.8465,     0.84556,     0.84556,     0.84502,     0.84502,     0.84502,     0.84502,     0.84447,     0.84392,\n",
            "            0.84392,     0.84392,     0.84392,     0.84392,     0.84392,     0.84392,     0.84392,     0.84392,     0.84337,     0.84337,     0.84173,     0.84168,     0.83954,     0.83899,      0.8379,      0.8379,      0.8379,     0.83735,     0.83735,     0.83735,     0.83735,     0.83735,     0.83571,\n",
            "            0.83516,     0.83461,     0.83461,     0.83406,     0.83352,     0.83297,     0.83297,     0.83297,     0.83242,     0.83242,     0.83242,     0.83187,     0.83133,     0.83133,     0.83133,     0.83133,     0.83023,     0.83023,     0.83023,     0.82968,     0.82968,     0.82968,     0.82968,\n",
            "            0.82941,     0.82859,     0.82859,     0.82849,     0.82804,     0.82804,     0.82749,     0.82749,     0.82705,     0.82694,     0.82694,      0.8264,      0.8264,     0.82585,     0.82585,      0.8253,     0.82488,     0.82421,     0.82421,     0.82409,     0.82273,     0.82092,     0.82037,\n",
            "            0.82037,     0.82037,     0.82037,     0.81982,     0.81982,     0.81973,     0.81928,     0.81814,     0.81709,     0.81664,     0.81599,     0.81599,      0.8149,      0.8149,     0.81435,     0.81271,     0.81186,     0.81106,     0.81106,     0.81106,     0.80997,     0.80997,     0.80997,\n",
            "            0.80881,     0.80778,     0.80778,     0.80559,     0.80504,     0.80452,     0.80377,      0.8034,     0.80285,     0.80285,     0.80285,     0.80285,     0.80175,     0.80175,     0.80175,     0.80175,     0.80175,     0.80175,     0.80175,     0.80175,     0.80175,      0.8012,     0.80066,\n",
            "            0.80066,     0.80066,     0.80066,     0.79939,     0.79901,     0.79901,     0.79788,     0.79713,     0.79649,     0.79573,     0.79463,     0.79463,     0.79463,     0.79463,     0.79353,     0.79224,     0.79189,     0.79089,      0.7897,     0.78916,     0.78916,     0.78866,     0.78754,\n",
            "            0.78532,     0.78478,     0.78423,     0.78368,     0.78258,     0.78258,     0.78258,     0.78258,     0.78149,     0.78039,     0.77985,     0.77985,      0.7793,     0.77601,     0.77601,     0.77492,     0.77464,     0.77437,     0.77251,     0.77219,     0.77054,     0.76944,      0.7686,\n",
            "             0.7678,      0.7667,      0.7667,      0.7667,     0.76648,     0.76561,     0.76561,     0.76506,     0.76506,     0.76506,     0.76506,     0.76451,     0.76407,     0.76232,     0.76232,     0.76177,     0.76123,     0.76123,     0.76068,     0.76068,     0.76013,     0.75958,     0.75898,\n",
            "            0.75849,     0.75739,     0.75685,      0.7563,      0.7563,     0.75356,      0.7519,     0.75137,     0.75137,     0.75062,     0.75027,     0.74937,     0.74808,     0.74808,     0.74754,     0.74699,     0.74589,      0.7437,     0.74236,     0.74063,     0.74042,     0.73951,     0.73932,\n",
            "            0.73877,     0.73768,     0.73644,     0.73533,     0.73477,     0.73439,     0.73296,     0.73185,     0.73129,     0.73001,     0.72946,     0.72892,     0.72727,     0.72563,     0.72436,     0.72399,     0.72399,     0.72344,     0.72234,     0.72234,      0.7207,     0.71961,     0.71796,\n",
            "            0.71796,     0.71742,     0.71687,     0.71687,     0.71556,     0.71303,      0.7117,     0.71139,     0.71139,     0.71084,     0.70975,     0.70975,     0.70975,     0.70873,     0.70756,     0.70701,     0.70372,     0.70142,     0.69976,      0.6992,      0.6977,     0.69715,     0.69496,\n",
            "            0.69441,     0.69332,     0.69296,     0.69222,     0.69113,     0.68963,     0.68949,     0.68851,      0.6874,     0.68675,     0.68614,     0.68401,     0.68283,     0.68117,     0.67853,     0.67689,      0.6762,     0.67564,     0.67525,      0.6747,     0.67341,     0.67251,     0.67251,\n",
            "            0.67104,     0.66977,     0.66867,     0.66867,     0.66813,     0.66703,     0.66594,     0.66539,     0.66484,     0.66429,     0.66375,     0.66212,     0.65992,     0.65717,     0.65663,     0.65605,     0.65498,      0.6549,     0.65422,     0.65366,     0.65334,     0.65199,     0.65034,\n",
            "            0.64896,     0.64841,     0.64756,     0.64622,      0.6437,     0.64239,     0.64148,     0.63965,     0.63816,      0.6376,     0.63649,     0.63539,     0.63417,     0.63308,     0.63253,     0.63253,     0.63198,     0.63089,     0.63034,     0.63034,     0.62979,     0.62868,      0.6276,\n",
            "            0.62646,     0.62541,     0.62315,     0.62204,     0.62103,     0.61872,     0.61774,     0.61596,      0.6143,     0.61336,     0.61336,     0.61281,     0.61206,     0.60953,     0.60843,     0.60654,     0.60543,     0.60487,     0.60266,      0.6021,     0.59935,     0.59879,     0.59823,\n",
            "            0.59748,     0.59546,     0.59529,     0.59379,     0.59268,     0.59103,     0.58937,     0.58927,     0.58927,     0.58817,     0.58658,     0.58543,     0.58543,     0.58543,     0.58378,     0.58267,      0.5805,     0.58046,     0.57831,     0.57667,     0.57667,     0.57547,     0.57327,\n",
            "            0.57271,     0.57065,     0.57065,     0.57047,       0.569,     0.56846,     0.56791,     0.56791,     0.56657,     0.56437,     0.56243,      0.5616,      0.5594,     0.55805,     0.55773,     0.55662,     0.55551,      0.5544,     0.55203,     0.55164,     0.54998,     0.54984,     0.54929,\n",
            "            0.54874,     0.54828,     0.54765,     0.54606,     0.54491,     0.54107,     0.54107,     0.53888,     0.53888,     0.53834,     0.53748,     0.53692,     0.53526,     0.53395,     0.53195,     0.53012,     0.52957,     0.52683,     0.52642,     0.52464,      0.5242,     0.52191,     0.51979,\n",
            "            0.51759,     0.51538,     0.51314,     0.51152,     0.50986,     0.50602,     0.50602,     0.50407,     0.50187,     0.49966,     0.49691,     0.49562,     0.49288,     0.49124,     0.49069,     0.48959,     0.48916,     0.48751,     0.48585,     0.48529,     0.48357,     0.48061,     0.47676,\n",
            "            0.47481,     0.47454,     0.47412,     0.47384,     0.47262,     0.47229,     0.46954,     0.46734,     0.46659,     0.46485,     0.46209,     0.46057,     0.46042,     0.45986,     0.45821,     0.45764,     0.45654,     0.45597,     0.45464,     0.45294,     0.45073,     0.44907,     0.44523,\n",
            "            0.44467,     0.44356,      0.4419,     0.44128,     0.43996,     0.43939,     0.43829,     0.43718,     0.43388,     0.43112,     0.43002,     0.42863,     0.42643,     0.42552,     0.42421,     0.42201,     0.42169,     0.42033,     0.42005,     0.41512,     0.41345,     0.41179,     0.41019,\n",
            "             0.4093,     0.40764,     0.40544,     0.40378,     0.40267,     0.39801,     0.39525,      0.3925,     0.38938,     0.38938,     0.38835,     0.38719,     0.38614,     0.38393,     0.38091,      0.3798,     0.37869,     0.37813,     0.37404,      0.3729,     0.37069,     0.36958,     0.36857,\n",
            "            0.36764,     0.36543,     0.36309,     0.36035,     0.36019,     0.35963,     0.35779,     0.35659,     0.35493,     0.35328,      0.3508,     0.34859,     0.34639,     0.34391,     0.34173,     0.34115,     0.33677,     0.33639,     0.33516,      0.3337,     0.33067,     0.32906,     0.32868,\n",
            "            0.32783,     0.32755,     0.32595,     0.32402,     0.32072,     0.31939,     0.31768,     0.31674,     0.31519,     0.31244,     0.30886,     0.30668,     0.30559,     0.30362,     0.30087,     0.29729,     0.29618,     0.29497,      0.2926,     0.28889,     0.28415,     0.28387,     0.28224,\n",
            "            0.28204,     0.27624,     0.27258,     0.27221,     0.26838,     0.26782,     0.26634,     0.26378,      0.2623,     0.26177,     0.25981,     0.25925,     0.25771,     0.25624,     0.25586,     0.25508,     0.25178,     0.25108,     0.24984,     0.24632,     0.24595,     0.24377,     0.24267,\n",
            "            0.24227,     0.24025,     0.23988,     0.23905,     0.23604,     0.23492,     0.23455,     0.23253,     0.23052,     0.23014,     0.22922,     0.22717,     0.22618,     0.22481,     0.22274,      0.2218,      0.2218,     0.21997,      0.2192,     0.21851,     0.21452,     0.21415,     0.21213,\n",
            "            0.21121,     0.21029,     0.20991,     0.20845,     0.20646,     0.20642,     0.20604,     0.20445,     0.20311,     0.20273,     0.19811,      0.1974,     0.19672,      0.1915,     0.18984,     0.18826,     0.18788,     0.18624,     0.18439,     0.18402,     0.18237,     0.18145,     0.17943,\n",
            "            0.17905,     0.17868,      0.1771,     0.17544,     0.17287,     0.17213,     0.17081,     0.17052,     0.16803,     0.16765,     0.16559,     0.16289,     0.16087,      0.1605,     0.15831,     0.15748,     0.15663,     0.15416,     0.15169,     0.15003,     0.14779,     0.14612,      0.1449,\n",
            "            0.14387,     0.14284,     0.14228,      0.1416,     0.13993,     0.13786,     0.13626,     0.13588,     0.13371,     0.13221,     0.12903,     0.12847,     0.12626,     0.12596,     0.12323,     0.12267,     0.12229,     0.12181,     0.12038,     0.11971,     0.11712,     0.11427,     0.11161,\n",
            "            0.11093,     0.10816,     0.10692,     0.10581,      0.1054,     0.10441,     0.10275,         0.1,     0.09851,     0.09835,    0.098189,    0.098029,    0.096374,    0.095813,    0.095251,    0.093542,    0.091457,    0.089213,    0.088839,    0.086861,    0.085932,    0.085707,    0.085483,\n",
            "           0.084229,    0.083855,    0.082779,    0.080097,    0.078974,    0.077535,    0.076973,    0.075606,    0.075029,    0.074456,    0.073633,    0.072524,    0.071415,    0.070853,    0.068295,    0.066077,    0.064788,    0.063832,    0.063363,    0.063139,    0.062269,     0.06116,    0.059861,\n",
            "           0.059216,      0.0589,    0.058619,    0.058079,    0.056438,    0.053673,    0.052931,    0.051975,    0.050852,    0.050056,    0.048607,    0.046389,    0.045266,    0.043048,    0.042047,    0.040803,    0.039148,    0.037625,    0.036339,    0.035365,    0.035084,    0.032641,     0.03208,\n",
            "           0.030423,    0.029603,     0.02848,    0.028198,    0.027878,    0.027069,     0.02618,    0.024029,    0.022961,     0.02268,    0.022381,    0.022007,    0.020539,    0.019981,    0.019389,    0.016859,    0.016485,    0.014926,     0.01459,    0.014365,    0.013021,     0.01274,     0.01205,\n",
            "            0.01134,     0.01118,     0.01102,    0.010625,    0.009687,   0.0094063,   0.0083937,   0.0075585,   0.0063272,   0.0056143,   0.0053071,   0.0050825,   0.0045747,   0.0041953,   0.0039708,   0.0033972,   0.0029487,   0.0026973,   0.0026037,   0.0025102,   0.0024166,   0.0023231,   0.0022295,\n",
            "          0.0021608,   0.0021097,   0.0020587,   0.0020077,   0.0019567,   0.0019056,   0.0018546,   0.0018036,   0.0017525,   0.0017015,   0.0016505,   0.0015831,   0.0015129,   0.0014428,   0.0013726,   0.0013024,   0.0012323,   0.0011621,   0.0010774,  0.00070315,           0,           0,           0,\n",
            "                  0,           0,           0,           0,           0,           0,           0,           0,           0,           0,           0,           0,           0,           0,           0,           0,           0,           0,           0,           0,           0,           0,           0,\n",
            "                  0,           0,           0,           0,           0,           0,           0,           0,           0,           0,           0]]), 'Confidence', 'Recall']]\n",
            "fitness: np.float64(0.41799408236594066)\n",
            "keys: ['metrics/precision(B)', 'metrics/recall(B)', 'metrics/mAP50(B)', 'metrics/mAP50-95(B)']\n",
            "maps: array([    0.38093])\n",
            "names: {0: 'Bird'}\n",
            "plot: True\n",
            "results_dict: {'metrics/precision(B)': np.float64(0.6922739075385917), 'metrics/recall(B)': np.float64(0.7223439211391018), 'metrics/mAP50(B)': np.float64(0.7516134923709422), 'metrics/mAP50-95(B)': np.float64(0.3809252590320516), 'fitness': np.float64(0.41799408236594066)}\n",
            "save_dir: PosixPath('runs/detect/train4')\n",
            "speed: {'preprocess': 0.3612059849203534, 'inference': 15.816893180893583, 'loss': 0.00040080402269912653, 'postprocess': 3.3232203819014234}\n",
            "task: 'detect'\n"
          ]
        }
      ],
      "source": [
        "from ultralytics import YOLO\n",
        "\n",
        "# Load the YOLOv8 model\n",
        "model = YOLO(\"yolov8s.pt\")\n",
        "\n",
        "# Train the model\n",
        "results = model.train(\n",
        "    data=\"data.yaml\",\n",
        "    epochs=100,\n",
        "    imgsz=640,\n",
        "    plots=True,\n",
        "    batch=16,\n",
        "    pretrained=True,\n",
        "    augment=True,\n",
        ")\n",
        "\n",
        "print(results)\n",
        "# !yolo train data=your_dataset.yaml model=yolov8s.pt imgsz=640 augment=true"
      ]
    },
    {
      "cell_type": "markdown",
      "metadata": {
        "id": "p7dXM-aMtL7F"
      },
      "source": [
        "Evaluation"
      ]
    },
    {
      "cell_type": "code",
      "execution_count": null,
      "metadata": {
        "colab": {
          "base_uri": "https://localhost:8080/"
        },
        "id": "x6bNUSzCtLWU",
        "outputId": "3672c425-c078-4d4f-8891-ffb448c5fb3c"
      },
      "outputs": [
        {
          "output_type": "stream",
          "name": "stdout",
          "text": [
            "Ultralytics 8.3.102 🚀 Python-3.11.11 torch-2.6.0+cu124 CUDA:0 (Tesla T4, 15095MiB)\n",
            "Model summary (fused): 72 layers, 11,125,971 parameters, 0 gradients, 28.4 GFLOPs\n"
          ]
        },
        {
          "output_type": "stream",
          "name": "stderr",
          "text": [
            "\u001b[34m\u001b[1mval: \u001b[0mScanning /content/drive/MyDrive/DSGP/Model10/Data/valid/labels.cache... 199 images, 0 backgrounds, 0 corrupt: 100%|██████████| 199/199 [00:00<?, ?it/s]\n",
            "                 Class     Images  Instances      Box(P          R      mAP50  mAP50-95): 100%|██████████| 13/13 [00:05<00:00,  2.36it/s]\n"
          ]
        },
        {
          "output_type": "stream",
          "name": "stdout",
          "text": [
            "                   all        199       1826      0.756      0.733      0.772      0.388\n",
            "Speed: 2.2ms preprocess, 9.6ms inference, 0.0ms loss, 1.9ms postprocess per image\n",
            "Results saved to \u001b[1mruns/detect/val4\u001b[0m\n"
          ]
        }
      ],
      "source": [
        "# Load the trained YOLOv8 model\n",
        "model = YOLO(\"/content/drive/MyDrive/DSGP/Model10/runs/detect/train4/weights/best.pt\")\n",
        "\n",
        "# Perform validation\n",
        "results = model.val(data=\"data.yaml\", imgsz=640, batch=16)"
      ]
    },
    {
      "cell_type": "code",
      "execution_count": null,
      "metadata": {
        "colab": {
          "base_uri": "https://localhost:8080/"
        },
        "id": "hWKzkoMRr8ZR",
        "outputId": "551f0bca-c425-4ada-8b0e-1f9b931692c4"
      },
      "outputs": [
        {
          "output_type": "stream",
          "name": "stdout",
          "text": [
            "\n",
            "image 1/1 /content/drive/MyDrive/DSGP/Model10/Data/test/images/-E3-83-80-E3-82-A6-E3-83-B3-E3-83-AD-E3-83-BC-E3-83-89-20-18-_jpeg.rf.93da798ad1d99e489f29fe176a5c53f6.jpg: 640x640 1 Bird, 15.9ms\n",
            "Speed: 2.3ms preprocess, 15.9ms inference, 1.3ms postprocess per image at shape (1, 3, 640, 640)\n",
            "\n",
            "image 1/1 /content/drive/MyDrive/DSGP/Model10/Data/test/images/-E3-83-80-E3-82-A6-E3-83-B3-E3-83-AD-E3-83-BC-E3-83-89-20-4-_jpeg.rf.c51c0e7ea6cab6dcc438ac62fe5ccb8f.jpg: 640x640 1 Bird, 15.9ms\n",
            "Speed: 2.3ms preprocess, 15.9ms inference, 1.1ms postprocess per image at shape (1, 3, 640, 640)\n",
            "\n",
            "image 1/1 /content/drive/MyDrive/DSGP/Model10/Data/test/images/000098_jpg.rf.b4c3979339b674a66e5654cc4aedd671.jpg: 640x640 9 Birds, 15.8ms\n",
            "Speed: 2.2ms preprocess, 15.8ms inference, 1.2ms postprocess per image at shape (1, 3, 640, 640)\n",
            "\n",
            "image 1/1 /content/drive/MyDrive/DSGP/Model10/Data/test/images/000114_jpg.rf.2f107e1eddfedce8d5a70a5e65331083.jpg: 640x640 10 Birds, 15.8ms\n",
            "Speed: 1.6ms preprocess, 15.8ms inference, 1.1ms postprocess per image at shape (1, 3, 640, 640)\n",
            "\n",
            "image 1/1 /content/drive/MyDrive/DSGP/Model10/Data/test/images/000167_jpg.rf.60dcc272b18b02503f3adace4f5eeb64.jpg: 640x640 9 Birds, 15.2ms\n",
            "Speed: 2.2ms preprocess, 15.2ms inference, 1.2ms postprocess per image at shape (1, 3, 640, 640)\n",
            "\n",
            "image 1/1 /content/drive/MyDrive/DSGP/Model10/Data/test/images/000251_jpg.rf.e4f9917f7abb126dd1b358ded578f626.jpg: 640x640 (no detections), 13.9ms\n",
            "Speed: 2.4ms preprocess, 13.9ms inference, 0.5ms postprocess per image at shape (1, 3, 640, 640)\n",
            "\n",
            "image 1/1 /content/drive/MyDrive/DSGP/Model10/Data/test/images/000333_jpg.rf.298a4ca6bf787617e74dc39596f2e4ef.jpg: 640x640 29 Birds, 13.8ms\n",
            "Speed: 2.1ms preprocess, 13.8ms inference, 1.2ms postprocess per image at shape (1, 3, 640, 640)\n",
            "\n",
            "image 1/1 /content/drive/MyDrive/DSGP/Model10/Data/test/images/000349_jpg.rf.e7ba98e1457eb843eb1f4387ca6a47d3.jpg: 640x640 33 Birds, 13.8ms\n",
            "Speed: 2.2ms preprocess, 13.8ms inference, 1.2ms postprocess per image at shape (1, 3, 640, 640)\n",
            "\n",
            "image 1/1 /content/drive/MyDrive/DSGP/Model10/Data/test/images/000391_jpg.rf.eff1b90937e4c435d52962b903948241.jpg: 640x640 2 Birds, 13.7ms\n",
            "Speed: 1.7ms preprocess, 13.7ms inference, 1.1ms postprocess per image at shape (1, 3, 640, 640)\n",
            "\n",
            "image 1/1 /content/drive/MyDrive/DSGP/Model10/Data/test/images/000406_jpg.rf.433b9671827663d97f7c2d0a91b73c8a.jpg: 640x640 (no detections), 13.6ms\n",
            "Speed: 2.2ms preprocess, 13.6ms inference, 0.6ms postprocess per image at shape (1, 3, 640, 640)\n",
            "\n",
            "image 1/1 /content/drive/MyDrive/DSGP/Model10/Data/test/images/000430_jpg.rf.5cf4d9ad5a66db330e6115b1306d9b14.jpg: 640x640 5 Birds, 13.6ms\n",
            "Speed: 1.6ms preprocess, 13.6ms inference, 1.1ms postprocess per image at shape (1, 3, 640, 640)\n",
            "\n",
            "image 1/1 /content/drive/MyDrive/DSGP/Model10/Data/test/images/000425_jpg.rf.e35c215427b89d17804551ae40cdce3a.jpg: 640x640 1 Bird, 13.6ms\n",
            "Speed: 1.6ms preprocess, 13.6ms inference, 1.1ms postprocess per image at shape (1, 3, 640, 640)\n",
            "\n",
            "image 1/1 /content/drive/MyDrive/DSGP/Model10/Data/test/images/000656_png.rf.176cf70da10ed73687dd5c5802d1d76d.jpg: 640x640 1 Bird, 11.7ms\n",
            "Speed: 2.2ms preprocess, 11.7ms inference, 1.1ms postprocess per image at shape (1, 3, 640, 640)\n",
            "\n",
            "image 1/1 /content/drive/MyDrive/DSGP/Model10/Data/test/images/002297_jpg.rf.a9e372b8f453e670bd9b61b61fa70ec4.jpg: 640x640 19 Birds, 11.2ms\n",
            "Speed: 2.0ms preprocess, 11.2ms inference, 1.2ms postprocess per image at shape (1, 3, 640, 640)\n",
            "\n",
            "image 1/1 /content/drive/MyDrive/DSGP/Model10/Data/test/images/002398_jpg.rf.45e9f00be5e356e66c377f15207effc9.jpg: 640x640 6 Birds, 11.2ms\n",
            "Speed: 1.6ms preprocess, 11.2ms inference, 1.1ms postprocess per image at shape (1, 3, 640, 640)\n",
            "\n",
            "image 1/1 /content/drive/MyDrive/DSGP/Model10/Data/test/images/0536_bff286d3390f4939bd03a98a8285155c_jpg.rf.53e40b74489af797718f0d815e91b4a1.jpg: 640x640 (no detections), 11.2ms\n",
            "Speed: 1.9ms preprocess, 11.2ms inference, 0.5ms postprocess per image at shape (1, 3, 640, 640)\n",
            "\n",
            "image 1/1 /content/drive/MyDrive/DSGP/Model10/Data/test/images/0547_6340719a9b144dc8ba16091923d6ed77_jpg.rf.917c7f4d55a6131a6e08a4ec274ee6eb.jpg: 640x640 1 Bird, 10.9ms\n",
            "Speed: 2.3ms preprocess, 10.9ms inference, 1.2ms postprocess per image at shape (1, 3, 640, 640)\n",
            "\n",
            "image 1/1 /content/drive/MyDrive/DSGP/Model10/Data/test/images/0547_7cfffa0b73a9457bbb825a86d8e38e21_jpg.rf.e694267e4a979090db7ec60a7544c661.jpg: 640x640 1 Bird, 10.8ms\n",
            "Speed: 2.1ms preprocess, 10.8ms inference, 1.1ms postprocess per image at shape (1, 3, 640, 640)\n",
            "\n",
            "image 1/1 /content/drive/MyDrive/DSGP/Model10/Data/test/images/0548_a6d5ce0f7fe7477fac767b0e12040b43_jpg.rf.7b996e6818155df099560cceeb30841b.jpg: 640x640 1 Bird, 10.8ms\n",
            "Speed: 1.6ms preprocess, 10.8ms inference, 1.1ms postprocess per image at shape (1, 3, 640, 640)\n",
            "\n",
            "image 1/1 /content/drive/MyDrive/DSGP/Model10/Data/test/images/0548_ab00dc6b6b1d41a4ac1103ebde322558_jpg.rf.17383ecf527ababcbddde4f9530fb05f.jpg: 640x640 1 Bird, 10.9ms\n",
            "Speed: 2.3ms preprocess, 10.9ms inference, 1.2ms postprocess per image at shape (1, 3, 640, 640)\n",
            "\n",
            "image 1/1 /content/drive/MyDrive/DSGP/Model10/Data/test/images/0548_aafe66e262ed40c294c8fa328e8d9e74_jpg.rf.b7c07b41605c144cf2d12c4c917072e0.jpg: 640x640 1 Bird, 10.3ms\n",
            "Speed: 2.2ms preprocess, 10.3ms inference, 4.7ms postprocess per image at shape (1, 3, 640, 640)\n",
            "\n",
            "image 1/1 /content/drive/MyDrive/DSGP/Model10/Data/test/images/0548_d69dde2af53d4784a1a208d6aa7121a4_jpg.rf.b396a8bd0a17105c419752c20aa760ca.jpg: 640x640 1 Bird, 10.8ms\n",
            "Speed: 2.3ms preprocess, 10.8ms inference, 1.2ms postprocess per image at shape (1, 3, 640, 640)\n",
            "\n",
            "image 1/1 /content/drive/MyDrive/DSGP/Model10/Data/test/images/14_jpg.rf.3ed9b864cdbce9135095e788fdd22e9e.jpg: 640x640 2 Birds, 9.8ms\n",
            "Speed: 1.6ms preprocess, 9.8ms inference, 1.1ms postprocess per image at shape (1, 3, 640, 640)\n",
            "\n",
            "image 1/1 /content/drive/MyDrive/DSGP/Model10/Data/test/images/20230912163603_jpg.rf.00a236392a2841e4d9ec5ef30ee9c8ea.jpg: 640x640 8 Birds, 9.8ms\n",
            "Speed: 1.6ms preprocess, 9.8ms inference, 1.3ms postprocess per image at shape (1, 3, 640, 640)\n",
            "\n",
            "image 1/1 /content/drive/MyDrive/DSGP/Model10/Data/test/images/20230912163559_1_jpg.rf.77cc4e682d1e60508e18de33861b0c5e.jpg: 640x640 4 Birds, 9.8ms\n",
            "Speed: 2.1ms preprocess, 9.8ms inference, 1.1ms postprocess per image at shape (1, 3, 640, 640)\n",
            "\n",
            "image 1/1 /content/drive/MyDrive/DSGP/Model10/Data/test/images/20230912163604_jpg.rf.af9eb2f8d5970ced712ce704094c8748.jpg: 640x640 8 Birds, 9.6ms\n",
            "Speed: 1.6ms preprocess, 9.6ms inference, 1.1ms postprocess per image at shape (1, 3, 640, 640)\n",
            "\n",
            "image 1/1 /content/drive/MyDrive/DSGP/Model10/Data/test/images/20230926104023_png_jpg.rf.ffb363def052ebdafd67a3cd86f8338b.jpg: 640x640 35 Birds, 9.6ms\n",
            "Speed: 1.6ms preprocess, 9.6ms inference, 1.2ms postprocess per image at shape (1, 3, 640, 640)\n",
            "\n",
            "image 1/1 /content/drive/MyDrive/DSGP/Model10/Data/test/images/20230926103754_png_jpg.rf.15b369e2c410bba85b9ad4e842a4c911.jpg: 640x640 101 Birds, 9.6ms\n",
            "Speed: 1.6ms preprocess, 9.6ms inference, 1.2ms postprocess per image at shape (1, 3, 640, 640)\n",
            "\n",
            "image 1/1 /content/drive/MyDrive/DSGP/Model10/Data/test/images/20230926104323_png_jpg.rf.386d330dfd1c756878ac8a06a44ecc9d.jpg: 640x640 52 Birds, 9.6ms\n",
            "Speed: 1.6ms preprocess, 9.6ms inference, 1.1ms postprocess per image at shape (1, 3, 640, 640)\n",
            "\n",
            "image 1/1 /content/drive/MyDrive/DSGP/Model10/Data/test/images/20230926102733_png_jpg.rf.3c1768bd6728293edeb4370dadb60754.jpg: 640x640 76 Birds, 9.6ms\n",
            "Speed: 2.0ms preprocess, 9.6ms inference, 1.2ms postprocess per image at shape (1, 3, 640, 640)\n",
            "\n",
            "image 1/1 /content/drive/MyDrive/DSGP/Model10/Data/test/images/20230926115623_png_jpg.rf.636a2c0cec85267794e5ff8ea5340380.jpg: 640x640 15 Birds, 8.5ms\n",
            "Speed: 2.1ms preprocess, 8.5ms inference, 1.2ms postprocess per image at shape (1, 3, 640, 640)\n",
            "\n",
            "image 1/1 /content/drive/MyDrive/DSGP/Model10/Data/test/images/29_png.rf.7968a1baadf32204e776a9d96c641858.jpg: 640x640 7 Birds, 8.7ms\n",
            "Speed: 2.2ms preprocess, 8.7ms inference, 1.1ms postprocess per image at shape (1, 3, 640, 640)\n",
            "\n",
            "image 1/1 /content/drive/MyDrive/DSGP/Model10/Data/test/images/36_jpg.rf.1b36c44e30fde23d55dcf590c64f0147.jpg: 640x640 (no detections), 8.5ms\n",
            "Speed: 1.6ms preprocess, 8.5ms inference, 0.6ms postprocess per image at shape (1, 3, 640, 640)\n",
            "\n",
            "image 1/1 /content/drive/MyDrive/DSGP/Model10/Data/test/images/40_jpg.rf.8e0d018aa08db2cd8b373e8b89104904.jpg: 640x640 12 Birds, 8.5ms\n",
            "Speed: 1.6ms preprocess, 8.5ms inference, 1.1ms postprocess per image at shape (1, 3, 640, 640)\n",
            "\n",
            "image 1/1 /content/drive/MyDrive/DSGP/Model10/Data/test/images/49_jpg.rf.b5bc5bacf3900f5654f4796d58d9594f.jpg: 640x640 (no detections), 8.5ms\n",
            "Speed: 1.6ms preprocess, 8.5ms inference, 0.5ms postprocess per image at shape (1, 3, 640, 640)\n",
            "\n",
            "image 1/1 /content/drive/MyDrive/DSGP/Model10/Data/test/images/585_jpg.rf.57f23666fc0b54ab0202931c3bc63571.jpg: 640x640 (no detections), 8.4ms\n",
            "Speed: 1.6ms preprocess, 8.4ms inference, 0.5ms postprocess per image at shape (1, 3, 640, 640)\n",
            "\n",
            "image 1/1 /content/drive/MyDrive/DSGP/Model10/Data/test/images/596_jpg.rf.d161caaba6d6234bc1fcbc956989bd65.jpg: 640x640 (no detections), 8.4ms\n",
            "Speed: 1.6ms preprocess, 8.4ms inference, 0.5ms postprocess per image at shape (1, 3, 640, 640)\n",
            "\n",
            "image 1/1 /content/drive/MyDrive/DSGP/Model10/Data/test/images/BV-280-_jpg.rf.a3ac9fdc6d630d8214579e7fd504f8f5.jpg: 640x640 4 Birds, 8.4ms\n",
            "Speed: 1.6ms preprocess, 8.4ms inference, 1.1ms postprocess per image at shape (1, 3, 640, 640)\n",
            "\n",
            "image 1/1 /content/drive/MyDrive/DSGP/Model10/Data/test/images/BV-279-_jpg.rf.25cc306c430b3335c9ddf31f6e8816dc.jpg: 640x640 3 Birds, 8.4ms\n",
            "Speed: 1.6ms preprocess, 8.4ms inference, 1.1ms postprocess per image at shape (1, 3, 640, 640)\n",
            "\n",
            "image 1/1 /content/drive/MyDrive/DSGP/Model10/Data/test/images/Bird_mp4-29_jpg.rf.873a3362aa0b51d9abb86d03fef9fe66.jpg: 640x640 3 Birds, 8.4ms\n",
            "Speed: 1.7ms preprocess, 8.4ms inference, 1.1ms postprocess per image at shape (1, 3, 640, 640)\n",
            "\n",
            "image 1/1 /content/drive/MyDrive/DSGP/Model10/Data/test/images/Bird_mp4-33_jpg.rf.81aee7980367b2916e0e380db66123a8.jpg: 640x640 3 Birds, 8.1ms\n",
            "Speed: 1.6ms preprocess, 8.1ms inference, 1.1ms postprocess per image at shape (1, 3, 640, 640)\n",
            "\n",
            "image 1/1 /content/drive/MyDrive/DSGP/Model10/Data/test/images/Bird_mp4-23_jpg.rf.727c097c8ae442649a50675e71d6916b.jpg: 640x640 5 Birds, 8.0ms\n",
            "Speed: 2.1ms preprocess, 8.0ms inference, 1.1ms postprocess per image at shape (1, 3, 640, 640)\n",
            "\n",
            "image 1/1 /content/drive/MyDrive/DSGP/Model10/Data/test/images/Bird_mp4-8_jpg.rf.e0e87eaddb9361d9535e2902b63317f9.jpg: 640x640 6 Birds, 8.0ms\n",
            "Speed: 1.6ms preprocess, 8.0ms inference, 1.1ms postprocess per image at shape (1, 3, 640, 640)\n",
            "\n",
            "image 1/1 /content/drive/MyDrive/DSGP/Model10/Data/test/images/IMG_2012-09-26T09-01-57_jpg.rf.ce396f711d72cc777dd99a3d6c6c0fd6.jpg: 640x640 (no detections), 8.0ms\n",
            "Speed: 2.2ms preprocess, 8.0ms inference, 0.5ms postprocess per image at shape (1, 3, 640, 640)\n",
            "\n",
            "image 1/1 /content/drive/MyDrive/DSGP/Model10/Data/test/images/IMG_2012-09-26T09-03-07_jpg.rf.42acd7c21492515c4ea5f066dca0be98.jpg: 640x640 1 Bird, 8.0ms\n",
            "Speed: 2.2ms preprocess, 8.0ms inference, 1.1ms postprocess per image at shape (1, 3, 640, 640)\n",
            "\n",
            "image 1/1 /content/drive/MyDrive/DSGP/Model10/Data/test/images/IMG_2012-09-26T09-03-27_jpg.rf.13f2752c333d17d6091364430bf8a305.jpg: 640x640 (no detections), 8.0ms\n",
            "Speed: 1.6ms preprocess, 8.0ms inference, 0.5ms postprocess per image at shape (1, 3, 640, 640)\n",
            "\n",
            "image 1/1 /content/drive/MyDrive/DSGP/Model10/Data/test/images/IMG_2012-09-26T09-19-25_jpg.rf.081bf8ec2c25c8c283524f12df960b3a.jpg: 640x640 (no detections), 8.0ms\n",
            "Speed: 1.6ms preprocess, 8.0ms inference, 0.5ms postprocess per image at shape (1, 3, 640, 640)\n",
            "\n",
            "image 1/1 /content/drive/MyDrive/DSGP/Model10/Data/test/images/IMG_2012-09-26T09-07-05_jpg.rf.c94bcd3466bd5d1c448a20f901c9a713.jpg: 640x640 (no detections), 7.9ms\n",
            "Speed: 2.1ms preprocess, 7.9ms inference, 0.5ms postprocess per image at shape (1, 3, 640, 640)\n",
            "\n",
            "image 1/1 /content/drive/MyDrive/DSGP/Model10/Data/test/images/IMG_2012-09-26T09-03-57_jpg.rf.1092c56f5134ee21cb489d8f865eb26f.jpg: 640x640 (no detections), 7.9ms\n",
            "Speed: 1.7ms preprocess, 7.9ms inference, 0.5ms postprocess per image at shape (1, 3, 640, 640)\n",
            "\n",
            "image 1/1 /content/drive/MyDrive/DSGP/Model10/Data/test/images/IMG_2012-09-26T09-26-23_jpg.rf.08f4c50ab1d30804a8aa0f060f62257b.jpg: 640x640 (no detections), 7.9ms\n",
            "Speed: 2.2ms preprocess, 7.9ms inference, 0.6ms postprocess per image at shape (1, 3, 640, 640)\n",
            "\n",
            "image 1/1 /content/drive/MyDrive/DSGP/Model10/Data/test/images/Pexels-Videos-2068519_mp4-12_jpg.rf.ee6a33198f0c5eeff97647fd2bb679bb.jpg: 640x640 39 Birds, 8.0ms\n",
            "Speed: 2.2ms preprocess, 8.0ms inference, 1.1ms postprocess per image at shape (1, 3, 640, 640)\n",
            "\n",
            "image 1/1 /content/drive/MyDrive/DSGP/Model10/Data/test/images/Pexels-Videos-2068519_mp4-53_jpg.rf.48a20f36ab869fa4335bbe33d8f99ac8.jpg: 640x640 40 Birds, 8.0ms\n",
            "Speed: 2.1ms preprocess, 8.0ms inference, 1.1ms postprocess per image at shape (1, 3, 640, 640)\n",
            "\n",
            "image 1/1 /content/drive/MyDrive/DSGP/Model10/Data/test/images/Pexels-Videos-2068519_mp4-5_jpg.rf.5c5789f9c84c16328dc5e651637ba504.jpg: 640x640 42 Birds, 8.0ms\n",
            "Speed: 2.2ms preprocess, 8.0ms inference, 1.1ms postprocess per image at shape (1, 3, 640, 640)\n",
            "\n",
            "image 1/1 /content/drive/MyDrive/DSGP/Model10/Data/test/images/Pexels-Videos-2068519_mp4-89_jpg.rf.f768b305d0b8a8bbfef6350912737827.jpg: 640x640 29 Birds, 8.0ms\n",
            "Speed: 2.2ms preprocess, 8.0ms inference, 1.1ms postprocess per image at shape (1, 3, 640, 640)\n",
            "\n",
            "image 1/1 /content/drive/MyDrive/DSGP/Model10/Data/test/images/aditya-chinchure-k3nL4i29-zc-unsplash_jpg.rf.92030aa6f9832bad0ee82fbcd0a24355.jpg: 640x640 1 Bird, 8.0ms\n",
            "Speed: 2.2ms preprocess, 8.0ms inference, 1.1ms postprocess per image at shape (1, 3, 640, 640)\n",
            "\n",
            "image 1/1 /content/drive/MyDrive/DSGP/Model10/Data/test/images/ali-maah-ffckdX_VkpQ-unsplash_jpg.rf.570dfacc7fa003a256940da3f49235fd.jpg: 640x640 1 Bird, 7.9ms\n",
            "Speed: 1.6ms preprocess, 7.9ms inference, 1.1ms postprocess per image at shape (1, 3, 640, 640)\n",
            "\n",
            "image 1/1 /content/drive/MyDrive/DSGP/Model10/Data/test/images/big-bird-74-_jpg.rf.c2f4bcf728510ef9d917fc83c5953515.jpg: 640x640 3 Birds, 7.9ms\n",
            "Speed: 1.6ms preprocess, 7.9ms inference, 1.1ms postprocess per image at shape (1, 3, 640, 640)\n",
            "\n",
            "image 1/1 /content/drive/MyDrive/DSGP/Model10/Data/test/images/bird_mp4-14_jpg.rf.4d5140f02d78b37152870a974bd6dc6f.jpg: 640x640 (no detections), 8.0ms\n",
            "Speed: 1.8ms preprocess, 8.0ms inference, 0.5ms postprocess per image at shape (1, 3, 640, 640)\n",
            "\n",
            "image 1/1 /content/drive/MyDrive/DSGP/Model10/Data/test/images/bird_mp4-20_jpg.rf.f524f9d5a280e50f32e5df045f33bb57.jpg: 640x640 (no detections), 7.9ms\n",
            "Speed: 1.6ms preprocess, 7.9ms inference, 0.5ms postprocess per image at shape (1, 3, 640, 640)\n",
            "\n",
            "image 1/1 /content/drive/MyDrive/DSGP/Model10/Data/test/images/bird_mp4-3_jpg.rf.b34ba2f7f9edecb6477709dfcc3c39e1.jpg: 640x640 2 Birds, 7.9ms\n",
            "Speed: 1.9ms preprocess, 7.9ms inference, 1.1ms postprocess per image at shape (1, 3, 640, 640)\n",
            "\n",
            "image 1/1 /content/drive/MyDrive/DSGP/Model10/Data/test/images/birds-birds-flying-group-of-birds-flying-birds_jpg.rf.aeaed4a6a840ded2b8b07f34b26b83c8.jpg: 640x640 6 Birds, 7.8ms\n",
            "Speed: 1.6ms preprocess, 7.8ms inference, 1.2ms postprocess per image at shape (1, 3, 640, 640)\n",
            "\n",
            "image 1/1 /content/drive/MyDrive/DSGP/Model10/Data/test/images/birds-birds-flying-group-of-birds-flying-birds_jpg.rf.6fc0201e5282fdc086b42ccf2924fa38.jpg: 640x640 18 Birds, 7.8ms\n",
            "Speed: 1.6ms preprocess, 7.8ms inference, 1.1ms postprocess per image at shape (1, 3, 640, 640)\n",
            "\n",
            "image 1/1 /content/drive/MyDrive/DSGP/Model10/Data/test/images/black-and-white-bird-animal-texture-9_jpg.rf.72ccdc5b13fe625c0458ff182b6a970c.jpg: 640x640 2 Birds, 7.7ms\n",
            "Speed: 1.6ms preprocess, 7.7ms inference, 1.1ms postprocess per image at shape (1, 3, 640, 640)\n",
            "\n",
            "image 1/1 /content/drive/MyDrive/DSGP/Model10/Data/test/images/bvd_jpg.rf.e207020ff32bb195945d2fdf3499cdc2.jpg: 640x640 2 Birds, 7.7ms\n",
            "Speed: 1.6ms preprocess, 7.7ms inference, 1.1ms postprocess per image at shape (1, 3, 640, 640)\n",
            "\n",
            "image 1/1 /content/drive/MyDrive/DSGP/Model10/Data/test/images/copy_46609276-4123-4C73-B25E-083E7B94C53E_mov-276_jpg.rf.6a9042f8b3b35a71e46921280ff2881b.jpg: 640x640 2 Birds, 7.7ms\n",
            "Speed: 1.6ms preprocess, 7.7ms inference, 1.0ms postprocess per image at shape (1, 3, 640, 640)\n",
            "\n",
            "image 1/1 /content/drive/MyDrive/DSGP/Model10/Data/test/images/copy_46609276-4123-4C73-B25E-083E7B94C53E_mov-264_jpg.rf.7802b9671529bbc5f921d92a06e49d6f.jpg: 640x640 5 Birds, 7.7ms\n",
            "Speed: 1.6ms preprocess, 7.7ms inference, 1.1ms postprocess per image at shape (1, 3, 640, 640)\n",
            "\n",
            "image 1/1 /content/drive/MyDrive/DSGP/Model10/Data/test/images/copy_46609276-4123-4C73-B25E-083E7B94C53E_mov-290_jpg.rf.11a2c789c1b22f3f4bf1012980577fe7.jpg: 640x640 2 Birds, 7.7ms\n",
            "Speed: 1.6ms preprocess, 7.7ms inference, 1.1ms postprocess per image at shape (1, 3, 640, 640)\n",
            "\n",
            "image 1/1 /content/drive/MyDrive/DSGP/Model10/Data/test/images/copy_46609276-4123-4C73-B25E-083E7B94C53E_mov-376_jpg.rf.90370511e6f45840e2c365c9627cf9de.jpg: 640x640 4 Birds, 7.8ms\n",
            "Speed: 2.2ms preprocess, 7.8ms inference, 1.1ms postprocess per image at shape (1, 3, 640, 640)\n",
            "\n",
            "image 1/1 /content/drive/MyDrive/DSGP/Model10/Data/test/images/descarga-22-_jpeg_jpg.rf.077770bd991d0fbf22b0174b04968385.jpg: 640x640 (no detections), 7.7ms\n",
            "Speed: 2.2ms preprocess, 7.7ms inference, 0.5ms postprocess per image at shape (1, 3, 640, 640)\n",
            "\n",
            "image 1/1 /content/drive/MyDrive/DSGP/Model10/Data/test/images/dibbendu-koley-jX43jtNCg8M-unsplash_jpg.rf.0a5efab7c881b8a39ae730e9d75fa0b3.jpg: 640x640 3 Birds, 7.7ms\n",
            "Speed: 1.6ms preprocess, 7.7ms inference, 1.1ms postprocess per image at shape (1, 3, 640, 640)\n",
            "\n",
            "image 1/1 /content/drive/MyDrive/DSGP/Model10/Data/test/images/e113_jpg.rf.eae4f2de97cd1b0e305c9bac97ca4f79.jpg: 640x640 1 Bird, 7.7ms\n",
            "Speed: 1.8ms preprocess, 7.7ms inference, 1.1ms postprocess per image at shape (1, 3, 640, 640)\n",
            "\n",
            "image 1/1 /content/drive/MyDrive/DSGP/Model10/Data/test/images/e116_jpg.rf.ecc9c3105aa3053eb91813a8ffa0e1f5.jpg: 640x640 21 Birds, 7.9ms\n",
            "Speed: 1.8ms preprocess, 7.9ms inference, 1.1ms postprocess per image at shape (1, 3, 640, 640)\n",
            "\n",
            "image 1/1 /content/drive/MyDrive/DSGP/Model10/Data/test/images/e276_jpg.rf.8858c771e1705d71d50159eb4d366324.jpg: 640x640 8 Birds, 11.6ms\n",
            "Speed: 1.6ms preprocess, 11.6ms inference, 1.6ms postprocess per image at shape (1, 3, 640, 640)\n",
            "\n",
            "image 1/1 /content/drive/MyDrive/DSGP/Model10/Data/test/images/e272_jpg.rf.55adcda54ab9d58f4cd619d56c72854e.jpg: 640x640 1 Bird, 7.9ms\n",
            "Speed: 2.2ms preprocess, 7.9ms inference, 1.2ms postprocess per image at shape (1, 3, 640, 640)\n",
            "\n",
            "image 1/1 /content/drive/MyDrive/DSGP/Model10/Data/test/images/e318_jpg.rf.be1984f68a029ab54bbba25252e544a7.jpg: 640x640 4 Birds, 7.6ms\n",
            "Speed: 1.6ms preprocess, 7.6ms inference, 1.1ms postprocess per image at shape (1, 3, 640, 640)\n",
            "\n",
            "image 1/1 /content/drive/MyDrive/DSGP/Model10/Data/test/images/ezgif-frame-001-4-_jpg.rf.4a82c091247dd702420299732f31d3ce.jpg: 640x640 (no detections), 7.6ms\n",
            "Speed: 2.2ms preprocess, 7.6ms inference, 0.5ms postprocess per image at shape (1, 3, 640, 640)\n",
            "\n",
            "image 1/1 /content/drive/MyDrive/DSGP/Model10/Data/test/images/ezgif-frame-003-4-_jpg.rf.4cd1541fb99dcfd4196f9673072f7322.jpg: 640x640 (no detections), 7.6ms\n",
            "Speed: 2.2ms preprocess, 7.6ms inference, 0.5ms postprocess per image at shape (1, 3, 640, 640)\n",
            "\n",
            "image 1/1 /content/drive/MyDrive/DSGP/Model10/Data/test/images/ezgif-frame-003_jpg.rf.10798778892772bf8f16268686382fc8.jpg: 640x640 (no detections), 7.7ms\n",
            "Speed: 1.6ms preprocess, 7.7ms inference, 0.5ms postprocess per image at shape (1, 3, 640, 640)\n",
            "\n",
            "image 1/1 /content/drive/MyDrive/DSGP/Model10/Data/test/images/ezgif-frame-005_jpg.rf.6056e1a12ef70d5b522843a4c5cb9048.jpg: 640x640 (no detections), 8.1ms\n",
            "Speed: 1.6ms preprocess, 8.1ms inference, 0.5ms postprocess per image at shape (1, 3, 640, 640)\n",
            "\n",
            "image 1/1 /content/drive/MyDrive/DSGP/Model10/Data/test/images/ezgif-frame-008_jpg.rf.2aa56d7641042416dda25dd165337b52.jpg: 640x640 (no detections), 8.1ms\n",
            "Speed: 2.1ms preprocess, 8.1ms inference, 0.5ms postprocess per image at shape (1, 3, 640, 640)\n",
            "\n",
            "image 1/1 /content/drive/MyDrive/DSGP/Model10/Data/test/images/ezgif-frame-006_jpg.rf.a51ed8399769cc78877cf38256ce75b5.jpg: 640x640 (no detections), 8.0ms\n",
            "Speed: 1.6ms preprocess, 8.0ms inference, 0.5ms postprocess per image at shape (1, 3, 640, 640)\n",
            "\n",
            "image 1/1 /content/drive/MyDrive/DSGP/Model10/Data/test/images/ezgif-frame-031_jpg.rf.fce675e3c8f12f22ea339e5982c8fd89.jpg: 640x640 6 Birds, 7.8ms\n",
            "Speed: 1.6ms preprocess, 7.8ms inference, 1.1ms postprocess per image at shape (1, 3, 640, 640)\n",
            "\n",
            "image 1/1 /content/drive/MyDrive/DSGP/Model10/Data/test/images/ezgif-frame-065_jpg.rf.29cc0a0ddc8841a45bcef7a080e07681.jpg: 640x640 5 Birds, 7.7ms\n",
            "Speed: 1.6ms preprocess, 7.7ms inference, 1.1ms postprocess per image at shape (1, 3, 640, 640)\n",
            "\n",
            "image 1/1 /content/drive/MyDrive/DSGP/Model10/Data/test/images/ezgif-frame-081_jpg.rf.bd0717911f5b612356431b746e1d6cf7.jpg: 640x640 2 Birds, 8.6ms\n",
            "Speed: 1.7ms preprocess, 8.6ms inference, 1.5ms postprocess per image at shape (1, 3, 640, 640)\n",
            "\n",
            "image 1/1 /content/drive/MyDrive/DSGP/Model10/Data/test/images/ezgif-frame-099_jpg.rf.a5fe2573e2703d5778095aeb3b77694b.jpg: 640x640 (no detections), 7.5ms\n",
            "Speed: 1.8ms preprocess, 7.5ms inference, 0.5ms postprocess per image at shape (1, 3, 640, 640)\n",
            "\n",
            "image 1/1 /content/drive/MyDrive/DSGP/Model10/Data/test/images/ezgif-frame-102_jpg.rf.7c7afb5bf21d7a43dffd54daf52fb446.jpg: 640x640 1 Bird, 7.5ms\n",
            "Speed: 1.6ms preprocess, 7.5ms inference, 1.1ms postprocess per image at shape (1, 3, 640, 640)\n",
            "\n",
            "image 1/1 /content/drive/MyDrive/DSGP/Model10/Data/test/images/ezgif-frame-131_jpg.rf.9803393c69af32b2660093340f856e50.jpg: 640x640 2 Birds, 7.5ms\n",
            "Speed: 1.6ms preprocess, 7.5ms inference, 1.1ms postprocess per image at shape (1, 3, 640, 640)\n",
            "\n",
            "image 1/1 /content/drive/MyDrive/DSGP/Model10/Data/test/images/free-video-3320544_jpg.rf.26d309d0071a97a4d11a0f9b969ee951.jpg: 640x640 1 Bird, 7.5ms\n",
            "Speed: 1.6ms preprocess, 7.5ms inference, 1.1ms postprocess per image at shape (1, 3, 640, 640)\n",
            "\n",
            "image 1/1 /content/drive/MyDrive/DSGP/Model10/Data/test/images/geese_mp4-0_jpg.rf.749f8f05eface68be139f9abda53f000.jpg: 640x640 7 Birds, 7.5ms\n",
            "Speed: 1.6ms preprocess, 7.5ms inference, 1.1ms postprocess per image at shape (1, 3, 640, 640)\n",
            "\n",
            "image 1/1 /content/drive/MyDrive/DSGP/Model10/Data/test/images/geese_mp4-45_jpg.rf.2d64ba097a3bad9dff5f8f7f662dc3c4.jpg: 640x640 (no detections), 7.5ms\n",
            "Speed: 1.6ms preprocess, 7.5ms inference, 0.5ms postprocess per image at shape (1, 3, 640, 640)\n",
            "\n",
            "image 1/1 /content/drive/MyDrive/DSGP/Model10/Data/test/images/geese_mp4-40_jpg.rf.0c5e6a021f85a390e928863bfffc779a.jpg: 640x640 2 Birds, 7.5ms\n",
            "Speed: 1.7ms preprocess, 7.5ms inference, 1.1ms postprocess per image at shape (1, 3, 640, 640)\n",
            "\n",
            "image 1/1 /content/drive/MyDrive/DSGP/Model10/Data/test/images/geese_mp4-8_jpg.rf.e76ba40cbadf93306c75b49bef537276.jpg: 640x640 14 Birds, 7.5ms\n",
            "Speed: 2.2ms preprocess, 7.5ms inference, 1.2ms postprocess per image at shape (1, 3, 640, 640)\n",
            "\n",
            "image 1/1 /content/drive/MyDrive/DSGP/Model10/Data/test/images/gerardo-alcolea-v4LHsC1VucQ-unsplash_jpg.rf.97c395fc5d59aa509afe0d4064adf6fb.jpg: 640x640 1 Bird, 7.5ms\n",
            "Speed: 1.6ms preprocess, 7.5ms inference, 1.2ms postprocess per image at shape (1, 3, 640, 640)\n",
            "\n",
            "image 1/1 /content/drive/MyDrive/DSGP/Model10/Data/test/images/glyn-lewis-pn1Oan_KQ4g-unsplash_jpg.rf.c7da40274ac013a0737bc7b967810ff5.jpg: 640x640 8 Birds, 7.5ms\n",
            "Speed: 2.2ms preprocess, 7.5ms inference, 1.2ms postprocess per image at shape (1, 3, 640, 640)\n",
            "\n",
            "image 1/1 /content/drive/MyDrive/DSGP/Model10/Data/test/images/humberto-arellano-FjZGnAhsTrQ-unsplash_jpg.rf.def42baebdd0b1aa0852d1c736be8365.jpg: 640x640 1 Bird, 7.5ms\n",
            "Speed: 2.2ms preprocess, 7.5ms inference, 1.1ms postprocess per image at shape (1, 3, 640, 640)\n",
            "\n",
            "image 1/1 /content/drive/MyDrive/DSGP/Model10/Data/test/images/gul-ergin-CUiYn539xJw-unsplash_jpg.rf.f89eed71d8ffac58a9c6bb50af51ec82.jpg: 640x640 1 Bird, 7.5ms\n",
            "Speed: 2.3ms preprocess, 7.5ms inference, 1.2ms postprocess per image at shape (1, 3, 640, 640)\n",
            "\n",
            "image 1/1 /content/drive/MyDrive/DSGP/Model10/Data/test/images/image-10-_jpeg_jpg.rf.b74410a16b642b8aa86e5260021077e9.jpg: 640x640 7 Birds, 7.5ms\n",
            "Speed: 2.3ms preprocess, 7.5ms inference, 1.1ms postprocess per image at shape (1, 3, 640, 640)\n",
            "\n",
            "image 1/1 /content/drive/MyDrive/DSGP/Model10/Data/test/images/images-20-5-_jpeg.rf.581753b31ec25ccd410b2e3dd65424be.jpg: 640x640 1 Bird, 7.5ms\n",
            "Speed: 1.6ms preprocess, 7.5ms inference, 1.1ms postprocess per image at shape (1, 3, 640, 640)\n",
            "\n",
            "image 1/1 /content/drive/MyDrive/DSGP/Model10/Data/test/images/images-20-41-_jpeg.rf.33f280f4eb5bfc41b2913f576e92da89.jpg: 640x640 1 Bird, 9.0ms\n",
            "Speed: 1.7ms preprocess, 9.0ms inference, 1.2ms postprocess per image at shape (1, 3, 640, 640)\n",
            "\n",
            "image 1/1 /content/drive/MyDrive/DSGP/Model10/Data/test/images/images-20-86-_jpeg.rf.c65bb1f6a86224cd1aeefe9bb46a9753.jpg: 640x640 (no detections), 7.5ms\n",
            "Speed: 2.2ms preprocess, 7.5ms inference, 0.5ms postprocess per image at shape (1, 3, 640, 640)\n",
            "\n",
            "image 1/1 /content/drive/MyDrive/DSGP/Model10/Data/test/images/images-25-_jpeg_jpg.rf.7c546bf09f3d882925047349fb2c0077.jpg: 640x640 (no detections), 7.5ms\n",
            "Speed: 2.2ms preprocess, 7.5ms inference, 0.5ms postprocess per image at shape (1, 3, 640, 640)\n",
            "\n",
            "image 1/1 /content/drive/MyDrive/DSGP/Model10/Data/test/images/istockphoto-500709701-612x612_jpg.rf.90f2aff307357acd58348715f2e36d14.jpg: 640x640 1 Bird, 7.5ms\n",
            "Speed: 1.6ms preprocess, 7.5ms inference, 1.2ms postprocess per image at shape (1, 3, 640, 640)\n",
            "\n",
            "image 1/1 /content/drive/MyDrive/DSGP/Model10/Data/test/images/jolan-wathelet-1R-rghPHFRs-unsplash_jpg.rf.8895373d7db3d7a7dd6a031e148f99f9.jpg: 640x640 1 Bird, 7.5ms\n",
            "Speed: 2.2ms preprocess, 7.5ms inference, 1.2ms postprocess per image at shape (1, 3, 640, 640)\n",
            "\n",
            "image 1/1 /content/drive/MyDrive/DSGP/Model10/Data/test/images/mix-a-57-_jpg.rf.ba93811994c142a7c7dc894647983ffe.jpg: 640x640 (no detections), 7.5ms\n",
            "Speed: 2.1ms preprocess, 7.5ms inference, 0.5ms postprocess per image at shape (1, 3, 640, 640)\n",
            "\n",
            "image 1/1 /content/drive/MyDrive/DSGP/Model10/Data/test/images/mix-bird-43-_jpg.rf.78dbfba421c0fb17cca5c6a40de39196.jpg: 640x640 (no detections), 7.5ms\n",
            "Speed: 1.6ms preprocess, 7.5ms inference, 0.5ms postprocess per image at shape (1, 3, 640, 640)\n",
            "\n",
            "image 1/1 /content/drive/MyDrive/DSGP/Model10/Data/test/images/mix-bird-44-_jpg.rf.55c0e8bc97e04903cec487d6d1d627e6.jpg: 640x640 4 Birds, 7.5ms\n",
            "Speed: 1.6ms preprocess, 7.5ms inference, 1.1ms postprocess per image at shape (1, 3, 640, 640)\n",
            "\n",
            "image 1/1 /content/drive/MyDrive/DSGP/Model10/Data/test/images/n_000013_jpg.rf.7b093986b0e4685ce07ec900270a1558.jpg: 640x640 12 Birds, 7.5ms\n",
            "Speed: 1.6ms preprocess, 7.5ms inference, 1.1ms postprocess per image at shape (1, 3, 640, 640)\n",
            "\n",
            "image 1/1 /content/drive/MyDrive/DSGP/Model10/Data/test/images/n_000032_jpg.rf.4239ecde0a56a2fced5c35ccc91d1d2a.jpg: 640x640 2 Birds, 7.6ms\n",
            "Speed: 1.6ms preprocess, 7.6ms inference, 1.1ms postprocess per image at shape (1, 3, 640, 640)\n",
            "\n",
            "image 1/1 /content/drive/MyDrive/DSGP/Model10/Data/test/images/n_000036_jpg.rf.1e700bc2040ecb6bd00d6801c17131b0.jpg: 640x640 2 Birds, 8.0ms\n",
            "Speed: 2.4ms preprocess, 8.0ms inference, 3.2ms postprocess per image at shape (1, 3, 640, 640)\n",
            "\n",
            "image 1/1 /content/drive/MyDrive/DSGP/Model10/Data/test/images/n_000037_jpg.rf.a232b99ee193a9447f3d5da7bd0fc95c.jpg: 640x640 8 Birds, 7.6ms\n",
            "Speed: 1.6ms preprocess, 7.6ms inference, 1.1ms postprocess per image at shape (1, 3, 640, 640)\n",
            "\n",
            "image 1/1 /content/drive/MyDrive/DSGP/Model10/Data/test/images/n_000044_jpg.rf.885334995a22473f925ae07b347d859d.jpg: 640x640 40 Birds, 7.5ms\n",
            "Speed: 1.6ms preprocess, 7.5ms inference, 1.1ms postprocess per image at shape (1, 3, 640, 640)\n",
            "\n",
            "image 1/1 /content/drive/MyDrive/DSGP/Model10/Data/test/images/n_000101_jpg.rf.6dd6ac79299646afd1ad042aed81c6dd.jpg: 640x640 74 Birds, 7.6ms\n",
            "Speed: 1.7ms preprocess, 7.6ms inference, 1.1ms postprocess per image at shape (1, 3, 640, 640)\n",
            "\n",
            "image 1/1 /content/drive/MyDrive/DSGP/Model10/Data/test/images/pexels-6175266_mp4-4_jpg.rf.8fbcdf386a0afe26ff134cd22a6c53fd.jpg: 640x640 3 Birds, 7.5ms\n",
            "Speed: 1.6ms preprocess, 7.5ms inference, 1.1ms postprocess per image at shape (1, 3, 640, 640)\n",
            "\n",
            "image 1/1 /content/drive/MyDrive/DSGP/Model10/Data/test/images/pexels-alice-castro-9408600_jpg.rf.cd27c7d24a85aae4078e16d8d0d8d5e4.jpg: 640x640 1 Bird, 7.6ms\n",
            "Speed: 1.9ms preprocess, 7.6ms inference, 1.1ms postprocess per image at shape (1, 3, 640, 640)\n",
            "\n",
            "image 1/1 /content/drive/MyDrive/DSGP/Model10/Data/test/images/pexels-alesia-kozik-6716056_jpg.rf.6b0def2efd67de221ba9f902dc0cda6f.jpg: 640x640 (no detections), 7.6ms\n",
            "Speed: 1.6ms preprocess, 7.6ms inference, 0.5ms postprocess per image at shape (1, 3, 640, 640)\n",
            "\n",
            "image 1/1 /content/drive/MyDrive/DSGP/Model10/Data/test/images/pexels-6175266_mp4-8_jpg.rf.eeb331c0e2a9b647c44fbb3869aebe13.jpg: 640x640 4 Birds, 7.7ms\n",
            "Speed: 1.6ms preprocess, 7.7ms inference, 1.1ms postprocess per image at shape (1, 3, 640, 640)\n",
            "\n",
            "image 1/1 /content/drive/MyDrive/DSGP/Model10/Data/test/images/pexels-anna-shvets-6047752_mp4-15_jpg.rf.9dc5cb1dbbad9c82a62da3c12d3e6766.jpg: 640x640 2 Birds, 7.8ms\n",
            "Speed: 1.7ms preprocess, 7.8ms inference, 1.1ms postprocess per image at shape (1, 3, 640, 640)\n",
            "\n",
            "image 1/1 /content/drive/MyDrive/DSGP/Model10/Data/test/images/pexels-anna-shvets-6047752_mp4-9_jpg.rf.77356a1603791d95eddcff5a0c467b25.jpg: 640x640 2 Birds, 7.8ms\n",
            "Speed: 1.6ms preprocess, 7.8ms inference, 1.1ms postprocess per image at shape (1, 3, 640, 640)\n",
            "\n",
            "image 1/1 /content/drive/MyDrive/DSGP/Model10/Data/test/images/pexels-anna-shvets-6047752_mp4-8_jpg.rf.f0376107c3db0b10226a9c432c3df12e.jpg: 640x640 1 Bird, 7.8ms\n",
            "Speed: 1.8ms preprocess, 7.8ms inference, 1.1ms postprocess per image at shape (1, 3, 640, 640)\n",
            "\n",
            "image 1/1 /content/drive/MyDrive/DSGP/Model10/Data/test/images/pexels-cesar-a-ramirez-v-traphitho-5854973_mp4-11_jpg.rf.4772d428649aa355a6a2b0e23f5702e2.jpg: 640x640 5 Birds, 7.6ms\n",
            "Speed: 1.6ms preprocess, 7.6ms inference, 1.1ms postprocess per image at shape (1, 3, 640, 640)\n",
            "\n",
            "image 1/1 /content/drive/MyDrive/DSGP/Model10/Data/test/images/pexels-cesar-a-ramirez-v-traphitho-5854971_mp4-2_jpg.rf.925fe563a0bad1ac618791b9ab93c2a3.jpg: 640x640 6 Birds, 7.8ms\n",
            "Speed: 2.3ms preprocess, 7.8ms inference, 1.1ms postprocess per image at shape (1, 3, 640, 640)\n",
            "\n",
            "image 1/1 /content/drive/MyDrive/DSGP/Model10/Data/test/images/pexels-cesar-a-ramirez-v-traphitho-5854971_mp4-9_jpg.rf.1d52acaa802b07e30503e4717290f862.jpg: 640x640 5 Birds, 7.5ms\n",
            "Speed: 1.7ms preprocess, 7.5ms inference, 1.3ms postprocess per image at shape (1, 3, 640, 640)\n",
            "\n",
            "image 1/1 /content/drive/MyDrive/DSGP/Model10/Data/test/images/pexels-cesar-a-ramirez-v-traphitho-5854973_mp4-12_jpg.rf.8ee4b0d788dc88b8ad0e4d61f60bfb29.jpg: 640x640 3 Birds, 7.6ms\n",
            "Speed: 1.6ms preprocess, 7.6ms inference, 1.1ms postprocess per image at shape (1, 3, 640, 640)\n",
            "\n",
            "image 1/1 /content/drive/MyDrive/DSGP/Model10/Data/test/images/pexels-cesar-a-ramirez-v-traphitho-5854973_mp4-11_jpg.rf.c65fd9f3708365f6e8a964f1e800e240.jpg: 640x640 5 Birds, 7.7ms\n",
            "Speed: 2.2ms preprocess, 7.7ms inference, 1.1ms postprocess per image at shape (1, 3, 640, 640)\n",
            "\n",
            "image 1/1 /content/drive/MyDrive/DSGP/Model10/Data/test/images/pexels-cesar-a-ramirez-v-traphitho-5854973_mp4-4_jpg.rf.849e15f02008dc19db839709c570765a.jpg: 640x640 6 Birds, 12.7ms\n",
            "Speed: 2.7ms preprocess, 12.7ms inference, 1.8ms postprocess per image at shape (1, 3, 640, 640)\n",
            "\n",
            "image 1/1 /content/drive/MyDrive/DSGP/Model10/Data/test/images/pexels-cesar-a-ramirez-v-traphitho-5854973_mp4-2_jpg.rf.4d53066afceb5dff910ebb52035ea3ff.jpg: 640x640 6 Birds, 7.6ms\n",
            "Speed: 1.6ms preprocess, 7.6ms inference, 1.1ms postprocess per image at shape (1, 3, 640, 640)\n",
            "\n",
            "image 1/1 /content/drive/MyDrive/DSGP/Model10/Data/test/images/pexels-cesar-a-ramirez-v-traphitho-5854973_mp4-9_jpg.rf.35bccf4aeb60409656196b23ba9b57b4.jpg: 640x640 5 Birds, 7.6ms\n",
            "Speed: 1.6ms preprocess, 7.6ms inference, 1.2ms postprocess per image at shape (1, 3, 640, 640)\n",
            "\n",
            "image 1/1 /content/drive/MyDrive/DSGP/Model10/Data/test/images/pexels-cesar-a-ramirez-v-traphitho-5854976_mp4-10_jpg.rf.f4053a288050b2e334966ac96066ca9f.jpg: 640x640 6 Birds, 7.6ms\n",
            "Speed: 1.6ms preprocess, 7.6ms inference, 1.1ms postprocess per image at shape (1, 3, 640, 640)\n",
            "\n",
            "image 1/1 /content/drive/MyDrive/DSGP/Model10/Data/test/images/pexels-cesar-fonseca-10776838_jpg.rf.4114822efeed7af82a5f8626eeaba8a6.jpg: 640x640 1 Bird, 7.6ms\n",
            "Speed: 1.6ms preprocess, 7.6ms inference, 1.1ms postprocess per image at shape (1, 3, 640, 640)\n",
            "\n",
            "image 1/1 /content/drive/MyDrive/DSGP/Model10/Data/test/images/pexels-cottonbro-4881621_jpg.rf.27141865cc3bbff5e4a7c238a97296a2.jpg: 640x640 (no detections), 7.6ms\n",
            "Speed: 1.6ms preprocess, 7.6ms inference, 0.5ms postprocess per image at shape (1, 3, 640, 640)\n",
            "\n",
            "image 1/1 /content/drive/MyDrive/DSGP/Model10/Data/test/images/pexels-christian-nielebock-3664537_jpg.rf.266245d8d8b261175dd5b45b6cc9ad6c.jpg: 640x640 1 Bird, 7.6ms\n",
            "Speed: 2.2ms preprocess, 7.6ms inference, 1.1ms postprocess per image at shape (1, 3, 640, 640)\n",
            "\n",
            "image 1/1 /content/drive/MyDrive/DSGP/Model10/Data/test/images/pexels-magda-ehlers-5342234_mp4-80_jpg.rf.f814d8b90d4e1c2035cc4b44bc258d58.jpg: 640x640 5 Birds, 7.6ms\n",
            "Speed: 1.6ms preprocess, 7.6ms inference, 1.2ms postprocess per image at shape (1, 3, 640, 640)\n",
            "\n",
            "image 1/1 /content/drive/MyDrive/DSGP/Model10/Data/test/images/pexels-matheus-bertelli-4558379_jpg.rf.9b289d974d75023d65e786acfae6b8ac.jpg: 640x640 1 Bird, 7.6ms\n",
            "Speed: 1.6ms preprocess, 7.6ms inference, 1.1ms postprocess per image at shape (1, 3, 640, 640)\n",
            "\n",
            "image 1/1 /content/drive/MyDrive/DSGP/Model10/Data/test/images/pexels-rodnae-productions-8438009_jpg.rf.5bb905df540a453b66ba846c01d08f6b.jpg: 640x640 2 Birds, 7.6ms\n",
            "Speed: 1.6ms preprocess, 7.6ms inference, 1.2ms postprocess per image at shape (1, 3, 640, 640)\n",
            "\n",
            "image 1/1 /content/drive/MyDrive/DSGP/Model10/Data/test/images/pexels-taryn-elliott-9246514_mp4-12_jpg.rf.d516578b5c58a6944323cc09ba4efe39.jpg: 640x640 1 Bird, 8.1ms\n",
            "Speed: 2.5ms preprocess, 8.1ms inference, 1.3ms postprocess per image at shape (1, 3, 640, 640)\n",
            "\n",
            "image 1/1 /content/drive/MyDrive/DSGP/Model10/Data/test/images/pexels-taryn-elliott-9246514_mp4-10_jpg.rf.aa9779618920a983dcb1f209b2c5a58b.jpg: 640x640 4 Birds, 7.6ms\n",
            "Speed: 1.9ms preprocess, 7.6ms inference, 1.2ms postprocess per image at shape (1, 3, 640, 640)\n",
            "\n",
            "image 1/1 /content/drive/MyDrive/DSGP/Model10/Data/test/images/pexels-taryn-elliott-9246514_mp4-22_jpg.rf.968e5683382ac371c28cc9dd6815f274.jpg: 640x640 1 Bird, 7.6ms\n",
            "Speed: 2.3ms preprocess, 7.6ms inference, 1.1ms postprocess per image at shape (1, 3, 640, 640)\n",
            "\n",
            "image 1/1 /content/drive/MyDrive/DSGP/Model10/Data/test/images/production-ID_4111160_mp4-0_jpg.rf.d41a68626f11f3e3cbfe9dc8c73593a3.jpg: 640x640 (no detections), 7.6ms\n",
            "Speed: 2.0ms preprocess, 7.6ms inference, 0.6ms postprocess per image at shape (1, 3, 640, 640)\n",
            "\n",
            "image 1/1 /content/drive/MyDrive/DSGP/Model10/Data/test/images/production-ID_4111160_mp4-10_jpg.rf.febd47f5395f0f497061204d7cd12fc0.jpg: 640x640 (no detections), 7.6ms\n",
            "Speed: 1.7ms preprocess, 7.6ms inference, 0.5ms postprocess per image at shape (1, 3, 640, 640)\n",
            "\n",
            "image 1/1 /content/drive/MyDrive/DSGP/Model10/Data/test/images/production-ID_4438384_mp4-100_jpg.rf.fbc2dc3a5acb439c89318da385780337.jpg: 640x640 1 Bird, 8.7ms\n",
            "Speed: 1.6ms preprocess, 8.7ms inference, 1.1ms postprocess per image at shape (1, 3, 640, 640)\n",
            "\n",
            "image 1/1 /content/drive/MyDrive/DSGP/Model10/Data/test/images/production-ID_4438384_mp4-16_jpg.rf.edb12d3583eb7b607d6a1cf20c273440.jpg: 640x640 1 Bird, 7.6ms\n",
            "Speed: 2.2ms preprocess, 7.6ms inference, 1.1ms postprocess per image at shape (1, 3, 640, 640)\n",
            "\n",
            "image 1/1 /content/drive/MyDrive/DSGP/Model10/Data/test/images/production-ID_4438384_mp4-3_jpg.rf.ecc911064cd09241ff30e2c31e87989f.jpg: 640x640 1 Bird, 9.1ms\n",
            "Speed: 2.1ms preprocess, 9.1ms inference, 1.1ms postprocess per image at shape (1, 3, 640, 640)\n",
            "\n",
            "image 1/1 /content/drive/MyDrive/DSGP/Model10/Data/test/images/production-ID_4438384_mp4-32_jpg.rf.661f97bb5f3e57cf6c0624954a3e7bf8.jpg: 640x640 1 Bird, 7.6ms\n",
            "Speed: 2.2ms preprocess, 7.6ms inference, 1.2ms postprocess per image at shape (1, 3, 640, 640)\n",
            "\n",
            "image 1/1 /content/drive/MyDrive/DSGP/Model10/Data/test/images/production-ID_4438384_mp4-48_jpg.rf.e76a34ee3903a34994fff3b4cf40df7c.jpg: 640x640 1 Bird, 7.9ms\n",
            "Speed: 2.1ms preprocess, 7.9ms inference, 1.2ms postprocess per image at shape (1, 3, 640, 640)\n",
            "\n",
            "image 1/1 /content/drive/MyDrive/DSGP/Model10/Data/test/images/production-ID_4438384_mp4-5_jpg.rf.e5764b0714334c111759b9454d9d0c0a.jpg: 640x640 1 Bird, 7.8ms\n",
            "Speed: 2.1ms preprocess, 7.8ms inference, 1.2ms postprocess per image at shape (1, 3, 640, 640)\n",
            "\n",
            "image 1/1 /content/drive/MyDrive/DSGP/Model10/Data/test/images/production-ID_4438384_mp4-68_jpg.rf.15809800d01eb783daed6fba90cf5582.jpg: 640x640 1 Bird, 7.6ms\n",
            "Speed: 2.0ms preprocess, 7.6ms inference, 1.3ms postprocess per image at shape (1, 3, 640, 640)\n",
            "\n",
            "image 1/1 /content/drive/MyDrive/DSGP/Model10/Data/test/images/production-ID_4438384_mp4-7_jpg.rf.2ec997c890f8dbe74c960a21777d6214.jpg: 640x640 1 Bird, 7.6ms\n",
            "Speed: 2.3ms preprocess, 7.6ms inference, 1.3ms postprocess per image at shape (1, 3, 640, 640)\n",
            "\n",
            "image 1/1 /content/drive/MyDrive/DSGP/Model10/Data/test/images/production-ID_4438384_mp4-83_jpg.rf.c0d07868d501fd63d7a70834eef4f4d9.jpg: 640x640 1 Bird, 7.7ms\n",
            "Speed: 2.3ms preprocess, 7.7ms inference, 1.1ms postprocess per image at shape (1, 3, 640, 640)\n",
            "\n",
            "image 1/1 /content/drive/MyDrive/DSGP/Model10/Data/test/images/production-ID_4438384_mp4-85_jpg.rf.49b8b101dba2cd2d21016e3feead152f.jpg: 640x640 1 Bird, 7.6ms\n",
            "Speed: 2.0ms preprocess, 7.6ms inference, 1.2ms postprocess per image at shape (1, 3, 640, 640)\n",
            "\n",
            "image 1/1 /content/drive/MyDrive/DSGP/Model10/Data/test/images/production-ID_4438485_mp4-8_jpg.rf.2e03addfca6fe0604e9b18175285730a.jpg: 640x640 1 Bird, 7.6ms\n",
            "Speed: 1.6ms preprocess, 7.6ms inference, 1.2ms postprocess per image at shape (1, 3, 640, 640)\n",
            "\n",
            "image 1/1 /content/drive/MyDrive/DSGP/Model10/Data/test/images/production-ID_4438485_mp4-7_jpg.rf.2f7dd00a6ac207b8b0a9d251e2ea7108.jpg: 640x640 1 Bird, 7.7ms\n",
            "Speed: 2.2ms preprocess, 7.7ms inference, 1.1ms postprocess per image at shape (1, 3, 640, 640)\n",
            "\n",
            "image 1/1 /content/drive/MyDrive/DSGP/Model10/Data/test/images/production-ID_4982644_mp4-20_jpg.rf.38e0096bf8a13d3795fe9f0b4c2bd3cc.jpg: 640x640 3 Birds, 7.6ms\n",
            "Speed: 2.2ms preprocess, 7.6ms inference, 1.2ms postprocess per image at shape (1, 3, 640, 640)\n",
            "\n",
            "image 1/1 /content/drive/MyDrive/DSGP/Model10/Data/test/images/production-ID_4982644_mp4-23_jpg.rf.3443ca6c1e4a3e1fb1d97c02b9102473.jpg: 640x640 9 Birds, 7.7ms\n",
            "Speed: 2.4ms preprocess, 7.7ms inference, 1.6ms postprocess per image at shape (1, 3, 640, 640)\n",
            "\n",
            "image 1/1 /content/drive/MyDrive/DSGP/Model10/Data/test/images/production-ID_4982644_mp4-7_jpg.rf.301144169dfc98c884657b1a1f3ab1f2.jpg: 640x640 4 Birds, 7.6ms\n",
            "Speed: 1.7ms preprocess, 7.6ms inference, 1.1ms postprocess per image at shape (1, 3, 640, 640)\n",
            "\n",
            "image 1/1 /content/drive/MyDrive/DSGP/Model10/Data/test/images/production-ID_4982644_mp4-28_jpg.rf.d802a89ebd6f40d9d0577f26a4a5c6bf.jpg: 640x640 1 Bird, 7.6ms\n",
            "Speed: 1.6ms preprocess, 7.6ms inference, 1.1ms postprocess per image at shape (1, 3, 640, 640)\n",
            "\n",
            "image 1/1 /content/drive/MyDrive/DSGP/Model10/Data/test/images/production-ID_4982644_mp4-6_jpg.rf.4a0c08169fcfeeec0e5b355d3eec85f2.jpg: 640x640 8 Birds, 7.6ms\n",
            "Speed: 2.2ms preprocess, 7.6ms inference, 1.1ms postprocess per image at shape (1, 3, 640, 640)\n",
            "\n",
            "image 1/1 /content/drive/MyDrive/DSGP/Model10/Data/test/images/production-ID_5129465_mp4-7_jpg.rf.b9f5671a7bafcb07110aec27be218b12.jpg: 640x640 9 Birds, 7.6ms\n",
            "Speed: 1.6ms preprocess, 7.6ms inference, 1.1ms postprocess per image at shape (1, 3, 640, 640)\n",
            "\n",
            "image 1/1 /content/drive/MyDrive/DSGP/Model10/Data/test/images/sample_video_img_120-0_jpg.rf.51e7c65f880404bf17711ade8901af02.jpg: 640x640 7 Birds, 7.6ms\n",
            "Speed: 1.6ms preprocess, 7.6ms inference, 1.2ms postprocess per image at shape (1, 3, 640, 640)\n",
            "\n",
            "image 1/1 /content/drive/MyDrive/DSGP/Model10/Data/test/images/sample_video_img_119-0_jpg.rf.810464e1c625f7f4324c1acb8405cba2.jpg: 640x640 3 Birds, 8.5ms\n",
            "Speed: 1.6ms preprocess, 8.5ms inference, 1.1ms postprocess per image at shape (1, 3, 640, 640)\n",
            "\n",
            "image 1/1 /content/drive/MyDrive/DSGP/Model10/Data/test/images/sample_video_img_117-0_jpg.rf.66309412887095cadcbc3369fae4d6c0.jpg: 640x640 3 Birds, 7.6ms\n",
            "Speed: 1.6ms preprocess, 7.6ms inference, 1.1ms postprocess per image at shape (1, 3, 640, 640)\n",
            "\n",
            "image 1/1 /content/drive/MyDrive/DSGP/Model10/Data/test/images/sample_video_img_138-0_jpg.rf.83fe0e2e575e33390505609a9b931d73.jpg: 640x640 3 Birds, 7.6ms\n",
            "Speed: 1.6ms preprocess, 7.6ms inference, 1.1ms postprocess per image at shape (1, 3, 640, 640)\n",
            "\n",
            "image 1/1 /content/drive/MyDrive/DSGP/Model10/Data/test/images/sample_video_img_154-0_jpg.rf.6a105afbea7471575feacaa8ed484a84.jpg: 640x640 2 Birds, 7.6ms\n",
            "Speed: 2.1ms preprocess, 7.6ms inference, 1.1ms postprocess per image at shape (1, 3, 640, 640)\n",
            "\n",
            "image 1/1 /content/drive/MyDrive/DSGP/Model10/Data/test/images/sample_video_img_384-0_jpg.rf.84f5c510f24614c07eb812b312760ad9.jpg: 640x640 9 Birds, 7.6ms\n",
            "Speed: 2.2ms preprocess, 7.6ms inference, 1.2ms postprocess per image at shape (1, 3, 640, 640)\n",
            "\n",
            "image 1/1 /content/drive/MyDrive/DSGP/Model10/Data/test/images/sample_video_img_398-0_jpg.rf.f5a54ebeb89a42c5d4d26259ca7bac10.jpg: 640x640 5 Birds, 7.9ms\n",
            "Speed: 2.8ms preprocess, 7.9ms inference, 1.4ms postprocess per image at shape (1, 3, 640, 640)\n",
            "\n",
            "image 1/1 /content/drive/MyDrive/DSGP/Model10/Data/test/images/sample_video_img_389-0_jpg.rf.1e3aaa5fef70587fda7e73de430c0d77.jpg: 640x640 6 Birds, 8.1ms\n",
            "Speed: 4.1ms preprocess, 8.1ms inference, 1.1ms postprocess per image at shape (1, 3, 640, 640)\n",
            "\n",
            "image 1/1 /content/drive/MyDrive/DSGP/Model10/Data/test/images/sample_video_img_423-0_jpg.rf.52fac1b21ffda2a5d647a68cd2270041.jpg: 640x640 2 Birds, 7.6ms\n",
            "Speed: 2.1ms preprocess, 7.6ms inference, 1.1ms postprocess per image at shape (1, 3, 640, 640)\n",
            "\n",
            "image 1/1 /content/drive/MyDrive/DSGP/Model10/Data/test/images/sample_video_img_431-0_jpg.rf.076a58698cd1f08897d7334ba53ddaf0.jpg: 640x640 2 Birds, 7.6ms\n",
            "Speed: 1.6ms preprocess, 7.6ms inference, 1.1ms postprocess per image at shape (1, 3, 640, 640)\n",
            "\n",
            "image 1/1 /content/drive/MyDrive/DSGP/Model10/Data/test/images/sample_video_img_425-0_jpg.rf.371a6951747df39144c19378f4fa7304.jpg: 640x640 2 Birds, 7.6ms\n",
            "Speed: 1.6ms preprocess, 7.6ms inference, 1.2ms postprocess per image at shape (1, 3, 640, 640)\n",
            "\n",
            "image 1/1 /content/drive/MyDrive/DSGP/Model10/Data/test/images/sample_video_img_452-0_jpg.rf.4f19eabaa1c014b9fb907fa1274494b4.jpg: 640x640 (no detections), 7.6ms\n",
            "Speed: 1.6ms preprocess, 7.6ms inference, 0.5ms postprocess per image at shape (1, 3, 640, 640)\n",
            "\n",
            "image 1/1 /content/drive/MyDrive/DSGP/Model10/Data/test/images/sample_video_img_47-0_jpg.rf.6860d221a0dc61697f002c980dcd9a32.jpg: 640x640 2 Birds, 7.6ms\n",
            "Speed: 1.6ms preprocess, 7.6ms inference, 1.2ms postprocess per image at shape (1, 3, 640, 640)\n",
            "\n",
            "image 1/1 /content/drive/MyDrive/DSGP/Model10/Data/test/images/sample_video_img_480-0_jpg.rf.49f73a986651ee33d7434e9e60c213e9.jpg: 640x640 6 Birds, 7.6ms\n",
            "Speed: 1.7ms preprocess, 7.6ms inference, 1.1ms postprocess per image at shape (1, 3, 640, 640)\n",
            "\n",
            "image 1/1 /content/drive/MyDrive/DSGP/Model10/Data/test/images/sample_video_img_501-0_jpg.rf.31341218addecedf09ed3cab454a74c9.jpg: 640x640 1 Bird, 7.6ms\n",
            "Speed: 2.4ms preprocess, 7.6ms inference, 1.1ms postprocess per image at shape (1, 3, 640, 640)\n",
            "\n",
            "image 1/1 /content/drive/MyDrive/DSGP/Model10/Data/test/images/sample_video_img_518-0_jpg.rf.517ca35a91afb7bee412a976919b310c.jpg: 640x640 1 Bird, 7.6ms\n",
            "Speed: 1.6ms preprocess, 7.6ms inference, 1.1ms postprocess per image at shape (1, 3, 640, 640)\n",
            "\n",
            "image 1/1 /content/drive/MyDrive/DSGP/Model10/Data/test/images/sample_video_img_511-0_jpg.rf.7495330291221eda4ee4965d5e8c3e28.jpg: 640x640 1 Bird, 7.6ms\n",
            "Speed: 1.6ms preprocess, 7.6ms inference, 1.1ms postprocess per image at shape (1, 3, 640, 640)\n",
            "\n",
            "image 1/1 /content/drive/MyDrive/DSGP/Model10/Data/test/images/sample_video_img_53-0_jpg.rf.6695e4ac33e204a33ceef6c630586d37.jpg: 640x640 4 Birds, 7.6ms\n",
            "Speed: 1.6ms preprocess, 7.6ms inference, 1.1ms postprocess per image at shape (1, 3, 640, 640)\n",
            "\n",
            "image 1/1 /content/drive/MyDrive/DSGP/Model10/Data/test/images/sample_video_img_55-0_jpg.rf.cf205f73f9cfe0a92b27354e3cd38b5d.jpg: 640x640 3 Birds, 11.1ms\n",
            "Speed: 2.3ms preprocess, 11.1ms inference, 1.1ms postprocess per image at shape (1, 3, 640, 640)\n",
            "\n",
            "image 1/1 /content/drive/MyDrive/DSGP/Model10/Data/test/images/sample_video_img_557-0_jpg.rf.2c3e154fab1ca68d59e8a1d64736007d.jpg: 640x640 1 Bird, 7.6ms\n",
            "Speed: 1.6ms preprocess, 7.6ms inference, 1.1ms postprocess per image at shape (1, 3, 640, 640)\n",
            "\n",
            "image 1/1 /content/drive/MyDrive/DSGP/Model10/Data/test/images/sample_video_img_555-0_jpg.rf.ec08a9b30960f41cf7e3d05d98f89683.jpg: 640x640 (no detections), 7.6ms\n",
            "Speed: 1.6ms preprocess, 7.6ms inference, 0.5ms postprocess per image at shape (1, 3, 640, 640)\n",
            "\n",
            "image 1/1 /content/drive/MyDrive/DSGP/Model10/Data/test/images/sample_video_img_6015-0_jpg.rf.a91a78a02e5c453a39440b742f7cf7fc.jpg: 640x640 11 Birds, 7.6ms\n",
            "Speed: 1.8ms preprocess, 7.6ms inference, 1.1ms postprocess per image at shape (1, 3, 640, 640)\n",
            "\n",
            "image 1/1 /content/drive/MyDrive/DSGP/Model10/Data/test/images/sample_video_img_6023-0_jpg.rf.0dfa32b6558dfe726e10cbad7321f6a3.jpg: 640x640 16 Birds, 7.6ms\n",
            "Speed: 1.6ms preprocess, 7.6ms inference, 1.2ms postprocess per image at shape (1, 3, 640, 640)\n",
            "\n",
            "image 1/1 /content/drive/MyDrive/DSGP/Model10/Data/test/images/sample_video_img_6041-0_jpg.rf.44645fe70dd624cd5e4e03597af4a2c1.jpg: 640x640 14 Birds, 7.6ms\n",
            "Speed: 1.7ms preprocess, 7.6ms inference, 1.1ms postprocess per image at shape (1, 3, 640, 640)\n",
            "\n",
            "image 1/1 /content/drive/MyDrive/DSGP/Model10/Data/test/images/sample_video_img_6028-0_jpg.rf.679a74751d33ade6ba14f7e5c1348c9a.jpg: 640x640 12 Birds, 8.1ms\n",
            "Speed: 2.5ms preprocess, 8.1ms inference, 1.1ms postprocess per image at shape (1, 3, 640, 640)\n",
            "\n",
            "image 1/1 /content/drive/MyDrive/DSGP/Model10/Data/test/images/sample_video_img_81-0_jpg.rf.b04ca88e801df4b00649e1e686cc0a9a.jpg: 640x640 2 Birds, 7.9ms\n",
            "Speed: 2.0ms preprocess, 7.9ms inference, 1.1ms postprocess per image at shape (1, 3, 640, 640)\n",
            "\n",
            "image 1/1 /content/drive/MyDrive/DSGP/Model10/Data/test/images/sample_video_img_75-0_jpg.rf.7c6b5e0f8f555411efbc6f947abcc8d7.jpg: 640x640 3 Birds, 8.0ms\n",
            "Speed: 1.6ms preprocess, 8.0ms inference, 1.4ms postprocess per image at shape (1, 3, 640, 640)\n",
            "\n",
            "image 1/1 /content/drive/MyDrive/DSGP/Model10/Data/test/images/sample_video_img_94-0_jpg.rf.5bb24c83387eaa9fb65967da5366ddd4.jpg: 640x640 3 Birds, 8.1ms\n",
            "Speed: 2.5ms preprocess, 8.1ms inference, 1.1ms postprocess per image at shape (1, 3, 640, 640)\n",
            "\n",
            "image 1/1 /content/drive/MyDrive/DSGP/Model10/Data/test/images/video-2-_mp4-14_jpg.rf.00a5926c6bbc9be5e56179a71e20a683.jpg: 640x640 1 Bird, 8.0ms\n",
            "Speed: 1.7ms preprocess, 8.0ms inference, 1.2ms postprocess per image at shape (1, 3, 640, 640)\n",
            "\n",
            "image 1/1 /content/drive/MyDrive/DSGP/Model10/Data/test/images/video-5-_mp4-6_jpg.rf.3a9573ea093d6beff59967fb6d5abd09.jpg: 640x640 4 Birds, 8.0ms\n",
            "Speed: 2.2ms preprocess, 8.0ms inference, 1.3ms postprocess per image at shape (1, 3, 640, 640)\n",
            "\n",
            "image 1/1 /content/drive/MyDrive/DSGP/Model10/Data/test/images/video1_mp4-435_jpg.rf.633ebe8ca9c973f83ba63b01675f8899.jpg: 640x640 14 Birds, 7.8ms\n",
            "Speed: 1.6ms preprocess, 7.8ms inference, 1.2ms postprocess per image at shape (1, 3, 640, 640)\n",
            "\n",
            "image 1/1 /content/drive/MyDrive/DSGP/Model10/Data/test/images/voladoras26_jpg.rf.a62c3f495b9ebbfc72dd174ccf31f360.jpg: 640x640 (no detections), 7.7ms\n",
            "Speed: 2.2ms preprocess, 7.7ms inference, 0.6ms postprocess per image at shape (1, 3, 640, 640)\n",
            "\n",
            "image 1/1 /content/drive/MyDrive/DSGP/Model10/Data/test/images/voladoras59_jpg.rf.799a6f46aaf173e54a71be1c9058baa6.jpg: 640x640 (no detections), 7.6ms\n",
            "Speed: 1.6ms preprocess, 7.6ms inference, 0.5ms postprocess per image at shape (1, 3, 640, 640)\n",
            "\n",
            "image 1/1 /content/drive/MyDrive/DSGP/Model10/Data/test/images/voladoras51_jpg.rf.e2d36e4e6dc01ba0195573a20a8dd29a.jpg: 640x640 (no detections), 7.7ms\n",
            "Speed: 2.2ms preprocess, 7.7ms inference, 0.5ms postprocess per image at shape (1, 3, 640, 640)\n",
            "\n",
            "image 1/1 /content/drive/MyDrive/DSGP/Model10/Data/test/images/voladorasatardecer14_jpg.rf.834275d8861ade733d4b041fd54c0bfd.jpg: 640x640 16 Birds, 10.8ms\n",
            "Speed: 2.3ms preprocess, 10.8ms inference, 1.1ms postprocess per image at shape (1, 3, 640, 640)\n",
            "\n",
            "image 1/1 /content/drive/MyDrive/DSGP/Model10/Data/test/images/voladorasatardecer55_jpg.rf.3aad3bfb5ca6ee07d1160041daa1c980.jpg: 640x640 39 Birds, 7.7ms\n",
            "Speed: 1.6ms preprocess, 7.7ms inference, 1.2ms postprocess per image at shape (1, 3, 640, 640)\n",
            "\n",
            "image 1/1 /content/drive/MyDrive/DSGP/Model10/Data/test/images/voladorascieloazul34_jpg.rf.50c2b62b4471d49044f9948c445295dd.jpg: 640x640 4 Birds, 7.8ms\n",
            "Speed: 1.6ms preprocess, 7.8ms inference, 1.2ms postprocess per image at shape (1, 3, 640, 640)\n",
            "\n",
            "image 1/1 /content/drive/MyDrive/DSGP/Model10/Data/test/images/voladorascieloazul57_jpg.rf.3b2f2423c811052cd1c40724296df31d.jpg: 640x640 (no detections), 8.0ms\n",
            "Speed: 1.7ms preprocess, 8.0ms inference, 0.7ms postprocess per image at shape (1, 3, 640, 640)\n",
            "\n",
            "image 1/1 /content/drive/MyDrive/DSGP/Model10/Data/test/images/voladorascieloazul5_jpg.rf.290ea328d611965a4d2297845c9f7d8d.jpg: 640x640 2 Birds, 7.9ms\n",
            "Speed: 1.6ms preprocess, 7.9ms inference, 1.2ms postprocess per image at shape (1, 3, 640, 640)\n",
            "\n",
            "image 1/1 /content/drive/MyDrive/DSGP/Model10/Data/test/images/wolfgang-hasselmann-2NoBR2S_NrA-unsplash_jpg.rf.eb92ce7df61abb476d2d134d349c1d76.jpg: 640x640 1 Bird, 7.9ms\n",
            "Speed: 1.6ms preprocess, 7.9ms inference, 1.1ms postprocess per image at shape (1, 3, 640, 640)\n",
            "\n",
            "image 1/1 /content/drive/MyDrive/DSGP/Model10/Data/test/images/1_jpg.rf.337a84b614937486d6d8b79e461f061a.jpg: 640x640 (no detections), 8.0ms\n",
            "Speed: 1.6ms preprocess, 8.0ms inference, 0.5ms postprocess per image at shape (1, 3, 640, 640)\n"
          ]
        }
      ],
      "source": [
        "import os\n",
        "\n",
        "# Load the trained YOLOv8 model\n",
        "model = YOLO(\"/content/drive/MyDrive/DSGP/Model10/runs/detect/train4/weights/best.pt\")\n",
        "\n",
        "# Path to your test dataset folder\n",
        "test_dataset_path = \"/content/drive/MyDrive/DSGP/Model10/Data/test/images\"\n",
        "\n",
        "# Confidence threshold\n",
        "conf_threshold = 0.5\n",
        "\n",
        "# Get all image file paths\n",
        "image_files = [f for f in os.listdir(test_dataset_path) if f.endswith(('.jpg', '.png', '.jpeg'))]\n",
        "\n",
        "# Dictionary to store results\n",
        "detection_counts = {}\n",
        "\n",
        "# Run YOLOv8 on each image in the test dataset\n",
        "for image_file in image_files:\n",
        "    image_path = os.path.join(test_dataset_path, image_file)\n",
        "    results = model(image_path, conf=conf_threshold)  # Perform inference\n",
        "\n",
        "    # Get the number of objects detected\n",
        "    num_objects = len(results[0].boxes)\n",
        "\n",
        "    # Store the result\n",
        "    detection_counts[image_file] = num_objects\n",
        "\n",
        "# Print results\n",
        "# for image, count in detection_counts.items():\n",
        "#     print(f\"{image}: {count} objects detected\")\n"
      ]
    }
  ],
  "metadata": {
    "accelerator": "GPU",
    "colab": {
      "gpuType": "T4",
      "provenance": [],
      "authorship_tag": "ABX9TyPYT2jMade7dlaMuUdQH+uG",
      "include_colab_link": true
    },
    "kernelspec": {
      "display_name": "Python 3",
      "name": "python3"
    },
    "language_info": {
      "name": "python"
    }
  },
  "nbformat": 4,
  "nbformat_minor": 0
}