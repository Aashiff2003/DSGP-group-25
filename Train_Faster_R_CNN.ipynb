{
  "nbformat": 4,
  "nbformat_minor": 0,
  "metadata": {
    "colab": {
      "provenance": [],
      "gpuType": "T4",
      "authorship_tag": "ABX9TyM2Aa2I4RxwXrpHLxUewFdM",
      "include_colab_link": true
    },
    "kernelspec": {
      "name": "python3",
      "display_name": "Python 3"
    },
    "language_info": {
      "name": "python"
    },
    "accelerator": "GPU"
  },
  "cells": [
    {
      "cell_type": "markdown",
      "metadata": {
        "id": "view-in-github",
        "colab_type": "text"
      },
      "source": [
        "<a href=\"https://colab.research.google.com/github/Aashiff2003/DSGP-group-25/blob/Geethmi/Train_Faster_R_CNN.ipynb\" target=\"_parent\"><img src=\"https://colab.research.google.com/assets/colab-badge.svg\" alt=\"Open In Colab\"/></a>"
      ]
    },
    {
      "cell_type": "code",
      "execution_count": null,
      "metadata": {
        "colab": {
          "base_uri": "https://localhost:8080/"
        },
        "id": "ixxncC_Y_JVk",
        "outputId": "0b9101cb-8424-4851-9e27-e0d19b58f2b6"
      },
      "outputs": [
        {
          "output_type": "stream",
          "name": "stdout",
          "text": [
            "Requirement already satisfied: torch in /usr/local/lib/python3.11/dist-packages (2.5.1+cu124)\n",
            "Requirement already satisfied: torchvision in /usr/local/lib/python3.11/dist-packages (0.20.1+cu124)\n",
            "Requirement already satisfied: torchaudio in /usr/local/lib/python3.11/dist-packages (2.5.1+cu124)\n",
            "Requirement already satisfied: filelock in /usr/local/lib/python3.11/dist-packages (from torch) (3.17.0)\n",
            "Requirement already satisfied: typing-extensions>=4.8.0 in /usr/local/lib/python3.11/dist-packages (from torch) (4.12.2)\n",
            "Requirement already satisfied: networkx in /usr/local/lib/python3.11/dist-packages (from torch) (3.4.2)\n",
            "Requirement already satisfied: jinja2 in /usr/local/lib/python3.11/dist-packages (from torch) (3.1.5)\n",
            "Requirement already satisfied: fsspec in /usr/local/lib/python3.11/dist-packages (from torch) (2024.10.0)\n",
            "Requirement already satisfied: nvidia-cuda-nvrtc-cu12==12.4.127 in /usr/local/lib/python3.11/dist-packages (from torch) (12.4.127)\n",
            "Requirement already satisfied: nvidia-cuda-runtime-cu12==12.4.127 in /usr/local/lib/python3.11/dist-packages (from torch) (12.4.127)\n",
            "Requirement already satisfied: nvidia-cuda-cupti-cu12==12.4.127 in /usr/local/lib/python3.11/dist-packages (from torch) (12.4.127)\n",
            "Requirement already satisfied: nvidia-cudnn-cu12==9.1.0.70 in /usr/local/lib/python3.11/dist-packages (from torch) (9.1.0.70)\n",
            "Requirement already satisfied: nvidia-cublas-cu12==12.4.5.8 in /usr/local/lib/python3.11/dist-packages (from torch) (12.4.5.8)\n",
            "Requirement already satisfied: nvidia-cufft-cu12==11.2.1.3 in /usr/local/lib/python3.11/dist-packages (from torch) (11.2.1.3)\n",
            "Requirement already satisfied: nvidia-curand-cu12==10.3.5.147 in /usr/local/lib/python3.11/dist-packages (from torch) (10.3.5.147)\n",
            "Requirement already satisfied: nvidia-cusolver-cu12==11.6.1.9 in /usr/local/lib/python3.11/dist-packages (from torch) (11.6.1.9)\n",
            "Requirement already satisfied: nvidia-cusparse-cu12==12.3.1.170 in /usr/local/lib/python3.11/dist-packages (from torch) (12.3.1.170)\n",
            "Requirement already satisfied: nvidia-nccl-cu12==2.21.5 in /usr/local/lib/python3.11/dist-packages (from torch) (2.21.5)\n",
            "Requirement already satisfied: nvidia-nvtx-cu12==12.4.127 in /usr/local/lib/python3.11/dist-packages (from torch) (12.4.127)\n",
            "Requirement already satisfied: nvidia-nvjitlink-cu12==12.4.127 in /usr/local/lib/python3.11/dist-packages (from torch) (12.4.127)\n",
            "Requirement already satisfied: triton==3.1.0 in /usr/local/lib/python3.11/dist-packages (from torch) (3.1.0)\n",
            "Requirement already satisfied: sympy==1.13.1 in /usr/local/lib/python3.11/dist-packages (from torch) (1.13.1)\n",
            "Requirement already satisfied: mpmath<1.4,>=1.1.0 in /usr/local/lib/python3.11/dist-packages (from sympy==1.13.1->torch) (1.3.0)\n",
            "Requirement already satisfied: numpy in /usr/local/lib/python3.11/dist-packages (from torchvision) (1.26.4)\n",
            "Requirement already satisfied: pillow!=8.3.*,>=5.3.0 in /usr/local/lib/python3.11/dist-packages (from torchvision) (11.1.0)\n",
            "Requirement already satisfied: MarkupSafe>=2.0 in /usr/local/lib/python3.11/dist-packages (from jinja2->torch) (3.0.2)\n"
          ]
        }
      ],
      "source": [
        "!pip install torch torchvision torchaudio"
      ]
    },
    {
      "cell_type": "code",
      "source": [
        "!pip install pycocotools"
      ],
      "metadata": {
        "colab": {
          "base_uri": "https://localhost:8080/"
        },
        "id": "L85EG1R6_o_L",
        "outputId": "46832d0d-ec6e-4c90-ea89-0245d5e5214d"
      },
      "execution_count": null,
      "outputs": [
        {
          "output_type": "stream",
          "name": "stdout",
          "text": [
            "Requirement already satisfied: pycocotools in /usr/local/lib/python3.11/dist-packages (2.0.8)\n",
            "Requirement already satisfied: matplotlib>=2.1.0 in /usr/local/lib/python3.11/dist-packages (from pycocotools) (3.10.0)\n",
            "Requirement already satisfied: numpy in /usr/local/lib/python3.11/dist-packages (from pycocotools) (1.26.4)\n",
            "Requirement already satisfied: contourpy>=1.0.1 in /usr/local/lib/python3.11/dist-packages (from matplotlib>=2.1.0->pycocotools) (1.3.1)\n",
            "Requirement already satisfied: cycler>=0.10 in /usr/local/lib/python3.11/dist-packages (from matplotlib>=2.1.0->pycocotools) (0.12.1)\n",
            "Requirement already satisfied: fonttools>=4.22.0 in /usr/local/lib/python3.11/dist-packages (from matplotlib>=2.1.0->pycocotools) (4.56.0)\n",
            "Requirement already satisfied: kiwisolver>=1.3.1 in /usr/local/lib/python3.11/dist-packages (from matplotlib>=2.1.0->pycocotools) (1.4.8)\n",
            "Requirement already satisfied: packaging>=20.0 in /usr/local/lib/python3.11/dist-packages (from matplotlib>=2.1.0->pycocotools) (24.2)\n",
            "Requirement already satisfied: pillow>=8 in /usr/local/lib/python3.11/dist-packages (from matplotlib>=2.1.0->pycocotools) (11.1.0)\n",
            "Requirement already satisfied: pyparsing>=2.3.1 in /usr/local/lib/python3.11/dist-packages (from matplotlib>=2.1.0->pycocotools) (3.2.1)\n",
            "Requirement already satisfied: python-dateutil>=2.7 in /usr/local/lib/python3.11/dist-packages (from matplotlib>=2.1.0->pycocotools) (2.8.2)\n",
            "Requirement already satisfied: six>=1.5 in /usr/local/lib/python3.11/dist-packages (from python-dateutil>=2.7->matplotlib>=2.1.0->pycocotools) (1.17.0)\n"
          ]
        }
      ]
    },
    {
      "cell_type": "code",
      "source": [
        "import torch\n",
        "import torchvision\n",
        "from torch.utils.data import DataLoader\n",
        "from torchvision.models.detection import FasterRCNN\n",
        "from torchvision.models.detection.faster_rcnn import FastRCNNPredictor\n",
        "from torchvision.datasets import CocoDetection\n",
        "from torchvision.transforms import functional as F\n",
        "import matplotlib.pyplot as plt\n",
        "from PIL import Image\n",
        "import time\n",
        "import pandas as pd"
      ],
      "metadata": {
        "id": "t36AiUrQ_-tv"
      },
      "execution_count": null,
      "outputs": []
    },
    {
      "cell_type": "code",
      "source": [
        "from google.colab import drive\n",
        "drive.mount('/content/drive')"
      ],
      "metadata": {
        "colab": {
          "base_uri": "https://localhost:8080/"
        },
        "id": "-y3xvGi9C7yn",
        "outputId": "1a8c0407-635f-4086-9be6-9f39ac6dcbe0"
      },
      "execution_count": null,
      "outputs": [
        {
          "output_type": "stream",
          "name": "stdout",
          "text": [
            "Mounted at /content/drive\n"
          ]
        }
      ]
    },
    {
      "cell_type": "code",
      "source": [
        "# Define transformations\n",
        "class CocoTransform:\n",
        "    def __call__(self, image, target):\n",
        "        image = F.to_tensor(image)  # Convert PIL image to tensor\n",
        "        return image, target"
      ],
      "metadata": {
        "id": "zlU7fVZ9AYfM"
      },
      "execution_count": null,
      "outputs": []
    },
    {
      "cell_type": "code",
      "source": [
        "# Dataset class\n",
        "def get_coco_dataset(img_dir, ann_file):\n",
        "    return CocoDetection(\n",
        "        root=img_dir,\n",
        "        annFile=ann_file,\n",
        "        transforms=CocoTransform()\n",
        "    )\n",
        "\n",
        "# Load datasets\n",
        "train_dataset = get_coco_dataset(\n",
        "    img_dir=\"/content/drive/MyDrive/DSGP/Data/train\",\n",
        "    ann_file=\"/content/drive/MyDrive/DSGP/Data/train/annotations/annotations.json\"\n",
        ")\n",
        "\n",
        "\n",
        "val_dataset = get_coco_dataset(\n",
        "    img_dir=\"/content/drive/MyDrive/DSGP/Data/valid\",\n",
        "    ann_file=\"/content/drive/MyDrive/DSGP/Data/valid/annotations/annotations.json\"\n",
        ")\n",
        "\n",
        "\n",
        "# DataLoader\n",
        "train_loader = DataLoader(train_dataset, batch_size=4, shuffle=True, collate_fn=lambda x: tuple(zip(*x)))\n",
        "val_loader = DataLoader(val_dataset, batch_size=4, shuffle=False, collate_fn=lambda x: tuple(zip(*x)))"
      ],
      "metadata": {
        "colab": {
          "base_uri": "https://localhost:8080/"
        },
        "id": "T8OqoH0dAmk8",
        "outputId": "29ff5542-9764-4b35-85e9-a23282fbd725"
      },
      "execution_count": null,
      "outputs": [
        {
          "output_type": "stream",
          "name": "stdout",
          "text": [
            "loading annotations into memory...\n",
            "Done (t=0.06s)\n",
            "creating index...\n",
            "index created!\n",
            "loading annotations into memory...\n",
            "Done (t=0.00s)\n",
            "creating index...\n",
            "index created!\n"
          ]
        }
      ]
    },
    {
      "cell_type": "code",
      "source": [
        "# Load Faster R-CNN with ResNet-50 backbone\n",
        "def get_model(num_classes):\n",
        "    # Load pre-trained Faster R-CNN\n",
        "    model = torchvision.models.detection.fasterrcnn_resnet50_fpn(pretrained=True)\n",
        "\n",
        "    # Get the number of input features for the classifier\n",
        "    in_features = model.roi_heads.box_predictor.cls_score.in_features\n",
        "\n",
        "    # Replace the pre-trained head with a new one\n",
        "    model.roi_heads.box_predictor = FastRCNNPredictor(in_features, num_classes)\n",
        "    return model"
      ],
      "metadata": {
        "id": "sHq0m7DW9eVK"
      },
      "execution_count": null,
      "outputs": []
    },
    {
      "cell_type": "code",
      "source": [
        "# Initialize the model\n",
        "num_classes = 2 # Background + Bird\n",
        "model = get_model(num_classes)"
      ],
      "metadata": {
        "colab": {
          "base_uri": "https://localhost:8080/"
        },
        "id": "jggnNIdNCP2c",
        "outputId": "b9f94d31-2a89-40e4-f862-d9dbb13e27ff"
      },
      "execution_count": null,
      "outputs": [
        {
          "output_type": "stream",
          "name": "stderr",
          "text": [
            "/usr/local/lib/python3.11/dist-packages/torchvision/models/_utils.py:208: UserWarning: The parameter 'pretrained' is deprecated since 0.13 and may be removed in the future, please use 'weights' instead.\n",
            "  warnings.warn(\n",
            "/usr/local/lib/python3.11/dist-packages/torchvision/models/_utils.py:223: UserWarning: Arguments other than a weight enum or `None` for 'weights' are deprecated since 0.13 and may be removed in the future. The current behavior is equivalent to passing `weights=FasterRCNN_ResNet50_FPN_Weights.COCO_V1`. You can also use `weights=FasterRCNN_ResNet50_FPN_Weights.DEFAULT` to get the most up-to-date weights.\n",
            "  warnings.warn(msg)\n",
            "Downloading: \"https://download.pytorch.org/models/fasterrcnn_resnet50_fpn_coco-258fb6c6.pth\" to /root/.cache/torch/hub/checkpoints/fasterrcnn_resnet50_fpn_coco-258fb6c6.pth\n",
            "100%|██████████| 160M/160M [00:01<00:00, 118MB/s]\n"
          ]
        }
      ]
    },
    {
      "cell_type": "code",
      "source": [
        "# Move model to GPU if available\n",
        "device = torch.device('cuda') if torch.cuda.is_available() else torch.device('cpu')\n",
        "model.to(device)\n",
        "\n",
        "# Define optimizer and learning rate scheduler\n",
        "params = [p for p in model.parameters() if p.requires_grad]\n",
        "optimizer = torch.optim.SGD(params, lr=0.005, momentum=0.9, weight_decay=0.0005)\n",
        "lr_scheduler = torch.optim.lr_scheduler.StepLR(optimizer, step_size=3, gamma=0.1)"
      ],
      "metadata": {
        "id": "zCy6HFCACW3l"
      },
      "execution_count": null,
      "outputs": []
    },
    {
      "cell_type": "code",
      "source": [
        "def train_one_epoch(model, optimizer, data_loader, device, epoch):\n",
        "    model.train()\n",
        "    for images, targets in data_loader:\n",
        "        # Move images to the device\n",
        "        images = [img.to(device) for img in images]\n",
        "\n",
        "        # Validate and process targets\n",
        "        processed_targets = []\n",
        "        valid_images = []\n",
        "        for i, target in enumerate(targets):\n",
        "            boxes = []\n",
        "            labels = []\n",
        "            for obj in target:\n",
        "                # Extract bbox\n",
        "                bbox = obj[\"bbox\"]  # Format: [x, y, width, height]\n",
        "                x, y, w, h = bbox\n",
        "\n",
        "                # Ensure the width and height are positive\n",
        "                if w > 0 and h > 0:\n",
        "                    boxes.append([x, y, x + w, y + h])  # Convert to [x_min, y_min, x_max, y_max]\n",
        "                    labels.append(obj[\"category_id\"])\n",
        "\n",
        "            # Only process if there are valid boxes\n",
        "            if boxes:\n",
        "                processed_target = {\n",
        "                    \"boxes\": torch.tensor(boxes, dtype=torch.float32).to(device),\n",
        "                    \"labels\": torch.tensor(labels, dtype=torch.int64).to(device),\n",
        "                }\n",
        "                processed_targets.append(processed_target)\n",
        "                valid_images.append(images[i])  # Add only valid images\n",
        "\n",
        "        # Skip iteration if no valid targets\n",
        "        if not processed_targets:\n",
        "            continue\n",
        "\n",
        "        # Ensure images and targets are aligned\n",
        "        images = valid_images\n",
        "\n",
        "        # Forward pass\n",
        "        loss_dict = model(images, processed_targets)\n",
        "        losses = sum(loss for loss in loss_dict.values())\n",
        "\n",
        "        # Backpropagation\n",
        "        optimizer.zero_grad()\n",
        "        losses.backward()\n",
        "        optimizer.step()\n",
        "\n",
        "    print(f\"Epoch [{epoch}] Loss: {losses.item():.4f}\")"
      ],
      "metadata": {
        "id": "dKYspmuxC8G2"
      },
      "execution_count": null,
      "outputs": []
    },
    {
      "cell_type": "code",
      "source": [
        "torch.backends.cudnn.benchmark = True"
      ],
      "metadata": {
        "id": "mMFuVYD5IzEq"
      },
      "execution_count": null,
      "outputs": []
    },
    {
      "cell_type": "code",
      "source": [
        "import gc\n",
        "\n",
        "gc.collect()\n",
        "torch.cuda.empty_cache()"
      ],
      "metadata": {
        "id": "uHtvVQkCJ5Uv"
      },
      "execution_count": null,
      "outputs": []
    },
    {
      "cell_type": "code",
      "source": [
        "!nvidia-smi"
      ],
      "metadata": {
        "colab": {
          "base_uri": "https://localhost:8080/"
        },
        "id": "WyRF7xk-Jg1a",
        "outputId": "a9324486-bdd7-4d49-9c18-70dd8731f0a8",
        "collapsed": true
      },
      "execution_count": null,
      "outputs": [
        {
          "output_type": "stream",
          "name": "stdout",
          "text": [
            "Sat Mar  8 09:46:28 2025       \n",
            "+-----------------------------------------------------------------------------------------+\n",
            "| NVIDIA-SMI 550.54.15              Driver Version: 550.54.15      CUDA Version: 12.4     |\n",
            "|-----------------------------------------+------------------------+----------------------+\n",
            "| GPU  Name                 Persistence-M | Bus-Id          Disp.A | Volatile Uncorr. ECC |\n",
            "| Fan  Temp   Perf          Pwr:Usage/Cap |           Memory-Usage | GPU-Util  Compute M. |\n",
            "|                                         |                        |               MIG M. |\n",
            "|=========================================+========================+======================|\n",
            "|   0  Tesla T4                       Off |   00000000:00:04.0 Off |                    0 |\n",
            "| N/A   75C    P0             32W /   70W |   15090MiB /  15360MiB |      0%      Default |\n",
            "|                                         |                        |                  N/A |\n",
            "+-----------------------------------------+------------------------+----------------------+\n",
            "                                                                                         \n",
            "+-----------------------------------------------------------------------------------------+\n",
            "| Processes:                                                                              |\n",
            "|  GPU   GI   CI        PID   Type   Process name                              GPU Memory |\n",
            "|        ID   ID                                                               Usage      |\n",
            "|=========================================================================================|\n",
            "+-----------------------------------------------------------------------------------------+\n"
          ]
        }
      ]
    },
    {
      "cell_type": "code",
      "source": [
        "# Training loop\n",
        "num_epochs = 50\n",
        "for epoch in range(num_epochs):\n",
        "    start_time = time.time() # Track time for each epoch\n",
        "\n",
        "    # Train for one epoch\n",
        "    train_one_epoch(model, optimizer, train_loader, device, epoch)\n",
        "    lr_scheduler.step()\n",
        "\n",
        "    # Save the model's state after every epoch\n",
        "    model_path = f\"/content/drive/MyDrive/DSGP/Model2/FasterRCNN/fasterrcnn_resnet50_epoch_{epoch + 1}.pth\"\n",
        "    torch.save(model.state_dict(), model_path)\n",
        "\n",
        "    end_time = time.time()\n",
        "    print(f\"Model saved: {model_path} | Epoch {epoch + 1} completed in {end_time - start_time:.2f} seconds\")\n"
      ],
      "metadata": {
        "colab": {
          "base_uri": "https://localhost:8080/"
        },
        "id": "PpseZqGWDLkX",
        "outputId": "c2a380f6-0d4e-4574-af9b-0219aac54139",
        "collapsed": true
      },
      "execution_count": null,
      "outputs": [
        {
          "output_type": "stream",
          "name": "stdout",
          "text": [
            "Epoch [0] Loss: 0.3680\n",
            "Model saved: /content/drive/MyDrive/DSGP/Model2/FasterRCNN/fasterrcnn_resnet50_epoch_1.pth | Epoch 1 completed in 508.82 seconds\n",
            "Epoch [1] Loss: 0.2323\n",
            "Model saved: /content/drive/MyDrive/DSGP/Model2/FasterRCNN/fasterrcnn_resnet50_epoch_2.pth | Epoch 2 completed in 202.22 seconds\n",
            "Epoch [2] Loss: 0.3074\n",
            "Model saved: /content/drive/MyDrive/DSGP/Model2/FasterRCNN/fasterrcnn_resnet50_epoch_3.pth | Epoch 3 completed in 194.26 seconds\n",
            "Epoch [3] Loss: 0.1184\n",
            "Model saved: /content/drive/MyDrive/DSGP/Model2/FasterRCNN/fasterrcnn_resnet50_epoch_4.pth | Epoch 4 completed in 194.39 seconds\n",
            "Epoch [4] Loss: 0.2432\n",
            "Model saved: /content/drive/MyDrive/DSGP/Model2/FasterRCNN/fasterrcnn_resnet50_epoch_5.pth | Epoch 5 completed in 194.59 seconds\n",
            "Epoch [5] Loss: 0.1775\n",
            "Model saved: /content/drive/MyDrive/DSGP/Model2/FasterRCNN/fasterrcnn_resnet50_epoch_6.pth | Epoch 6 completed in 194.68 seconds\n",
            "Epoch [6] Loss: 0.2030\n",
            "Model saved: /content/drive/MyDrive/DSGP/Model2/FasterRCNN/fasterrcnn_resnet50_epoch_7.pth | Epoch 7 completed in 194.85 seconds\n",
            "Epoch [7] Loss: 0.2174\n",
            "Model saved: /content/drive/MyDrive/DSGP/Model2/FasterRCNN/fasterrcnn_resnet50_epoch_8.pth | Epoch 8 completed in 194.79 seconds\n",
            "Epoch [8] Loss: 0.2220\n",
            "Model saved: /content/drive/MyDrive/DSGP/Model2/FasterRCNN/fasterrcnn_resnet50_epoch_9.pth | Epoch 9 completed in 194.60 seconds\n",
            "Epoch [9] Loss: 0.1267\n",
            "Model saved: /content/drive/MyDrive/DSGP/Model2/FasterRCNN/fasterrcnn_resnet50_epoch_10.pth | Epoch 10 completed in 194.72 seconds\n",
            "Epoch [10] Loss: 0.1244\n",
            "Model saved: /content/drive/MyDrive/DSGP/Model2/FasterRCNN/fasterrcnn_resnet50_epoch_11.pth | Epoch 11 completed in 194.65 seconds\n",
            "Epoch [11] Loss: 0.1794\n",
            "Model saved: /content/drive/MyDrive/DSGP/Model2/FasterRCNN/fasterrcnn_resnet50_epoch_12.pth | Epoch 12 completed in 194.49 seconds\n",
            "Epoch [12] Loss: 0.1575\n",
            "Model saved: /content/drive/MyDrive/DSGP/Model2/FasterRCNN/fasterrcnn_resnet50_epoch_13.pth | Epoch 13 completed in 194.48 seconds\n",
            "Epoch [13] Loss: 0.1766\n",
            "Model saved: /content/drive/MyDrive/DSGP/Model2/FasterRCNN/fasterrcnn_resnet50_epoch_14.pth | Epoch 14 completed in 194.67 seconds\n",
            "Epoch [14] Loss: 0.4487\n",
            "Model saved: /content/drive/MyDrive/DSGP/Model2/FasterRCNN/fasterrcnn_resnet50_epoch_15.pth | Epoch 15 completed in 194.75 seconds\n",
            "Epoch [15] Loss: 0.1358\n",
            "Model saved: /content/drive/MyDrive/DSGP/Model2/FasterRCNN/fasterrcnn_resnet50_epoch_16.pth | Epoch 16 completed in 194.59 seconds\n",
            "Epoch [16] Loss: 0.2954\n",
            "Model saved: /content/drive/MyDrive/DSGP/Model2/FasterRCNN/fasterrcnn_resnet50_epoch_17.pth | Epoch 17 completed in 195.34 seconds\n",
            "Epoch [17] Loss: 0.2173\n",
            "Model saved: /content/drive/MyDrive/DSGP/Model2/FasterRCNN/fasterrcnn_resnet50_epoch_18.pth | Epoch 18 completed in 194.55 seconds\n",
            "Epoch [18] Loss: 0.1602\n",
            "Model saved: /content/drive/MyDrive/DSGP/Model2/FasterRCNN/fasterrcnn_resnet50_epoch_19.pth | Epoch 19 completed in 194.90 seconds\n",
            "Epoch [19] Loss: 0.4232\n",
            "Model saved: /content/drive/MyDrive/DSGP/Model2/FasterRCNN/fasterrcnn_resnet50_epoch_20.pth | Epoch 20 completed in 194.95 seconds\n",
            "Epoch [20] Loss: 0.5089\n",
            "Model saved: /content/drive/MyDrive/DSGP/Model2/FasterRCNN/fasterrcnn_resnet50_epoch_21.pth | Epoch 21 completed in 207.80 seconds\n",
            "Epoch [21] Loss: 0.2331\n",
            "Model saved: /content/drive/MyDrive/DSGP/Model2/FasterRCNN/fasterrcnn_resnet50_epoch_22.pth | Epoch 22 completed in 194.85 seconds\n",
            "Epoch [22] Loss: 0.2435\n",
            "Model saved: /content/drive/MyDrive/DSGP/Model2/FasterRCNN/fasterrcnn_resnet50_epoch_23.pth | Epoch 23 completed in 195.00 seconds\n",
            "Epoch [23] Loss: 0.1468\n",
            "Model saved: /content/drive/MyDrive/DSGP/Model2/FasterRCNN/fasterrcnn_resnet50_epoch_24.pth | Epoch 24 completed in 195.15 seconds\n",
            "Epoch [24] Loss: 0.1775\n",
            "Model saved: /content/drive/MyDrive/DSGP/Model2/FasterRCNN/fasterrcnn_resnet50_epoch_25.pth | Epoch 25 completed in 194.70 seconds\n",
            "Epoch [25] Loss: 0.1305\n",
            "Model saved: /content/drive/MyDrive/DSGP/Model2/FasterRCNN/fasterrcnn_resnet50_epoch_26.pth | Epoch 26 completed in 195.00 seconds\n",
            "Epoch [26] Loss: 0.2431\n",
            "Model saved: /content/drive/MyDrive/DSGP/Model2/FasterRCNN/fasterrcnn_resnet50_epoch_27.pth | Epoch 27 completed in 196.15 seconds\n",
            "Epoch [27] Loss: 0.2420\n",
            "Model saved: /content/drive/MyDrive/DSGP/Model2/FasterRCNN/fasterrcnn_resnet50_epoch_28.pth | Epoch 28 completed in 196.47 seconds\n",
            "Epoch [28] Loss: 0.3400\n",
            "Model saved: /content/drive/MyDrive/DSGP/Model2/FasterRCNN/fasterrcnn_resnet50_epoch_29.pth | Epoch 29 completed in 195.30 seconds\n",
            "Epoch [29] Loss: 0.1940\n",
            "Model saved: /content/drive/MyDrive/DSGP/Model2/FasterRCNN/fasterrcnn_resnet50_epoch_30.pth | Epoch 30 completed in 197.94 seconds\n",
            "Epoch [30] Loss: 0.3743\n",
            "Model saved: /content/drive/MyDrive/DSGP/Model2/FasterRCNN/fasterrcnn_resnet50_epoch_31.pth | Epoch 31 completed in 196.07 seconds\n",
            "Epoch [31] Loss: 0.2572\n",
            "Model saved: /content/drive/MyDrive/DSGP/Model2/FasterRCNN/fasterrcnn_resnet50_epoch_32.pth | Epoch 32 completed in 196.58 seconds\n",
            "Epoch [32] Loss: 0.1015\n",
            "Model saved: /content/drive/MyDrive/DSGP/Model2/FasterRCNN/fasterrcnn_resnet50_epoch_33.pth | Epoch 33 completed in 194.67 seconds\n",
            "Epoch [33] Loss: 0.1678\n",
            "Model saved: /content/drive/MyDrive/DSGP/Model2/FasterRCNN/fasterrcnn_resnet50_epoch_34.pth | Epoch 34 completed in 194.64 seconds\n",
            "Epoch [34] Loss: 0.2287\n",
            "Model saved: /content/drive/MyDrive/DSGP/Model2/FasterRCNN/fasterrcnn_resnet50_epoch_35.pth | Epoch 35 completed in 195.22 seconds\n",
            "Epoch [35] Loss: 0.1371\n",
            "Model saved: /content/drive/MyDrive/DSGP/Model2/FasterRCNN/fasterrcnn_resnet50_epoch_36.pth | Epoch 36 completed in 194.66 seconds\n",
            "Epoch [36] Loss: 0.1924\n",
            "Model saved: /content/drive/MyDrive/DSGP/Model2/FasterRCNN/fasterrcnn_resnet50_epoch_37.pth | Epoch 37 completed in 194.81 seconds\n",
            "Epoch [37] Loss: 0.2956\n",
            "Model saved: /content/drive/MyDrive/DSGP/Model2/FasterRCNN/fasterrcnn_resnet50_epoch_38.pth | Epoch 38 completed in 195.21 seconds\n",
            "Epoch [38] Loss: 0.1538\n",
            "Model saved: /content/drive/MyDrive/DSGP/Model2/FasterRCNN/fasterrcnn_resnet50_epoch_39.pth | Epoch 39 completed in 213.30 seconds\n",
            "Epoch [39] Loss: 0.1902\n",
            "Model saved: /content/drive/MyDrive/DSGP/Model2/FasterRCNN/fasterrcnn_resnet50_epoch_40.pth | Epoch 40 completed in 196.23 seconds\n",
            "Epoch [40] Loss: 0.1755\n",
            "Model saved: /content/drive/MyDrive/DSGP/Model2/FasterRCNN/fasterrcnn_resnet50_epoch_41.pth | Epoch 41 completed in 196.93 seconds\n",
            "Epoch [41] Loss: 0.1387\n",
            "Model saved: /content/drive/MyDrive/DSGP/Model2/FasterRCNN/fasterrcnn_resnet50_epoch_42.pth | Epoch 42 completed in 196.19 seconds\n",
            "Epoch [42] Loss: 0.1128\n",
            "Model saved: /content/drive/MyDrive/DSGP/Model2/FasterRCNN/fasterrcnn_resnet50_epoch_43.pth | Epoch 43 completed in 196.76 seconds\n",
            "Epoch [43] Loss: 0.3929\n",
            "Model saved: /content/drive/MyDrive/DSGP/Model2/FasterRCNN/fasterrcnn_resnet50_epoch_44.pth | Epoch 44 completed in 195.00 seconds\n",
            "Epoch [44] Loss: 0.2028\n",
            "Model saved: /content/drive/MyDrive/DSGP/Model2/FasterRCNN/fasterrcnn_resnet50_epoch_45.pth | Epoch 45 completed in 194.84 seconds\n",
            "Epoch [45] Loss: 0.1581\n",
            "Model saved: /content/drive/MyDrive/DSGP/Model2/FasterRCNN/fasterrcnn_resnet50_epoch_46.pth | Epoch 46 completed in 194.65 seconds\n",
            "Epoch [46] Loss: 0.2405\n",
            "Model saved: /content/drive/MyDrive/DSGP/Model2/FasterRCNN/fasterrcnn_resnet50_epoch_47.pth | Epoch 47 completed in 194.92 seconds\n",
            "Epoch [47] Loss: 0.2098\n",
            "Model saved: /content/drive/MyDrive/DSGP/Model2/FasterRCNN/fasterrcnn_resnet50_epoch_48.pth | Epoch 48 completed in 194.74 seconds\n",
            "Epoch [48] Loss: 0.1930\n",
            "Model saved: /content/drive/MyDrive/DSGP/Model2/FasterRCNN/fasterrcnn_resnet50_epoch_49.pth | Epoch 49 completed in 195.28 seconds\n",
            "Epoch [49] Loss: 0.2127\n",
            "Model saved: /content/drive/MyDrive/DSGP/Model2/FasterRCNN/fasterrcnn_resnet50_epoch_50.pth | Epoch 50 completed in 194.95 seconds\n"
          ]
        }
      ]
    },
    {
      "cell_type": "markdown",
      "source": [
        "Evaluate Model"
      ],
      "metadata": {
        "id": "_Agx4gOOeS5s"
      }
    },
    {
      "cell_type": "code",
      "source": [
        "from sklearn.metrics import precision_recall_curve, average_precision_score, f1_score\n",
        "import numpy as np\n",
        "from torchvision.ops import box_iou\n",
        "import os\n",
        "import json"
      ],
      "metadata": {
        "id": "6xczuY8Lfr4N"
      },
      "execution_count": null,
      "outputs": []
    },
    {
      "cell_type": "code",
      "source": [
        "# Load test annotations\n",
        "with open(\"/content/drive/MyDrive/DSGP/Data/test/annotations/annotations.json\", \"r\") as f:\n",
        "  test_ann = json.load(f)\n",
        "\n",
        "# Build a dictionary mapping image_id -> filename\n",
        "image_id_to_filename = {img[\"id\"]: img[\"file_name\"] for img in test_ann[\"images\"]}\n",
        "\n",
        "# Build a dictionary mapping image_id → ground truth boxes and labels\n",
        "ground_truth_data = {}\n",
        "for ann in test_ann[\"annotations\"]:\n",
        "    image_id = ann[\"image_id\"]\n",
        "    bbox = ann[\"bbox\"]\n",
        "\n",
        "    # Convert to [x_min, y_min, x_max, y_max]\n",
        "    x_min, y_min, width, height = bbox\n",
        "    x_max, y_max = x_min + width, y_min + height\n",
        "    category_id = ann[\"category_id\"]\n",
        "\n",
        "    if image_id_to_filename[image_id] not in ground_truth_data:\n",
        "        ground_truth_data[image_id_to_filename[image_id]] = []\n",
        "\n",
        "    ground_truth_data[image_id_to_filename[image_id]].append([x_min, y_min, x_max, y_max, category_id])"
      ],
      "metadata": {
        "id": "8JnlWjTaP3aa"
      },
      "execution_count": null,
      "outputs": []
    },
    {
      "cell_type": "code",
      "source": [
        "# Load the trained model\n",
        "model = get_model(num_classes)\n",
        "model.load_state_dict(torch.load(\"/content/drive/MyDrive/DSGP/Model2/FasterRCNN/fasterrcnn_resnet50_epoch_50.pth\"), strict=False)\n",
        "model.to(device)\n",
        "model.eval()"
      ],
      "metadata": {
        "colab": {
          "base_uri": "https://localhost:8080/"
        },
        "id": "n78GjJJEhoMv",
        "outputId": "0f6fe953-0057-41fc-b1db-b703fbcd63f1"
      },
      "execution_count": null,
      "outputs": [
        {
          "output_type": "stream",
          "name": "stderr",
          "text": [
            "/usr/local/lib/python3.11/dist-packages/torchvision/models/_utils.py:208: UserWarning: The parameter 'pretrained' is deprecated since 0.13 and may be removed in the future, please use 'weights' instead.\n",
            "  warnings.warn(\n",
            "/usr/local/lib/python3.11/dist-packages/torchvision/models/_utils.py:223: UserWarning: Arguments other than a weight enum or `None` for 'weights' are deprecated since 0.13 and may be removed in the future. The current behavior is equivalent to passing `weights=FasterRCNN_ResNet50_FPN_Weights.COCO_V1`. You can also use `weights=FasterRCNN_ResNet50_FPN_Weights.DEFAULT` to get the most up-to-date weights.\n",
            "  warnings.warn(msg)\n",
            "<ipython-input-23-6815ea6875cf>:3: FutureWarning: You are using `torch.load` with `weights_only=False` (the current default value), which uses the default pickle module implicitly. It is possible to construct malicious pickle data which will execute arbitrary code during unpickling (See https://github.com/pytorch/pytorch/blob/main/SECURITY.md#untrusted-models for more details). In a future release, the default value for `weights_only` will be flipped to `True`. This limits the functions that could be executed during unpickling. Arbitrary objects will no longer be allowed to be loaded via this mode unless they are explicitly allowlisted by the user via `torch.serialization.add_safe_globals`. We recommend you start setting `weights_only=True` for any use case where you don't have full control of the loaded file. Please open an issue on GitHub for any issues related to this experimental feature.\n",
            "  model.load_state_dict(torch.load(\"/content/drive/MyDrive/DSGP/Model2/FasterRCNN/fasterrcnn_resnet50_epoch_50.pth\"), strict=False)\n"
          ]
        },
        {
          "output_type": "execute_result",
          "data": {
            "text/plain": [
              "FasterRCNN(\n",
              "  (transform): GeneralizedRCNNTransform(\n",
              "      Normalize(mean=[0.485, 0.456, 0.406], std=[0.229, 0.224, 0.225])\n",
              "      Resize(min_size=(800,), max_size=1333, mode='bilinear')\n",
              "  )\n",
              "  (backbone): BackboneWithFPN(\n",
              "    (body): IntermediateLayerGetter(\n",
              "      (conv1): Conv2d(3, 64, kernel_size=(7, 7), stride=(2, 2), padding=(3, 3), bias=False)\n",
              "      (bn1): FrozenBatchNorm2d(64, eps=0.0)\n",
              "      (relu): ReLU(inplace=True)\n",
              "      (maxpool): MaxPool2d(kernel_size=3, stride=2, padding=1, dilation=1, ceil_mode=False)\n",
              "      (layer1): Sequential(\n",
              "        (0): Bottleneck(\n",
              "          (conv1): Conv2d(64, 64, kernel_size=(1, 1), stride=(1, 1), bias=False)\n",
              "          (bn1): FrozenBatchNorm2d(64, eps=0.0)\n",
              "          (conv2): Conv2d(64, 64, kernel_size=(3, 3), stride=(1, 1), padding=(1, 1), bias=False)\n",
              "          (bn2): FrozenBatchNorm2d(64, eps=0.0)\n",
              "          (conv3): Conv2d(64, 256, kernel_size=(1, 1), stride=(1, 1), bias=False)\n",
              "          (bn3): FrozenBatchNorm2d(256, eps=0.0)\n",
              "          (relu): ReLU(inplace=True)\n",
              "          (downsample): Sequential(\n",
              "            (0): Conv2d(64, 256, kernel_size=(1, 1), stride=(1, 1), bias=False)\n",
              "            (1): FrozenBatchNorm2d(256, eps=0.0)\n",
              "          )\n",
              "        )\n",
              "        (1): Bottleneck(\n",
              "          (conv1): Conv2d(256, 64, kernel_size=(1, 1), stride=(1, 1), bias=False)\n",
              "          (bn1): FrozenBatchNorm2d(64, eps=0.0)\n",
              "          (conv2): Conv2d(64, 64, kernel_size=(3, 3), stride=(1, 1), padding=(1, 1), bias=False)\n",
              "          (bn2): FrozenBatchNorm2d(64, eps=0.0)\n",
              "          (conv3): Conv2d(64, 256, kernel_size=(1, 1), stride=(1, 1), bias=False)\n",
              "          (bn3): FrozenBatchNorm2d(256, eps=0.0)\n",
              "          (relu): ReLU(inplace=True)\n",
              "        )\n",
              "        (2): Bottleneck(\n",
              "          (conv1): Conv2d(256, 64, kernel_size=(1, 1), stride=(1, 1), bias=False)\n",
              "          (bn1): FrozenBatchNorm2d(64, eps=0.0)\n",
              "          (conv2): Conv2d(64, 64, kernel_size=(3, 3), stride=(1, 1), padding=(1, 1), bias=False)\n",
              "          (bn2): FrozenBatchNorm2d(64, eps=0.0)\n",
              "          (conv3): Conv2d(64, 256, kernel_size=(1, 1), stride=(1, 1), bias=False)\n",
              "          (bn3): FrozenBatchNorm2d(256, eps=0.0)\n",
              "          (relu): ReLU(inplace=True)\n",
              "        )\n",
              "      )\n",
              "      (layer2): Sequential(\n",
              "        (0): Bottleneck(\n",
              "          (conv1): Conv2d(256, 128, kernel_size=(1, 1), stride=(1, 1), bias=False)\n",
              "          (bn1): FrozenBatchNorm2d(128, eps=0.0)\n",
              "          (conv2): Conv2d(128, 128, kernel_size=(3, 3), stride=(2, 2), padding=(1, 1), bias=False)\n",
              "          (bn2): FrozenBatchNorm2d(128, eps=0.0)\n",
              "          (conv3): Conv2d(128, 512, kernel_size=(1, 1), stride=(1, 1), bias=False)\n",
              "          (bn3): FrozenBatchNorm2d(512, eps=0.0)\n",
              "          (relu): ReLU(inplace=True)\n",
              "          (downsample): Sequential(\n",
              "            (0): Conv2d(256, 512, kernel_size=(1, 1), stride=(2, 2), bias=False)\n",
              "            (1): FrozenBatchNorm2d(512, eps=0.0)\n",
              "          )\n",
              "        )\n",
              "        (1): Bottleneck(\n",
              "          (conv1): Conv2d(512, 128, kernel_size=(1, 1), stride=(1, 1), bias=False)\n",
              "          (bn1): FrozenBatchNorm2d(128, eps=0.0)\n",
              "          (conv2): Conv2d(128, 128, kernel_size=(3, 3), stride=(1, 1), padding=(1, 1), bias=False)\n",
              "          (bn2): FrozenBatchNorm2d(128, eps=0.0)\n",
              "          (conv3): Conv2d(128, 512, kernel_size=(1, 1), stride=(1, 1), bias=False)\n",
              "          (bn3): FrozenBatchNorm2d(512, eps=0.0)\n",
              "          (relu): ReLU(inplace=True)\n",
              "        )\n",
              "        (2): Bottleneck(\n",
              "          (conv1): Conv2d(512, 128, kernel_size=(1, 1), stride=(1, 1), bias=False)\n",
              "          (bn1): FrozenBatchNorm2d(128, eps=0.0)\n",
              "          (conv2): Conv2d(128, 128, kernel_size=(3, 3), stride=(1, 1), padding=(1, 1), bias=False)\n",
              "          (bn2): FrozenBatchNorm2d(128, eps=0.0)\n",
              "          (conv3): Conv2d(128, 512, kernel_size=(1, 1), stride=(1, 1), bias=False)\n",
              "          (bn3): FrozenBatchNorm2d(512, eps=0.0)\n",
              "          (relu): ReLU(inplace=True)\n",
              "        )\n",
              "        (3): Bottleneck(\n",
              "          (conv1): Conv2d(512, 128, kernel_size=(1, 1), stride=(1, 1), bias=False)\n",
              "          (bn1): FrozenBatchNorm2d(128, eps=0.0)\n",
              "          (conv2): Conv2d(128, 128, kernel_size=(3, 3), stride=(1, 1), padding=(1, 1), bias=False)\n",
              "          (bn2): FrozenBatchNorm2d(128, eps=0.0)\n",
              "          (conv3): Conv2d(128, 512, kernel_size=(1, 1), stride=(1, 1), bias=False)\n",
              "          (bn3): FrozenBatchNorm2d(512, eps=0.0)\n",
              "          (relu): ReLU(inplace=True)\n",
              "        )\n",
              "      )\n",
              "      (layer3): Sequential(\n",
              "        (0): Bottleneck(\n",
              "          (conv1): Conv2d(512, 256, kernel_size=(1, 1), stride=(1, 1), bias=False)\n",
              "          (bn1): FrozenBatchNorm2d(256, eps=0.0)\n",
              "          (conv2): Conv2d(256, 256, kernel_size=(3, 3), stride=(2, 2), padding=(1, 1), bias=False)\n",
              "          (bn2): FrozenBatchNorm2d(256, eps=0.0)\n",
              "          (conv3): Conv2d(256, 1024, kernel_size=(1, 1), stride=(1, 1), bias=False)\n",
              "          (bn3): FrozenBatchNorm2d(1024, eps=0.0)\n",
              "          (relu): ReLU(inplace=True)\n",
              "          (downsample): Sequential(\n",
              "            (0): Conv2d(512, 1024, kernel_size=(1, 1), stride=(2, 2), bias=False)\n",
              "            (1): FrozenBatchNorm2d(1024, eps=0.0)\n",
              "          )\n",
              "        )\n",
              "        (1): Bottleneck(\n",
              "          (conv1): Conv2d(1024, 256, kernel_size=(1, 1), stride=(1, 1), bias=False)\n",
              "          (bn1): FrozenBatchNorm2d(256, eps=0.0)\n",
              "          (conv2): Conv2d(256, 256, kernel_size=(3, 3), stride=(1, 1), padding=(1, 1), bias=False)\n",
              "          (bn2): FrozenBatchNorm2d(256, eps=0.0)\n",
              "          (conv3): Conv2d(256, 1024, kernel_size=(1, 1), stride=(1, 1), bias=False)\n",
              "          (bn3): FrozenBatchNorm2d(1024, eps=0.0)\n",
              "          (relu): ReLU(inplace=True)\n",
              "        )\n",
              "        (2): Bottleneck(\n",
              "          (conv1): Conv2d(1024, 256, kernel_size=(1, 1), stride=(1, 1), bias=False)\n",
              "          (bn1): FrozenBatchNorm2d(256, eps=0.0)\n",
              "          (conv2): Conv2d(256, 256, kernel_size=(3, 3), stride=(1, 1), padding=(1, 1), bias=False)\n",
              "          (bn2): FrozenBatchNorm2d(256, eps=0.0)\n",
              "          (conv3): Conv2d(256, 1024, kernel_size=(1, 1), stride=(1, 1), bias=False)\n",
              "          (bn3): FrozenBatchNorm2d(1024, eps=0.0)\n",
              "          (relu): ReLU(inplace=True)\n",
              "        )\n",
              "        (3): Bottleneck(\n",
              "          (conv1): Conv2d(1024, 256, kernel_size=(1, 1), stride=(1, 1), bias=False)\n",
              "          (bn1): FrozenBatchNorm2d(256, eps=0.0)\n",
              "          (conv2): Conv2d(256, 256, kernel_size=(3, 3), stride=(1, 1), padding=(1, 1), bias=False)\n",
              "          (bn2): FrozenBatchNorm2d(256, eps=0.0)\n",
              "          (conv3): Conv2d(256, 1024, kernel_size=(1, 1), stride=(1, 1), bias=False)\n",
              "          (bn3): FrozenBatchNorm2d(1024, eps=0.0)\n",
              "          (relu): ReLU(inplace=True)\n",
              "        )\n",
              "        (4): Bottleneck(\n",
              "          (conv1): Conv2d(1024, 256, kernel_size=(1, 1), stride=(1, 1), bias=False)\n",
              "          (bn1): FrozenBatchNorm2d(256, eps=0.0)\n",
              "          (conv2): Conv2d(256, 256, kernel_size=(3, 3), stride=(1, 1), padding=(1, 1), bias=False)\n",
              "          (bn2): FrozenBatchNorm2d(256, eps=0.0)\n",
              "          (conv3): Conv2d(256, 1024, kernel_size=(1, 1), stride=(1, 1), bias=False)\n",
              "          (bn3): FrozenBatchNorm2d(1024, eps=0.0)\n",
              "          (relu): ReLU(inplace=True)\n",
              "        )\n",
              "        (5): Bottleneck(\n",
              "          (conv1): Conv2d(1024, 256, kernel_size=(1, 1), stride=(1, 1), bias=False)\n",
              "          (bn1): FrozenBatchNorm2d(256, eps=0.0)\n",
              "          (conv2): Conv2d(256, 256, kernel_size=(3, 3), stride=(1, 1), padding=(1, 1), bias=False)\n",
              "          (bn2): FrozenBatchNorm2d(256, eps=0.0)\n",
              "          (conv3): Conv2d(256, 1024, kernel_size=(1, 1), stride=(1, 1), bias=False)\n",
              "          (bn3): FrozenBatchNorm2d(1024, eps=0.0)\n",
              "          (relu): ReLU(inplace=True)\n",
              "        )\n",
              "      )\n",
              "      (layer4): Sequential(\n",
              "        (0): Bottleneck(\n",
              "          (conv1): Conv2d(1024, 512, kernel_size=(1, 1), stride=(1, 1), bias=False)\n",
              "          (bn1): FrozenBatchNorm2d(512, eps=0.0)\n",
              "          (conv2): Conv2d(512, 512, kernel_size=(3, 3), stride=(2, 2), padding=(1, 1), bias=False)\n",
              "          (bn2): FrozenBatchNorm2d(512, eps=0.0)\n",
              "          (conv3): Conv2d(512, 2048, kernel_size=(1, 1), stride=(1, 1), bias=False)\n",
              "          (bn3): FrozenBatchNorm2d(2048, eps=0.0)\n",
              "          (relu): ReLU(inplace=True)\n",
              "          (downsample): Sequential(\n",
              "            (0): Conv2d(1024, 2048, kernel_size=(1, 1), stride=(2, 2), bias=False)\n",
              "            (1): FrozenBatchNorm2d(2048, eps=0.0)\n",
              "          )\n",
              "        )\n",
              "        (1): Bottleneck(\n",
              "          (conv1): Conv2d(2048, 512, kernel_size=(1, 1), stride=(1, 1), bias=False)\n",
              "          (bn1): FrozenBatchNorm2d(512, eps=0.0)\n",
              "          (conv2): Conv2d(512, 512, kernel_size=(3, 3), stride=(1, 1), padding=(1, 1), bias=False)\n",
              "          (bn2): FrozenBatchNorm2d(512, eps=0.0)\n",
              "          (conv3): Conv2d(512, 2048, kernel_size=(1, 1), stride=(1, 1), bias=False)\n",
              "          (bn3): FrozenBatchNorm2d(2048, eps=0.0)\n",
              "          (relu): ReLU(inplace=True)\n",
              "        )\n",
              "        (2): Bottleneck(\n",
              "          (conv1): Conv2d(2048, 512, kernel_size=(1, 1), stride=(1, 1), bias=False)\n",
              "          (bn1): FrozenBatchNorm2d(512, eps=0.0)\n",
              "          (conv2): Conv2d(512, 512, kernel_size=(3, 3), stride=(1, 1), padding=(1, 1), bias=False)\n",
              "          (bn2): FrozenBatchNorm2d(512, eps=0.0)\n",
              "          (conv3): Conv2d(512, 2048, kernel_size=(1, 1), stride=(1, 1), bias=False)\n",
              "          (bn3): FrozenBatchNorm2d(2048, eps=0.0)\n",
              "          (relu): ReLU(inplace=True)\n",
              "        )\n",
              "      )\n",
              "    )\n",
              "    (fpn): FeaturePyramidNetwork(\n",
              "      (inner_blocks): ModuleList(\n",
              "        (0): Conv2dNormActivation(\n",
              "          (0): Conv2d(256, 256, kernel_size=(1, 1), stride=(1, 1))\n",
              "        )\n",
              "        (1): Conv2dNormActivation(\n",
              "          (0): Conv2d(512, 256, kernel_size=(1, 1), stride=(1, 1))\n",
              "        )\n",
              "        (2): Conv2dNormActivation(\n",
              "          (0): Conv2d(1024, 256, kernel_size=(1, 1), stride=(1, 1))\n",
              "        )\n",
              "        (3): Conv2dNormActivation(\n",
              "          (0): Conv2d(2048, 256, kernel_size=(1, 1), stride=(1, 1))\n",
              "        )\n",
              "      )\n",
              "      (layer_blocks): ModuleList(\n",
              "        (0-3): 4 x Conv2dNormActivation(\n",
              "          (0): Conv2d(256, 256, kernel_size=(3, 3), stride=(1, 1), padding=(1, 1))\n",
              "        )\n",
              "      )\n",
              "      (extra_blocks): LastLevelMaxPool()\n",
              "    )\n",
              "  )\n",
              "  (rpn): RegionProposalNetwork(\n",
              "    (anchor_generator): AnchorGenerator()\n",
              "    (head): RPNHead(\n",
              "      (conv): Sequential(\n",
              "        (0): Conv2dNormActivation(\n",
              "          (0): Conv2d(256, 256, kernel_size=(3, 3), stride=(1, 1), padding=(1, 1))\n",
              "          (1): ReLU(inplace=True)\n",
              "        )\n",
              "      )\n",
              "      (cls_logits): Conv2d(256, 3, kernel_size=(1, 1), stride=(1, 1))\n",
              "      (bbox_pred): Conv2d(256, 12, kernel_size=(1, 1), stride=(1, 1))\n",
              "    )\n",
              "  )\n",
              "  (roi_heads): RoIHeads(\n",
              "    (box_roi_pool): MultiScaleRoIAlign(featmap_names=['0', '1', '2', '3'], output_size=(7, 7), sampling_ratio=2)\n",
              "    (box_head): TwoMLPHead(\n",
              "      (fc6): Linear(in_features=12544, out_features=1024, bias=True)\n",
              "      (fc7): Linear(in_features=1024, out_features=1024, bias=True)\n",
              "    )\n",
              "    (box_predictor): FastRCNNPredictor(\n",
              "      (cls_score): Linear(in_features=1024, out_features=2, bias=True)\n",
              "      (bbox_pred): Linear(in_features=1024, out_features=8, bias=True)\n",
              "    )\n",
              "  )\n",
              ")"
            ]
          },
          "metadata": {},
          "execution_count": 23
        }
      ]
    },
    {
      "cell_type": "code",
      "source": [
        "iou_threshold = 0.1\n",
        "\n",
        "# define Iou calculation function\n",
        "def compute_iou(box1, box2):\n",
        "  x1 = max(box1[0], box1[0])\n",
        "  y1 = max(box1[1], box1[1])\n",
        "  x2 = min(box2[2], box2[2])\n",
        "  y2 = min(box2[3], box2[3])\n",
        "\n",
        "  inter_area = max(0, x2-x1) * max(0, y2-y1) # Intersection are\n",
        "  box1_area = (box1[2] - box1[0]) * (box1[3] - box1[1]) # Box1 area\n",
        "  box2_area = (box2[2] - box2[0]) * (box2[3] - box2[1]) # Box2 area\n",
        "  union_area = box1_area + box2_area - inter_area # Union area\n",
        "\n",
        "  return inter_area / union_area if union_area > 0 else 0  # IoU Score"
      ],
      "metadata": {
        "id": "kfHS3e8LNGiU"
      },
      "execution_count": null,
      "outputs": []
    },
    {
      "cell_type": "code",
      "source": [
        "# path to test images\n",
        "test_images_dir = \"/content/drive/MyDrive/DSGP/Data/test\"\n",
        "test_images = [f for f in os.listdir(test_images_dir) if os.path.isfile(os.path.join(test_images_dir, f))]\n",
        "\n",
        "results = []\n",
        "\n",
        "for image_name in test_images:\n",
        "    image_path = os.path.join(test_images_dir, image_name)\n",
        "    image = Image.open(image_path).convert(\"RGB\")\n",
        "    image = image.resize((1024, 1024))\n",
        "    image_tensor = F.to_tensor(image).unsqueeze(0).to(device)\n",
        "\n",
        "    # Perform inference\n",
        "    with torch.no_grad():\n",
        "        predictions = model(image_tensor)\n",
        "\n",
        "    # Extract predicted results\n",
        "    pred_boxes = predictions[0]['boxes'].cpu().numpy()  # Predicted bounding boxes\n",
        "    pred_scores = predictions[0]['scores'].cpu().numpy()  # Confidence scores\n",
        "    pred_labels = predictions[0]['labels'].cpu().numpy()  # Predicted labels\n",
        "\n",
        "    if image_name in ground_truth_data:  # Ensure key exists\n",
        "      ground_truth_boxes = np.array([gt[:4] for gt in ground_truth_data[image_name]])\n",
        "      ground_truth_labels = np.array([gt[4] for gt in ground_truth_data[image_name]])\n",
        "    else:\n",
        "      ground_truth_boxes = np.array([])  # No ground truth available\n",
        "      ground_truth_labels = np.array([])\n",
        "\n",
        "    # Match predictions to ground truth using IoU\n",
        "    for pred_box, pred_score, pred_label in zip(pred_boxes, pred_scores, pred_labels):\n",
        "        best_iou = 0\n",
        "        best_gt_idx = -1\n",
        "\n",
        "        for idx, gt_box in enumerate(ground_truth_boxes):\n",
        "            iou = compute_iou(pred_box, gt_box)\n",
        "            if iou > best_iou:\n",
        "                best_iou = iou\n",
        "                best_gt_idx = idx\n",
        "\n",
        "        is_true_positive = best_iou >= iou_threshold\n",
        "        results.append([image_name, pred_label, pred_score, \"TRUE\" if is_true_positive else \"FALSE\"])\n",
        "\n",
        "# Convert results to DataFrame\n",
        "df = pd.DataFrame(results, columns=[\"Image\", \"Object\", \"Prediction Score\", \"Prediction Validity\"])\n",
        "print(df.head())\n",
        "print(predictions)"
      ],
      "metadata": {
        "colab": {
          "base_uri": "https://localhost:8080/"
        },
        "id": "LXQeOqVwQtAo",
        "outputId": "2540904b-d0af-41fc-e556-29037253fcdd"
      },
      "execution_count": null,
      "outputs": [
        {
          "output_type": "stream",
          "name": "stdout",
          "text": [
            "                                     Image  Object  Prediction Score  \\\n",
            "0  9c84f834-D01_20210502070930_0056632.png       1          0.236169   \n",
            "1  9c84f834-D01_20210502070930_0056632.png       1          0.236169   \n",
            "2  9c84f834-D01_20210502070930_0056632.png       1          0.236169   \n",
            "3  5a2d14e3-D01_20210201085530_0005823.png       1          0.236169   \n",
            "4  5a2d14e3-D01_20210201085530_0005823.png       1          0.236169   \n",
            "\n",
            "  Prediction Validity  \n",
            "0               FALSE  \n",
            "1               FALSE  \n",
            "2               FALSE  \n",
            "3               FALSE  \n",
            "4               FALSE  \n",
            "[{'boxes': tensor([], device='cuda:0', size=(0, 4)), 'labels': tensor([], device='cuda:0', dtype=torch.int64), 'scores': tensor([], device='cuda:0')}]\n"
          ]
        }
      ]
    },
    {
      "cell_type": "code",
      "source": [
        "# Convert TRUE/FALSE to 1/0 for AP calculation\n",
        "y_true = np.array([1 if res[3] == \"TRUE\" else 0 for res in results])\n",
        "y_scores = np.array([res[2] for res in results])\n",
        "\n",
        "# Compute AP\n",
        "ap = average_precision_score(y_true, y_scores)\n",
        "print(f\"Mean Average Precision (mAP): {ap:.4f}\")"
      ],
      "metadata": {
        "colab": {
          "base_uri": "https://localhost:8080/"
        },
        "id": "dvpnEjpuOGSy",
        "outputId": "31d13b3a-9611-4645-d7e1-ffbd1ca4859e"
      },
      "execution_count": null,
      "outputs": [
        {
          "output_type": "stream",
          "name": "stdout",
          "text": [
            "Mean Average Precision (mAP): 0.0000\n"
          ]
        },
        {
          "output_type": "stream",
          "name": "stderr",
          "text": [
            "/usr/local/lib/python3.11/dist-packages/sklearn/metrics/_ranking.py:1033: UserWarning: No positive class found in y_true, recall is set to one for all thresholds.\n",
            "  warnings.warn(\n"
          ]
        }
      ]
    },
    {
      "cell_type": "code",
      "source": [
        "precision, recall, _ = precision_recall_curve(y_true, y_scores)\n",
        "\n",
        "plt.figure(figsize=(8, 6))\n",
        "plt.plot(recall, precision, marker='o', label=f\"AP={ap:.4f}\")\n",
        "plt.xlabel(\"Recall\")\n",
        "plt.ylabel(\"Precision\")\n",
        "plt.title(\"Precision-Recall Curve\")\n",
        "plt.legend()\n",
        "plt.grid()\n",
        "plt.show()"
      ],
      "metadata": {
        "colab": {
          "base_uri": "https://localhost:8080/",
          "height": 599
        },
        "id": "fR4bn-9rLwXp",
        "outputId": "54dd3054-5631-4478-9594-1f0af284db68"
      },
      "execution_count": null,
      "outputs": [
        {
          "output_type": "stream",
          "name": "stderr",
          "text": [
            "/usr/local/lib/python3.11/dist-packages/sklearn/metrics/_ranking.py:1033: UserWarning: No positive class found in y_true, recall is set to one for all thresholds.\n",
            "  warnings.warn(\n"
          ]
        },
        {
          "output_type": "display_data",
          "data": {
            "text/plain": [
              "<Figure size 800x600 with 1 Axes>"
            ],
            "image/png": "[encoded data removed]"
          },
          "metadata": {}
        }
      ]
    }
  ]
}