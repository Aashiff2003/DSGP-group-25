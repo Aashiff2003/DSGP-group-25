{
  "nbformat": 4,
  "nbformat_minor": 0,
  "metadata": {
    "colab": {
      "provenance": [],
      "gpuType": "T4",
      "authorship_tag": "ABX9TyNGvhoAlqFH0LXrWTDuVA91",
      "include_colab_link": true
    },
    "kernelspec": {
      "name": "python3",
      "display_name": "Python 3"
    },
    "language_info": {
      "name": "python"
    },
    "accelerator": "GPU"
  },
  "cells": [
    {
      "cell_type": "markdown",
      "metadata": {
        "id": "view-in-github",
        "colab_type": "text"
      },
      "source": [
        "<a href=\"https://colab.research.google.com/github/Aashiff2003/DSGP-group-25/blob/Geethmi/Yolo2.ipynb\" target=\"_parent\"><img src=\"https://colab.research.google.com/assets/colab-badge.svg\" alt=\"Open In Colab\"/></a>"
      ]
    },
    {
      "cell_type": "code",
      "execution_count": null,
      "metadata": {
        "colab": {
          "base_uri": "https://localhost:8080/"
        },
        "id": "_d3gTDFOfxNk",
        "outputId": "be6de63f-2617-4fd5-8b50-53ec52bf1983"
      },
      "outputs": [
        {
          "output_type": "stream",
          "name": "stdout",
          "text": [
            "Ultralytics 8.3.75 🚀 Python-3.11.11 torch-2.5.1+cu124 CUDA:0 (Tesla T4, 15095MiB)\n",
            "Setup complete ✅ (2 CPUs, 12.7 GB RAM, 33.1/112.6 GB disk)\n"
          ]
        }
      ],
      "source": [
        "!pip install ultralytics\n",
        "\n",
        "from IPython import display\n",
        "display.clear_output()\n",
        "\n",
        "import ultralytics\n",
        "ultralytics.checks()"
      ]
    },
    {
      "cell_type": "code",
      "source": [
        "from ultralytics import YOLO\n",
        "from IPython.display import display, Image"
      ],
      "metadata": {
        "id": "ANuVndHCoTB_"
      },
      "execution_count": null,
      "outputs": []
    },
    {
      "cell_type": "code",
      "source": [
        "from google.colab import drive\n",
        "drive.mount('/content/drive')"
      ],
      "metadata": {
        "id": "2QokLjGXzQ4j",
        "colab": {
          "base_uri": "https://localhost:8080/"
        },
        "outputId": "e36e2200-d461-49af-cc95-d534934426fd"
      },
      "execution_count": null,
      "outputs": [
        {
          "output_type": "stream",
          "name": "stdout",
          "text": [
            "Mounted at /content/drive\n"
          ]
        }
      ]
    },
    {
      "cell_type": "code",
      "source": [
        "%cd /content/drive/MyDrive/DSGP/Model3"
      ],
      "metadata": {
        "colab": {
          "base_uri": "https://localhost:8080/"
        },
        "id": "lgpXtxhKgnZz",
        "outputId": "735582fe-c731-4f7e-b100-779735a17881"
      },
      "execution_count": null,
      "outputs": [
        {
          "output_type": "stream",
          "name": "stdout",
          "text": [
            "/content/drive/MyDrive/DSGP/Model3\n"
          ]
        }
      ]
    },
    {
      "cell_type": "code",
      "source": [
        "!yolo task=detect mode=train model=yolov8s.pt data=data.yaml epochs=50 imgsz=640 plots=True batch=10 lr0=0.001"
      ],
      "metadata": {
        "colab": {
          "base_uri": "https://localhost:8080/"
        },
        "id": "cHI4pIn5g8KL",
        "outputId": "51247330-276d-41b7-e603-e9ac87bafc79"
      },
      "execution_count": null,
      "outputs": [
        {
          "output_type": "stream",
          "name": "stdout",
          "text": [
            "Ultralytics 8.3.75 🚀 Python-3.11.11 torch-2.5.1+cu124 CUDA:0 (Tesla T4, 15095MiB)\n",
            "\u001b[34m\u001b[1mengine/trainer: \u001b[0mtask=detect, mode=train, model=yolov8s.pt, data=data.yaml, epochs=50, time=None, patience=100, batch=10, imgsz=640, save=True, save_period=-1, cache=False, device=None, workers=8, project=None, name=train2, exist_ok=False, pretrained=True, optimizer=auto, verbose=True, seed=0, deterministic=True, single_cls=False, rect=False, cos_lr=False, close_mosaic=10, resume=False, amp=True, fraction=1.0, profile=False, freeze=None, multi_scale=False, overlap_mask=True, mask_ratio=4, dropout=0.0, val=True, split=val, save_json=False, save_hybrid=False, conf=None, iou=0.7, max_det=300, half=False, dnn=False, plots=True, source=None, vid_stride=1, stream_buffer=False, visualize=False, augment=False, agnostic_nms=False, classes=None, retina_masks=False, embed=None, show=False, save_frames=False, save_txt=False, save_conf=False, save_crop=False, show_labels=True, show_conf=True, show_boxes=True, line_width=None, format=torchscript, keras=False, optimize=False, int8=False, dynamic=False, simplify=True, opset=None, workspace=None, nms=False, lr0=0.001, lrf=0.01, momentum=0.937, weight_decay=0.0005, warmup_epochs=3.0, warmup_momentum=0.8, warmup_bias_lr=0.1, box=7.5, cls=0.5, dfl=1.5, pose=12.0, kobj=1.0, nbs=64, hsv_h=0.015, hsv_s=0.7, hsv_v=0.4, degrees=0.0, translate=0.1, scale=0.5, shear=0.0, perspective=0.0, flipud=0.0, fliplr=0.5, bgr=0.0, mosaic=1.0, mixup=0.0, copy_paste=0.0, copy_paste_mode=flip, auto_augment=randaugment, erasing=0.4, crop_fraction=1.0, cfg=None, tracker=botsort.yaml, save_dir=runs/detect/train2\n",
            "Downloading https://ultralytics.com/assets/Arial.ttf to '/root/.config/Ultralytics/Arial.ttf'...\n",
            "100% 755k/755k [00:00<00:00, 96.1MB/s]\n",
            "WARNING: All log messages before absl::InitializeLog() is called are written to STDERR\n",
            "E0000 00:00:1739746453.978005    3847 cuda_dnn.cc:8310] Unable to register cuDNN factory: Attempting to register factory for plugin cuDNN when one has already been registered\n",
            "E0000 00:00:1739746454.053008    3847 cuda_blas.cc:1418] Unable to register cuBLAS factory: Attempting to register factory for plugin cuBLAS when one has already been registered\n",
            "Overriding model.yaml nc=80 with nc=1\n",
            "\n",
            "                   from  n    params  module                                       arguments                     \n",
            "  0                  -1  1       928  ultralytics.nn.modules.conv.Conv             [3, 32, 3, 2]                 \n",
            "  1                  -1  1     18560  ultralytics.nn.modules.conv.Conv             [32, 64, 3, 2]                \n",
            "  2                  -1  1     29056  ultralytics.nn.modules.block.C2f             [64, 64, 1, True]             \n",
            "  3                  -1  1     73984  ultralytics.nn.modules.conv.Conv             [64, 128, 3, 2]               \n",
            "  4                  -1  2    197632  ultralytics.nn.modules.block.C2f             [128, 128, 2, True]           \n",
            "  5                  -1  1    295424  ultralytics.nn.modules.conv.Conv             [128, 256, 3, 2]              \n",
            "  6                  -1  2    788480  ultralytics.nn.modules.block.C2f             [256, 256, 2, True]           \n",
            "  7                  -1  1   1180672  ultralytics.nn.modules.conv.Conv             [256, 512, 3, 2]              \n",
            "  8                  -1  1   1838080  ultralytics.nn.modules.block.C2f             [512, 512, 1, True]           \n",
            "  9                  -1  1    656896  ultralytics.nn.modules.block.SPPF            [512, 512, 5]                 \n",
            " 10                  -1  1         0  torch.nn.modules.upsampling.Upsample         [None, 2, 'nearest']          \n",
            " 11             [-1, 6]  1         0  ultralytics.nn.modules.conv.Concat           [1]                           \n",
            " 12                  -1  1    591360  ultralytics.nn.modules.block.C2f             [768, 256, 1]                 \n",
            " 13                  -1  1         0  torch.nn.modules.upsampling.Upsample         [None, 2, 'nearest']          \n",
            " 14             [-1, 4]  1         0  ultralytics.nn.modules.conv.Concat           [1]                           \n",
            " 15                  -1  1    148224  ultralytics.nn.modules.block.C2f             [384, 128, 1]                 \n",
            " 16                  -1  1    147712  ultralytics.nn.modules.conv.Conv             [128, 128, 3, 2]              \n",
            " 17            [-1, 12]  1         0  ultralytics.nn.modules.conv.Concat           [1]                           \n",
            " 18                  -1  1    493056  ultralytics.nn.modules.block.C2f             [384, 256, 1]                 \n",
            " 19                  -1  1    590336  ultralytics.nn.modules.conv.Conv             [256, 256, 3, 2]              \n",
            " 20             [-1, 9]  1         0  ultralytics.nn.modules.conv.Concat           [1]                           \n",
            " 21                  -1  1   1969152  ultralytics.nn.modules.block.C2f             [768, 512, 1]                 \n",
            " 22        [15, 18, 21]  1   2116435  ultralytics.nn.modules.head.Detect           [1, [128, 256, 512]]          \n",
            "Model summary: 225 layers, 11,135,987 parameters, 11,135,971 gradients, 28.6 GFLOPs\n",
            "\n",
            "Transferred 349/355 items from pretrained weights\n",
            "\u001b[34m\u001b[1mTensorBoard: \u001b[0mStart with 'tensorboard --logdir runs/detect/train2', view at http://localhost:6006/\n",
            "Freezing layer 'model.22.dfl.conv.weight'\n",
            "\u001b[34m\u001b[1mAMP: \u001b[0mrunning Automatic Mixed Precision (AMP) checks...\n",
            "Downloading https://github.com/ultralytics/assets/releases/download/v8.3.0/yolo11n.pt to 'yolo11n.pt'...\n",
            "100% 5.35M/5.35M [00:00<00:00, 217MB/s]\n",
            "\u001b[34m\u001b[1mAMP: \u001b[0mchecks passed ✅\n",
            "\u001b[34m\u001b[1mtrain: \u001b[0mScanning /content/drive/MyDrive/DSGP/Model3/data/train/labels... 20 images, 0 backgrounds, 0 corrupt: 100% 20/20 [00:25<00:00,  1.29s/it]\n",
            "\u001b[34m\u001b[1mtrain: \u001b[0mNew cache created: /content/drive/MyDrive/DSGP/Model3/data/train/labels.cache\n",
            "\u001b[34m\u001b[1malbumentations: \u001b[0mBlur(p=0.01, blur_limit=(3, 7)), MedianBlur(p=0.01, blur_limit=(3, 7)), ToGray(p=0.01, num_output_channels=3, method='weighted_average'), CLAHE(p=0.01, clip_limit=(1.0, 4.0), tile_grid_size=(8, 8))\n",
            "\u001b[34m\u001b[1mval: \u001b[0mScanning /content/drive/MyDrive/DSGP/Model3/data/valid/labels... 15 images, 2 backgrounds, 0 corrupt: 100% 15/15 [00:18<00:00,  1.25s/it]\n",
            "\u001b[34m\u001b[1mval: \u001b[0mNew cache created: /content/drive/MyDrive/DSGP/Model3/data/valid/labels.cache\n",
            "Plotting labels to runs/detect/train2/labels.jpg... \n",
            "\u001b[34m\u001b[1moptimizer:\u001b[0m 'optimizer=auto' found, ignoring 'lr0=0.001' and 'momentum=0.937' and determining best 'optimizer', 'lr0' and 'momentum' automatically... \n",
            "\u001b[34m\u001b[1moptimizer:\u001b[0m AdamW(lr=0.002, momentum=0.9) with parameter groups 57 weight(decay=0.0), 64 weight(decay=0.00046875), 63 bias(decay=0.0)\n",
            "\u001b[34m\u001b[1mTensorBoard: \u001b[0mmodel graph visualization added ✅\n",
            "Image sizes 640 train, 640 val\n",
            "Using 2 dataloader workers\n",
            "Logging results to \u001b[1mruns/detect/train2\u001b[0m\n",
            "Starting training for 50 epochs...\n",
            "\n",
            "      Epoch    GPU_mem   box_loss   cls_loss   dfl_loss  Instances       Size\n",
            "       1/50      2.69G      3.311         28     0.9042         68        640: 100% 2/2 [00:01<00:00,  1.24it/s]\n",
            "                 Class     Images  Instances      Box(P          R      mAP50  mAP50-95): 100% 1/1 [00:01<00:00,  1.56s/it]\n",
            "                   all         15         84     0.0159      0.131    0.00714    0.00278\n",
            "\n",
            "      Epoch    GPU_mem   box_loss   cls_loss   dfl_loss  Instances       Size\n",
            "       2/50      2.47G      3.473      39.16     0.9166         82        640: 100% 2/2 [00:00<00:00,  4.29it/s]\n",
            "                 Class     Images  Instances      Box(P          R      mAP50  mAP50-95): 100% 1/1 [00:00<00:00,  6.30it/s]\n",
            "                   all         15         84     0.0232      0.131    0.00843    0.00324\n",
            "\n",
            "      Epoch    GPU_mem   box_loss   cls_loss   dfl_loss  Instances       Size\n",
            "       3/50      2.55G       3.41      37.41     0.9335         97        640: 100% 2/2 [00:00<00:00,  4.92it/s]\n",
            "                 Class     Images  Instances      Box(P          R      mAP50  mAP50-95): 100% 1/1 [00:00<00:00,  4.18it/s]\n",
            "                   all         15         84      0.024      0.143    0.00945    0.00366\n",
            "\n",
            "      Epoch    GPU_mem   box_loss   cls_loss   dfl_loss  Instances       Size\n",
            "       4/50      2.57G      3.351      33.33     0.8961        115        640: 100% 2/2 [00:00<00:00,  5.26it/s]\n",
            "                 Class     Images  Instances      Box(P          R      mAP50  mAP50-95): 100% 1/1 [00:00<00:00,  5.08it/s]\n",
            "                   all         15         84     0.0275      0.107     0.0101    0.00386\n",
            "\n",
            "      Epoch    GPU_mem   box_loss   cls_loss   dfl_loss  Instances       Size\n",
            "       5/50      2.57G      3.438      29.46     0.9589         93        640: 100% 2/2 [00:00<00:00,  3.81it/s]\n",
            "                 Class     Images  Instances      Box(P          R      mAP50  mAP50-95): 100% 1/1 [00:00<00:00,  4.86it/s]\n",
            "                   all         15         84     0.0312     0.0952     0.0106    0.00394\n",
            "\n",
            "      Epoch    GPU_mem   box_loss   cls_loss   dfl_loss  Instances       Size\n",
            "       6/50       2.6G      3.367      33.65     0.9409        104        640: 100% 2/2 [00:00<00:00,  4.30it/s]\n",
            "                 Class     Images  Instances      Box(P          R      mAP50  mAP50-95): 100% 1/1 [00:00<00:00,  4.57it/s]\n",
            "                   all         15         84     0.0327     0.0952     0.0107    0.00393\n",
            "\n",
            "      Epoch    GPU_mem   box_loss   cls_loss   dfl_loss  Instances       Size\n",
            "       7/50       2.6G      3.616       34.4     0.9893         98        640: 100% 2/2 [00:00<00:00,  4.33it/s]\n",
            "                 Class     Images  Instances      Box(P          R      mAP50  mAP50-95): 100% 1/1 [00:00<00:00,  6.76it/s]\n",
            "                   all         15         84    0.00111     0.0595   0.000598   0.000225\n",
            "\n",
            "      Epoch    GPU_mem   box_loss   cls_loss   dfl_loss  Instances       Size\n",
            "       8/50      2.67G      3.152      16.58     0.8998         46        640: 100% 2/2 [00:00<00:00,  5.41it/s]\n",
            "                 Class     Images  Instances      Box(P          R      mAP50  mAP50-95): 100% 1/1 [00:00<00:00,  6.17it/s]\n",
            "                   all         15         84      0.611      0.381      0.408      0.103\n",
            "\n",
            "      Epoch    GPU_mem   box_loss   cls_loss   dfl_loss  Instances       Size\n",
            "       9/50      2.69G       3.62      12.34     0.8921        101        640: 100% 2/2 [00:00<00:00,  5.27it/s]\n",
            "                 Class     Images  Instances      Box(P          R      mAP50  mAP50-95): 100% 1/1 [00:00<00:00,  6.64it/s]\n",
            "                   all         15         84      0.869      0.571      0.611      0.164\n",
            "\n",
            "      Epoch    GPU_mem   box_loss   cls_loss   dfl_loss  Instances       Size\n",
            "      10/50      2.61G      3.128      8.059     0.8858        105        640: 100% 2/2 [00:00<00:00,  5.50it/s]\n",
            "                 Class     Images  Instances      Box(P          R      mAP50  mAP50-95): 100% 1/1 [00:00<00:00,  5.76it/s]\n",
            "                   all         15         84      0.662      0.512      0.489       0.14\n",
            "\n",
            "      Epoch    GPU_mem   box_loss   cls_loss   dfl_loss  Instances       Size\n",
            "      11/50      2.69G      3.242      8.839     0.8625        141        640: 100% 2/2 [00:00<00:00,  4.97it/s]\n",
            "                 Class     Images  Instances      Box(P          R      mAP50  mAP50-95): 100% 1/1 [00:00<00:00,  7.51it/s]\n",
            "                   all         15         84      0.669      0.429       0.41     0.0929\n",
            "\n",
            "      Epoch    GPU_mem   box_loss   cls_loss   dfl_loss  Instances       Size\n",
            "      12/50      2.69G      3.422      8.266     0.9095        158        640: 100% 2/2 [00:00<00:00,  5.48it/s]\n",
            "                 Class     Images  Instances      Box(P          R      mAP50  mAP50-95): 100% 1/1 [00:00<00:00,  7.32it/s]\n",
            "                   all         15         84      0.716      0.429      0.412     0.0917\n",
            "\n",
            "      Epoch    GPU_mem   box_loss   cls_loss   dfl_loss  Instances       Size\n",
            "      13/50      2.69G      3.127        6.9     0.8537         89        640: 100% 2/2 [00:00<00:00,  3.90it/s]\n",
            "                 Class     Images  Instances      Box(P          R      mAP50  mAP50-95): 100% 1/1 [00:00<00:00,  6.78it/s]\n",
            "                   all         15         84      0.654      0.393       0.38     0.0917\n",
            "\n",
            "      Epoch    GPU_mem   box_loss   cls_loss   dfl_loss  Instances       Size\n",
            "      14/50      2.69G      3.266      6.614     0.8888        115        640: 100% 2/2 [00:00<00:00,  2.77it/s]\n",
            "                 Class     Images  Instances      Box(P          R      mAP50  mAP50-95): 100% 1/1 [00:00<00:00,  2.71it/s]\n",
            "                   all         15         84      0.146      0.298     0.0563     0.0125\n",
            "\n",
            "      Epoch    GPU_mem   box_loss   cls_loss   dfl_loss  Instances       Size\n",
            "      15/50      2.67G       2.99      4.316     0.9043         88        640: 100% 2/2 [00:00<00:00,  5.91it/s]\n",
            "                 Class     Images  Instances      Box(P          R      mAP50  mAP50-95): 100% 1/1 [00:00<00:00,  6.20it/s]\n",
            "                   all         15         84      0.146      0.298     0.0563     0.0125\n",
            "\n",
            "      Epoch    GPU_mem   box_loss   cls_loss   dfl_loss  Instances       Size\n",
            "      16/50      2.72G      3.487       8.53     0.8739         86        640: 100% 2/2 [00:00<00:00,  5.65it/s]\n",
            "                 Class     Images  Instances      Box(P          R      mAP50  mAP50-95): 100% 1/1 [00:00<00:00,  6.79it/s]\n",
            "                   all         15         84      0.287      0.274      0.135      0.028\n",
            "\n",
            "      Epoch    GPU_mem   box_loss   cls_loss   dfl_loss  Instances       Size\n",
            "      17/50      2.69G      3.771       5.44     0.8763        140        640: 100% 2/2 [00:00<00:00,  5.34it/s]\n",
            "                 Class     Images  Instances      Box(P          R      mAP50  mAP50-95): 100% 1/1 [00:00<00:00,  6.69it/s]\n",
            "                   all         15         84      0.626      0.379      0.323     0.0632\n",
            "\n",
            "      Epoch    GPU_mem   box_loss   cls_loss   dfl_loss  Instances       Size\n",
            "      18/50      2.67G      3.865       5.41     0.9048         62        640: 100% 2/2 [00:00<00:00,  5.55it/s]\n",
            "                 Class     Images  Instances      Box(P          R      mAP50  mAP50-95): 100% 1/1 [00:00<00:00,  7.58it/s]\n",
            "                   all         15         84      0.626      0.379      0.323     0.0632\n",
            "\n",
            "      Epoch    GPU_mem   box_loss   cls_loss   dfl_loss  Instances       Size\n",
            "      19/50       2.7G      3.419      3.812     0.8822         99        640: 100% 2/2 [00:00<00:00,  5.50it/s]\n",
            "                 Class     Images  Instances      Box(P          R      mAP50  mAP50-95): 100% 1/1 [00:00<00:00,  5.72it/s]\n",
            "                   all         15         84      0.595      0.417      0.367     0.0803\n",
            "\n",
            "      Epoch    GPU_mem   box_loss   cls_loss   dfl_loss  Instances       Size\n",
            "      20/50      2.63G      3.343      3.425     0.8825        106        640: 100% 2/2 [00:00<00:00,  5.42it/s]\n",
            "                 Class     Images  Instances      Box(P          R      mAP50  mAP50-95): 100% 1/1 [00:00<00:00,  8.03it/s]\n",
            "                   all         15         84      0.303      0.333      0.146     0.0371\n",
            "\n",
            "      Epoch    GPU_mem   box_loss   cls_loss   dfl_loss  Instances       Size\n",
            "      21/50      2.68G      3.556      3.898     0.9221        123        640: 100% 2/2 [00:00<00:00,  4.87it/s]\n",
            "                 Class     Images  Instances      Box(P          R      mAP50  mAP50-95): 100% 1/1 [00:00<00:00,  3.69it/s]\n",
            "                   all         15         84      0.303      0.333      0.146     0.0371\n",
            "\n",
            "      Epoch    GPU_mem   box_loss   cls_loss   dfl_loss  Instances       Size\n",
            "      22/50       2.6G      3.807      4.159     0.8616        112        640: 100% 2/2 [00:00<00:00,  4.11it/s]\n",
            "                 Class     Images  Instances      Box(P          R      mAP50  mAP50-95): 100% 1/1 [00:00<00:00,  5.07it/s]\n",
            "                   all         15         84     0.0695      0.381     0.0402     0.0115\n",
            "\n",
            "      Epoch    GPU_mem   box_loss   cls_loss   dfl_loss  Instances       Size\n",
            "      23/50      2.63G      3.516        3.9     0.8593         88        640: 100% 2/2 [00:00<00:00,  5.51it/s]\n",
            "                 Class     Images  Instances      Box(P          R      mAP50  mAP50-95): 100% 1/1 [00:00<00:00,  7.81it/s]\n",
            "                   all         15         84     0.0396      0.405     0.0264    0.00778\n",
            "\n",
            "      Epoch    GPU_mem   box_loss   cls_loss   dfl_loss  Instances       Size\n",
            "      24/50      2.67G      2.946      2.909     0.8337         94        640: 100% 2/2 [00:00<00:00,  5.64it/s]\n",
            "                 Class     Images  Instances      Box(P          R      mAP50  mAP50-95): 100% 1/1 [00:00<00:00,  6.40it/s]\n",
            "                   all         15         84     0.0396      0.405     0.0264    0.00778\n",
            "\n",
            "      Epoch    GPU_mem   box_loss   cls_loss   dfl_loss  Instances       Size\n",
            "      25/50      2.71G      3.197      2.789     0.8596        113        640: 100% 2/2 [00:00<00:00,  5.43it/s]\n",
            "                 Class     Images  Instances      Box(P          R      mAP50  mAP50-95): 100% 1/1 [00:00<00:00,  7.62it/s]\n",
            "                   all         15         84     0.0565      0.429     0.0365     0.0103\n",
            "\n",
            "      Epoch    GPU_mem   box_loss   cls_loss   dfl_loss  Instances       Size\n",
            "      26/50      2.67G      4.004      3.247     0.9671         88        640: 100% 2/2 [00:00<00:00,  5.53it/s]\n",
            "                 Class     Images  Instances      Box(P          R      mAP50  mAP50-95): 100% 1/1 [00:00<00:00,  7.94it/s]\n",
            "                   all         15         84     0.0565      0.429     0.0365     0.0103\n",
            "\n",
            "      Epoch    GPU_mem   box_loss   cls_loss   dfl_loss  Instances       Size\n",
            "      27/50      2.67G      3.704      2.607     0.9158        143        640: 100% 2/2 [00:00<00:00,  5.06it/s]\n",
            "                 Class     Images  Instances      Box(P          R      mAP50  mAP50-95): 100% 1/1 [00:00<00:00,  7.80it/s]\n",
            "                   all         15         84      0.248      0.429      0.151     0.0392\n",
            "\n",
            "      Epoch    GPU_mem   box_loss   cls_loss   dfl_loss  Instances       Size\n",
            "      28/50      2.67G      3.441      2.372     0.8891         88        640: 100% 2/2 [00:00<00:00,  5.37it/s]\n",
            "                 Class     Images  Instances      Box(P          R      mAP50  mAP50-95): 100% 1/1 [00:00<00:00,  7.87it/s]\n",
            "                   all         15         84      0.248      0.429      0.151     0.0392\n",
            "\n",
            "      Epoch    GPU_mem   box_loss   cls_loss   dfl_loss  Instances       Size\n",
            "      29/50      2.69G      3.377      2.909     0.8847        107        640: 100% 2/2 [00:00<00:00,  5.17it/s]\n",
            "                 Class     Images  Instances      Box(P          R      mAP50  mAP50-95): 100% 1/1 [00:00<00:00,  8.01it/s]\n",
            "                   all         15         84      0.385        0.5      0.314     0.0876\n",
            "\n",
            "      Epoch    GPU_mem   box_loss   cls_loss   dfl_loss  Instances       Size\n",
            "      30/50      2.67G      3.301      3.065     0.9272         80        640: 100% 2/2 [00:00<00:00,  4.96it/s]\n",
            "                 Class     Images  Instances      Box(P          R      mAP50  mAP50-95): 100% 1/1 [00:00<00:00,  3.78it/s]\n",
            "                   all         15         84      0.385        0.5      0.314     0.0876\n",
            "\n",
            "      Epoch    GPU_mem   box_loss   cls_loss   dfl_loss  Instances       Size\n",
            "      31/50       2.7G      3.242      2.672     0.9179         97        640: 100% 2/2 [00:00<00:00,  3.62it/s]\n",
            "                 Class     Images  Instances      Box(P          R      mAP50  mAP50-95): 100% 1/1 [00:00<00:00,  6.80it/s]\n",
            "                   all         15         84      0.639      0.548      0.502      0.146\n",
            "\n",
            "      Epoch    GPU_mem   box_loss   cls_loss   dfl_loss  Instances       Size\n",
            "      32/50      2.69G      3.398      3.278     0.8785         94        640: 100% 2/2 [00:00<00:00,  5.82it/s]\n",
            "                 Class     Images  Instances      Box(P          R      mAP50  mAP50-95): 100% 1/1 [00:00<00:00,  6.99it/s]\n",
            "                   all         15         84      0.639      0.548      0.502      0.146\n",
            "\n",
            "      Epoch    GPU_mem   box_loss   cls_loss   dfl_loss  Instances       Size\n",
            "      33/50      2.67G      3.698       3.24     0.9152        134        640: 100% 2/2 [00:00<00:00,  5.89it/s]\n",
            "                 Class     Images  Instances      Box(P          R      mAP50  mAP50-95): 100% 1/1 [00:00<00:00,  5.90it/s]\n",
            "                   all         15         84      0.639      0.548      0.502      0.146\n",
            "\n",
            "      Epoch    GPU_mem   box_loss   cls_loss   dfl_loss  Instances       Size\n",
            "      34/50       2.6G      3.524      3.291     0.8702         92        640: 100% 2/2 [00:00<00:00,  4.73it/s]\n",
            "                 Class     Images  Instances      Box(P          R      mAP50  mAP50-95): 100% 1/1 [00:00<00:00,  7.69it/s]\n",
            "                   all         15         84      0.459      0.488       0.34     0.0961\n",
            "\n",
            "      Epoch    GPU_mem   box_loss   cls_loss   dfl_loss  Instances       Size\n",
            "      35/50      2.71G      3.464       3.03     0.9202        100        640: 100% 2/2 [00:00<00:00,  6.00it/s]\n",
            "                 Class     Images  Instances      Box(P          R      mAP50  mAP50-95): 100% 1/1 [00:00<00:00,  6.52it/s]\n",
            "                   all         15         84      0.459      0.488       0.34     0.0961\n",
            "\n",
            "      Epoch    GPU_mem   box_loss   cls_loss   dfl_loss  Instances       Size\n",
            "      36/50      2.61G      3.309      2.676     0.9038         92        640: 100% 2/2 [00:00<00:00,  5.03it/s]\n",
            "                 Class     Images  Instances      Box(P          R      mAP50  mAP50-95): 100% 1/1 [00:00<00:00,  7.57it/s]\n",
            "                   all         15         84     0.0656      0.583     0.0455     0.0126\n",
            "\n",
            "      Epoch    GPU_mem   box_loss   cls_loss   dfl_loss  Instances       Size\n",
            "      37/50      2.69G      3.139      2.367     0.8858        113        640: 100% 2/2 [00:00<00:00,  5.92it/s]\n",
            "                 Class     Images  Instances      Box(P          R      mAP50  mAP50-95): 100% 1/1 [00:00<00:00,  6.57it/s]\n",
            "                   all         15         84     0.0656      0.583     0.0455     0.0126\n",
            "\n",
            "      Epoch    GPU_mem   box_loss   cls_loss   dfl_loss  Instances       Size\n",
            "      38/50      2.69G      3.322      2.528      0.874         82        640: 100% 2/2 [00:00<00:00,  4.51it/s]\n",
            "                 Class     Images  Instances      Box(P          R      mAP50  mAP50-95): 100% 1/1 [00:00<00:00,  3.50it/s]\n",
            "                   all         15         84     0.0656      0.583     0.0455     0.0126\n",
            "\n",
            "      Epoch    GPU_mem   box_loss   cls_loss   dfl_loss  Instances       Size\n",
            "      39/50       2.6G      3.201      2.043     0.9188         89        640: 100% 2/2 [00:00<00:00,  4.04it/s]\n",
            "                 Class     Images  Instances      Box(P          R      mAP50  mAP50-95): 100% 1/1 [00:00<00:00,  5.32it/s]\n",
            "                   all         15         84     0.0567      0.548     0.0404     0.0119\n",
            "\n",
            "      Epoch    GPU_mem   box_loss   cls_loss   dfl_loss  Instances       Size\n",
            "      40/50      2.72G      2.992      1.808     0.8868         88        640: 100% 2/2 [00:00<00:00,  5.85it/s]\n",
            "                 Class     Images  Instances      Box(P          R      mAP50  mAP50-95): 100% 1/1 [00:00<00:00,  6.19it/s]\n",
            "                   all         15         84     0.0567      0.548     0.0404     0.0119\n",
            "Closing dataloader mosaic\n",
            "\u001b[34m\u001b[1malbumentations: \u001b[0mBlur(p=0.01, blur_limit=(3, 7)), MedianBlur(p=0.01, blur_limit=(3, 7)), ToGray(p=0.01, num_output_channels=3, method='weighted_average'), CLAHE(p=0.01, clip_limit=(1.0, 4.0), tile_grid_size=(8, 8))\n",
            "\n",
            "      Epoch    GPU_mem   box_loss   cls_loss   dfl_loss  Instances       Size\n",
            "      41/50      2.62G      3.091       2.06     0.8971         82        640: 100% 2/2 [00:01<00:00,  1.56it/s]\n",
            "                 Class     Images  Instances      Box(P          R      mAP50  mAP50-95): 100% 1/1 [00:00<00:00,  3.71it/s]\n",
            "                   all         15         84     0.0988      0.619     0.0721     0.0186\n",
            "\n",
            "      Epoch    GPU_mem   box_loss   cls_loss   dfl_loss  Instances       Size\n",
            "      42/50      2.69G      3.131      2.171      0.907         67        640: 100% 2/2 [00:00<00:00,  5.38it/s]\n",
            "                 Class     Images  Instances      Box(P          R      mAP50  mAP50-95): 100% 1/1 [00:00<00:00,  4.56it/s]\n",
            "                   all         15         84     0.0988      0.619     0.0721     0.0186\n",
            "\n",
            "      Epoch    GPU_mem   box_loss   cls_loss   dfl_loss  Instances       Size\n",
            "      43/50      2.62G      2.889      1.993     0.8564         57        640: 100% 2/2 [00:00<00:00,  5.60it/s]\n",
            "                 Class     Images  Instances      Box(P          R      mAP50  mAP50-95): 100% 1/1 [00:00<00:00,  4.13it/s]\n",
            "                   all         15         84     0.0988      0.619     0.0721     0.0186\n",
            "\n",
            "      Epoch    GPU_mem   box_loss   cls_loss   dfl_loss  Instances       Size\n",
            "      44/50      2.72G      2.918      2.383     0.8647         49        640: 100% 2/2 [00:00<00:00,  5.52it/s]\n",
            "                 Class     Images  Instances      Box(P          R      mAP50  mAP50-95): 100% 1/1 [00:00<00:00,  8.04it/s]\n",
            "                   all         15         84      0.201      0.607      0.151     0.0415\n",
            "\n",
            "      Epoch    GPU_mem   box_loss   cls_loss   dfl_loss  Instances       Size\n",
            "      45/50      2.69G      2.851       1.88     0.8694         63        640: 100% 2/2 [00:00<00:00,  5.96it/s]\n",
            "                 Class     Images  Instances      Box(P          R      mAP50  mAP50-95): 100% 1/1 [00:00<00:00,  8.00it/s]\n",
            "                   all         15         84      0.201      0.607      0.151     0.0415\n",
            "\n",
            "      Epoch    GPU_mem   box_loss   cls_loss   dfl_loss  Instances       Size\n",
            "      46/50      2.72G      3.006          2     0.8584         47        640: 100% 2/2 [00:00<00:00,  4.04it/s]\n",
            "                 Class     Images  Instances      Box(P          R      mAP50  mAP50-95): 100% 1/1 [00:00<00:00,  3.56it/s]\n",
            "                   all         15         84      0.201      0.607      0.151     0.0415\n",
            "\n",
            "      Epoch    GPU_mem   box_loss   cls_loss   dfl_loss  Instances       Size\n",
            "      47/50      2.63G      2.744      2.247     0.8311         56        640: 100% 2/2 [00:00<00:00,  4.39it/s]\n",
            "                 Class     Images  Instances      Box(P          R      mAP50  mAP50-95): 100% 1/1 [00:00<00:00,  9.50it/s]\n",
            "                   all         15         84      0.216      0.595      0.153      0.043\n",
            "\n",
            "      Epoch    GPU_mem   box_loss   cls_loss   dfl_loss  Instances       Size\n",
            "      48/50      2.69G      3.446      2.558     0.8859         56        640: 100% 2/2 [00:00<00:00,  5.92it/s]\n",
            "                 Class     Images  Instances      Box(P          R      mAP50  mAP50-95): 100% 1/1 [00:00<00:00,  8.00it/s]\n",
            "                   all         15         84      0.216      0.595      0.153      0.043\n",
            "\n",
            "      Epoch    GPU_mem   box_loss   cls_loss   dfl_loss  Instances       Size\n",
            "      49/50      2.71G      3.072      2.028     0.8526         65        640: 100% 2/2 [00:00<00:00,  5.97it/s]\n",
            "                 Class     Images  Instances      Box(P          R      mAP50  mAP50-95): 100% 1/1 [00:00<00:00,  7.16it/s]\n",
            "                   all         15         84      0.216      0.595      0.153      0.043\n",
            "\n",
            "      Epoch    GPU_mem   box_loss   cls_loss   dfl_loss  Instances       Size\n",
            "      50/50      2.72G      3.112       2.06     0.8573         60        640: 100% 2/2 [00:00<00:00,  5.29it/s]\n",
            "                 Class     Images  Instances      Box(P          R      mAP50  mAP50-95): 100% 1/1 [00:00<00:00,  5.39it/s]\n",
            "                   all         15         84      0.439      0.578      0.362     0.0958\n",
            "\n",
            "50 epochs completed in 0.025 hours.\n",
            "Optimizer stripped from runs/detect/train2/weights/last.pt, 22.5MB\n",
            "Optimizer stripped from runs/detect/train2/weights/best.pt, 22.5MB\n",
            "\n",
            "Validating runs/detect/train2/weights/best.pt...\n",
            "Ultralytics 8.3.75 🚀 Python-3.11.11 torch-2.5.1+cu124 CUDA:0 (Tesla T4, 15095MiB)\n",
            "Model summary (fused): 168 layers, 11,125,971 parameters, 0 gradients, 28.4 GFLOPs\n",
            "                 Class     Images  Instances      Box(P          R      mAP50  mAP50-95): 100% 1/1 [00:00<00:00,  5.14it/s]\n",
            "                   all         15         84      0.872      0.571      0.611      0.164\n",
            "Speed: 0.2ms preprocess, 3.8ms inference, 0.0ms loss, 2.8ms postprocess per image\n",
            "Results saved to \u001b[1mruns/detect/train2\u001b[0m\n",
            "💡 Learn more at https://docs.ultralytics.com/modes/train\n"
          ]
        }
      ]
    },
    {
      "cell_type": "markdown",
      "source": [
        "**Validate Model**"
      ],
      "metadata": {
        "id": "iNJThCgTp6lC"
      }
    },
    {
      "cell_type": "code",
      "source": [
        "!yolo task=detect mode=val model=runs/detect/train2/weights/best.pt data=data.yaml"
      ],
      "metadata": {
        "id": "Ac5aBNS9pnBt",
        "colab": {
          "base_uri": "https://localhost:8080/"
        },
        "outputId": "fec5cb50-3b69-468e-ae66-b4a4beda717c"
      },
      "execution_count": null,
      "outputs": [
        {
          "output_type": "stream",
          "name": "stdout",
          "text": [
            "Ultralytics 8.3.75 🚀 Python-3.11.11 torch-2.5.1+cu124 CUDA:0 (Tesla T4, 15095MiB)\n",
            "Model summary (fused): 168 layers, 11,125,971 parameters, 0 gradients, 28.4 GFLOPs\n",
            "\u001b[34m\u001b[1mval: \u001b[0mScanning /content/drive/MyDrive/DSGP/Model3/data/valid/labels.cache... 15 images, 2 backgrounds, 0 corrupt: 100% 15/15 [00:00<?, ?it/s]\n",
            "                 Class     Images  Instances      Box(P          R      mAP50  mAP50-95): 100% 1/1 [00:00<00:00,  1.79it/s]\n",
            "                   all         15         84      0.869      0.571      0.611       0.16\n",
            "Speed: 0.4ms preprocess, 8.8ms inference, 0.0ms loss, 17.2ms postprocess per image\n",
            "Results saved to \u001b[1mruns/detect/val\u001b[0m\n",
            "💡 Learn more at https://docs.ultralytics.com/modes/val\n"
          ]
        }
      ]
    },
    {
      "cell_type": "markdown",
      "source": [
        "**Inference with model**"
      ],
      "metadata": {
        "id": "b7o6aoUeqSBd"
      }
    },
    {
      "cell_type": "code",
      "source": [
        "!yolo task=detect mode=predict model=runs/detect/train2/weights/best.pt conf=0.25 source=data/test/images"
      ],
      "metadata": {
        "id": "tf_STUMjqRkV",
        "colab": {
          "base_uri": "https://localhost:8080/"
        },
        "outputId": "2b0b5591-ac1b-4435-b7e5-58b912cd7bde"
      },
      "execution_count": null,
      "outputs": [
        {
          "output_type": "stream",
          "name": "stdout",
          "text": [
            "Ultralytics 8.3.75 🚀 Python-3.11.11 torch-2.5.1+cu124 CUDA:0 (Tesla T4, 15095MiB)\n",
            "Model summary (fused): 168 layers, 11,125,971 parameters, 0 gradients, 28.4 GFLOPs\n",
            "\n",
            "image 1/20 /content/drive/MyDrive/DSGP/Model3/data/test/images/17aa07d9-20201213_IP_jkdhj_1_rest_0003258.png: 384x640 3 Birds, 39.1ms\n",
            "image 2/20 /content/drive/MyDrive/DSGP/Model3/data/test/images/354b3b53-20201111_sljc_1_0000496.png: 480x640 10 Birds, 38.8ms\n",
            "image 3/20 /content/drive/MyDrive/DSGP/Model3/data/test/images/71fab985-20201111_sljc_1_0000110.png: 480x640 8 Birds, 13.2ms\n",
            "image 4/20 /content/drive/MyDrive/DSGP/Model3/data/test/images/7e37129b-20201213_IP_jkdhj_1_rest_0003161.png: 384x640 2 Birds, 11.6ms\n",
            "image 5/20 /content/drive/MyDrive/DSGP/Model3/data/test/images/9d129b47-20201111_sljc_1_0000504.png: 480x640 8 Birds, 13.9ms\n",
            "image 6/20 /content/drive/MyDrive/DSGP/Model3/data/test/images/D02_20210628090856_0000006.png: 384x640 13 Birds, 14.1ms\n",
            "image 7/20 /content/drive/MyDrive/DSGP/Model3/data/test/images/D02_20210628090856_0000007.png: 384x640 13 Birds, 11.0ms\n",
            "image 8/20 /content/drive/MyDrive/DSGP/Model3/data/test/images/D02_20210628090856_0000008.png: 384x640 14 Birds, 10.8ms\n",
            "image 9/20 /content/drive/MyDrive/DSGP/Model3/data/test/images/D02_20210628090856_0000009.png: 384x640 14 Birds, 10.7ms\n",
            "image 10/20 /content/drive/MyDrive/DSGP/Model3/data/test/images/D02_20210628090856_0000010.png: 384x640 14 Birds, 10.8ms\n",
            "image 11/20 /content/drive/MyDrive/DSGP/Model3/data/test/images/D02_20210628090856_0000011.png: 384x640 16 Birds, 10.8ms\n",
            "image 12/20 /content/drive/MyDrive/DSGP/Model3/data/test/images/D02_20210628090856_0000012.png: 384x640 16 Birds, 10.8ms\n",
            "image 13/20 /content/drive/MyDrive/DSGP/Model3/data/test/images/D02_20210628090856_0000013.png: 384x640 16 Birds, 10.7ms\n",
            "image 14/20 /content/drive/MyDrive/DSGP/Model3/data/test/images/D02_20210628090856_0000014.png: 384x640 13 Birds, 11.4ms\n",
            "image 15/20 /content/drive/MyDrive/DSGP/Model3/data/test/images/a55958eb-20201111_sljc_1_0000355.png: 480x640 8 Birds, 14.2ms\n",
            "image 16/20 /content/drive/MyDrive/DSGP/Model3/data/test/images/d2a96884-20201213_IP_jkdhj_1_rest_0003131.png: 384x640 3 Birds, 11.5ms\n",
            "image 17/20 /content/drive/MyDrive/DSGP/Model3/data/test/images/da673d0b-20201111_sljc_1_0003046.png: 480x640 15 Birds, 13.9ms\n",
            "image 18/20 /content/drive/MyDrive/DSGP/Model3/data/test/images/dd0165c8-20201111_sljc_1_0002246.png: 480x640 13 Birds, 13.2ms\n",
            "image 19/20 /content/drive/MyDrive/DSGP/Model3/data/test/images/e0d4460b-20201112_sljc_2_rest_0014166.png: 480x640 9 Birds, 13.2ms\n",
            "image 20/20 /content/drive/MyDrive/DSGP/Model3/data/test/images/f03c232d-20201213_IP_jkdhj_1_rest_0003276.png: 384x640 3 Birds, 13.7ms\n",
            "Speed: 2.3ms preprocess, 14.9ms inference, 8.2ms postprocess per image at shape (1, 3, 384, 640)\n",
            "Results saved to \u001b[1mruns/detect/predict2\u001b[0m\n",
            "💡 Learn more at https://docs.ultralytics.com/modes/predict\n"
          ]
        }
      ]
    }
  ]
}